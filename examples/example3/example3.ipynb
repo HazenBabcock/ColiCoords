{
 "cells": [
  {
   "cell_type": "code",
   "execution_count": 9,
   "metadata": {
    "collapsed": false
   },
   "outputs": [],
   "source": [
    "import matplotlib.pyplot as plt\n",
    "import tifffile\n",
    "from colicoords import Data, data_to_cells\n",
    "from colicoords.fileIO import load_thunderstorm\n",
    "# from colicoords.preprocess import data_to_cells\n",
    "# from colicoords.plot import CellPlot\n",
    "# from colicoords.optimizers import STORMOptimizer"
   ]
  },
  {
   "cell_type": "code",
   "execution_count": 10,
   "metadata": {
    "collapsed": false
   },
   "outputs": [
    {
     "data": {
      "text/plain": [
       "dtype([('id', '<i4'), ('frame', '<i4'), ('x', '<f8'), ('y', '<f8'), ('sigma', '<f8'), ('intensity', '<f8'), ('offset', '<f8'), ('bkgstd', '<f8'), ('chi2', '<f8'), ('uncertainty_xy', '<f8')])"
      ]
     },
     "execution_count": 10,
     "metadata": {},
     "output_type": "execute_result"
    }
   ],
   "source": [
    "storm_table = load_thunderstorm('storm_table.csv')\n",
    "binary_img = tifffile.imread('binary.tif')\n",
    "\n",
    "storm_table.dtype"
   ]
  },
  {
   "cell_type": "code",
   "execution_count": 12,
   "metadata": {
    "collapsed": false
   },
   "outputs": [],
   "source": [
    "data = Data()\n",
    "data.add_data(binary_img, 'binary')\n",
    "data.add_data(storm_table, 'storm')"
   ]
  },
  {
   "cell_type": "code",
   "execution_count": 15,
   "metadata": {
    "collapsed": false
   },
   "outputs": [
    {
     "name": "stdout",
     "output_type": "stream",
     "text": [
      "storm data size before 2d slicing 37529\n"
     ]
    }
   ],
   "source": [
    "cell_list = data_to_cells(data)\n",
    "cell_list.optimize()"
   ]
  },
  {
   "cell_type": "code",
   "execution_count": 3,
   "metadata": {
    "collapsed": false
   },
   "outputs": [
    {
     "data": {
      "text/plain": [
       "3"
      ]
     },
     "execution_count": 3,
     "metadata": {},
     "output_type": "execute_result"
    }
   ],
   "source": [
    "#todo storm data visualization!\n",
    "#todo storm optimization "
   ]
  },
  {
   "cell_type": "code",
   "execution_count": null,
   "metadata": {
    "collapsed": true
   },
   "outputs": [],
   "source": []
  }
 ],
 "metadata": {
  "kernelspec": {
   "display_name": "py_main",
   "language": "python",
   "name": "py_main"
  },
  "language_info": {
   "codemirror_mode": {
    "name": "ipython",
    "version": 3
   },
   "file_extension": ".py",
   "mimetype": "text/x-python",
   "name": "python",
   "nbconvert_exporter": "python",
   "pygments_lexer": "ipython3",
   "version": "3.5.2"
  },
  "widgets": {
   "state": {},
   "version": "1.1.2"
  }
 },
 "nbformat": 4,
 "nbformat_minor": 0
}
