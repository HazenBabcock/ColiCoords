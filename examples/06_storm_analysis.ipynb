{
 "cells": [
  {
   "cell_type": "code",
   "execution_count": 34,
   "metadata": {},
   "outputs": [],
   "source": [
    "%matplotlib notebook\n",
    "import matplotlib.pyplot as plt\n",
    "import numpy as np\n",
    "from colicoords import data_to_cells, load_thunderstorm, Data, CellListPlot, __version__, CellPlot\n",
    "from colicoords.iplot import iter_subplots, IterCellPlot\n",
    "from colicoords.support import label_stack, running_sum\n",
    "import tifffile\n",
    "import os\n",
    "import mahotas as mh\n",
    "from colicoords.fitting import CellFit"
   ]
  },
  {
   "cell_type": "markdown",
   "metadata": {},
   "source": [
    "This example show how to use ColiCoords to process STORM or other kinds of SMLM data. This example dataset is STORM-reconstruction of LacY-eYFP expressed in E Coli C41 cells. For each field-of-view, a brightfield image is recorded and is segmented to obtain a binary image. Then, 3000 frames are acquired in the eYFP fluorescence channel and is reconstructed using __[ThunderSTORM](https://zitmen.github.io/thunderstorm/)__ yielding a seperate .csv file for each field-of-view. The brightfield images and binary image were then combined into a .tiff stack."
   ]
  },
  {
   "cell_type": "markdown",
   "metadata": {},
   "source": [
    "First, we list the available STORM files in the directory:"
   ]
  },
  {
   "cell_type": "code",
   "execution_count": 2,
   "metadata": {},
   "outputs": [
    {
     "data": {
      "text/plain": [
       "['01_storm.csv',\n",
       " '02_storm.csv',\n",
       " '03_storm.csv',\n",
       " '04_storm.csv',\n",
       " '05_storm.csv',\n",
       " '06_storm.csv',\n",
       " '07_storm.csv',\n",
       " '08_storm.csv',\n",
       " '09_storm.csv']"
      ]
     },
     "execution_count": 2,
     "metadata": {},
     "output_type": "execute_result"
    }
   ],
   "source": [
    "storm_files = sorted([f for f in os.listdir(r'data/06') if 'storm.csv' in f])\n",
    "storm_files"
   ]
  },
  {
   "cell_type": "markdown",
   "metadata": {},
   "source": [
    "Next, we iterate over the list of files and load them using the ``load_thunderstorm`` function. The `pixelsize` keyword argument can optionally be used to convert the distances, which are in the ThunderSTORM file in nanometers by default, to pixels. If the keyword argument is not given, the value from the configuration file is used.\n",
    "\n",
    "The 'frame' entry in the STORM table indicates in which frame of the acquisition the localization was detected. To properly assign all localizations from the acquistion to the correct frames in the brightfield and binary stacks. Note that the 'frame' indexing currently follows ImageJ / ThunderSTORM convention, ie the first frame is frame 1 and not 0. This might be subject to change in future updates."
   ]
  },
  {
   "cell_type": "code",
   "execution_count": 3,
   "metadata": {},
   "outputs": [],
   "source": [
    "storm_list = []\n",
    "for i, storm_file in enumerate(storm_files):\n",
    "    storm_table = load_thunderstorm(os.path.join(r'data/06', storm_file), pixelsize=None)\n",
    "    storm_table['frame'][:] = i + 1\n",
    "    storm_list.append(storm_table)"
   ]
  },
  {
   "cell_type": "markdown",
   "metadata": {},
   "source": [
    "The binary and brightfield image stacks are loaded:"
   ]
  },
  {
   "cell_type": "code",
   "execution_count": 4,
   "metadata": {},
   "outputs": [],
   "source": [
    "binary_stack = tifffile.imread(r'data/06/binary_storm.tif')\n",
    "brightfield_stack = tifffile.imread(r'data/06/brightfield_storm.tif')"
   ]
  },
  {
   "cell_type": "markdown",
   "metadata": {},
   "source": [
    "To visualize the input data we can use the ``iter_subplots`` function to browse throught all images and localizations. First, we make a list comprehension from the list of STORM elements, separating x- and y- coordinates. This can then be iterative over in the iterative plot, together with the image data."
   ]
  },
  {
   "cell_type": "code",
   "execution_count": 5,
   "metadata": {},
   "outputs": [
    {
     "data": {
      "application/javascript": [
       "/* Put everything inside the global mpl namespace */\n",
       "window.mpl = {};\n",
       "\n",
       "\n",
       "mpl.get_websocket_type = function() {\n",
       "    if (typeof(WebSocket) !== 'undefined') {\n",
       "        return WebSocket;\n",
       "    } else if (typeof(MozWebSocket) !== 'undefined') {\n",
       "        return MozWebSocket;\n",
       "    } else {\n",
       "        alert('Your browser does not have WebSocket support.' +\n",
       "              'Please try Chrome, Safari or Firefox ≥ 6. ' +\n",
       "              'Firefox 4 and 5 are also supported but you ' +\n",
       "              'have to enable WebSockets in about:config.');\n",
       "    };\n",
       "}\n",
       "\n",
       "mpl.figure = function(figure_id, websocket, ondownload, parent_element) {\n",
       "    this.id = figure_id;\n",
       "\n",
       "    this.ws = websocket;\n",
       "\n",
       "    this.supports_binary = (this.ws.binaryType != undefined);\n",
       "\n",
       "    if (!this.supports_binary) {\n",
       "        var warnings = document.getElementById(\"mpl-warnings\");\n",
       "        if (warnings) {\n",
       "            warnings.style.display = 'block';\n",
       "            warnings.textContent = (\n",
       "                \"This browser does not support binary websocket messages. \" +\n",
       "                    \"Performance may be slow.\");\n",
       "        }\n",
       "    }\n",
       "\n",
       "    this.imageObj = new Image();\n",
       "\n",
       "    this.context = undefined;\n",
       "    this.message = undefined;\n",
       "    this.canvas = undefined;\n",
       "    this.rubberband_canvas = undefined;\n",
       "    this.rubberband_context = undefined;\n",
       "    this.format_dropdown = undefined;\n",
       "\n",
       "    this.image_mode = 'full';\n",
       "\n",
       "    this.root = $('<div/>');\n",
       "    this._root_extra_style(this.root)\n",
       "    this.root.attr('style', 'display: inline-block');\n",
       "\n",
       "    $(parent_element).append(this.root);\n",
       "\n",
       "    this._init_header(this);\n",
       "    this._init_canvas(this);\n",
       "    this._init_toolbar(this);\n",
       "\n",
       "    var fig = this;\n",
       "\n",
       "    this.waiting = false;\n",
       "\n",
       "    this.ws.onopen =  function () {\n",
       "            fig.send_message(\"supports_binary\", {value: fig.supports_binary});\n",
       "            fig.send_message(\"send_image_mode\", {});\n",
       "            if (mpl.ratio != 1) {\n",
       "                fig.send_message(\"set_dpi_ratio\", {'dpi_ratio': mpl.ratio});\n",
       "            }\n",
       "            fig.send_message(\"refresh\", {});\n",
       "        }\n",
       "\n",
       "    this.imageObj.onload = function() {\n",
       "            if (fig.image_mode == 'full') {\n",
       "                // Full images could contain transparency (where diff images\n",
       "                // almost always do), so we need to clear the canvas so that\n",
       "                // there is no ghosting.\n",
       "                fig.context.clearRect(0, 0, fig.canvas.width, fig.canvas.height);\n",
       "            }\n",
       "            fig.context.drawImage(fig.imageObj, 0, 0);\n",
       "        };\n",
       "\n",
       "    this.imageObj.onunload = function() {\n",
       "        fig.ws.close();\n",
       "    }\n",
       "\n",
       "    this.ws.onmessage = this._make_on_message_function(this);\n",
       "\n",
       "    this.ondownload = ondownload;\n",
       "}\n",
       "\n",
       "mpl.figure.prototype._init_header = function() {\n",
       "    var titlebar = $(\n",
       "        '<div class=\"ui-dialog-titlebar ui-widget-header ui-corner-all ' +\n",
       "        'ui-helper-clearfix\"/>');\n",
       "    var titletext = $(\n",
       "        '<div class=\"ui-dialog-title\" style=\"width: 100%; ' +\n",
       "        'text-align: center; padding: 3px;\"/>');\n",
       "    titlebar.append(titletext)\n",
       "    this.root.append(titlebar);\n",
       "    this.header = titletext[0];\n",
       "}\n",
       "\n",
       "\n",
       "\n",
       "mpl.figure.prototype._canvas_extra_style = function(canvas_div) {\n",
       "\n",
       "}\n",
       "\n",
       "\n",
       "mpl.figure.prototype._root_extra_style = function(canvas_div) {\n",
       "\n",
       "}\n",
       "\n",
       "mpl.figure.prototype._init_canvas = function() {\n",
       "    var fig = this;\n",
       "\n",
       "    var canvas_div = $('<div/>');\n",
       "\n",
       "    canvas_div.attr('style', 'position: relative; clear: both; outline: 0');\n",
       "\n",
       "    function canvas_keyboard_event(event) {\n",
       "        return fig.key_event(event, event['data']);\n",
       "    }\n",
       "\n",
       "    canvas_div.keydown('key_press', canvas_keyboard_event);\n",
       "    canvas_div.keyup('key_release', canvas_keyboard_event);\n",
       "    this.canvas_div = canvas_div\n",
       "    this._canvas_extra_style(canvas_div)\n",
       "    this.root.append(canvas_div);\n",
       "\n",
       "    var canvas = $('<canvas/>');\n",
       "    canvas.addClass('mpl-canvas');\n",
       "    canvas.attr('style', \"left: 0; top: 0; z-index: 0; outline: 0\")\n",
       "\n",
       "    this.canvas = canvas[0];\n",
       "    this.context = canvas[0].getContext(\"2d\");\n",
       "\n",
       "    var backingStore = this.context.backingStorePixelRatio ||\n",
       "\tthis.context.webkitBackingStorePixelRatio ||\n",
       "\tthis.context.mozBackingStorePixelRatio ||\n",
       "\tthis.context.msBackingStorePixelRatio ||\n",
       "\tthis.context.oBackingStorePixelRatio ||\n",
       "\tthis.context.backingStorePixelRatio || 1;\n",
       "\n",
       "    mpl.ratio = (window.devicePixelRatio || 1) / backingStore;\n",
       "\n",
       "    var rubberband = $('<canvas/>');\n",
       "    rubberband.attr('style', \"position: absolute; left: 0; top: 0; z-index: 1;\")\n",
       "\n",
       "    var pass_mouse_events = true;\n",
       "\n",
       "    canvas_div.resizable({\n",
       "        start: function(event, ui) {\n",
       "            pass_mouse_events = false;\n",
       "        },\n",
       "        resize: function(event, ui) {\n",
       "            fig.request_resize(ui.size.width, ui.size.height);\n",
       "        },\n",
       "        stop: function(event, ui) {\n",
       "            pass_mouse_events = true;\n",
       "            fig.request_resize(ui.size.width, ui.size.height);\n",
       "        },\n",
       "    });\n",
       "\n",
       "    function mouse_event_fn(event) {\n",
       "        if (pass_mouse_events)\n",
       "            return fig.mouse_event(event, event['data']);\n",
       "    }\n",
       "\n",
       "    rubberband.mousedown('button_press', mouse_event_fn);\n",
       "    rubberband.mouseup('button_release', mouse_event_fn);\n",
       "    // Throttle sequential mouse events to 1 every 20ms.\n",
       "    rubberband.mousemove('motion_notify', mouse_event_fn);\n",
       "\n",
       "    rubberband.mouseenter('figure_enter', mouse_event_fn);\n",
       "    rubberband.mouseleave('figure_leave', mouse_event_fn);\n",
       "\n",
       "    canvas_div.on(\"wheel\", function (event) {\n",
       "        event = event.originalEvent;\n",
       "        event['data'] = 'scroll'\n",
       "        if (event.deltaY < 0) {\n",
       "            event.step = 1;\n",
       "        } else {\n",
       "            event.step = -1;\n",
       "        }\n",
       "        mouse_event_fn(event);\n",
       "    });\n",
       "\n",
       "    canvas_div.append(canvas);\n",
       "    canvas_div.append(rubberband);\n",
       "\n",
       "    this.rubberband = rubberband;\n",
       "    this.rubberband_canvas = rubberband[0];\n",
       "    this.rubberband_context = rubberband[0].getContext(\"2d\");\n",
       "    this.rubberband_context.strokeStyle = \"#000000\";\n",
       "\n",
       "    this._resize_canvas = function(width, height) {\n",
       "        // Keep the size of the canvas, canvas container, and rubber band\n",
       "        // canvas in synch.\n",
       "        canvas_div.css('width', width)\n",
       "        canvas_div.css('height', height)\n",
       "\n",
       "        canvas.attr('width', width * mpl.ratio);\n",
       "        canvas.attr('height', height * mpl.ratio);\n",
       "        canvas.attr('style', 'width: ' + width + 'px; height: ' + height + 'px;');\n",
       "\n",
       "        rubberband.attr('width', width);\n",
       "        rubberband.attr('height', height);\n",
       "    }\n",
       "\n",
       "    // Set the figure to an initial 600x600px, this will subsequently be updated\n",
       "    // upon first draw.\n",
       "    this._resize_canvas(600, 600);\n",
       "\n",
       "    // Disable right mouse context menu.\n",
       "    $(this.rubberband_canvas).bind(\"contextmenu\",function(e){\n",
       "        return false;\n",
       "    });\n",
       "\n",
       "    function set_focus () {\n",
       "        canvas.focus();\n",
       "        canvas_div.focus();\n",
       "    }\n",
       "\n",
       "    window.setTimeout(set_focus, 100);\n",
       "}\n",
       "\n",
       "mpl.figure.prototype._init_toolbar = function() {\n",
       "    var fig = this;\n",
       "\n",
       "    var nav_element = $('<div/>')\n",
       "    nav_element.attr('style', 'width: 100%');\n",
       "    this.root.append(nav_element);\n",
       "\n",
       "    // Define a callback function for later on.\n",
       "    function toolbar_event(event) {\n",
       "        return fig.toolbar_button_onclick(event['data']);\n",
       "    }\n",
       "    function toolbar_mouse_event(event) {\n",
       "        return fig.toolbar_button_onmouseover(event['data']);\n",
       "    }\n",
       "\n",
       "    for(var toolbar_ind in mpl.toolbar_items) {\n",
       "        var name = mpl.toolbar_items[toolbar_ind][0];\n",
       "        var tooltip = mpl.toolbar_items[toolbar_ind][1];\n",
       "        var image = mpl.toolbar_items[toolbar_ind][2];\n",
       "        var method_name = mpl.toolbar_items[toolbar_ind][3];\n",
       "\n",
       "        if (!name) {\n",
       "            // put a spacer in here.\n",
       "            continue;\n",
       "        }\n",
       "        var button = $('<button/>');\n",
       "        button.addClass('ui-button ui-widget ui-state-default ui-corner-all ' +\n",
       "                        'ui-button-icon-only');\n",
       "        button.attr('role', 'button');\n",
       "        button.attr('aria-disabled', 'false');\n",
       "        button.click(method_name, toolbar_event);\n",
       "        button.mouseover(tooltip, toolbar_mouse_event);\n",
       "\n",
       "        var icon_img = $('<span/>');\n",
       "        icon_img.addClass('ui-button-icon-primary ui-icon');\n",
       "        icon_img.addClass(image);\n",
       "        icon_img.addClass('ui-corner-all');\n",
       "\n",
       "        var tooltip_span = $('<span/>');\n",
       "        tooltip_span.addClass('ui-button-text');\n",
       "        tooltip_span.html(tooltip);\n",
       "\n",
       "        button.append(icon_img);\n",
       "        button.append(tooltip_span);\n",
       "\n",
       "        nav_element.append(button);\n",
       "    }\n",
       "\n",
       "    var fmt_picker_span = $('<span/>');\n",
       "\n",
       "    var fmt_picker = $('<select/>');\n",
       "    fmt_picker.addClass('mpl-toolbar-option ui-widget ui-widget-content');\n",
       "    fmt_picker_span.append(fmt_picker);\n",
       "    nav_element.append(fmt_picker_span);\n",
       "    this.format_dropdown = fmt_picker[0];\n",
       "\n",
       "    for (var ind in mpl.extensions) {\n",
       "        var fmt = mpl.extensions[ind];\n",
       "        var option = $(\n",
       "            '<option/>', {selected: fmt === mpl.default_extension}).html(fmt);\n",
       "        fmt_picker.append(option)\n",
       "    }\n",
       "\n",
       "    // Add hover states to the ui-buttons\n",
       "    $( \".ui-button\" ).hover(\n",
       "        function() { $(this).addClass(\"ui-state-hover\");},\n",
       "        function() { $(this).removeClass(\"ui-state-hover\");}\n",
       "    );\n",
       "\n",
       "    var status_bar = $('<span class=\"mpl-message\"/>');\n",
       "    nav_element.append(status_bar);\n",
       "    this.message = status_bar[0];\n",
       "}\n",
       "\n",
       "mpl.figure.prototype.request_resize = function(x_pixels, y_pixels) {\n",
       "    // Request matplotlib to resize the figure. Matplotlib will then trigger a resize in the client,\n",
       "    // which will in turn request a refresh of the image.\n",
       "    this.send_message('resize', {'width': x_pixels, 'height': y_pixels});\n",
       "}\n",
       "\n",
       "mpl.figure.prototype.send_message = function(type, properties) {\n",
       "    properties['type'] = type;\n",
       "    properties['figure_id'] = this.id;\n",
       "    this.ws.send(JSON.stringify(properties));\n",
       "}\n",
       "\n",
       "mpl.figure.prototype.send_draw_message = function() {\n",
       "    if (!this.waiting) {\n",
       "        this.waiting = true;\n",
       "        this.ws.send(JSON.stringify({type: \"draw\", figure_id: this.id}));\n",
       "    }\n",
       "}\n",
       "\n",
       "\n",
       "mpl.figure.prototype.handle_save = function(fig, msg) {\n",
       "    var format_dropdown = fig.format_dropdown;\n",
       "    var format = format_dropdown.options[format_dropdown.selectedIndex].value;\n",
       "    fig.ondownload(fig, format);\n",
       "}\n",
       "\n",
       "\n",
       "mpl.figure.prototype.handle_resize = function(fig, msg) {\n",
       "    var size = msg['size'];\n",
       "    if (size[0] != fig.canvas.width || size[1] != fig.canvas.height) {\n",
       "        fig._resize_canvas(size[0], size[1]);\n",
       "        fig.send_message(\"refresh\", {});\n",
       "    };\n",
       "}\n",
       "\n",
       "mpl.figure.prototype.handle_rubberband = function(fig, msg) {\n",
       "    var x0 = msg['x0'] / mpl.ratio;\n",
       "    var y0 = (fig.canvas.height - msg['y0']) / mpl.ratio;\n",
       "    var x1 = msg['x1'] / mpl.ratio;\n",
       "    var y1 = (fig.canvas.height - msg['y1']) / mpl.ratio;\n",
       "    x0 = Math.floor(x0) + 0.5;\n",
       "    y0 = Math.floor(y0) + 0.5;\n",
       "    x1 = Math.floor(x1) + 0.5;\n",
       "    y1 = Math.floor(y1) + 0.5;\n",
       "    var min_x = Math.min(x0, x1);\n",
       "    var min_y = Math.min(y0, y1);\n",
       "    var width = Math.abs(x1 - x0);\n",
       "    var height = Math.abs(y1 - y0);\n",
       "\n",
       "    fig.rubberband_context.clearRect(\n",
       "        0, 0, fig.canvas.width, fig.canvas.height);\n",
       "\n",
       "    fig.rubberband_context.strokeRect(min_x, min_y, width, height);\n",
       "}\n",
       "\n",
       "mpl.figure.prototype.handle_figure_label = function(fig, msg) {\n",
       "    // Updates the figure title.\n",
       "    fig.header.textContent = msg['label'];\n",
       "}\n",
       "\n",
       "mpl.figure.prototype.handle_cursor = function(fig, msg) {\n",
       "    var cursor = msg['cursor'];\n",
       "    switch(cursor)\n",
       "    {\n",
       "    case 0:\n",
       "        cursor = 'pointer';\n",
       "        break;\n",
       "    case 1:\n",
       "        cursor = 'default';\n",
       "        break;\n",
       "    case 2:\n",
       "        cursor = 'crosshair';\n",
       "        break;\n",
       "    case 3:\n",
       "        cursor = 'move';\n",
       "        break;\n",
       "    }\n",
       "    fig.rubberband_canvas.style.cursor = cursor;\n",
       "}\n",
       "\n",
       "mpl.figure.prototype.handle_message = function(fig, msg) {\n",
       "    fig.message.textContent = msg['message'];\n",
       "}\n",
       "\n",
       "mpl.figure.prototype.handle_draw = function(fig, msg) {\n",
       "    // Request the server to send over a new figure.\n",
       "    fig.send_draw_message();\n",
       "}\n",
       "\n",
       "mpl.figure.prototype.handle_image_mode = function(fig, msg) {\n",
       "    fig.image_mode = msg['mode'];\n",
       "}\n",
       "\n",
       "mpl.figure.prototype.updated_canvas_event = function() {\n",
       "    // Called whenever the canvas gets updated.\n",
       "    this.send_message(\"ack\", {});\n",
       "}\n",
       "\n",
       "// A function to construct a web socket function for onmessage handling.\n",
       "// Called in the figure constructor.\n",
       "mpl.figure.prototype._make_on_message_function = function(fig) {\n",
       "    return function socket_on_message(evt) {\n",
       "        if (evt.data instanceof Blob) {\n",
       "            /* FIXME: We get \"Resource interpreted as Image but\n",
       "             * transferred with MIME type text/plain:\" errors on\n",
       "             * Chrome.  But how to set the MIME type?  It doesn't seem\n",
       "             * to be part of the websocket stream */\n",
       "            evt.data.type = \"image/png\";\n",
       "\n",
       "            /* Free the memory for the previous frames */\n",
       "            if (fig.imageObj.src) {\n",
       "                (window.URL || window.webkitURL).revokeObjectURL(\n",
       "                    fig.imageObj.src);\n",
       "            }\n",
       "\n",
       "            fig.imageObj.src = (window.URL || window.webkitURL).createObjectURL(\n",
       "                evt.data);\n",
       "            fig.updated_canvas_event();\n",
       "            fig.waiting = false;\n",
       "            return;\n",
       "        }\n",
       "        else if (typeof evt.data === 'string' && evt.data.slice(0, 21) == \"data:image/png;base64\") {\n",
       "            fig.imageObj.src = evt.data;\n",
       "            fig.updated_canvas_event();\n",
       "            fig.waiting = false;\n",
       "            return;\n",
       "        }\n",
       "\n",
       "        var msg = JSON.parse(evt.data);\n",
       "        var msg_type = msg['type'];\n",
       "\n",
       "        // Call the  \"handle_{type}\" callback, which takes\n",
       "        // the figure and JSON message as its only arguments.\n",
       "        try {\n",
       "            var callback = fig[\"handle_\" + msg_type];\n",
       "        } catch (e) {\n",
       "            console.log(\"No handler for the '\" + msg_type + \"' message type: \", msg);\n",
       "            return;\n",
       "        }\n",
       "\n",
       "        if (callback) {\n",
       "            try {\n",
       "                // console.log(\"Handling '\" + msg_type + \"' message: \", msg);\n",
       "                callback(fig, msg);\n",
       "            } catch (e) {\n",
       "                console.log(\"Exception inside the 'handler_\" + msg_type + \"' callback:\", e, e.stack, msg);\n",
       "            }\n",
       "        }\n",
       "    };\n",
       "}\n",
       "\n",
       "// from http://stackoverflow.com/questions/1114465/getting-mouse-location-in-canvas\n",
       "mpl.findpos = function(e) {\n",
       "    //this section is from http://www.quirksmode.org/js/events_properties.html\n",
       "    var targ;\n",
       "    if (!e)\n",
       "        e = window.event;\n",
       "    if (e.target)\n",
       "        targ = e.target;\n",
       "    else if (e.srcElement)\n",
       "        targ = e.srcElement;\n",
       "    if (targ.nodeType == 3) // defeat Safari bug\n",
       "        targ = targ.parentNode;\n",
       "\n",
       "    // jQuery normalizes the pageX and pageY\n",
       "    // pageX,Y are the mouse positions relative to the document\n",
       "    // offset() returns the position of the element relative to the document\n",
       "    var x = e.pageX - $(targ).offset().left;\n",
       "    var y = e.pageY - $(targ).offset().top;\n",
       "\n",
       "    return {\"x\": x, \"y\": y};\n",
       "};\n",
       "\n",
       "/*\n",
       " * return a copy of an object with only non-object keys\n",
       " * we need this to avoid circular references\n",
       " * http://stackoverflow.com/a/24161582/3208463\n",
       " */\n",
       "function simpleKeys (original) {\n",
       "  return Object.keys(original).reduce(function (obj, key) {\n",
       "    if (typeof original[key] !== 'object')\n",
       "        obj[key] = original[key]\n",
       "    return obj;\n",
       "  }, {});\n",
       "}\n",
       "\n",
       "mpl.figure.prototype.mouse_event = function(event, name) {\n",
       "    var canvas_pos = mpl.findpos(event)\n",
       "\n",
       "    if (name === 'button_press')\n",
       "    {\n",
       "        this.canvas.focus();\n",
       "        this.canvas_div.focus();\n",
       "    }\n",
       "\n",
       "    var x = canvas_pos.x * mpl.ratio;\n",
       "    var y = canvas_pos.y * mpl.ratio;\n",
       "\n",
       "    this.send_message(name, {x: x, y: y, button: event.button,\n",
       "                             step: event.step,\n",
       "                             guiEvent: simpleKeys(event)});\n",
       "\n",
       "    /* This prevents the web browser from automatically changing to\n",
       "     * the text insertion cursor when the button is pressed.  We want\n",
       "     * to control all of the cursor setting manually through the\n",
       "     * 'cursor' event from matplotlib */\n",
       "    event.preventDefault();\n",
       "    return false;\n",
       "}\n",
       "\n",
       "mpl.figure.prototype._key_event_extra = function(event, name) {\n",
       "    // Handle any extra behaviour associated with a key event\n",
       "}\n",
       "\n",
       "mpl.figure.prototype.key_event = function(event, name) {\n",
       "\n",
       "    // Prevent repeat events\n",
       "    if (name == 'key_press')\n",
       "    {\n",
       "        if (event.which === this._key)\n",
       "            return;\n",
       "        else\n",
       "            this._key = event.which;\n",
       "    }\n",
       "    if (name == 'key_release')\n",
       "        this._key = null;\n",
       "\n",
       "    var value = '';\n",
       "    if (event.ctrlKey && event.which != 17)\n",
       "        value += \"ctrl+\";\n",
       "    if (event.altKey && event.which != 18)\n",
       "        value += \"alt+\";\n",
       "    if (event.shiftKey && event.which != 16)\n",
       "        value += \"shift+\";\n",
       "\n",
       "    value += 'k';\n",
       "    value += event.which.toString();\n",
       "\n",
       "    this._key_event_extra(event, name);\n",
       "\n",
       "    this.send_message(name, {key: value,\n",
       "                             guiEvent: simpleKeys(event)});\n",
       "    return false;\n",
       "}\n",
       "\n",
       "mpl.figure.prototype.toolbar_button_onclick = function(name) {\n",
       "    if (name == 'download') {\n",
       "        this.handle_save(this, null);\n",
       "    } else {\n",
       "        this.send_message(\"toolbar_button\", {name: name});\n",
       "    }\n",
       "};\n",
       "\n",
       "mpl.figure.prototype.toolbar_button_onmouseover = function(tooltip) {\n",
       "    this.message.textContent = tooltip;\n",
       "};\n",
       "mpl.toolbar_items = [[\"Home\", \"Reset original view\", \"fa fa-home icon-home\", \"home\"], [\"Back\", \"Back to previous view\", \"fa fa-arrow-left icon-arrow-left\", \"back\"], [\"Forward\", \"Forward to next view\", \"fa fa-arrow-right icon-arrow-right\", \"forward\"], [\"\", \"\", \"\", \"\"], [\"Pan\", \"Pan axes with left mouse, zoom with right\", \"fa fa-arrows icon-move\", \"pan\"], [\"Zoom\", \"Zoom to rectangle\", \"fa fa-square-o icon-check-empty\", \"zoom\"], [\"\", \"\", \"\", \"\"], [\"Download\", \"Download plot\", \"fa fa-floppy-o icon-save\", \"download\"]];\n",
       "\n",
       "mpl.extensions = [\"eps\", \"jpeg\", \"pdf\", \"png\", \"ps\", \"raw\", \"svg\", \"tif\"];\n",
       "\n",
       "mpl.default_extension = \"png\";var comm_websocket_adapter = function(comm) {\n",
       "    // Create a \"websocket\"-like object which calls the given IPython comm\n",
       "    // object with the appropriate methods. Currently this is a non binary\n",
       "    // socket, so there is still some room for performance tuning.\n",
       "    var ws = {};\n",
       "\n",
       "    ws.close = function() {\n",
       "        comm.close()\n",
       "    };\n",
       "    ws.send = function(m) {\n",
       "        //console.log('sending', m);\n",
       "        comm.send(m);\n",
       "    };\n",
       "    // Register the callback with on_msg.\n",
       "    comm.on_msg(function(msg) {\n",
       "        //console.log('receiving', msg['content']['data'], msg);\n",
       "        // Pass the mpl event to the overridden (by mpl) onmessage function.\n",
       "        ws.onmessage(msg['content']['data'])\n",
       "    });\n",
       "    return ws;\n",
       "}\n",
       "\n",
       "mpl.mpl_figure_comm = function(comm, msg) {\n",
       "    // This is the function which gets called when the mpl process\n",
       "    // starts-up an IPython Comm through the \"matplotlib\" channel.\n",
       "\n",
       "    var id = msg.content.data.id;\n",
       "    // Get hold of the div created by the display call when the Comm\n",
       "    // socket was opened in Python.\n",
       "    var element = $(\"#\" + id);\n",
       "    var ws_proxy = comm_websocket_adapter(comm)\n",
       "\n",
       "    function ondownload(figure, format) {\n",
       "        window.open(figure.imageObj.src);\n",
       "    }\n",
       "\n",
       "    var fig = new mpl.figure(id, ws_proxy,\n",
       "                           ondownload,\n",
       "                           element.get(0));\n",
       "\n",
       "    // Call onopen now - mpl needs it, as it is assuming we've passed it a real\n",
       "    // web socket which is closed, not our websocket->open comm proxy.\n",
       "    ws_proxy.onopen();\n",
       "\n",
       "    fig.parent_element = element.get(0);\n",
       "    fig.cell_info = mpl.find_output_cell(\"<div id='\" + id + \"'></div>\");\n",
       "    if (!fig.cell_info) {\n",
       "        console.error(\"Failed to find cell for figure\", id, fig);\n",
       "        return;\n",
       "    }\n",
       "\n",
       "    var output_index = fig.cell_info[2]\n",
       "    var cell = fig.cell_info[0];\n",
       "\n",
       "};\n",
       "\n",
       "mpl.figure.prototype.handle_close = function(fig, msg) {\n",
       "    var width = fig.canvas.width/mpl.ratio\n",
       "    fig.root.unbind('remove')\n",
       "\n",
       "    // Update the output cell to use the data from the current canvas.\n",
       "    fig.push_to_output();\n",
       "    var dataURL = fig.canvas.toDataURL();\n",
       "    // Re-enable the keyboard manager in IPython - without this line, in FF,\n",
       "    // the notebook keyboard shortcuts fail.\n",
       "    IPython.keyboard_manager.enable()\n",
       "    $(fig.parent_element).html('<img src=\"' + dataURL + '\" width=\"' + width + '\">');\n",
       "    fig.close_ws(fig, msg);\n",
       "}\n",
       "\n",
       "mpl.figure.prototype.close_ws = function(fig, msg){\n",
       "    fig.send_message('closing', msg);\n",
       "    // fig.ws.close()\n",
       "}\n",
       "\n",
       "mpl.figure.prototype.push_to_output = function(remove_interactive) {\n",
       "    // Turn the data on the canvas into data in the output cell.\n",
       "    var width = this.canvas.width/mpl.ratio\n",
       "    var dataURL = this.canvas.toDataURL();\n",
       "    this.cell_info[1]['text/html'] = '<img src=\"' + dataURL + '\" width=\"' + width + '\">';\n",
       "}\n",
       "\n",
       "mpl.figure.prototype.updated_canvas_event = function() {\n",
       "    // Tell IPython that the notebook contents must change.\n",
       "    IPython.notebook.set_dirty(true);\n",
       "    this.send_message(\"ack\", {});\n",
       "    var fig = this;\n",
       "    // Wait a second, then push the new image to the DOM so\n",
       "    // that it is saved nicely (might be nice to debounce this).\n",
       "    setTimeout(function () { fig.push_to_output() }, 1000);\n",
       "}\n",
       "\n",
       "mpl.figure.prototype._init_toolbar = function() {\n",
       "    var fig = this;\n",
       "\n",
       "    var nav_element = $('<div/>')\n",
       "    nav_element.attr('style', 'width: 100%');\n",
       "    this.root.append(nav_element);\n",
       "\n",
       "    // Define a callback function for later on.\n",
       "    function toolbar_event(event) {\n",
       "        return fig.toolbar_button_onclick(event['data']);\n",
       "    }\n",
       "    function toolbar_mouse_event(event) {\n",
       "        return fig.toolbar_button_onmouseover(event['data']);\n",
       "    }\n",
       "\n",
       "    for(var toolbar_ind in mpl.toolbar_items){\n",
       "        var name = mpl.toolbar_items[toolbar_ind][0];\n",
       "        var tooltip = mpl.toolbar_items[toolbar_ind][1];\n",
       "        var image = mpl.toolbar_items[toolbar_ind][2];\n",
       "        var method_name = mpl.toolbar_items[toolbar_ind][3];\n",
       "\n",
       "        if (!name) { continue; };\n",
       "\n",
       "        var button = $('<button class=\"btn btn-default\" href=\"#\" title=\"' + name + '\"><i class=\"fa ' + image + ' fa-lg\"></i></button>');\n",
       "        button.click(method_name, toolbar_event);\n",
       "        button.mouseover(tooltip, toolbar_mouse_event);\n",
       "        nav_element.append(button);\n",
       "    }\n",
       "\n",
       "    // Add the status bar.\n",
       "    var status_bar = $('<span class=\"mpl-message\" style=\"text-align:right; float: right;\"/>');\n",
       "    nav_element.append(status_bar);\n",
       "    this.message = status_bar[0];\n",
       "\n",
       "    // Add the close button to the window.\n",
       "    var buttongrp = $('<div class=\"btn-group inline pull-right\"></div>');\n",
       "    var button = $('<button class=\"btn btn-mini btn-primary\" href=\"#\" title=\"Stop Interaction\"><i class=\"fa fa-power-off icon-remove icon-large\"></i></button>');\n",
       "    button.click(function (evt) { fig.handle_close(fig, {}); } );\n",
       "    button.mouseover('Stop Interaction', toolbar_mouse_event);\n",
       "    buttongrp.append(button);\n",
       "    var titlebar = this.root.find($('.ui-dialog-titlebar'));\n",
       "    titlebar.prepend(buttongrp);\n",
       "}\n",
       "\n",
       "mpl.figure.prototype._root_extra_style = function(el){\n",
       "    var fig = this\n",
       "    el.on(\"remove\", function(){\n",
       "\tfig.close_ws(fig, {});\n",
       "    });\n",
       "}\n",
       "\n",
       "mpl.figure.prototype._canvas_extra_style = function(el){\n",
       "    // this is important to make the div 'focusable\n",
       "    el.attr('tabindex', 0)\n",
       "    // reach out to IPython and tell the keyboard manager to turn it's self\n",
       "    // off when our div gets focus\n",
       "\n",
       "    // location in version 3\n",
       "    if (IPython.notebook.keyboard_manager) {\n",
       "        IPython.notebook.keyboard_manager.register_events(el);\n",
       "    }\n",
       "    else {\n",
       "        // location in version 2\n",
       "        IPython.keyboard_manager.register_events(el);\n",
       "    }\n",
       "\n",
       "}\n",
       "\n",
       "mpl.figure.prototype._key_event_extra = function(event, name) {\n",
       "    var manager = IPython.notebook.keyboard_manager;\n",
       "    if (!manager)\n",
       "        manager = IPython.keyboard_manager;\n",
       "\n",
       "    // Check for shift+enter\n",
       "    if (event.shiftKey && event.which == 13) {\n",
       "        this.canvas_div.blur();\n",
       "        event.shiftKey = false;\n",
       "        // Send a \"J\" for go to next cell\n",
       "        event.which = 74;\n",
       "        event.keyCode = 74;\n",
       "        manager.command_mode();\n",
       "        manager.handle_keydown(event);\n",
       "    }\n",
       "}\n",
       "\n",
       "mpl.figure.prototype.handle_save = function(fig, msg) {\n",
       "    fig.ondownload(fig, null);\n",
       "}\n",
       "\n",
       "\n",
       "mpl.find_output_cell = function(html_output) {\n",
       "    // Return the cell and output element which can be found *uniquely* in the notebook.\n",
       "    // Note - this is a bit hacky, but it is done because the \"notebook_saving.Notebook\"\n",
       "    // IPython event is triggered only after the cells have been serialised, which for\n",
       "    // our purposes (turning an active figure into a static one), is too late.\n",
       "    var cells = IPython.notebook.get_cells();\n",
       "    var ncells = cells.length;\n",
       "    for (var i=0; i<ncells; i++) {\n",
       "        var cell = cells[i];\n",
       "        if (cell.cell_type === 'code'){\n",
       "            for (var j=0; j<cell.output_area.outputs.length; j++) {\n",
       "                var data = cell.output_area.outputs[j];\n",
       "                if (data.data) {\n",
       "                    // IPython >= 3 moved mimebundle to data attribute of output\n",
       "                    data = data.data;\n",
       "                }\n",
       "                if (data['text/html'] == html_output) {\n",
       "                    return [cell, data, j];\n",
       "                }\n",
       "            }\n",
       "        }\n",
       "    }\n",
       "}\n",
       "\n",
       "// Register the function which deals with the matplotlib target/channel.\n",
       "// The kernel may be null if the page has been refreshed.\n",
       "if (IPython.notebook.kernel != null) {\n",
       "    IPython.notebook.kernel.comm_manager.register_target('matplotlib', mpl.mpl_figure_comm);\n",
       "}\n"
      ],
      "text/plain": [
       "<IPython.core.display.Javascript object>"
      ]
     },
     "metadata": {},
     "output_type": "display_data"
    },
    {
     "data": {
      "text/html": [
       "<img src=\"data:image/png;base64,iVBORw0KGgoAAAANSUhEUgAAArwAAAGQCAYAAABMPLOTAAAgAElEQVR4nOy9eZScZ3XuWzFkWOecZK1zMtyTv+4/95aNZWsItgA7xDZ2wMQQbExQAgJyyQSJxQp2HIxHsLEtS63uGlRzVVd1lbqquuYhVd2t1mBbtqQQxzJiBRIw80qcMMVYQI5lYN8/xG+zqzVYTtzIKu9nrXdJXcM3vN9b3/e8z/vsvQPicDgcDofD4XCMMQJn+gAcDofD4XA4HI6VhBNeh8PhcDgcDsdYwwmvw+FwOBwOh2Os4YTX4XA4HA6HwzHWcMLrcDgcDofD4RhrOOF1OBwOh8PhcIw1nPA6HA6Hw+FwOMYaTngdDofD4XA4HGMNJ7wOh8PhcDgcjrGGE16Hw+FwOBwOx1jDCa/D4XA4HA6HY6zhhNfhcDgcDofDMdZwwutwOBwOh8PhGGs44XU4HA6Hw+FwjDWc8DocDofD4XA4xhpOeB0Oh8PhcDgcYw0nvA6Hw+FwOByOsYYTXofD4XA4HA7HWMMJr8PhcDgcDodjrOGE1+FwOBwOh8Mx1nDC63A4HA6Hw+EYazjhdTgcDofD4XCMNZzwOhwOh8PhcDjGGk54HQ6Hw+FwOBxjDSe8DofD4XA4HI6xhhNeh8PhcDgcDsdYwwmvw+FwOBwOh2Os4YTX4XA4HA6HwzHWcMLrcDgcDofD4RhrOOF1OBwOh8PhcIw1nPA6HA6Hw+FwOMYaTngdDofD4XA4HGMNJ7wOh8PhcDgcjrGGE16Hw+FwOBwOx1jDCa/D4XA4HA6HY6zhhNfhcDgcDofDMdZwwutwOBwOh8PhGGs44XU4HA6Hw+FwjDWc8DocDofD4XA4xhpOeB0Oh8PhcDgcYw0nvA6Hw+FwOByOsYYTXofD4XA4HA7HWMMJr8PhcDgcDodjrOGE1+FwOBwOh8Mx1nDC63A4HA6Hw+EYazjhdTgcDofD4XCMNZzwOhwOh8PhcDjGGk54HQ6Hw+FwOBxjDSe8DofD4XA4HI6xhhNeh8PhcDgcDsdYwwmvw+FwOBwOh2Os4YTX4XA4HA6HwzHWcMLrcDgcDofD4RhrOOF1OBwOh8PhcIw1nPA6HA6Hw+FwOMYaTngdDofD4XA4HGMNJ7wOh8PhcLyM8KMf/ehMH4LD8VOHE17Hi46NGzdKMBgcaa9+9avlPe95j/zt3/7tcZ/duHHjGTrSlce3v/1tue++++TKK6+UVatWycUXXyzvfe97ZWFhQT9z8ODB4/rrRO3gwYP6nWeffVaKxaK84x3vkHXr1sm6devk2muvlVwuJ9///vdHjuFk27/gggvksssuk1tuuUW+8Y1vnPDz+/btO+F5Pfnkk/qZr33tay9yrzkcZz9eyH1wOb72ta9JMBiUZrN52vs73e/s2rVLbr755pHXBoOBXH755XLBBRfIHXfcIR/5yEfkiiuuOO19i8hpfafZbPo9w3HG4ITX8aJj48aNcu2118qhQ4fk0KFD8thjj8nS0pK8//3vlwsuuEA+97nP6Wc///nPy+c///kzeLQrh//4j/+QN7/5zfLbv/3bUq1W5eDBg7K0tCQ33nijBINByefzIiJy5MgR7atDhw7Jjh07JBgMyo4dO0ZeP3LkiIiIPPPMM7JhwwZZs2aNbN68WR5++GHZt2+fTE1NyUUXXSRvectb5KmnntLjgMAu394jjzwioVBIVq1aJe985zuP+/x5550nt9566wnPLRKJOOF1OE6BF3IfXI5nn31WDh06JN/61rdOe3+nS3hPJDKsX79e3vnOd8rBgwflS1/6knzlK1+Rf/iHfzjtfYs44XW89OGE1/Gi42Sq7fe+9z1ZvXq1bN68+Qwc1YuDK664QiKRyGl9tt1uSzAYlC9+8YvHvffnf/7n8hu/8Rvygx/84Lj3IJxW0bXYtGmTrFu3Tj7zmc8c994Xv/hFec1rXiPvfve7ddny+bY3MTEhwWBQJx58/l3vepesX79ennvuueO+c/XVV8vb3vY2f3g5HCfBT/s++F8hvMFgUMLh8H9p/054HS91OOF1vOg42Y3+Rz/6kVx88cXywAMPnPSzKJG33nqrXHzxxbJ27VrZtGnTyJL7D37wA0mlUnLNNdfIhRdeKGvWrJENGzbI/v379TORSESuuuoqiUajsn79ernyyivltttukwsvvFCeeeaZkeNKpVKydu1a+d73vve85/ZCCG8mk5FgMChf+MIXjnvvU5/6lGSz2ePsByKnJqif+9znJBgMSiKROOl+y+WyBINB7Y/nI7ypVOqEhBel+aGHHhr5/Gc/+1k577zzJJlM+sPL4TgJTvc+uHHjRrnpppt0Ivsnf/InJySvjz/+uLzrXe+SNWvWyGWXXSaFQkHe9773yUc+8hER+QnhTSaTsmnTJlm7dq1cfPHFcvvtt+u9bbnN4kR2p6997WsnJK+1Wk1+53d+R1atWiWXXXaZRCKRkcnw8u/88Ic/lFgsJpdddpmsXr1aPvjBD8r09LTfMxxnDE54HS86Nm7cKO9+97vlueeek+eee06OHj0qX//612ViYkLWrFkjTz755MhnlxPeV7/61XLLLbfIvn37pFwuy4UXXigf/vCH9TObN2+W1atXS7FYlL/927+Vbrcrb3zjG+Xiiy/WG3skEpHzzz9ffvd3f1ceeeQR6ff76jut1Wojx/vmN79ZbrnllpOeD+fx3HPPyRVXXCGhUEj/PpFCC/7xH/9Rzj//fPnN3/xNiUajcujQITl69Ojz9t+pCGoul5NgMHjK5dCnn35azj33XLnnnntGtrd///6Rc3n66adl165dsn79ern++uvlhz/84XH7v+aaa47rm4mJCXnve9/rao3DcQqc7n1w48aNcv7558uNN94o+/fvl3379h1HeJ988klZvXq1vOtd75Ldu3dLo9GQSy65RC644ILjCO+rXvUque+++2T//v0SjUYlGAyqmvz5z39err32WrVaYKcKBoNy6623yqFDh+TZZ589jrwmk0m9p+zbt0/S6bRceOGF8tGPflQ/s/w7mzdvlvPPP18ikYg8/PDDcuutt8qqVav8nuE4Y3DC63jRcaJgDVoymTzus8sJ7x/8wR+MfOaWW26RtWvX6t833nij+l/B4uKiBINBefzxx0XkJx7TRx99dORzGzZskHe/+93696c+9SkJBoPyd3/3dyc8Fx4iJ2vPF3C3uLgol1xyiX5+9erV8v73v18Gg8FJv3Mqwvvxj39cgsHgCZVhi/Xr18sHPvCBke2dqF188cVyyy23jHgF7f63b98uF1988QhRf8Mb3iC1Ws0Jr8NxCpzufXDjxo1ywQUXjKwwLSe8N998s1xyySUjv/vHH39cgsHgcYT3L//yL0eO4/d///fl2muvHdnfiSwNduXKktdnnnlG1qxZI3feeefId2q12sjk237nO9/5jqxateo428Yf/dEf+T3DccbghNfxomPjxo1y3XXXyeHDh+Xw4cPyqU99Svbt2yf33nuvnHvuuTI5OTny2eWE11oeRERCoZCce+65x+3nW9/6ljz++OPSbDblL/7iLyQYDGr0M4TXWiFEjt2kzz33XL3h3nXXXXLVVVed9FyeffZZPY/Dhw/LpZdeKrfffrv+fSK7wnIcPXpUHn74Ydm8ebNcd911ct5550kwGJRNmzadMD3QqQjvxz72MQkGg8+rFF9yySXyZ3/2ZyPbq1QqcvjwYTl06JBs3bpVXvWqV0koFDrl/r/4xS9KMBiUBx98UEREnnjiCVm1apU8/fTTTngdjlPgdO+DGzdulKuvvnrku8sJ7+tf//oRNRVcccUVxxHeHTt2jHzm5ptvlje84Q0jx/VCCO9DDz2k9wC7QvTNb35zJPj2RN9ZLiQ0Gg2/ZzjOGJzwOl50nCrV2G233Sbnn3++fPOb3zzhZ5ffeEV+Ql7B4cOH5frrr1fF9O1vf7ts2rRphCQu/w747ne/K2vXrpVYLCbPPvusrF+/XmKx2Gmf2wvx8J4M//Zv/6bHu2fPnuPePxXhxRf8pS996aTbP3LkiJx33nly9913n3J727dvl2AwKKlU6pT7f9vb3qa2hvvuu0+JtBNeh+PkON374Ik+t5zwrlq1SiYmJo7bzjvf+c7jCO/yoLXlVoMXSni73e4pV7kQKOx3er3eCeMXIMJ+z3CcCTjhdbzoONWNnkCoJ5544oSffT7Ce+TIEVm/fr285z3vkc997nPqO33wwQdPi/CKHLNIvOUtb5E9e/bIeeedJ//8z/982uf2Qgjvhg0bTuoN/s53viPBYFDS6fRx752K8H7hC184oTXEotVqjdg5Tra9H/zgB3LttdfKqlWr5J/+6Z9Ouv9UKiUXXXSRPPvss/Jbv/Vb0uv1RMQJr8NxKpzuffB0CO+VV155QoX3yiuvXHHCu3fvXgkGg9Lr9UZWu2j/8i//ctx39u3bJ8FgUD75yU+O7Afy7PcMx5mAE17Hi45T3ehvuukmedWrXqWe0RdKePHcLi0tjXzm7rvv1sCs5d9Zjscee0z9t3/4h3/4gs7thRDeG2+8UdauXStf/epXj3vviSeeGLEKWDxfVgW2e6I8mV/96lflkksukQ0bNpwwCG05Dh06JOeee+7INVj++a9+9asSDAZlampK1qxZI9/97ndFxAmvw3EqnO598HQI7y233CKXXnqp/J//83/0M5/5zGfk3HPPfcGE973vfe8LIrzf/va3ZdWqVZLJZEa+89nPflbe9773Kam13/nud78rq1ev1lUm8Jd/+Zd+z3CcMTjhdbzoWJ5w/dChQ/LJT35S7r//fgkGg3LHHXeMfPaFEN5nnnlGfuM3fkOuv/562bt3r+zbt09uv/129cXu3r37uO+cCFdffbWqFiuFr33ta3LppZfK+vXrZfv27fLoo4/KgQMHJJ1Oy2tf+1r54z/+4xfs4RU51gcbN26UNWvWyJYtW+SRRx6R/fv3SywWk/Xr18vv/M7vjKjWz7e9m2++WYLBoPzN3/zNST9//fXXy6pVq0YCYpzwOhwnx+neB0+H8H75y1+W1atXy8aNG2XPnj3S6XTkiiuukPPOO09XkU6X8N5www1y6aWXyv79++Xpp58WkVMTXhGRqakpueCCC2Rqakr2798v7XZbLr/8crniiis0zeOJMjucd955snXrVtm3b5984hOfkDVr1vg9w3HG4ITX8aLjRNHJF154oVxzzTWSSCRGAq7+Mx7egwcPytvf/nZZvXq1vO51r5P3v//98thjj8m6devUT/Z8hHfz5s3y6le/Wv7jP/7jxTrtE+LrX/+63HPPPfKmN71J1qxZI6tXr5a3vvWtkslk5Nlnnz3hd56PoIocS5VWrVZlw4YNctFFF8m6devkuuuuk0wmc9LSwifb3te//nVZt26dvP71r5fvfe97J/w86dCssu6E1+E4OU73Png6hFdE5O/+7u/k937v97QkeLlclte//vWafvB0Ce+BAwfk8ssvl1WrVumE//kIr8gxGwZ5eC+55BK56aabRibWJ/pOsViUK6+8Ui644AJ5z3veoznC/Z7hOBNwwut42eFHP/qRXHPNNccttzkcDsdLEfv37z8u48HTTz8tq1atkpmZmTN0VA7H2QUnvI6XDY4cOSLRaFT+9E//VFatWiVf+cpXzvQhORwOx/Mik8nIhRdeKPl8Xj75yU/K4uKibNiwQV772teO5NB2OBwnhxNex8sGzz33nFx66aXyute9Tjqdzpk+HIfD4TgtUKb3jW98o1x44YXymte8RjZt2iRf/vKXz/ShORxnDZzwOhwOh8PhcDjGGk54nwff/OY35YMf/KC8+tWvlvXr18snPvEJee655870YTkcDoffnxwOh+M04YT3ebBx40a56aab5Pvf/7589atflWuuuea4fIQOh8NxJuD3J4fD4Tg9OOE9Bb785S9LMBiUf/3Xf9XXBoOBXH755WfwqBwOh8PvTw6Hw/FC4IT3FFhaWpL169ePvPaP//iPEgwG5Tvf+c4ZOiqHw+Hw+5PD4XC8EDjhPQU6nY5cdtllI6995StfkWAwKE899dTzfv+HP/yhPPXUU/LMM8/IkSNHvHnzNgbtmWeekaeeekpLN58p/FfuT35v8uZtPNtL5f70UoQT3lNg586dJ1VQKKd4Kjz11FPHVdrx5s3beLTTmfSuJP4r9ye/N3nzNt7tTN+fXopwwnsKfOlLX5JgMCjf+MY39LXBYCC/9Vu/dVrff+aZZyQYDMorf+7X5RU/682bt3For/y5X5dg8PQmvSuJ/8r9iXtTMpmURCIh09PTMj09LaVSSWZnZ2XHjh0yMzMjhUJBpqampFqtSjablUKhIPF4XGKxmMRiMdmxY4eUy2Wp1WqSzWYlkUjIzMyMZDIZmZubk0gkIvF4XDKZjExPT+u/2WxWSqWSlEol2bZtm0xPT0u5XJZUKqX74pjy+by02239DN9PJBKSz+cllUpJuVyWcrms+9+2bZvMzMzI1NSUbN++XbZs2SKpVEqKxeLI/tnP3NycFAoFKZVKup8dO3ZIMpnUfcXjcel2uxKJRGRyclLy+bxUKhU9TtuHyWRSduzYIdPT0xKNRmX79u2SSqV0fxwH/ZjNZqVYLEomk5FYLCaZTEampqYknU7rdtLptKTTadm+fbtEIhHZsmWLbj8ajcq2bdtkdnZW+7lQKEgmk5F8Pi/T09OSSCRG+nV6eloikYhkMhkJh8OSzWZl+/btEo/H9dhmZ2clm81KJBKRYrEoMzMzks1mtW/py2KxKKFQSLebyWQkk8noMSeTSSkUCvpetVqV2dlZKZfLks1mpVqtSrFYlGq1KplMRkKhkOTzecnn8yPjMJ1O6z64LpFIRObm5nTb9AHnms/nZW5uTqLRqJ4X17lQKEgqlZJQKKTHFwqFZHJycmSMRCIR3S/XfPPmzRKPxyUUCmkfbN++/bh+TCaTEolEpFQqSSKRkFgsJul0WsrlsszMzOhxcPyxWEyi0agkk0ntb/vboW/Zvh13xWJR7rrrrpfE/emlCCe8z4M/+IM/kA9/+MNy5MgRjYK2NcdPhSNHjkgwGJRX/Oyvyzmv9ObN2zi0V/zsMcJ75MiRFb77PD/+s/cn7k0QAh7sMzMz0ul0pFwuS71el3q9rgStWq1KrVaTWq0m8XhcyuWy9Ho92bVrl3Q6HalWqxKLxaRQKEiz2ZRisajbTafTkkqlJJPJSL1eV3I5Ozsrc3Nzks/nZXZ2Vmq1mvR6PalUKlIqlaRSqUihUJBCoSDlcllKpZKSW0ggf5fLZd1GKpXS4y6Xy1IoFJRQNptNyeVykk6nJZPJ6HcLhYJUKhXJ5/NSr9elVCrJzMyMlMtlGQwGsnv3bqnVakpWE4mEdDodKZVKUq1Wtc9yuZySm9nZWZmdnZVKpaLnxDY5n1wuJ8ViUVKplJRKJdm7d6+USiWp1+tSq9WUOEI+o9GolMtlPQ4IYTwel1QqJfV6Xffx8MMPS7lclna7Ld1uV4rFol6jSqUi8/PzSvY5bo6HvojFYjIzMyOVSkVmZmak2+3q8cfjcSVtuVxOidvMzIxUq1X9N5/PSzablVQqJZ1OR1qtlgyHQ+n3+yPjgT6oVqsyHA6l0+lINBqVdrut1z4cDuukpFar6bHYa8A4bjQaOibK5bLk83lpNpsyGAxG3iuVSpJOpyWfz0s4HJa5uTk9Z8ZkrVZTYglBZ5v8v9frjYxVfi/8Dhi3g8FAer2etFotGQwGMhwOpVarSaFQkMXFRen3+7q9SqUiqVRKCoWCRCIRqdfrOvngM7lcTiqVio7xl8r96aUGJ7zPg2984xuyadMmWb9+vbz2ta+VzZs3yw9+8IPT+q4TXm/exq+9lAjvf/b+xL0J0lcsFqVQKMjMzIzUajVZWFhQ8lAulyWTyUij0Rghciir+/btGyGiKJ+ZTEZSqZTkcjndVjqdlmazqSrb/Py8DIdDJauzs7OqvoVCISVR5XJZWq2W1Ot1ffgXCgUl0xAciE2r1VKSa5XCwWAgyWRSlWRUTEjf3NycVKtVKZVK0u12pdlsSjQaHSFnnU5HisWiNohRu92WZrOp5BmCUywWZTgcah9BJumvfr8v+XxeCoWCzM/PS7fblW63K7Ozs0pCw+GwJJNJqdfr0mg0pN1uS6FQkHw+r+rz7OysFAoFJZgQ43q9rudXrVaVxOXzeWm1WpJOp6VYLOr3OUYIVS6Xk16vJ3Nzc9JqtaRYLCrpgnRWq1VVKpkc1et1VUnZbrlclnQ6LeFwWPsXEsi1ZjxyPUulkjQaDanX69JsNqXX60kikZBWq6UTiVwuJ3Nzc1Iul6XRaOi+Op2OKtyWdBYKBZ1EsH++B/EslUrSbDalVCppPzO+p6enpVqtSiqVktnZWcnn89pX9rfAdWZMMwlA+e33+6qul0olVXf5HaDQMzm024O8o5i3220pl8ty7733vmTuTy81OOFdQTjh9eZt/NpLifD+Z8G9CdWVpd3Z2Vl98PPghlzMzs5KJpNRMslDulqtSqvV0odysViUWq2mRBdVN5fLyezsrCpSENPFxUWZnZ1VVZXXISaonb1eTzqdjhQKBanVatLv92U4HEqlUpGtW7fK3Nycfr/X6ylRSqfTI0S2Wq0qQcAuAekpFovSaDSk0WgoiW2325JIJKRQKCjJgmCjhpbLZUkmk0qs+v2+DAYDXU5n+9PT00qwIZaWEA6HQ5mbm1NCyvVhqZ7tskSfzWaVtFWrVen3+3o+iURCzz0SiYyo1VgJstmsNBoNyeVysrCwIJ1OR/uYYxwMBmo/qdVqSp5rtZpUKhVJJpPaJ/l8Xmq1mk6U+v3+iKqNIs5yPROShYUFaTQaMjc3J91uV9+DQM/NzUkul1MCSp+Xy2WZn5/Xa8l1h2y3Wi0dF3Nzc9Jut1Wlb7VaMjMzo+QRMgupT6fTOp4KhYJ0Oh21GPA6KwVMSpi4cT2ZvEQiEZ3UFItFicfjOrbZvrUv8PsrFouSSCR0wtnr9aTX60ksFlOizzjiOLLZ7Fl/f1opOOFdQTjh9eZt/No4EV48oBCabrcr7XZbbQ3YDaLRqBKgZrOpSirkEYIyGAxUhcK3Wa/XlZCwLF+pVHQpG4JTqVQkm83K/Py8khAI1uLionpgsRLs2bNHFhcXVdGEqO/du1dV5GQyqeQIQot6CKmFIEEwa7WaNBoNGQwGOhHABgBxisfjutzcbrdV4eQYUOi63a76S1HEW63WiLJZqVQknU4r0V5cXFRyWCwW1aOK8t5sNiWdTo+oyDMzM1Kv11XxRLFl+R7vK8cCOS0UCtJoNPTvSqWixLNUKqmVYHp6WgkdZBJiDWlrt9s6Rubm5mR2dlYtJ5ag2pUDq26iGmMzyGQyOg5zuZzaaCDQtr+Hw+GIKg2R5Tuoz9geLKlEdW61WtLv91XJnZ2dlZmZGT0XJnV4oa0Vplgsqq0A608ymRz5jbA/Vin4zTH5YHvNZlM/z777/b7Mzc1p/0BsC4WC9Pt9/T0Wi0UnvKeAE94VhBNeb97Gr40T4UWds8Fa09PTqrCiYOZyOSWFqJStVksfzJOTk1KtVlVVhLBiQ7CqZrPZVHURYsK+sE3wGv5UFEeUzoWFBX3QF4tFabfbMjs7K51OR+bn5yWZTEoul5N8Pq9L5aipEEx8s1aZhYhBHrvdrpIJiBA+1nw+r2opZBZCbckNKjdKN/2QSqXUioDFAn8s1yMajaryPRgMNNiL/mCZHAtBpVJRot7pdGTfvn0yNzcn8/PzUq1WR6wgHFutVpNms6kqJNeY/kKlbjabMjc3J3Nzc2ovsMv39Cfni+qLUsm2IYTdblfPwxK75cSVc+b/WDWYVKE8czxMShqNhpJUVGnGA/5oO/44RlYCIKtsA7UdRX3btm2qyKLoVioVtR7Mzc3pRIPzGQ6HOoGsVqtqq4hGo6pkozQzwWOlgmNIJBIjyjDXAvtDJBI56+9PKwUnvCsIJ7zevI1fGyfCW6lUpNVq6QMWvyAPfwgnf6POJpNJ6XQ6GgAGWWaJNZ/PSzweVwK4nEBY5Q+1q1gsSjKZVMKBf5PsCmwXUo5iDAmZm5vT70OObWAP/lWU2kKhIKFQSHq9npIHlpZ5DRWz3W5rAJ+1erTbbUkmk6o0QtzYF0vxkD0UdEgdtgQIUzQa1eVrPodFhP7NZrN6rhC2brcr/X5f+w4Fvd1uy2Aw0EwcjUZDzwE7B4opfZ1OpzUTwbZt27QPrDJL0BueWewskFDr+W42m9JoNHQlAAIHuYXYol5yDlw7zhWCz9iBvNoJ0tLSkl5/SG+n09EAPAgmKw12koaazJinn/l9QLh5LxaLyWAw0PHNdUaJzWQyUiqVZMuWLZLL5aTf72uQoA3IZIWi1Wrp74h+ZBKHqs9vwo5B+jkajWqw5tl+f1opOOFdQTjh9eZt/No4EV4ILuQCfyVeXNTdmZkZmZmZkUQioSQFPy4PXEgBmQ/IGGD9sKjCkB8UX9RTfLIot+l0WrLZrBJpPJrYDnh969atSoaHw6EMh0NVvrAgsH98raQ1wz7QbDaVeNZqNV06tim0rId0cXFRsxJghcBSACG0HlGrPk5PT2sWDAgSpK/f748EQhFgheUANZdgJet7TqVSGvTENeJcyZxBFgOrQEejUd0f44Gldf6PhQNCTNYFPLuou7yHJxU/crPZVOIJAaavCYRst9syMzOjlg2yIcRiMT02/Nik5WLSxjnncjm9fs1mUydGTCbq9boq3tPT0xp0NxgM9HgJvOt2u6qy12o1Jf/hcFhmZ2clEolILBZTW04sFtPfC+SViRcTIMaO7W9WQrieNkuG/a1AeJlkMk6w/kxMTEi5XD7r708rBSe8KwgnvN68jV8bJ8IbDoeVsOIjJEodpYuHsv0MwVIso9vAH9Q3iKBNQYZ3FXKCyjs3N6eKX6FQUL8o+4a4kloLBXlqamqEGC4tLUkmk5GJiQklKBArCFWtVpNoNKrHUq/XJRKJaP5fCCO94A8AACAASURBVBBL2ZB0bALz8/NKZvC+QoZ5jfRh+FgTiYQSMyYNLMdDkvkeS+8oija9Wi6Xk1arJdlsVpew8ZnSdyh/mUxGJy/Wc01gYiwWk0ajoQFt9DPBeNgHstmsdLtd7Q98zYVCQScFDz30kNTrdVWSt23bppMRFFr6BqUZmwQkORwOq9rJOUCm2+22ZuNot9tKagkyZIzZLAZck0ajIaFQSPPwLrdDWEsLrd/vy8TEhPrFl5aWNAAvk8moTcamJ6MPSbsGeU2lUqq453I5tZxw7P1+X3PsMkGx52RXOqzXmdUDAjD5fe7YseOsvz+tFJzwriCc8HrzNn5tnAgvFgUi0yEhqHyoiXbZvFQq6bIyS6gE8qDi8bBeXujBZifI5XKaaL9SqUgsFtNlXRQuyBYe1+W+WBL6R6NR9eWyrUajIalUSkkpZIZApuXEm1RqKHEcM57PWCymirX9Lsv/BPgxYeA87b94bpvNpk4AILsQX2tzYJmcoD8KMDCpQP3udrs66cjlcqq2MjHBIoFCCZHm+OkD9glJxhpC34RCoRGfbi6XUzJrCTB9bDNI2PzBTIDwu9rJEinGIIgUuMDHy7VkssKYqtVqGlyIWppMJqXb7Wqau6mpKT0muxpBf3IOVjnFmsN4Z9979+7VgitMRGZmZnR8pNNp2bNnj3p4yYYCwWWyUi6XZWFhQa9HMpnUTCgc2/T0tObmpc+t557c0+VyWXbu3HnW359WCk54VxBOeL15G782ToSXimgQGJZ9eRCTtgoiQZovqoFZZQrSVq1WJRKJSKVSkX6/L9PT09JsNnWbtloWhBglEuWvXD6W0oqHPgSb4CRL1CClfA/CAkG2nmSyHVj1GOIIkbZ2DBRNqx5aJZVjs/YK1FCIPH2GIkifWYsEy/OtVmuk/0njZVVfFF1UQwglgYYo2hAvrgnfteSNAENIIP5SVP9Wq6XeVr5jC03E43FVv22RD8gfx2c9161WS3bu3KnEv9PpSL/fl2azqTYPFF3sAzYTApMbPM6kSEMdhpBaNZdmrTu8Zq+dtbkQXMeEhP5tNps6nu0512q1kb6CnMdisZEJF/mV7b9YUliR4Nrxm7NEl2vEBBXym0wmpdlsyqOPPnrW359WCk54VxBOeL15G782ToQ3EolIuVyWSCSiaaVSqZQ+ZHu9nvpNIURWxcMTysPbElCsDlSPajQaMj8/rwFhNvgG5RMCasv8QlBZ7mX7NJQzSAGkAuKHFQHVmswMsVhMvcMcD2VpIdycN0vLEE2IEPmGZ2Zm9F8ICASZ42e7+DWxjdDXjUZD8vn8iA0BEh+LxbSSGoQ0kUjosjZL8+VyWXbv3q3XiQmLTWGGLxQvLKqwJYKk1YKkdrtdyeVymiHAZi5gAsRxWaLIGOI77NNOtMgfzLXCO2yX8yGh1v/LEj7BgExSuJ6oxKilrBjYFGNWGS2Xf5KjmH8h6pBQxizXZnZ2VuLxuB7/rl27lMjTl1wHO35tURHOg+BLJj/l8k+CGCHQZHOoVCpa/Y1+ZBJw6NChs/7+tFJwwruCcMLrzdv4tXEivCydE6SDkjk9Pa0VryCKEAsUOewQMzMzSoJ5qEM48RaiAtoyspZYQejw0WJhsEvtKFjlclkrl2UyGV2mn52dlXA4rOQIIk6CfrIvQBIhNTaYjKpn5LJlOdr6m/FkolDbIhoorbVaTS0WZLKgaAXleCFlTCg4N44J5RxVEYUXfzSV65hc4IFOp9NqH1he0thaQyjegc8YYol9odFoSLPZlAcffFD6/b4Sc5upAqIHSbXFP2zwFfuH6Nk8tPiNsYLYcrxUlEPZRPW1Cq0tQ02QYzablX6/L6lUSscHuWw5jlarpcFuVKtjEmOD6qjGVyodqwxISjWua7vdVsK/vHoc16rZbGruZo4ZJZtxFIvFNM8043cwGMj8/Lzs379frTusZpCr2I7hJ554Qh555JGz/v60UnDCu4JwwuvN25i1V/xv+dlzfvmsf6DYwhOobHheIQgsvSeTyZHiFFgdrP+V4B2rbPIghgSikLEfVDB8o6hYEBcb5d7pdGR6enqkAAQkk2pX9jzwtEJWCTJif9anSeQ+3mSsB81mU5exa7WaElZIW61WG1G/UQYhs5A6SBXeW4KubKU20mihWkOWIX7kWcX3a4t30GecI+cJCSTLAv0ACUNJJ+MBCj+kl+Cy+fl5vXaQTq4rn+WcaWQRiEQimvqNnLV8lpRbWCSYLJFvmGuPEso1ZvuQPcYh/US2DbJy2LzIBO1Zr3alUlHlmgmSJab4mNk3EynG6/T09EhKM0gzCjljqdFojPxmyHaBcs1YsNk0mMjYCQQTGyaUHMPS0pJ84QtfkHq9ftbfn1YKTnhXEE54vXkboxb4FfmlwC/Kr5zzirP+gWIJr80jivKHMmdL/lqPqF3WhsDk8/mRIhA2n2oymZThcKiFBgg+K5VKMjk5OUI8rdeSY7NZCiAzRMSzfB4KhVTFROkkmwDHzXFCpvh/u93WvKnYK0j7BcmxqqJdNufY+D+Tg06no4rizp079Zzi8bhuC1KGoor1AmtFtVrVqnAQdKuispwNubLHhlpNH9prBQHFUkFwIGWE2QZBiSicXDc8s91uV0k3wYnW0sB7lIAmfZctPQ1ZZLXB5sm1S/2ov/QpRJJ0YHwX0s+EA3+5nWgQWJlOp6Xf76siDrFnogHptcFq1qqQSqW0gAZjt9fryWAwkF6vN1JEg8p5jCmqAKLQM7FiQmGDGTOZjMTjcVXDWRkoFApacvuJJ56QT3/60zI5OXnW359WCk54VxBOeL15G5/2PwLnyAWBgLzmnHPO+geKDVqzUfI8oO2SO6QBdZQlbIKSUG15DeJHCVqIEwQBsgq5tETKBofhER0MBkq8SXWGt3gwGOhrBAARZEflLqsConDaoDMI9vKUWJRGRhHkvV6vJ71eT5euKcVs89ty/OSgxUpgbRoQc5bPyVXMNvDkYsOA6MXjcQ20o8/pQ0vumSjY3Lss+VMYwWaPWFhY0Kwc9Xpd+45jvf/++0cCwSim0O12lZTZgDiboQLibUmlbRTRIFUY5auLxeJIvl1sA5wr1crIB40CzvlTBINsGNg2rNLMhIZcxVYdJ78wFpdYLDaSZYP9QD5rtZocOHBAJziQe4h6oVCQTCYj6XRaz9HaKGyOa6wXkUhEotGoqu7LJ1yo4gcPHpR2uy0f+chHzvr700rBCe8KwgmvN29j0gK/Iq8KBOQ3x4zw2vKxWA2sdQEyS2ouln+tUoonNZ1O6/I93sypqSlNqWWLHVARLR6PazUrm9EAJROihNLXbDZHVEKO0xJSyALkqFw+FulPujLrZ4V42NLH9Afkw/YDwU9WdaYvKNZBMQo8rYVCQQs7QKohOzZjAxMI7AYEEJZKJen1eiMZBtiXPbZKpaI5YO2SPNsmiMsqsTMzM7K4uDhC0G3AH4TV9ilkkGIdKKaQYEgrqd2wp0C8mXBgF8jn85odwS7rz83NycLCgloRUKKt/7vRaKiy2u129W8bbEjaPQLmUJKxr5TLP8mywMpA3pRBZjJCpgVWAhhr2DpshhEa193aeaylggkA27KNccXko1KpqJfb2nfK5WOpyD796U9LOByWD3zgA2f9/Wml4IR3BeGE15u3MWmBX5SLAgG5OhCQN44R4U0mk9Lv96VWq+kSLA9/KpLxEMdfSrAUPl7rwbT+TIKQIMBWtYWs4dFsNpsaQAXBYNnZFj1AcbbppyBBeF4hUxAClEfU61QqJdlsVotbUIkN0o0yyD44V6L50+m0KqEUCUDVxCsLmbf2AFuljX6FjHGuqNW2lHKpVFJvMH+jnKN8ko0Addoq6FgzILEs33ONer2eLCwsqPfVKp9MDuh7VEvyBcfj8ZHAKTIloKRDtm31NxuAhh+WNGZMAkjRBYFn3KHMkqEC5ZOCIaVSSbZt26bnGY1Gj/PgLi4uKqm0paXJqct4xpphC0HMzc1pyj22wSQuHA5rqjImOel0WguALF9NQKHG1mJtHqShs8eVz+dlYmJCksmkThbId/z444/LwYMH5f7775cbb7zxrL8/rRSc8K4gnPB68zYm7Wd+TdYGArIhEJCrx4jwsiyOKscDHHIIWUBlIqiHpWKU22azqUru8rRUECiKTFSrVU1VhecSBQy/JsogajDkj+VtApg6nY6SNBRKlFFSmmUyGbVUQBaTyaQGPkEUyQ1Mn0AAeR+SSqlZS1rT6bSEQiEpFouye/du9XVCoFKplBIYSDUqHYSGpXUCnFBgIZ2NRkPJGeSVpXYyY3S7XbVR8FkmBaRHazabI8F19CPHBPEmOAqSnUwmj8uHXCgU9Lw5ZyYJpVJJAyBRQG0mB5Rh1OpqtSrhcFg9vTavcrFY1ApzpJVDWV1YWNDJVjKZ1PFi036xLVRiUuWRNYTzZ1LHuGX1gs9B2m2lNM6F7zH5waIDweZasg8mI9FoVI+ZAiYQ5l6vp6o0yjhjDxtPr9eTxx57TPr9vmzevFk+8YlPnPX3p5WCE94VhBNeb97Go70y8D/kvEBA3hQIyPVjRHgpdoBah6eWZXarUNqHLoTC5jCFSDQaDVXbaDarAwQG0oQfE08oAWwsL3NMEB0ICEqZDXBjWdku6UO+lxeQSKfTSrpKpZLs2bNHiY9NLUUpV+uxxP4BYYOos6Q+HA5H7CG2FC2EEI8sS/9WEWVJHrWac4FwogBCBNkHBBwLCMF31rNMMBTV1piwkPKKMZHL5SSbzar6urzgBvsnwHFxcVHzLdtMG5wL6vfk5KREo1HZsmWL7p99YPeArNbrdfW80p9ke2DCxDWwlfIg45BP9oOFg/6xOZ65LlbZhogzISmXy5ptg/LQEHHro7YWGwg548pabQhIxErCv1x38hIzXq1dIpPJSDablaWlJXnyyScln8/Lxz/+cdm+fftZf39aKTjhXUE44fXmbQzaz/ya/M/AK+TSQEDeHAjIJWNEeFOplKaGsnlgeeDakrd4d+1ybrfb1eVqW+0rmUyqwgVRymazql7ZLAPkw8WvSFAbRDYWi42omRARS6hRUUlDZT3A1j9sM0hA2gl04jhIZYZiDGFDEUYFTiQSkkgklHyh8OVyuZGctaFQSPuLfKx2ogChzWQyMjk5KdPT09LtdvW4IT4Q5tnZWfX0QpAo7QwxRwXEq8qEBBJrlV081HYyABlm0kH/9nq944pUUICELAS8TlU2KqJxjVHvub6cU71e121YCwLBjnabEF+yJNiqZ+12WydfTACs8kraM2wX2WxWFhYWlFBDzDnHRqMhrVZL+v3+SJo7ztVmaGDs85uCuHOepI9rNpsjpZ0hx/isbdEUiDnEuFarSbvd1vPau3ev7Nu3TyKRiNxzzz0SjUbP+vvTSsEJ7wrCCa83b2d/+7nA/5T/JxCQawIB2RgIyLvGiPCinkEibBov6yHEGoBlgEAim4aLcrOQN5vrFlJgH+b4DyFbu3btGlFE8cFCLrBVEHyEykYEPlHteD0hGfF4XIPErEJpMxXgicQiYVXpUqmkRJrUUJBDyHOhUNBjazQa0mg0VDFdHmy0PODNpnuzWS+SyaTuj4pb9XpdK2yRx9UGk5FBgG1zDCyZ83mCoLguyycR2DUg/vh+rZJsxwrKKuoy70EcbUAg9g7yGC/PVNFoNEbUVcaRHVu24AY+WBswZlcNWFkg6JJsBzawDaUaOwdEm7HN5MlWxiM12MzMzMiEjm2j1NpKb4w7Jlb2eKm0x/6Gw6FEo1HtYyZM2I8g391uV4bDodxxxx1y0003yf3333/W359WCk54VxBOeL15O8vbOf+X/ELgl+T1gYD8fiAg9wYCkhkjwksEPtYAHsI7d+6UbrerxAcvI95Wm0QfQgxhSqVSSvx6vd5xifNrtZr6NCEzEBeIALYGjoe0T3wHBRASYlVpgqBssBIqXTQalWw2K6FQSAOfWJqHKNogIatk4mElSj8ajSr5oehGq9XS7diUbrVaTUsZ493s9/vS6/WOyzoB6WWigM3ATg7YLxXn7FK3Xf5mOT8Wi6lCzrViMgIxs8ot2SxQSSFptVpNhsOhNJvNkRLREGMIKteLqm94ealUh/eVCnjWAoNHG9WY44zFYhKJRDSzR7/f137i8zalG4otWSiwuzCJYYKD3xhfLqosfVwul3WsMP7S6bTmxLVKNNvit9NsNkcKkEDYmcQxdm3hFH4DMzMz0ul0pN1uSzgcVvLL+IKwDwYDqdVqcvPNN8sHPvABueGGG876+9NKwQnvCsIJrzdvZ3/7ucAvyG8HAvKxQECygYA8MEaE1+bBJfiGQCqS+bOUzmdRCS1B5sFrCTDBOBAyHvAorbaAAgQBcjc5OalKIDYCm/UBbynKLISFrAcs4fM+RIjMCahjEDKyOdhMExAQPKVYJdrttqbXgqBA6ln65/8240QsFpNQKKQEETWTAD5LsqxCaLeJoj4xMaHqKeoxFgzIo81LPD09rcq0Jca5XE6i0agSWiYVZAyA/JG6DZ8sRBQ/rSVv2FmYcHA9BoPBSGESq95znUul0nEBjYwPiC0knuPk+icSiZGUcdY6Y1cArA8d5bvZbEq9Xleib1cBWImwKi3Xy64azMzMjBRPsQFuyysQhsPhERtKKBTScYS/l0BLJgzT09MSjUbVOsTqRa/Xk507d0oul5NNmzbJH/7hH57196eVghPeFYQTXm/exqAFflkuCAQkEgjI5kBAbh8jwosyxoN327ZtqoJa1YqHP6/3ej1VIiGhkFXsCDY9GKVWIS82k8P8/LwSQwLTJicnVVncunWrZg2AdNtcqBApApwIMspms7qMzd+Q2KWlpRECDAHH22kVWBt01e/3VZ22uVp5nQwJkJxIJKKeXrtsDgFfriLb6nSFQkEGg4ESdpRTiJAlu1RkoxADhN/mhkUxt9kGIJvYU1DvlxeLwGIAwSX1GvuByOFBtUQZNXdxcVGvjSWA+XxehsOhxOPxkcAzG+xnbSRMdOgvxgIKbTKZVNW81WppH9sqZ8PhUMejtQrYPiiXf1IJj9cg41xnWwgC0o2NIZPJSDgcVntHq9XSQEc7mbBZNtrt9siKCGow/cREoFqtavBcr9eTVqsli4uLOgk92+9PKwUnvCsIJ7zevI1H+2+BV8pf/Jj03jpGhBdyZUvoVqtVXXaem5vTSPZcLqcEETLK8jFqrq2ihQJniV4ymdTtRSIRTWfGZ3moswScy+VUdVtaWtK0XVgDID2QOtRUiCvZDCAjqGg7d+6U+fl5DVpiW5SfzefzmmqKc2y1WtJqtUYyG0xNTUkul1O1DqKPP9j6aslgYdVulFc7IYDMZbNZJdf0CRXgLCmyQU+kjIOEkcoNvytEG4LMdrAidDodVWVtZgYCB+ln1NNWq6WFSRg/uVxOg+kIWKN/8bfa8QOh5n1rgSiXy7Jt2za1mVBFLxqNytLS0kg2hn6/PxI8Zr3cjBfSqEE6uR74p/kd8DqWGaw3ENJ+vy+RSOQ47zOTB6wZqM979+6VZrMp6XRaVWksIbFYTItgdLtdtVnwu8ECg1WCzCODwUCvA1UBKQBztt+fVgpOeFcQTni9eRuTFvhV+W+BgLwnEJA7xojwWsUwl8tJJBKRXq+nZXmxGWQyGWm326o4WcUynU5LMpnUIC9et0vGNJaHrXUA3yrq1NTUlEQiEf0cHshqtSoLCwsjQVhkNCDPLEFDVjWFiECebXAURBsltdlsHlf0IZPJSCQSUTuCJdIQnnA4rJYQCJkNeCPbAuqgtZAQpAXBbTabSjDxd+KRhQiR0QLyaZfSmXhQlc4q21w/lvZRTu0xVSoVGQwGWvWOhgeY8UB2B/I1493mupLNACW/Wq1q5TE83qwSWC8u1g76ywYWonL3ej3NDlEul3VyYivhRSIR9XszwaCPyGBRqVS0TDXnwPuQS8YFpJe+sso2Y8l6eikTzWSRySVZNkhdR7YPxqstsU3VvcnJyZFyw5Bdguo431QqJalU6qy/P60UnPCuIJzwevM2Zi3wq/KKMSK8LKXaXLYE6PAAJlArFAqpRQAPIUqc9eoS+U+eXevF5eHPEjp+TpaNJycnVYHL/7iwAEv12WxWSQ5+UvYP0bJeVIgVy92QKawIVq2FoNjgOYpTUHULpZClZPoBUoKyB2GxKizbsB5TAgWZJJAyjOOxBSps43xIVcV14/jIqMA+SClHbthSqSTD4VD7hNRdlpxi+aB/6vW6LunTj5lMZiQ3MRMUFFz2jQI7HA5VjbfldNmPtcaUSiUtZGJVf3Ii43ElAHIwGGiqNmwvZEfo9Xqas7ZcPpZHF38wac4IxrTjczAYaIo8+hQSa1PQQbZtqjkIfz6f1wmbVchRd8loYa019tqzukH/oAYzqSwWi9Lv90cU6kQicdbfn1YKTnhXEE54vXkbv/aKn/31s/6Bwr1py5Ytqp5BGFHBCMghJVYul9Mk+zZrAESB5XIe+ARQWaWSJWsi7SGC9Xpd1V8U3JmZGel2uyMpyVD5LLEhxRUKHGSPJWD8nBw30e6xWEzJFKQOQsK5NBoNJdUQGryZlOuFVOORxWdJUQgb+AdJZWkfIoffmCAz+qtcPubTbbVakkwmjyP61kcbj8dHygfjS+Ya2OV0+pIKYjaLAMowGRw4H5umy2ZjYFxAqLGxQGixRUDGUIj5DAFj9XpdQqHQSNo5rCmMIVRP1OVcLifpdFqvI9fOeqEh6FgibLCh3RaTCY4PFZuUZ0zY2DarAHia0+m0jj8aEzUmFvb3YT/L2Od3RX80m02dlPIdLDIQYcYMKfXc0nByOOFdQTjh9eZt/No4EV5UMhQviAFEFNLLkitVoyAqg8FAlSmbOxXiA+Gj7Cvqq11W5qGNx3VmZkYVtZmZGen1evo5iCxL8qQwg/SRPYBcrel0WprNploHbMEBa3lg25DUfr+v3lwIDmmwIN14jrFL2O1hExkOh7rNVqulXt9Go6EqLUqvtRigTrMsz2upVEoJD+QN9Zw0VhwbKiL7wLdLMBn7YP/4ny0xg8hbzylEmGs4OzsrCwsLmuUgkUiM5Abm+kPqINO1Wm3EZsDfEORcLieLi4uq9kJ8l1fOYzxAHvP5vCwsLOj44dw4L1LWcY1shgn86fF4XAknY5Zc1HY/rVZL+xoLkPUE8xqTNiYMeHYhqFxPS3hJc0cxjuUWIVZAyMXL78AJ78nhhHcF4YTXm7fxa+NEeHnAUsXJKmSzs7MjlaogWCy/53+cogtCgJXBLt8S1GSDySCkEBYi1m2mAPymkEvICP5JyCbEotvtjijKdskXGwaEj9ReqGeQyUQioUF3/AuJK5fLumze7XZHUk9Bvlnunp2d1by3EE3IP/uG9NtgLlTkfr+vxTSWK6/9fl8JLASHIDl8z0wW+F6325VIJKLkdWJiQo8L5RvSzn4ggDaXsL0WmUxGFW8bNIclA68ufRiPxyUej6uSzbWj4hjWAVsZjmtuySyloElTR7/ZohNMjmxuYYghEw1WEkKh0IgXmO9b/zC2lng8LslkUmKxmI4dCDGrJNhK+C5jBDIfjUa1aAjEmONkUsGxbNu2TVPgYb2ACFsvOf0ECa5Wq2f9/Wml4IR3BeGE15u38WvjRHjJBwuhxXeJpxDi2Wg0JJVK6VIqD1jyhpJLFLVx9+7dI5W0eOiT09ZG+xOEg9IL0YYA8f9cLqfEyHqEITSQdpS06enp4wLYljfIM/+31cEg0ByrTR+VzWZHPMmQLoLfksnkSBEBSAxVxViC5jhQXCH/Nh0c/lCCCTkXbBG2pLAtwmFtAVxfgsxYaqeACBkabOAahRkguuTfhexHo1FJp9OqfHN+9CXjB/U6l8uNTBYglnjGKenLdWT1AYsHRSqs15XPsi8bMEl1PRsc2O12NbUY14xjwvqCX9mm4bNZImq1mvT7/ZEAvnQ6LZFIRCdXdrwxTrBGENxpSbxV8FlxQInn3LLZrITDYd0+34nH49JoNGTnzp3aN2f7/Wml4IR3BeGE15u38WvjRHjJiADJtEoXS9f1el2Dy8rlY0nzI5HISFlalvH7/b5+B7KXSCR06bharSoxY4kbckAmAkgFhBV1DKILAVyeTo192mwIJPGHCEHwsVpYZQ6V15JcyD+WhEKhMKISR6NRJaJsxxYisCSTIDbr4STdFH5agqsg+CigBHNR4WxmZkbC4bBuA+KFSmwtCWSOsGm4UN2tQgzx57riW4UEYiGxXln+jw83mUyOpFfjOqCOst90Oj2iUkOGOWZ7vSHtED8UZQLqeB17Bmo6k4NkMqkeda4ftgLOGz85WUmWK7579+7VCR6+4U6no+nAIOZ2MoIVhAkeRJaxznGR/QJlv9frKblnYjQcDpV8RyIRabfbqrDbEs9k8Djb708rBSe8KwgnvN68jV8bJ8LLEjRqUSwW0wwM3W53ZFncqn/5fF4rlFkFFr8mhAj1k3yi2BgsgYHUoFJCYq2KBzElQKlSqejSPaSBACpLLsm8YJVggrba7bYSQBuxbzMGQMYgKpa04g8lvRaqOMvdvV5P3+M71opB9D+BSFYFJicrJAmij+JH9bVYLDaS6YCJC6oq77PUznlBULGQcMz4Y2u1mrTbbQ00sx5fJhxk14DUptNp9fkSxFYq/ST/MZMYCowwqeCaQkQhuNbLDaG06iiBfMlkUgPm+K61NGADsVYKmzvXBqExPm3GBawXKMJ4bVHireoOcWaCwjbIP20LvdiyzYxxxqMlxtgxbOU9jotARVZRqJp3tt+fVgpOeFcQTni9eRu/Nk6EN5VKqU/QLn9b5Y2SuxCEVCqlwTeouRQfQLWjYhY5bG0GBesFxtMLOYAkQcLJV4oa2el0tLwqx8yxlkolmZ+fHyHapdKxFGALCwvqKYaUsGw8HA5H9otyiLKJF5cgokwmo+o0EwRyqULQut2uDAaDkRLB+R8XueBvG9WfsjOOyQAAIABJREFUz+c1QAs7At5hFMJYLKZV5ciTjKLJuVpPNYqpLdARj8clnU7rRCWTyciWLVtUSSZNlg00tGopRI2JyfI+Q21nrJCyzQZ7YRWxqeywCFDieXmwWLvdVqV/ubrMWEIpxeLBcVkLQKfTGVmtIDjTKuKMGdK0JRIJDbLr9Xp6bJwr1olut6vX1tpyKI6B19uuLvA3ExT2j8oP8X/ggQf0HJcX/2CihD95x44dZ/39aaXghHcF4YTXm7fxa+NEeCFui4uL+oBOJBKq1NmHbjKZVHIBSYFsLU/1hHcSYoEyCsnkgc8yLWqjDcSyOXGxSkACUX+tIopNAHKHujkcDtXvi2eTYCFUNEriEnUP0SQtGySDZXuU7kgkohaJVCo1EmUPsarX68cVVEgkErJt2zYlzKSWIosE5x2LxSQSiWj1O7aDNYQcxVZtRZVHaWRigOrJ51G8E4mEBkOx7I/qav2wdp+7d+/W86TfE4mExGIxVVNtsKH9rE2zBSGFlEI+8WozJlmBgNhx7Rk/BFGioEOK7RhOJBJSLBbVZ401hUkfxJXrQfBbqVTSstbLxxi+YDzYWGcIXrTWHvodtZp0f4VCQUtpc/6svEB86Z94PK6TAPqHPuW7vV7vrL8/rRSc8K4gnPB68zZ+bZwIL8v45NPFQ0qwWqvVUpKVSCSk0+no521AUiqVUu8my8GQFqq5QbAgKvhPIS/4OFHLqtWqKn8ouijLfIfl+1wup5kBrPeSrAp2mR9yWC4fKwBAtS2r2qFkEuyEZYPKZRBv7BNkVaCh8EG8UZTpJ4iPJYRYCyDn5M2152vVSI4LcozCie3ABkaxhD8/P68WBDI1ZLNZVXghdRB9rhukC3sCfY46ybnZLBl2UmI9sqFQaOS8bRU5ghqxb/A3NgwmDUygwuGwxGIx6fV6ek5kFmm1WiMkG7LK+LY+bZvvl4IjqPLLxymEtlgsajYOVgNYTbAeZH4frGCwHft/SkwzRvG5z8zMyGAw0MlMqVRSqwvlv7lettrg2X5/Wik44V1BOOH15m382jgRXryILNnH43FNzwVpw/NqizlAZFHIIJw2ip+Hb6l0LEUTZMkqfOXyMW8pS/G2UAWfIf8pJMouKeNxJOUVZA9bQTweH0mlhseXJWY8vhAwimPYYC9Sq7VaLcnn80ouqIzGUjaBZCiD7XZ7JOgOvyZpsEhjBkm3Kd04Hpb4y+WfpBujz+Lx+EiAFRYF631mOZ39WMXUlsiFWEEc6XNLEJn4WLI9Nzc3ktLMqvio2csLL3C9UJyz2axEo1EtXV2tViUcDmu/YDeJx+Oq4DL2tm7dqv5t68klEwPkl/HM9aZoBefFOTHJYCJgK9/ZiRSZERjTpdKx0r7FYlG9yHhr6XfGCL+jdDqtvyWuP9YRriPljSHMXA9KeudyOfWKM4kqlUpn/f1ppeCEdwXhhNebt/Fr40R4IX8smabTaU2pRYANhA4bgFXulhNFyAXk0HoNWW63ahpKKl5EyMXs7KyWXKVwQ7lclj179ih5gDCgenJchUJBU2WhsEJgON7l50A0Peol6iyErlw+5h8mxyokk20SzATBw1uLFQAiCHElJRnBWqi3/AtRs/l8UVQhdARP8bdNwZbP5zWYKx6P64QDwn+i8sUEUUHCmHBAmG3JX1R+CBoqJ8omBDsSiUg6nVb1l6wJZFtYnnGBQElL1qnoZjOJcDxMBii8wHUh0I8+zeVyqoDbyRRZGvAl20IjnLu1g1ilOJVKqaUEew7vk/7MZgKBUM/MzMjCwoJaWPC3Yxsis8lyGwhjg2s3GAx0woDNgZWVs/3+tFJwwruCcMLrzdv4tXEjvDzAUW9RVSEkEAKyFaCIQXRQSCGH3W5Xg9iIGidgh3RUkEOWxC3RK5VKsm3bNiU7BLmx3G+Dd1BirZcRUgMBg7RALiDEbAN1GYXMpqSCyOHt7XQ6qnyyD/61/mQIvs1uwNK2TVvGxIDgJgKlILv4OG3aMJa+2+22klGCqUj/lk6nNX8yQXWQPsg4n7NL7pA3PKiQvW3bto2k1yqXyxIKhaRarWr/QQoXFhZGjnd6eloDqrhOWCjw/FqynM1mldhjK0gmkxrU1mq1VA2GCFOpjOthS1dzPew1w2PNBAZ/bywWk1QqpQGX9C+FNkjDB/G0fnS7D4i2HZOMG7ad/3GxEtLIRaNRXTWw+Xo7nY7s3LlTlWerrDP5shaabDZ71t+fVgpOeFcQTni9eRu/Nk6Ed/v27bq8TbYGSG6lUtGk/JDPQqGgvl67lM1DHxVyubJbr9el1+spwYUMkueVMsOFQmEkn6z17JIb1gYCsX0C2qwfFuKK8gf5hMhSSIAyr5DOfr+v1gn+3blz54j1gUkB5YtZhq5Wq5pqDMLDcaOAsw18xVZNtJkHeB8vNESfAClr/bAkzFpGrJINmbXXr1w+FhCIbQArA5MZ7AZsk3FAZg62vTyQDGKIAg9R63Q6avmw2RMajYa0220JhUKqthNAZlVQvkfO4mKxKPPz80r+OQbODYLJueMLR2Fm7NixRDU1u3oBubaTQIisPQ+uExM7W2WN8RyLxTTXcbValWQyqcVbWDEol48FkuLntdYIJhmMO/IyY/nJex7ek8IJ7wrCCa83b+PXxonwWgKHipVIJEaClyCYBG7h34TM2NyrBCDh0axUKkpE8PfapVuWlVOplBIZotdtXl38lChjBJtBblGSiahHWYRsoQouT+nEPiHpNtG/JZPtdlvVbwoDQBBZRrb5dikHy/YptGHJPv2O9YLztf5X+r9QKEgkElECSGorlFhUdc4D4gQpshXEbDYGAuxoTBqYwNjrQ59SHrfdbo9kJbA5ilH0GQ/0E5MJ9otCS7+iZtMHtsywXUUgqI0JFBO1hYUFnQwlEgkl9hDCWq2mY8p6kvF345flN5BMJtXHnk6npd1uS6fT0VUFSC4TNIhytVqVxcVFtbQMh0PtX9RsO0FkBcEGBdrCKYzrxcVFnXRYL7BVsiuVyll/f1opOOFdQTjh9eZt/No4EV5I47Zt21T5tCQYssqSPA9ayBCkh+8Nh0ONps/n89Lv91XtouTu9PS09Ho9mZub0zRL2B+sX7XZbEooFJJcLifJZFLC4fCISmpzw6IEDwYD9cSSFQCiRGR7sViUzZs3q6KcSCQ0CI2UYwTl4bmkuhaR8BCLaDSqJBPyT1ouiC9EE8WPQDfK9mIVQS3HwoFCaiP+uQ4QP9KB4VVGcWYygbcTcmxTlNkAOfqKc7d9PBgMlDyTixhrBUvxWD+WL+FDJiGaBBy2Wq2RYiZYAPg/AXqkeyONGNebY8cby35QcwuFgkxMTBwXcIa3G1Xb+ny5NpwPY4DrxkSPvkFRXT5B4TyYiPBZa6ewVqJyuTxSuZBrxmSNVRAmBf1+X68J+yJoczgcyuTk5Fl/f1opvGwI77e+9S256qqr5ODBg/raE088Ie94xztk7dq1csUVV0itVhv5TqvVkquuukrWrFkj1113nTz++OMvaJ9OeH9dznnF/5ZzAr8o5wR+wfz9C3JOICDnBH75J58L/Mqx92hn+ri9eTtJWwnC+9O+P1nCy1J4IpGQxcVFrXAFkchkMuoppaACD1v8h9gFUCApqpBOpzVdEw/xcrksW7duHcmdC4Fh36h4EIpIJKLL9RSeQOWFmFofY7fbVa8rJI9jsf5KCCnR9fPz81IsFkeCjxYXFzUbAird3XffLblcTrZs2aJBYaR0gwhRfMOWX7bpujhnJgPkkqViG2o2Xk9LpFCMyQLB+dN3ECzIGefebrd1+R/iSjo6gqzYD8GKkEz2C9FtNpv6dzgc1nRhEECrWEPYbMU6Co4Mh8ORCUI2m5VQKKQTF84ZXzgle8vlsgb1JZNJSafTqpRapZZ8yBwHajPp4fr9/ki1v+W2GewRNnAMjy2p01iBINOJtcSg9NOfXBsINeWJrdrNZArl344X/MzFYlHP22bmmJ6edsJ7ErwsCO9jjz0mV111lQSDQX2gPP3007J+/XrZsWOHPPfcc7J//35Zt26dfOpTnxIRkYMHD8q6devksccek6NHj0o+n5fXvOY18v3vf/+09/uyJbyB/y7nBALyykBAjr7vHXL0994qR3//Ojn6wF1y9MN/Jkdfu06O/tovytErLpGj02E5OqjK0Qdul6PJCTmaC8nP//i75wR+Xs4JvFLOCfyvY9t1IuztJdBebMJ7Ju5P3JuoakWkPH7BcDgsvV5PCSKlZFG+8KSSGgsCxffxStrlXkgSZJDPlctlVdVarZYquSwlx+NxffijrlrvZ7l8LEgpHo+PBFpBWHq9nubx3bt3r3zyk5+UBx98UAka1ctQTfv9vrRaLdm7d68uI1MsYH5+Xvbt2ydLS0vSbrdl165dmu4Ky8fU1JQkk0ldno5EIkrYIfA2X22/31cV1NooyuWy+j8pBUyQnVXgY7GYXgeUUUus6DOyKuBvpgqaVUEZB6irTAisPaLdbku/35dYLKYFG2xhhVarpWnDUKVR1q1HlYkKqi/nhHWFYyZYzuY3pr+YrNg+YXzawDkIYb1el/n5eel0OpL/cUXAVqulto1Go6FlgDl2SixbFdoScewlVnHl2tInrFrwnWKxqBMHiDekd2pqSrez3HbD+UCiIeKpVEotHu7hPTnGnvC2Wi25/PLLZTAYjDxQarWavPGNbxz57J133il//dd/LSIiN910k9x+++0j71999dXSaDROe98vO8Ib+O9y9O1vkqOBwIvX/t//W46+5zo5mg3J0cOPyNHPHJRzAr/0YzIcOPPn7O1l115Mwnum7k82D68NlMJqYAkYD10bOFUoFGQwGKi/FaII2crlchIOh0cyHuTzebUeFAoFVRuJSm80GkoMrR8V1daSFtRTlrfr9brkcjlJpVIavW7z/u7Zs0f6/b488MADMjU1JdFoVO6//37NPpDNZpWkUl6XrADkGa5WqxKJRKRWq8ns7Kw89NBDsnfvXtmzZ488+eSTcuDAAVlaWpLhcCiDwUB27typqms8Hlc1DiJul8YhTct9vQR6Qf4mJib0OyjCkDJsBZZc8Vq321XiGI/HJRKJqE+a7AFYPOySOteOfLRMVijKQb9Y1RJybtVoVEnrecX2gG86k8moTxZ7BxMNCLdVWnO5nCwuLqryzphlPKZSKSXYBKKRx5f+RRkvlUpaIKRWq6l1Zu/evdqX9XpdarWaqvj0Cx52q9Jj78HXzuSR4Dz8wt1uVxVrJgnWAkHVO5sNJBaLacaTRqOhfW0rxznhPTHGnvB+/etfl+eee05EZOSBcu+998oNN9ww8tlisSi/+7u/KyIib3vb26RYLI68f8MNN8gnPvGJ0973y4rwBs6Rt7yYRPdE7ZUBOfq6tXL053/mJ6+98TI52i3J0T2dYwTYVWBvK9xeTMJ7pu5PlvBCGiEONiWTzfuZz+clk8koGbFR6nyXgCiIKw/+fr+vKbkKhcKIioU3kr8tAYSUoFJS+QzvKgQKHzCpr7AEtNttefTRR6VWq8l9990nf/RHfyR33HGHJJNJ9T1CLCGA5I2NRqMSCoXUJrB161aZnJyUUCikbXJyUpfbrZK6a9cuOXDggHQ6HRkMBtLv92Xnzp1qD4BcQYZswQo80N1uVyujWSIEOUun01rylmsCYcMaYNPC4ZmFmLFd6x2GiBOkNTs7KxMTEzousGYwSSAobG5uTobDofqkCQpLpVLSarXUM4uX2PpXIYh2QgXpxBuL9YF+sIorPleyR6AO83en01G7AF5q1NdMJqNZErAY4Eu2/WMnKJwD2RhQicmHC2nnerXbbVWqbYAo14VjYlUE8k4/Qs6xxlgLEIo3r3HdnfCeGGNPeC3sA+XWW2+Vm2++eeT9Wq0mV111lYiIXHXVVVKv10fe/6u/+iu59dZbT3t/LyfCu3alye7ptre/WY7u6cjRmagcLSfl6BMPy9F//uwZ7x9v49NWKmjtp3l/4t5EiqTZ2VkN2IpGo5pFgeVXVDECrmyFKgJ7UKAgEfhxUQl54KP0djodJQlU+rIPcpbVSWU1HA7V25vNZmXr1q1a0tZmj0AFRgnEWvHhD39YbrjhBimXy7ovluQ5DzJJ2OAkFEtyv1rV9uMf/7jce++9ctttt8mdd94pd999t9xxxx3ywAMPSKVSUcIM8Wu1WrJnzx71rZK/NxKJyOTkpEQiESVKkD2UOwqBRCIR9TVbewf9TMotfMlWlUf9pF+YXGANQG21le+wQuCLXu4P5npxzSC99BVpwCxRg5hBfiGEXDcC1Rh79XpdC41A8pigUNo5n8/LYDAYyW4BUbTjFBJJyj3y67JCYdVbrB82OI3CGSiysVjsuLR3XBPsHijVlKCGWNssGjZQkEpx8XhcJx6tVkvm5+fVSsSkjIIZpPZzwntyvGwJ7z333CObNm0aeb9YLMrb3vY2ERF561vfKqVSaeT9G264Qe69997T3t/LhvAGzpEPnmmie6r2CwE5mgvL0Yf6ck7gZ858f3k7q9tPg/Cu9P2JexNBPaickBUbHY4aVa/XlfiiTqL0EhhEUJElAngYbfU1mi10gW84m82qekse0sFgoMdovcHWy4sFg3KsqGZ4eD/0oQ/JH//xH8vmzZt1mZslYZbdLXGwRTYGg4GmvIIoDQYDJb/0yfT0tGzdulVSqZRMTEzI7bffLvfee69MT09LOBxWxbVer8vi4qIMBgPZs2ePVKtVJadsB4+trW43Pz+v1wZ/cD6fl0QiIYVCQYkS/YvqStlavNSZTEY6nY4SbJRfW7xibm5O8/KiSlp1ermXFe8v6e2o9IYlwRJviDZk11YkQ91lAoaXm+IakM1sNqvnz1ixSj9WGYLSisVjVQP7/b5MTk5qP2CDgdiieBMUyEQP4monf9Z/DJG15bgXFhZ0LFmPL7+XZrOp/QyRt+ndOK75+XlZWlqShYWFkYA6+gt7AwU+nPCeGC9bwjs3NydXX331yPt33nmn/NVf/ZWIiNx4441y5513jrx/9dVXHxcpfSq8nAjvh840qX0h5PcD75KjOxtyTuBX3QLh7QW3nwbhXen7k6201ul0dNnZ+iZbrZYuVZPonhRXLJdDACjNSnQ5EeuJREID0lByWSqGQFqPMFkJSPbP67awQTqdVl8ry72cA4n98YPiLV5aWpJSqSS33Xab3Hzzzerfvf/+++X++++XqakpSaVScvfdd8vExISEw2F54IEHJBKJyMc+9jHNPxuJRGRiYkIzQExNTcnWrVslEomoHaFcLsuDDz6owW/WhhCJRCQUCmkaqlgspnl/FxYW5ODBg7Jnzx4ZDAbq2UXNw1eK5QHymk6n1aaA1cMqkul0WkKhkMTj8RH/ajKZVA81S/UQa6scct1RaG1BEF5Lp9NKhJkwkMaMz1HdzSrSvV5PiT6vQYSxiJTLx4owQBQproB6im/WZjhg4oSya9V6W844m81KOBzWVQlbEKNYLI6kuSNTBWPBZrRgXDcajZFcz2R5IE8zgXulUkmmpqZ0AjgYDEbKH9MH/JaY0EGU7YSDz+KJdsJ7crxsCe+3v/1tueiiiySfz8vRo0flwIEDsm7dOjlw4ICIiEZFHzhwQKOgL774Yvn3f//3097fy4fw/rK8IRCQ2pkmsy+knROQo1e9To6mtskrA7/sxNfbabefBuFd6fsT96a8KQ4AgVr+ECXYivdQHiEu6XRaEonEyJJ1MplURRfli+VkLAMQatI6ZTIZiUajSjr6/b5W+SK9Ew97VGWOnwwS7XZbotGoeivxah44cED27dsn/X5f5ufnpdvtKnli2d2md4LIxGIxJUWRSERyuZzcc889MjU1JYlEQm655Rb50Ic+JH/9138tH/3oR+WBBx5QG0e325WdO3fK4uKi7N69e6TKG2V1Jycn5a677pItW7bIPffco+Sn3+/L/v37R1RxqtWRrQKLCMokgU8o5LYKGZk3SKnFsRBIFYvFlJQSAIfaCWG1qwCk0rIWAFRH+pzMGnhq2Q6TGtRfrhfb4HwIToSo2sIKjDVbapf9oDKHw+GR0tc0m8mCLBV4jjknSHQ0GtXgx2QyqZMK7BeUySawMpfLaVYOlGNsFbZgBOOAY8YCxPGTixlbSDwe198lE5zp6Wm1ejBey+VjubGd8J4YL1vCKyJy+PBh2bBhg6xbt06uvPJKaTabI5/vdDrypje9SdauXSvveMc75IknnnhB+3vZEN5X/rr8UiAg7/gx6f3PtjNGfteceywN2kugH7299NtPg/CKrOz9yRLeTqcj0WhUl4JtYJpVZWdnZ2V+fl56vZ4kEgl90ENg8HtSEhdrRLfbla1bt+o2IST8zVI2xCSbzcri4uKIL9iqiQSpoRxDwJeriJCafr+vRG4wGMjS0pJuf2FhQWq1muzbt08+/elPy9///d/L0tKSzM/Py+7du2X//v3y6KOP6pLyzp075cEHH5T5+Xl59NFHNcVXqVSS++67Tz7+8Y/LXXfdJXfccYdEIhEtCtFsNtVygdLXarU0kC0cDsvtt98uH/3oR2ViYkKy2az0+305fPiw7Nq1S8LhsFblsqVmIcio2dgArEo4HA7VK4u/F4LE9yDRLKNTYINrBMmi3DCWC7JC2GpfzWZTksnkCMnkukK4KbrBEj7qLIGEEDw+T7U9fMg2UJBjp8BJMpnUQDfSqpFbl8/E43FVbgliQ9HFj5xIJDSTQrlcllAopD5qMiXYNH58xqY44//RaFRz9try2fZ61Ot1SSaT0ul01EoC6eXcY7GY2haazaZ60JmQYOdxwntivKwI708bLyfCe07gl+WXAq+UYCAgVwYC8v8FAnJHICCV/yIJ/qkR4Wvf5Cqvt9Nq41RpjaVwPJtEhhNgw7IxxNMGGbE8TODV3Nyc7Ny5UzMpkIIJny8qMVHtECGb0goyVSody1XbbDY1CwFlW21wjo2sJ2ctqpmt/GULHlC6mM9MTEyo59dmCqB87HA4lG63q2RzMBjIww8/LLVaTebn52VxcVF27dolhw8flt27d0uz2ZRwOCz333+/hMNhicVi8sADD8iWLVvktttu0zK99OFwOJTFxUVdVt+2bZts2rRJJiYm5PHHH5fDhw+r+o0yDuFDobRBh7ZQQa1WU4/o8nyxTAjIEkD2hVgsph7qcvknJXPb7fZIXlubJmx+fn5EpbUll1E/IZxk67DXknGA1zuRSGjRDsZHLBY7rpxvMpnUdGHRaFT92J1ORzMvLC0taS5g1N1+vy/D4VCtMqlUSgtWEBTJWMWiwHWzGTH+f/bePEjOu7z3bWSH7CGBBJy6N7m37jnhpHIOhc0Skji5wI0vOJeAISEJBGLsY8AmyNiOLCEZW8IabI2WmenFvW8z3e59704vs8mS5siSLMnWEm/IG+RAAlUQKqlKKm+W5/4x+jx5erwcG9zI037fql9pNDPd/W7T/fl9f9/n+ywvL6vNh2YUFFJa1btWq0kwGJRoNKq+aaw7XC8KMjm/qOR0AcSuQG4vwMw5KhQK0u/3pVQqrfv3p1FtLvCOcHtVAS/D8wbZ4PlZ2eD5CXmtxyOXeDzy3zwe+U2PRz7g8cjVHo/ccP7fT3o8svcVBMNurq87XswYJ+BlCbzVaukHO0kCg8FAYYUqe9syFvUX1Y+80EQioaAQiUQ0OgsIQw3mNSls4znt8ixdq6h4t0kALEnjnQSMKMSjAIwoMZRhwAxP7ezsrPh8PvXloliiUlKwBNwTCQa8sNSdz+dVFV5ZWZGVlRVZWlpSS4OFfJbWI5GIWhq+9KUvyZ49e2RyclI+/vGPy0033aRWjGKxqMkUgCfqOseJjYNGGHhZaaSQza7GuqGEo1Zyrm1XOmvrYOKAEsm5LRaL0mg0hhpq4Mu16m+5XJZQKKQFViQarG2igd8ZT3g8HpdWq6WTMTKASW3A7sKEjckKRXqAdzKZ1OvDaoFt2oBNAStNvV5XuwSKsc085mdzc3Oyf/9+zSPmnIVCIb0m1jrB30S5XJZOp6Ovzd8P3epQtLkHAWnuQ5R94J/XDIVCMjc3J16vd92/P41qc4F3hNurEnjXjg1vkg2en1vtlub5Wdng+fHzrYV//Pz3f+R8m+EXHr/q8cimF6kYf1/A+xqPm+Dgjhc1xgl4bXETwAtE2m5f5XJZu1PZpgAkDrAkzFI0il02m5V2uz2UjRqLxbRIDPULoLWghZrJ8jdeTaD40KFDCjHhcFiXf63CaPN66UZFxBYtdTkOYMsWymG9ACxICcC7yffJHcaesLy8LJVKRVKplCrAKysrcvjwYTlw4IAcOXJEHnroIWk2m1qAR4TZli1bZMuWLbJ3715ZXl6Wfr8vs7Oz2k0NmMU+wsQD6MVCAURybinu63a7OumwUJg+n6fLxIDHo6CTjkABI/cO+2FVc/JrsWcEg0Fpt9sax4blgqYYiURC7y3grtFoDKVoYGkB+HK5nGbzArs8H0Aei8U0uQL1moJGnsvaJehqxkQPJZd7ku9xvNy7NlOY5IdKpaLnnf3j+lmlutPp6D5yj2Oj4DpYjy/QG4lEFP6BYmxJ6/39aVSbC7wj3FzgfZmH57WyweORn/B45Nc9HvmKxyNxj0d8Ho9s+QEh+MMej2zwvO7CH6M7XvFjnIA3EAhoBXmn05H0+Q5VgUBAK9GBOuKiABrUT4CAohzinkhpsMvctAm2y7+AFEu0KG6E+ROsz76g0FFYxeNQ9vBdDgYDBRuKhlj2pzAISCmXyxIMBlX5A3ZZ8gfUaCIADNJSGUBOJpNaMAZEkeOLF5bosyNHjkiv15ODBw/K4cOH5ezZs2pvaLfb0mg05MCBA5qEwXlMp9Oyb98+VQJtURY2BpbDOQYKuFAYUQWt7YHzjIoLsA0GA232wfUqFAoKmyzpM8nB14x6OTU1JdFoVNrttnQ6HW2lzP1jvcNcP64317XRaEiv11PgxApgVVTSmZ0oAAAgAElEQVSOG7ikCJOiMK4bfmS66QGgqM323uacMjljhQP1lU51NuuXFQT85UAxajirJbbRB01EmKhYP3un09HCTCaldhLXarUU2mdmZuTee+9d9+9Po9pc4B3h5gLvCIfnF1QdvtjzGvlRj0f+k8cjk9+HLcLv8cgbXTuDO17kGCfgRTW0leOpVEo7iQF2pCCg/rL8D2zwNWAJFOE3tF5IwBg4QVW1RWe2Oh/FEYAGzFiCZ3ncNsjI5XLaLth6MYEE22wDuEJxJLmgWq0qcKP+lctlLdhLpVIK5TTjAIbI5yVPlpa+2CCmp6e12K7RaMjKyop6S7vdrlSrVZmfn9dzan2rdCAju5ZzalVoYI3CKwtywBZ2llAopAo5AMvvo+yzBE8DDNteF2iLx+M6wYnH49LtdtVXbQsHO52ORCKRIb+29bWiqAN/QCLXkqIyfOZMPGhPbZV3fhflf2FhQSGZSReJEBSh0cSCc4xFhtULPOrYLrjW+MCZfHC/ozYD+ZwjLEBM3rgfotGotrjGn8y9Yf+GbGIEhYIUkK7396dRbS7wjnBzgfeHOC66ZHV4flJtEK/1eOTK8xCc9HjknueA3duAXVfddceLHOMEvICRbbdaLBZldnZWvF6vRn0BjShWRIRR8IQnlaVuAIzKfbs07PP5VBHjAxpIpggHJTkYDCpo2CVfIJLkACAUJc4u8wN1ABT2ADyvFqpQfW3KQDablV6vp8AHgDcaDfWHAu62tXG73ZZutzsEKTxnOBzW5XUKpnw+n0SjUYlGo6r6sbwPfLO/gKIFYQqlbAte0ivw0KIMks5AkxCA3UaKERs2Pz+vDRLoMMf5SZ/PwwWq9+7dq8dLwSLXw7Z8TiaTCmgUGnJsTBzs+Zqbm9NINlscR2FlJBIZuja0EuY6NJtNvR+YJKHKW9sOlgHue7rPYZdgUgBIcx1sQRwTlHK5rNeEc58+3ySkWCxKOp2Wdrst+XxeJ534rWmKYm0iXBcmZMVicSjNhL/lmZmZdf/+NKrNBd4Rbi7wvgLGhjcZL/BrnsMf7IKuO17aGCfgRfkCAGzhDypbu93WAjOUVUACSAWKATRgw4b+2yV3Oo/RvQrgReWyjQ5Ia2C/eA3UPppkoKDZ5W1e28Y5AbaAdTab1WVhoAxPK8vYFmBSqZTMzMwozGMDyGQyEggEJJfLacQUIOj1ehWS2u22quVYFVCmbaFSrVaTWCymii0AaSGQ4qhms6lFSxQXRqNRjcuKx+NaTIViCHzG43G1GViwA0SxttTrdSkWi6r8A6Woopx7rAwcl91nu/SPkt9oNDQT2fpgSecgnYJ7hQlXMpnUBA7ivGhKEQgEhjryMTGykyrUVADd2iNYscCSwnE0Gg1VzW3HOx5HO2di6FjlwCbD3wMNRLg/4vG4Xl9WNbCRcF8Q9Wd9zCi/hUJBpqenNc96vb8/jWpzgXeEmwu87nDH+I1xAl6UVNrA0j2ND99isahFNahNABBLqgADahW/V6vV1P8KENJ9DG8t3kZ8loAHytjaJWy6uQFOWBIA9UqlIvF4XBYXF9UzidcX+AEqut2u/t/GSFmAwVdKhJXX6x1qnmHtF7ZxB2o4/6IC5vOr7YEBVFRqOpoBnDZFgH0JBoND1gQ7iQDGOKcAEd3ViNsCwOySPwVYKI08J/CM1zWZTKrv1+/3y969eyWfz8uePXv0HDMxsQDJRAIPNDDNqgHKK9eSc1ur1dQKwSQI9RMbARMFnp84M84N2bqkOlAECUxHIhGdYPAYXoviPLzd7Cf3FZCPLxsVnMI0nm9t4wtsEfzM/i4TEiYXKMHkETOJ5BoBzCj4mUxGwuHwun9/GtXmAu8INxd43eGO8RvjBLw2bzUej2uFuFXUULNQDSn+wT5gwQwVDwUrn/+Prm0Ag1ViAV7UXeAG6OH5gRgUXmAB2ABi7VI/zwuI4vVEASYdgcQD22ih3+9LpVIZyjtl6RjoKBaL0u/3df8ADn4H2wCwbdvtUrAE2JBEkUwmFWgikYhOIlimT6fT0u12ZXZ2VlVwFEGbkQu44QPlGKrVqjZ6sGor14YJBoVVgLNVP3l+zg3wxjkH3GyLYPzPJDSUy2VtT22V9UKhoB5cXhtIB5JtkSTNFgaDgbTbbY1qY/KAGhyLxbS40O679UGTIEI2MvcNHl7OaalU0mQK7j2ej8ficcZOks1mdYJFqoItBuVfvMqck1wuJ16vV20zhUJBwR2LTTKZ1BWLQqEgk5OT6/79aVSbC7wj3FzgdYc7xm+ME/DSAY2KfFIGWq2WRCIRDcsPBoPajY0P19nZWS2yAoYTiYQuNyeTSf3gXtshDKCyIIC/8tixY7rcjxqHehuJRHTpHkXSLlUDMQAo/xJHBiyn0+khuwXLzXTCws8JELEMTcQWS+Go2HgoUSp5DZQ5lsVt9zjrXQaObDIAbW3xRAeDQT22bDarz81zYpegQAol1HqVw+GwelhjsZgum6OeAueA7czMjIInEyFek9fj2FFKgVYmQaj3FC9a1ZsoO4De7lMymdR9p7Cs2+3qJAGvczqdloMHD2rTCgrNsEJgHWBCBiSzbzR14DiZqBWLRQkGgzIzM6OP5xi4Thy7nXAwObNe6lwup41MsMgAvfxOMpnU+67dbqtXmQmJXUUBvK0VhH32+Xzr/v1pVJsLvCPcXOB1hzvGb4wT8IbDYbULZDIZBQt8rQAkRUzhcFiVXdr2oqoBENPT0wp3dL0issu2p6Uoam5uTkKhkALwwsKCZsnSopWqdT7s8S6i+NkCLhTETCaj1f+oabYTGzmvvV5PFVaAj65uqGbsh4VRa5MgFspW6dN9Dvi3XcOwLiQSCbWL0MmOcwN4c3z5fF4VUTye2WxWz0M2m1W1tdFoKHjx806no9eONASbOcs1tWq8TVAAHnkc3lGrklvIRX3HX8oEwmbd4k22LZFRt23hWaVSkUQiIUtLSzIYDFTpJLJrraJsJzPsk20TTHLD3NycTE9PK8yj2NriOJRxWvxia+A8sWqAncbCLIo98Wd2NcAWfC4uLkqn09EOgnYCQ5El3m/OL4+1zTbwNK/396dRbS7wjnBzgdcd7hi/MU7Am0qlpN1uy3333acpB1aVAzra7bYcOHBgqBOXzV6dnp5WVdHv9w+BGsvXtOu1VefpdFqXfFEV7RI3wMj/8beynM/P6USGCgoEoBTX63VVxUgisN7fWq02pJYBn/weChvJDEwUWFIGvFGDW62WqqZYEUKhkCrjAByPJXeY8w58YTkhQxggQ00sFosSCoU0HsvaAAB2ez4skHItmLAAu/F4fAj4sHsAfCRc2Gs2OzurcW+0YQaGsSBYRZT95Xpy3qzCjB8Y9TuZTMrKyorGtdGZzaaC4PfudDoSi8XE6/UONcYAuKvVqsbE4dclhcLaKewkysbmre34l0qlZGFhQSdkTLZsQwri31ghoUkEqxz8rVivORMHVHD+jvAuowwzGQkGg5JIJNb9+9OoNhd4R7i5wOsOd4zfGCfgpcEEH9y2iKZarcrMzIxkMhlZWlqSWq0mCwsL0mg0VIWigKvb7Q61jsUPi8oFaAGRdDhLJpOa1oCSxWNY/gYgADz+T3tiCoaAIGCPJWLUVArzeA1gFh+qbYARj8dlampqKBKtUCio/xWYy+fzauVAJWVSwO/gLbZtfNcCIDAOHM3NzYnf7x+6NlZ5BQQBY8CM/UO1XwuQNk4rn8/L5OSkKq3WHw1IWmsHSjzqKR5pVExrWeF4mChwP7EvNjbNtowGepnIAJvxeFwGg8FQbB0WiLTpOkbxFveQXREAxgFpVF5gnQLCWCw2pLA/l5pqm0ZwvVgBoLEF55RJFEWX/X5fO+Jx3ICs9VBzTZlAMEHheEjooINcqVTSbojr/f1pVJsLvCPcXOB1hzvGb4wT8CYSCfH7/WoZiEajz8o6tVmtlUpFfD6fxGIxBQoaMGBRAPiAWlqw8jyhUEihk4IkgBFoTCQSunSfz+eHwNOG9QNw/J5VoDudjkZ3WcgaDAYKYpFIRCOfbAthOqUB50CphTcaVwAawWBwqIIekOH3LQD6fD61H6DWYaMgBxn1lfOBx5bivmQyqYVV1qrAhAWAAiAtTAOw2B5QnXnOSqWiBXY7duzQQkIgzhaooVRicbAgZ88n/7f2De4hJh2cM64XgEdzj3a7rdYF9oPrz7W23fCKxaJOiOw9RRwbz2NVaHtubcc8/rUNK3gN/NR8zxbHLS0t6bHxvUqlohCNTYQVkXa7rasC3BdrG35w3EwWOWfVatUF3hfYXOAd4eYCrzvcMX5jnIAXZY4P42AwqLDCh7Hf79eitEAgoOoiilq5XJZAIKBL2uVyWcEEIPX5fNqG1YKO1+uVTqejRWkolBaQ1oIIAMyHfrPZlGazKZVKRYvjgF8gAtgGIlDR0uczW0k6qNVqqiICRCy9AzPEqlmfa7vdVpUZ36iFJFRnitTy+bwsLS0NFTZxXEAxSqq1dAD0wDHnBRjHlmItChSJtdttyWazau/Av4oqTetnltjZL2wUKOX2/iDZw+v1KpgCXSjMTARQKzmvHAv7Y4uvUFUpLrRgzHEAjcAu4IptBSWXznU0vLCTDCYipDrYyYzNK2aCQPMILB1cz1wuJwsLC3qdfT6f5HI5bdrBfc3X9jgbjYbMz88P+dCZONBwhG533I8UepJXzP4xaV3v70+j2lzgHeHmAq873DF+Y9yA1y4zE7eVTqfF5/OpeoiFAC9lr9eTXq+nVeN2uRVPJY0faAaA19YuDQM+trOWXc5loDACcHhkrYIIEKCOAk0ot6jNdIND9QTMAbtqtSrtdlvK5bKUSiU9RuAP7zCZstZqQJRbo9GQSqWiObg0y/D5fJJIJOTLX/6ywifnCQ8vAEcBFCoqKRlW0eR82lbPqH02ycA2T7B5wVwv21p6bd6rbYBgFX7rrbUxZ6j4tpuetSesLVBjrH0962/t9XraeIE0j2Qyqd5XCgNZeaDls/VYx2IxnVxxbrACAPPc79bqgqJr7QdMKJh4MFHi/svnV/3e7B8FdmsnUFxD7vFkMqledFvAxz1Icd7a80dHP1pXr/f3p1FtLvCOcHOB1x3uGL8xTsAbDAal3+8PwSVqqW23mz4fERaPx6Xf72tlPwoUjSgorrE+Wtsylip3oAOIskkJwWBwqLWvLVjjQ9/n86lP1O/3a2c061tln2zMlPWpoj7XajWFCHymVu0Fli2IA82AoLVj2Lg1W0TWaDSe1XUOyLKFV+wvDQ6AfQv32B6sJYNiP6v29no9hXsSMmyTDas8p9NpvQ62za7tJsdrAWjWKwtM28g61HXU3Xx+1Wpim1Lw+tFoVH+XCReRbijwtrsc18RCJucISwCgWqlU1BJh7R341EnLaDQaev1QeGlaYe0YwDy2GYo7ed1oNCqdTkdarZaEQiHp9/vavpkJDtcd77WdUFivrgVy2iinTTc668nm3Kz396dRbS7wjnBzgdcd7hi/MU7Ay5I0VeoUnqH0RqNRXT61BUztdltBFzWRD1x8j1Y1BGbtcr21BKCyYo0gt3VtxijeXZ6Xn9siMsAokUholzdbeAS8UdBm/ba0B7b+WQqrAE2sBmuX6GOxmHYCQ/EGiixgWxgHKK3aC0DyWrT8BSh5HlRNex5obcvvsP/sT7lcVkuJtQYAcLZJRSgU0uQN9ol7g2YS+fxqPu9zJTJgUeEcp1IpBVCUWvu7nBeSNgA+a0vheDifTEK4B4izw19MS2yrrLZaraEoNxqY4NmuVqva1Q6V3+YdY+PpdDpaqMdxYRWx9g8ynvEVM7BGcG5RjkmOsPe9vYetL5sYMiZI3Lfr/f1pVJsLvCPcXOB1hzvGb4wT8FLtbvNjWeZHoU2fb7XK0i2/Y6OkeDzKMBYIloitqtlqtRQIUHttBzSgIRaLqS+Y71GoBswACYCaVc1QwQaDgQIR1fiAFHDB40hUYH+JuAL22u22empROK36SgQW4AS0W/tEJpPRXOJKpaLL4u12e6j7GzYFVFquFa9hJwPlclnzaSkWBPpQSIk+wz4BpAOkgCuKfrlcllqtplBm1Wgagth7gWQJC4mcA3tvsZRvlVGUTIrF+D3bPph7I5lMaoFctVrVxIO1edDk5dL5jNfguuJttvcmLZ75PXKPbXZwPr9a+Mj9mkqlFKD5m7Dec1vsiEUB+wU/w/rARIZryr3Hz1gJyOdXfdxcK34/n1/19a7396dRbS7wjnBzgdcd7hi/MU7AS4wTWbnNZlMr/svlshYUUZjDhzwqLL5XIK1er6vfkGQFVCrguVQqaXEckIDaZSEMNRdAZB/40EcpxIPa7XZ1OZ2lfkDXxqEBOaQLsB+APzmxdEADjGzKRCKR0K5s7CeqJfts4QeVEiW90+nouV3rZcY2QIMOiuKAp0wmo/9H8QXIUKdRw1HKUYiJceOc0TnP2guAMkDUdpJD1V07KUCx5j4A4O0yPl7fTqejfm6gnOuxvLys8EfUl109iEQiQ+qnTT/A9woAUkBn/ek2Ho/UC84NKi22EhR3vuZ61ut12bdvn7Ys5rjy+dWYN3zeVt3l/qFhCRM3vNl24mIj/YDrVquldh1WDbC12EJMusat9/enUW0u8I5wc4HXHe4YvzFOwEtKAwVp2WxWw+tZrkVpBAJR28i1LRaLuoyO0opSirIGmMzMzAwBDqpcJpORUqkk5XJZ9wewwfdL3qy1D9g4LSBvbm5OAoGA5rSibtqoL47XKm9027JqbaVSUaUYpdbv9yuEsoxMhBcAlEqlJBQKqS3CFvQBiyRM2POBxcEWW6G2WkUQVRnfMPvN+WciAmTxOGCZAjq6v6GgA9jAE9cAaIzFYtruNxqNqvfZFu9hgbEtiDudjtogms3mUOQY+wlok/Rhi/ZIvLBK/lrbCUV02WxW7zP8r1w/1HTUYzv5YrIRjUal2WyqEs2EBpjHukDXwfT5JAmuI/FnmUxG+v2+Tn5oX2zvYbuawoTCKsR4zG0rba4jbaztpJXXWO/vT6PaXOAd4eYCrzvcMX5j3IAX2CmVSgqBqJlrwSQYDEo4HNZCMj54C4WC5ocCRpVKRZrNpkxNTeljeJ1qtaq+WAubfPAT42SXhlFH7fItcVMWIOv1+tByf/p8YwIUVtq02uV1snZRbgF14AOVNhgMitfr1ZQI1MxAIKCPBWLm5uYUCFnCZvJAri6JGERNWdhm/6xCTOIC5wAQKpfLCsE27QD4SqVSCqIANMVXTGCwnwC8FEPZgkabtrA2LYDoOqwJtsiQiQkTLCCdewxlPZvNymAw0I5kXFsgnmJBwI9oMq5dKpWSZrMpvV5PPdpMSpgw1et1PYdMfvAI2/bBTKK4N7GE2OYWxMbhh0Y5BlTxWa9tScx1ZmLG/WtVdv7GSJIgpYJJAdeSv1n+PnK53Lp/fxrV5gLvCDcXeN3hjvEb4wS899xzz5DVABXTZtZms1np9/uaQ8qSKoU+NiUBPy0KMdBhs375cEYtLhQK2i7WemMbjYYqp51OR/r9virJqGPLy8tqVwBs7OvYZXsgjsIgrBZYGegihmqHoub1eocKh8gMvv/++1UJBMCAR1twhwKJCmeVW6wfVOYD8iyLZ7P/0QIYMASKUJlRTfGers2zBXS5bsCfbXzQ6XSGoIyEA9sEAvXZpjKgsnPMJAkEg0GZnp7W1wcqaelrVWdrIwCGS6WSer2JBavVahqRByQC2AA/15X9AeCtQo9lhckV2c1M7hio7+12W8EcO83c3Jx0Oh210LA/rDJYFbZSqej9D3DzNbafbrcrXq9X85CZ7FCwyGQJhZ17yPrDudey2ey6f38a1eYC7wg3F3jd4Y7xG+MEvMFgUILBoHoJgVa7tI9qhCJLosLCwoJ+0OOPXOsXBRiq1ap6UlGQacuKQlWr1SQUCg01nfD7/bqUzXK2BTqbsoAqyOvSRAEItJ5Nlr9JogAkKfiiDS2qHYCOvzafz8vi4qIWFQE5LEvz/HZ/gUeAh8fWajVV8zgW6/+11gd+j+NnMhAKhdSfjI/TFrehQGJnsICG0su55Fh6vZ7CL3DFdaNojYkN54DX5nh7vZ7Mz89rwRctnjmvDPYF/zgxYsArxwwMz87OSrVa1Qg9aycIBoM6gSBizSaJkJ6QSqU0HxcVHKsM6rstWguHw2qDsCkkqMxTU1N63QBSO1FiomCtKdyffE0UHdd2enpaIpGINtJAgbb2FRtdh893vb8/jWpzgXeEmwu87nDH+I1xAl7sAxSt1et16ff7QxBHCgNKKrBENzWr+uG75MOeJg74M1lyT6fTMjMzowVxQGcul1O4RI3FXsESrm0VzIc9y7zdbldBEjUa6MBDy7FRNGYbWqyt2rdpE8S20XmO42Mpn2KkcDis1g4AjfNolV6sC/hKy+WyQrv1P6PKps93hcMjzL7i+2RSYC0NgCqWCvYRgESBTyQS2iyDa1ssFqXb7erjudYonTbjFjWY45yentav6/W6LC0t6bWwxYzkNgNu1jPMvzblwBbk2aYiKMmzs7Oyb98+/V2brIBiTye9cDis5yydTj9rYsZqAwWVZPQymSMhYd++fTpRonEH4GmLFTnfTIhQY4vFoszMzKgSHYlEJBqN6v3L69nJCxDO9cC7S4vw9f7+NKrNBd4Rbi7wusMd4zfGCXj5MLWAxTKtXSIFXnK5nPT7fel0OjI/Py+dTkeLdlCmrHeTpX3UQz6sc7mceL1eVatQ/ni8bSHs9/vF6/Uq3KGooZah6vF9Gz3l9/u1kG12dlb6/b4ue1OY1el0pNFoSDKZlGazqVDKuUAtBWAATwCm1+tp+1wgFrDP5XKqVOLHtckBQAzgDnQBrLxGPB7XwqpKpaKRXIVCQSv20+cbKWAVAbZ4HUCbLmSkTHB9eRwQa7OYgcp4PC7VanWo3TAecPyujUZDi6kSiYTGr3GdaTDBpIBzEQgEdOLCvtNqmXsKX6wthGMShi+cFtODwUChnPSKSqUijUZjqFsafl72CQsJ9xbXPJVKSa1W0/batNrm91FirRd+bXGdPb/YddLptPqKKXbkenLf4B/nnLBvdkUgmUzKzMyM3HPPPev+/WlUmwu8I9xc4HWHO8ZvjBPwAmlkrmID4HsUWLFMizXAdiRjyRvoAZZspTkeURRcACAUCukHPMAN2Nglb4C50+lIqVRSldBCJMvGWAYajYbCJIqs9Tra4ybiCXsB9g2A12bG4sMMh8Mau8Vzsp9U+7MfQHixWBxKmwCAbHc4m5ELxFqwwctaLBYVdu1EgCQB2ywBAEPxBLZQSgGsWCymXly7j6jQHL9tjct1Q6GORqMSjUbV140nmhxdisOIeGO/OMehUEj9t3aFgULBTCaj+5NOpzVnmedhoETzM86RbcnL+YrFYhKPx4e6wEWjUYVKlFgKMwOBgJ5TVi5yuZwsLS0NKfqcRyY9FJ2Vy2XpdrtDmbxMHvg74762MWy0isaCxH4TdQc0r/f3p1FtLvCOcHOB1x2vpuF8+4kLvg8/jDFOwBsMBlWRZKnbFkYBaAAsXkg8pdZaAKQBj3xoJxIJ/cDPZDKysLCgIItCicrVaDRUTQUMLXihMlvwYmm6WCxqAZJd6qbwDHVwrUfZNkcA8vl5uVxWuCkWiwrI6XRarRNYQFCwUT+t1cB6TFENOQ7OG5YKPMMW6FkWj8fj2mYXPy/nls5mLN0Ds1wDCuZsjBZL85xLn8+nPlyaKgB0HCP2DdsNjX3iOG0zD1RV65NlomRTQMgNBpBtARn3pp1srW3oYf2wNq5tMBho4Z5t1IB1g2vMcQSDQVXUubdarZZ21UOVLZVKGvvG34fNDOZ1UJKr1aquntg21LbZBKsMlUpFut2uPh9/c1w3nhul394nlUpl3b8/jWpzgXeEmwu87hjn4Xz7iRccF3r/RjXGCXgBR5a+8WvOzs6Kz+dTlY2IKJah/X6/fuCSVGAVtnK5rMVweBatoskyMB/giURCI7todZzP5xV6I5GINpOgIYSFYJa5OR7AxzZDAPT4GV3JAO/5+fmhpWigCN9rvV5XQLQteGlXy3EAdLSqxUbAUjjnE/DJZv8jMot9tMWA5CLjJ+Z1saFw7oEj22iD9IJAICDT09OaREHXuGazKdVqVQKBgOzatUshmJbMTESs8o8yzyQnEolIqVTSSRCTGatMY8vA412pVPRc2yQNO9nI51fTC0iswMLB/UCXvEgkomo+nt/Dhw/LuXPn5PDhw9Lv93WCcvr0aTl48KCuBHDesV7YiRKFbcA49xn5xUtLS7KwsKDXj78PlGG7OkHhZbfbHWpwYttKY60hhYSJH0p9r9fT+w5vMZMIPNWtVkt8Pt+6f38a1eYC7wg3F3jdMa7jOSH3W+fE+duvusC7DjZrabCZqvn8apEUqm4sFtP0Btuy14IWS/IstQJq1kaAv5K83gMHDmiU2NzcnIb/o/pRUGZbG9uOX1YxtZmn09PT+hy2WxVwTcHX/Py8FmYB7KicHC9tae2SOMdnJwr8fNeuXeq3LJVKQ925Wq2WRqlZ9Rhws00wWKameA0VPRqNSrVa1SguLAl2ssJzo7iS25tOp9UHXSqV1AfMtY5EInqeO52OWiWsZQU7gT1ubAzsB8VvvLZtlGALrYBYjqvZbOo1pNkJ/u1UKiVTU1Oyb9++oc51rAgwoUJxnp+fl6efflpOnjwp6XRarrvuOnn/+98vn/vc56TZbMqJEye0XXOj0RjqYMbqBNeY18NygPILiHIfAfqsVhARVygUpNFo6GNRg60PHUUfKxApITYyj+i1drutyj73DoV43KNpt/HE824u8I5wc4HXHeM4nhN0/+cj4jzx4Or42lkF3wu9r6MY4wS8NExoNpvqx2w0Glq8hYKKmtjpdIZa0fp8vqF4JpZaUTfxHHY6HWm32zIzMyN+v39IReS5WHLn8eTfLi4uqvLYarVUeY9hJEEAACAASURBVAOkAJJ2u61L00C5LSAKhUJ6THgegbdQKCT1el0VbaCCojKAAsWU5hR2yRmQqdVqUi6Xh7qo4ZNFeSUCjePld1HrAGarenIc5MjOzs5q8gKPtZDF8wBZeINRuIFF4I6le5b98a/ynIBlJBLReC5r16D4y1ogrF8WewOAjm+YiYlNmMjn87J3716NKUulUrJnz56h4sB2u61KcSqVEp/PJ6dOnZInnnhCjhw5IpOTk3LDDTfIBz/4QXnb294ml19+uWzdulUefPBBOXjwoKqvs7Ozev6BfKC62WzqBIsJE8dE1Jv1YAP0QC8dAq0/mfvInh/843io8eVaRR21mQkR936pVJJwOCztdltyuZyb0vACmwu8I9xc4HXHuI3nVHa/8ag4jx8X57EHxDl3cnV8/a9c4H0Fb7w3UWDUbDZ1KRwlER8iBUTValUhx3aQInHBKn12iR3QmZubk8997nNyyy23SCAQkFqtJs1mUxUqWzHPBz2KKM9Nm2CUWKwRwJx9LKo03thUKqW5vhRXkW2KYkuHN6wYjUZD1W6W9fEZU7hlVVCUUIDSttEFVoEcgA81lfQEzi3nJxAIaKYuKh6Qa6PPrOJLZBe+WJsLDKQCiyiHRMiFQiGdqNhj47qvLWaz6jgrBcTc0ZnPFkCSJEGxIkoqqwJYIUjtIOUhGAxqCgOgSXRYqVSS/fv3y1e/+lXZv3+/pFIp2blzp2zfvl127twpl19+ubz73e8Wv98vx48fl263q/cBRZlW4Q0Gg1IsFvV+I/mBQjImMMAsk4Z8Pq/FZEz+rBcZWB8MBkP+dwvKg8FAJ0LBYFABl3NiV1vYX+6pUqkk09PT6/79aVSbC7wj3Fzgdcc4jee1MTx9WpxHj4nz1KlVhffcSXGePi0bNrzpgu/zKMa4AS9LsoBMq9XSwqV4PK5RYrZy3/5+NrvaIAI4Qu0DXGKxmHQ6HUkmk3L77bfL3r17JRgMSrlcVqAEEm3L11qtppABYADQtK5Np9PSarW0+p0UAxREFNCpqSkFMSClVqsNZQ5ns1lZXFzUqCtgORKJaLQVnl8g1mbB2vbCgA0wZEGRY7RL1Sij8XhcVUygDk8w/k6OD+AslUoKh51OR1MHbLEbx2fb3aJaojrW63X9GSCL5YBECGtRSCaTsri4KJVKRRYWFhQEgXELrQA9No+DBw8quHJO1mbUcv9wTNx3tt2w3++XRqMhKysr8sgjj0i325WJiQnZuXOn7NmzR9LptNxxxx3y+7//+/KJT3xCotGonDlzRnK5nDbrIDGEyRPnFfXX2l6mpqZ0gkHCA/5xC76zs7MSjUZlYmJCms2m3ruNRkPa7bbMz8/rPYLizTWyEykL0kA019t6te3fcDAYXPfvT6PaXOAd4eYCrzvGZSjgGo+uenafeFCch4+I88jRVdh99Jg4Xzt7wfd5VGOcgJdleKr4sQPQVAHgQ1UKh8Pqkc3lcnL48GGNiwJ2o9GoNo8ATBqNhiwsLAxBoE1HyGQyCnSDwUCBAjUV4AFO4vG4AgeFc/hSrZ8SZREbBkAJuLJUjFpIsRyARmcyG00GiJJiQLMB0hxINuB3gX8UV5Q+4tDwdwKXQD3HS1MCzi/Hw2MBeVR6lMJ6vT5kqwCiUCyxTWDbICIOr3UikdDj5/8ctwXQXq+n19Qu05PHOz8/L4FAQJMbaAGM1xfYtRm27GO5XFafqp1oAdOpVEoeeOABeeSRR6RUKsmmTZtk06ZNel23bdsm1113nWzdulUOHjwo586dk+PHjw8V4AH7TC4AaiYutvkIQE/CglX0KS6kcDGZTEooFJJWq6VFaXRDO3z4sMK/tS9wL/r9fp2s2WK1tfuBjajZbGrjjUKhsO7fn0a1ucA7ws0FXneMw1CP7tf/alXF/drZ1a+fObMKu189sWpn+Kv7xTl7WJwnHxpbdXfDxeMHvKlUSoukUJtQdCnyogiK+Czav87Pz2v7WdtCF0gGMlFHgWCC91ni53VZPkfZwkPM1wAwHcfoMIWXETCo1+tDIEtWa6FQEJ/Pp+AE3DQaDQVkQBx/Kb7IZDKp1gHio6yNgUgwu9QPxPX7ffWK8niizvAaY1+gaI/JBpX/vA5pEdgBbMMLABcgBSpJt+C8knoAAHM8tOHFPwysMclB/eb58Q0DbMAf57ZareokgoYTFFYxseIx+KbxLduJFf/Oz89LOBzWDOQjR47I008/LfPz8zIxMSFbtmyRO++8U3bt2iVbtmyRT3/607Jr1y45dOiQPPPMM/LYY48NxcjZdspMclCVmZRR2MZkEPWWLnH8jAkFxWSsDJDlTMMIm1DBeaGgkeuEYptMJiUSieh1JQfbtiO255xrvd7fn0a1ucA7ws0FXnes63HRJatg+/ARcY4uiHO4L87pldWvuwVxFqri3NdahdwnHhTnyYfG2srAGCfgTZ9vBMCHbTab1bzRfD4vU1NTz1qej8ViGs0FiAaDQfX90i2LArdsNquRVzRksBm7a5sErG0cAfDScIDnBIhoxAB4RaPRoWxgirHm5+cVchKJhPpUrW8YgGY/fT6fgi2KKjYKVFnr0cV6gQKHxxR4sU0EeEyhUFA/K0VatVpNZmZm9HHWCgFoMhmxEGvBh+51NuIM5bxSqUiz2ZRYLKa+WJ4bb7YtTrSvye9x/vHf2jxblF4LtbOzs+qXttfG+mOZmFA4V61WxefzDU0egPOTJ0/KI488ItVqVe666y7ZunWr3H333XL33XfLTTfdJJ/85Cdlx44dcuTIETl79qycOnVKer2eXkvAt9VqyczMjBb2od4Cu9hUBoOBKvTxeFzvY9uMJJ9fLY7kb4D7mvsxk8no9aC1NvvDvU1iBfe4vQ746fG0k+lsfcDZbHbdvz+NanOBd4SbC7zuWM/D+eZjq7D70EFxluriVOfEuTcmzu4d4mz9gjj7doqTi69C73nf7sWveeMF3+9Rj3ECXj58URepUgdwbJFOv98f8psCNIFAQILBoOahEuHUaDQUKvgXFY/l40QioWpsJpNRlRHVGCgCzlKplKpfwDD7SR4uEG09xrbgi0g1+zzWE0onrHg8rseCeom6CXi1223p9/uqSGJxAFTYh1gspukFvV5PlT8sGVbdK5VKsnfvXvW/Apeo3fg2ASkK8WxhHHDL92mgwGvZY85ms9Lv9yWbzWojBmDawjKqPiot+2wV5VarpfsItK4tZkQlp8it1+sNqZTWt8r3uMbcL6dPn5bHH39c+v2+3HXXXXL77bfL9PS03H333bJlyxbZuHGj7NmzR86cOSPf+9735NixY5qYAMwSx8Z9jDXG/g0woQoEAmpp4VqTRYziysTH5uva50GlxVZjJ3uo6HZyMTU1NVSc5vV6NTuaexJPN+cHy896f38a1eYC7wg3F3jdsV6H861zq9aFs4dXVd1OXpxmVpwdW8S5+k/E2fR5ce66XZy9d67+7Mz/kNd63iAbLrrkgu/7qMc4AS9L9yhxWA2mp6dVsQT2UOfwO/LhjSrKhzWPBSjz+bzs379fms2mhukTxG+L5uLxuAKr7ZQFJNNVDSCz+akMIqRoAUtnK5Z62U9bfEdsGl+zrE96AAVnKKzEl+F7xncL4KDIBYNB3WcaeXAO8dAS95bNZtXmADQBzByT1+vV82EzjoExAIqvbctf1G0irFCUAS6v16spHJ1OR7xer3S7Xd1fwDcUCg21283n8xo5x0SA64d/GksGAG2vyVp1dHZ2VgaDwRCAWxW8Xq/Lww8/LOfOnZN8Pi9f/OIXZWJiQsLhsNx9992yefNmueGGGySdTsvKyoo8/fTTcv/99+ukigkSEMo9blc6mGDQ6YzWv8At0M15YCUCaEctt1FlqLUUN/L3Q/Emr8u9wfWlgJGEi2g0qg1drPpvbRhua+Hn31zgHeHmAq871uPQorRvPrYKvPcPVu0LcyFxNm8UZ9Ofi3PbTeLsukOcHZvFqablxzw/86qA3Q0Xjxfw0vQAtSqbXU1cSCaT2snKqlQAH6H9FNwAecCC/cBPpVKyvLwsjUZDi5KAZKvmseSLamiVUbJkUbConh8MBhKPx3XZmaVxfKMUm5EyYJMLUMfq9br6TbERHD58WO677z5Ni0BN5XwQucXytoUoVGT8nCjZAA/Fa6iiRE61Wi09JxZoLQzaoj2OBY80lgu6fKE04gOtVCoSCoVkcnJSvZ+5XE79xlwvmwnMa+AzZemc6xMKhWRlZUXa7baCIc1CbOYu14Oc2bWtkzkPfM8+Bp93sViUc+fOyZNPPimZTEZuv/12+eIXvyi7d++WL3/5y7Jx40a5/vrrJRwOy8mTJ+U73/mOPPjgg3pteK2lpSVV/PFGczzlclknRs1mU4vf7LXnX/4eiPIjAYR9jUQi2j2NiVMkEtHJHOoxgAwcs3qAMk+cnm3MwiSEvxcUde699f7+NKpt7IH30UcflWuuuUbe+c53ym/91m/J5s2b5Tvf+Y6IiJw6dUo++tGPyqWXXirvfe97pVwuDz22Xq/LFVdcIW9961vlIx/5iDz44IMv6bVd4HXHehvPihz7+l+Jc/I+cQZlceoZcfZ+WZxtN4uze7s427fIb3s88jOei8fet2vHywm8F+r9ifeme++9V6v77RKyzXldWFgY8iGyNJ/L5bSlbqFQUG8mnkuSG1jip/iLJWHgATjitYkcs1FeQDGJBxaQULlYPqd1McVipADwOxbi7VK63+9X7/HS0pIqlcASVfNAUjAY1H0DVlDnbPW8Bfh4PC6VSkXC4bA29+C8drtdPa9ArrVmpNNpBR9iqcjwBdhRde31ZLkceKzVatpMwnqTgTfyh2OxmLRaLfWOcp64Vni2Kbqz5wCbC8v18/Pz6h/m9WwkG4+1Xc7wsQaDQSkUCvLoo4/KuXPnpNfryY4dO+Tmm2+WiYkJ2bx5s9xyyy2yceNGyWazcvr0afnOd74jrVZLCzK5JwqFgvR6PW3SAHhyfjjX3OOo+LlcbmjCRLrF3NycTE1NKaRyr/A1fy98zetQGGmfk/uR+DcKRPk+7b1Z7SA1w3bwm52dlUAg4ALv82xjDbz/9E//JJdffrn4fD7553/+Z/nud78rn/nMZ+T666+X733ve/Lrv/7rcu+998q//Mu/yP333y+XXXaZnD59WkREjh49KpdddpmcOHFCHMeRdDot73rXu+Qf//EfX/Tru8DrjvU2njNr928eX/XontgvTm1OnJhXnHsm5W0ej7ze45ENnl+44Pv9wxwvF/BeyPcn3puoNOfD0maoApNADrCFWkl1P5CKxxbgY0kbNZMPfJtNW6lUVMlLpVLqBUbVq9frCpH4P61SiO3AFq2tLbJbC1X4ZHfv3q1pDzQgsBm1NLfga8AZCE6lUrqMbGGa9r/4eNkPq8xS8BcOh9Vri/IJIHEerQeZ5e1Wq6X7xs+5BtbOYLOQOX+dTkcBNR6Pq/pLKgXX3ir8tVpNlpeXh9RYcnWZ7AC/LN8Df/zcKu/WfmKTGrhXOMdck1arJV//+tfl4MGDMjk5KZ///OdlYmJC7r77brnxxhtl586dcv/998u3v/1teeaZZ+TkyZOSyWRkZmZGfD6fVKtV6Xa70ul01NYQi8V0EkOnMywFtJfO5XKytLQkCwsLQ/dhKBTSCQfft5Mg7mWuIQ1IrPWEbn3WksNzYpMgBo7rEo/HpVwua8c/7nVWTJLJpAu8L7CNNfA++eSTct1118m//uu/6veWlpbkbW97m5TLZXnf+9439Pvbt2+XLVu2iIjIpk2b5Pbbbx/6+ZVXXinVavVFv74LvO5YT+M5YdeObz62Cr6nDsnrPRfJT3h+8lUHuxsufvmA90K+P/HeBNAQfWTbv1YqFfH5fBoDxhK3Ld4CclBsre80m81qdzI8lFZBs92t6vW6wgdKrQVvQBH1j+engMdGPVFsxjIyr9PpdKTVakmhUNDnJ3kAKKWq3hYP4SUNh8OqqKIMWsjGCoAiigJoFVLbmS0YDA6lGhAzxnN3Oh3dDyYKdILjdXgu1GIsI7bAEEXZxrGhfOLJZXLCZMBey3x+NTHDNsxgwsEkggmKVU5tm2c74UB1DgQCCuMo2vae4L4qlUpy/PhxWVlZkcnJSfnsZz8rt956q+zcuVP+8A//UKampuThhx+Wb37zm3Ls2DFZXFx8ltLNhKvVakmj0dDIOruqYScKdsLHZKhUKukEEevC3NycHDhwQP8mbGMQ0hQSiYR0u119LfKXec1CoSDtdnvIGoR/mFxgbDXc77wW53dpaWkoA9gF3ufexhp4n2vbvHmz/Nmf/ZncddddsnHjxqGfZTIZ+dCHPiQiIldddZVkMpmhn2/cuFG+8pWvvOjXcoHXHetl/C9h9/zYcPEvrtoXXoWgyxilh/eH9f7EexMV/YlEQgEEJQ5gJH8W1RaYs9XmhUJBFhcXh5o1sPSK6gnIWNV1rV2B7wFz9XpdisWidLtdabfbQ37WVqul1gV+j2YQQAuWC6wTeH+ttxVwXtsaF4URdRXAs61tUVGxbqCMkgDAz5eXlyWZTEqv19Of2+IlwJTiKdoeo7wDtkw8arWatNttBSXOK+ecxiHtdltTFZjY2Ag4UhWAYHuugDqaUtAJDmWSe4WiL1RJzgPKM5nB5NlGIhFtcGGB0+fz6fkA3Or1uhw+fFjOnj0rkUhENm/eLHfeeafs2LFDbrrpJtmxY4d87Wtfk69//evS7XaHGjlwr1Boxn1KV0Abj8bgvGB/YFJHVBjRZXi18c6SQoI/naJMCgGt95fzjp3BNg/hvFibCisZJJjQbhj1l0lqvV7Xa+MC73Nvrxrg/fd//3eZnp6Wd7zjHfLYY4/JbbfdJps3bx76nXK5LFdccYWIiFxxxRVSqVSGfn7rrbfKbbfd9qJf0wVed6yH8ZJg1x0jAd4f9vsT701TU1MKA5VKRRXMVCqlH7oUsFEUA1RZgM3lcgqkNhSfD3eUL9rEdjodLX5DMWW5mf97vV5VB2nYYL+2S+d88JMJyz7aTm4su6O6AnoW6jKZjLRaLe2MBvgSQWYhnecAdu3rWusCAEf0Wza7WqnPa6AUr00QsEqi3X8UVyYEFD4BdoFAQKHctgvmumAl4bWAOmsv4HXt/tAoA/C36rtNOMCLa73TwDspETQi6XQ6+jO8w7OzswrX+/fvl3PnzsmBAwd0VeOOO+6QTZs2yR133KFWhwMHDijQcx8DvIAsxYWAbCwWUxU+k8moIo3tY2VlRYsb8SYD+Hi58/nVPF38zDyXberBcwLHXC8mBijsgC/2BO6nYrGoEMxkkPObz69G/nH/8HfnAu9zb68K4P2Hf/gH2bhxo7z3ve+Vxx57TEREJiYm5MYbbxz6vUwmI1dddZWIiHzwgx+UbDY79PONGzfKXXfd9ZJe1wVed7zShwu8L2283MB7Id6fbA4vUIvXEkWWuDIUJT5M8Yla1Qt/LlFKWAaA5Gg0qmor4GWVTQCR+CpeC0ipVqsKTywfAxx2eZfnx04Rj8dlaWlpCCBYFub18NCialtFFxBk0FqZ42X/SIEA1kOhkMaHWY80sGqXtKvVqi6xo54nk0ldxvb7/WoZAX5Z7rZghQeV2DfsD8AY584qr7lcTgKBgEQiEQUyq0iWSiVt1sBEAbW3UqnIysqKnkcsIAD83NycPhegSdEh8GgTNKzSyzk7ffq0HD16VCYmJuSGG26Q66+/Xq6++mq58cYbpdPpyBNPPCGLi4t63AAisMt+4cu2MWhWCQfq8Zx3u13p9XrPKvjjeTkme38wceTaptNpfX1rj2GigO2G68A1sEV0FDVmMhn18fJ4/uUa0YUwGo26wPs829gD79e+9jV53/veJ9dcc41WP4uIlEolufLKK4d+d/v27XLrrbeKiMhf/MVfyPbt24d+fuWVVz6rUvqFNhd43bEexlAqw9887sLu/2K8nMB7od6fLPACYsRntVotbb5gLQaVSmXIBkA73n6/r4H41g9JFT7PXygUpFqtitfrVSDmdYFs+1giySKRiIKzBZB2u61FQ61WS+EDhRFFrNfr6b6hUjabTc2DRdGmSAigQ50ul8v6nIA/KinKKkol6hyqL5CKIk7MGROMubk57eYFOFp4Q4UEpMj/tcCNoszyN2CLQkvxHMpmOp3W9s88t1Vnm82mLC4uKohSjJjP5zVmDb+1tSSgkqKI8ry24xoKMtcwlUpJr9dTFTaVSilMLy4uypkzZySVSsm1114rH/7wh+VjH/uYfOpTn5JoNCoPP/ywPPPMMzopoLiO+4hrxwSmVCpJu91WILdRau12W7vr8XPAtV6v6/1gi/OsBSKfXy1kC4fDOjHg+Pld1H6ixLLZrCwsLKiPPBAIaFGfnXCwH41GQ7Oc+Z1cLifdbndoBcUF3uffxhp4v/e978l73vMe2bp1q/zbv/3b0M+++93vyjve8Q5Jp9PiOI4cOXJELrvsMjly5IiIiFZFHzlyRKug3/nOd8rf/d3fvejXd4HXHethON86J85fPyzO48fFefTYaovgNeB7offxlTReLuC9kO9PFngBFBSrtS1kk8mkLvmzFF4ul2V6elozSIvFov4flRRotV3IgA+7jE/kGYVwKFlANJXvBO8DnqitLINbNQ3rQ7VaVfXQJioAKnNzc5q7CoTG43HpdrsKkOyPLTBDieR47OsAhsAnSRModp1ORyvvbQ4tXmXgiegpnpMCLo6NQj0mKnZJm+Vu4M+qykwMgHaAPpFIDLVFRonl/6ii2Bjw2XIO8T+jyOOnxSdOEwdyj7G2cPx0FgMWG42GHDx4UObm5uSqq66St7/97fJ7v/d7snPnTnn88cfl8ccfl0OHDqn6XalU1Ott7TQo+HQMLJfLGllmzxFqKkp+KBTS5+ZacK44HorTuJdsQw/b1Y5Uhmx2tdPeWssDfwdMrOg2yPm03nn+jmip3Ww2NRM7m83K1NSUC7zPs4018NJx5K1vfatceumlQ0NE5MyZM/Inf/Inctlll8nv/u7vSq1WG3p8s9mU97///XLppZfKRz/6UTl16tRLen0XeN2xHobzzcdWYfexB8R54sFV6H3qlAu7zzNeLuC9kO9PvDcBm8lkcghg+NDlwzufzyt4Al0UfrE0TAwTyi9pCl6vV3w+nyYCALxAHB/6AGy5XFYPp1Ugef5Wq6UJAyhiLGMDqXRtQ0XkeAAbYqnIo22321rQZZXWZDKpVgWUU54TbzNqHQ0gUqmU+Hw+VYOXlpaGsnh5Hp67VCrpuQUmrXUBEMLqgDKcSqUU6FDdAVR7jgEl8nfxY2cyGen1ejoxsM1D8GQDxtwj1o4SCAT0fJAwAKgCujbJAuAlzYJIs3x+tTsf+29V2aWlJTlx4oR4vV659dZbZdeuXXL06FH57ne/Kw888MBQbB7ntVqtSqPRUAWfVYRGo6FFjpwbcomZDKCIR6NRtXqUy2WFfXvvd7tdCQQCqiSvbY/MxAefN5MzVkSAYJsKQkxdNpsVr9c7dL+gEvP8TErXdrC79957XeB9nm2sgfdCbz9s4HUBxR0veVx0ifyI5+dXYfepU6vjiQfF+eoJcf7m8Qu/f6/AMU6d1mzbU5b0ARjg18IY0U60sC0WizIzM6OKJtXrtVpNlUdgOp1Oi8/nUwUQOLAQgRpqi70Gg4Eu89soLHyh9rnC4bAu3adSKQmHw6oKW/CiaMn6L3lu9gcYmp+fl3w+rxCM9xJIsa+LD5cWsPPz8/r9Wq02FHdmFVmixfg/RVa8DvBrY9NQYwFtOxmJxWISCoWk1Wqp1YLIMlRIC9hYFSzYF4tFjXHDMgF0kVQAPPt8viEvL0DJMTUaDUmn06o8k12Lqsp5IW2Dbm1A79mzZ+XEiRNy9uxZefLJJ+W+++5T8GPCwrkDCtkXJgwooNaPzqoB1wOVm2s2OzurcX0ox9wrFkTxz6LY00QE1Z9zC5Qmk0mFbPKOge1ms6kTml6vp6kc4XBYjxmLSCwW00kF++GmNDz/5gLvCLcfBvA6335CnP/5iDjPnBHnG4+uLk270OuOlzAu3vAm+UnPzw0pvD/mecMF369X6hgn4EUZBGZRrPAGsuxOhypg0/pzy+WyQgPwZoGBzmX9fl/279+vCizd1AAbPrCBXQqKut2ufh81i45ltoAnmUxq4wpUwmx2tRkA3lcA0fo5Ud9sAwT2iWO1CQUAOd9DYbWQjs0DuAX+SI4glxh4QmVMJBJSKBQkFAqJz+cbyoVlosA1sKq7BUgK0Xhu9pFCMiY5+Jfj8fgQAAOetMFlSR94xX+NJQH4CwaDz0roAHKJJsODjV8XywCvgZrKfYnSv7CwIMeOHZOHHnpIVlZWpFAoSCAQ0GPq9/sKo0wQOBZAEx9ur9fT60yuLteN+xEApbVvOBxWmMznV+0xRPLhty0UCrqKgC2DSQlQCyQDukxUUH1nZ2eHnrfT6Sg8M5HgnmafsTjwNxCJRNb9+9OoNhd4R7iNGnidr54Q59BfijMXEmffneLc/SVxpnaK8z964vz1wxccDNyxTsZFl8jFnp+Xn/T8nPy05+fkxzyvlw2veeOF369X6Bg34AXG8DgCfjaxoFwuDy39opbxAVyr1fS58vm8LC8vy4EDB6Tf70symZSpqSnJZDJy/Pjxoep3VFXa4vr9/qFsVAvXLKtjNaC4DgBk6ZiOZTwvqhvQQBEbsIVfkv1HjcbHil+TJWoAtl6vy2AwUHgslUri9XoVkNkvipg4JiYUyWRSzyPFefl8fuhccn5RrfGiooqGQiFpt9sKlAzbPc0eP80TUqmUNgWhWKrdbku/31eV2qqhVrm1XuxEIqGte1GYUUI5x7lcTtLn2yJz7vCEc2zcf/hceX1beGcTEEgGsWo01zKVSmnWMfCNJYFrReMLHh8MBmV2dlYtMrRC5vXtMXLNuCfs6gjFh/b+pRDPKsiBQEBtK2RKkwBBDjN2G46Hn4CIZAAAIABJREFU60eyg43Mo+kE9pD1/v40qs0F3hFuIwNez0+LU50VZ/tmcb7wGXFu/Zw4V/4/4rz2NeL8zI+J8+7fECfukw2en7/gcOCOdTQuusQF3Rcxxgl4ARKWkWnrClCR9wlQAE8AMeqh3++XUCgk+fxqegLQNTU1JZOTk3LttdfKli1bJJvNysrKikIdKiKQhQfXFmvR/AHgtQVhZPJGo1GFxEgkogH8KJjYAGxHNev9ZJneZq3ajmYAqlWxbdwXYI1Vwj43SisWBZatLcDhiQUOUcxRbvmaRhNrldZut6vAZOOvKJiyiicqJrYJVEQ8tbZgEd9qIBBQvzdpHWTzAsNp0zbaDmwLHGelUnlWNB33EzAHlPp8vqHVAyYgeLgBXAojOV5el4ka9yyeaH6On7vdbqvdIhwOD/lqo9Go/i3wOpwHWv0CrPwe9wKwzb1kPeTcz/Y8APPsr71uZFwzCRwMBkO2CtR7agPW8/vTqDYXeEe4vezAu+FN8lrPxeLc/Blx3v4Wcd7yX8R516Xi/PpbxfF4hsd7flN+yvOjFxwO3OGOcRvjBLwoUul0Wpd9ARgLCzaiiVgk+0HOBy02Ab/frwVdBw8elG3btsmVV14pfr9f7r///iEllQp0YJOCJ6BtenpaP/j9fr++9tqlcxQ8a9EAbm1BmgU/oCQajeoSvW2tjEpqIZznpRAPmwVKHuCP5xUow/dqQZCoNWwIqKe0WqYFM/aQTCYj9XpdvF6vxpFZ+Ce9gWIuQD0UCimgUyhlzwP/j0Qi0ul01DOMiolv2T4nNoa5uTnNAAbUbLMLmyDB8QPhQBpqsI2Py2QyCsI8L+fVFuex31ZxtVYSFGXSPKxvmIkev4MdgWvHakG73Vb453nZV1Rz7BgUM9pJCufCrlZw7vHg2g51nDNsEvV6XYLB4NDqS61WU3825yaXy7lFay+wucA7wu1lBd6LLpEf87xOnK/cJs5/+xVx3vYWcX7rHeK88XXPhl2PR5z/4xflDR6Pq/K6wx0v8xgn4CVtACDEV2tVsFAoJIFAQMLh8FAlf6FQkGAwKKlUSpMZAoGATE5OytTUlMzNzcmBAwfk2LFjsnnzZtm6datEo1FZXFxUiLStaPmwZ+nXqpX2dQEJnsOCcjqdlnq9rpaJbDar3lPUOSKjgF8bxwU0BYNBVXSxK/DaPBZl0aq8FqhRlImVws7QbDYlfb5NcDgc1ja0+GEBMawUKIKhUGgIzoBpII0ua3iD8TlzHbvdru4HfmLOOSBbKpVUgcZKAEixpM5kBEWYa7Y2Ks3mOJM8gTLOfjPZIhuZ5Xx7DgA6oujs5AXfuQVbJgEcD9m4nU5H7yNb3MdjA4GAqusU9+GjTSQS4vP5ZDAYSL1el2azqSAbjUalXq9roxMb38a5YaLBcVPASItg/NlYc+wkhokCSRrp8/F03Hf44bmn0un0un9/GtXmAu8It5cTeJ2/flicv8yLc92fivPOS8X5nd8Q562/9mzQ/ZHXrP77S2+U13k8q8vUrwBIuFDD+da51aK+cydf9efCHS/PGCfgBYxIZUB9wlNrc0EBg2azqf5DIO7o0aNSqVQ0goxmDECi1+uVcrksy8vL0mw2tV0qap/f71ergl0atxFbeF1R6NgnXgeIsfaMVCqlTSHWApFVmS3Q2QYTU1NTCvcshwPg9XpdPZ+0DEbNRVWmsYH10KJE470lPo0CKUAZMLQ5spxPkhYANBTZRCKhHloSNrxe75AP2Z57ALrVakkikZBQKKQTkFKpJI1GQ7uvUYDGYwqFwpCyaqO5gDfUe+vJzeVy4vf7JZPJaA4v91P6fGc/cogB7kAgMKS85vN5PQYaQdBaGcjHN8t1556x+4HqTpezQqEgd95555DPmeMjFq7X6+l+Aex2ggjkci6ZoFUqFWk2mxqdZidG+HhRgLG8kPxgkyyYRFmF3K4auJaG599c4B3h9rIA70WXyMWe14mzWBMn4RPn038qzm+/U5z/8n89t7J7flzm8cjFntdfcDi4YOOiS1YjtooJcb50izh/cKU4E18U5+EjLvi64wca4wS88XhcBx/aLBmT21qtViUWi+mydT6f16IwOmKl02nxer1aRIa3c3p6Wvbt2ycPPPCAPPXUU0NtagEhPqgbjYYmPlCxz76gNBNDhnoJDFAcZqvmKfzp9XrS6XSGmh6g+tlMWqATMAWKLLwDerYdciaTkenpabWCACA0kSANAYtCPp+XlZUVOXLkiBw+fFgOHDggJ0+elJWVFVlcXFTQA7Lz+fxQa2aU6Gq1qtYFip+AeAAN9Y99xicLiDLhqFarEgqF1KIAgLZarSEl0irjNq4OoLU2E6wYiURCrzv7y++VSiWZn5+XWq0m7XZbwRYFHUUdELTXgHvTtlVOp9Oyb98+zYfmdSzgo5pa5Zl9QXEnZYNzwfXHSoPnl/NF3B2JDkA4KjGgS9KItQrRihtQp4EH0X+pVEqCwaBOrui2xt8Z9y6rJX6/f92/P41qc4F3hNsPDLwXXbKaxJC+RxzvV8SZnhDnL24Q56r3Pyfk5j0e+bzC7mtfvWC34U3iHJkX5y3PMSn48Q3iDMqyYcObLvx+umNdjnECXpo9EOfEh2ilUtHsUDyGtsq/XC7L4cOHpVAoyN69e/UDGJ9iJBKR3bt3S/p8ZzGgdi1kATYsS1sliygyuwydy+UkEolodBMAV6lUJBqN6nI0bXOtN5MoLGwSQDVNGZrNpvh8PvH7/UPFT/V6Xfr9vraexdc5Pz8vuVxOVUpirVCQgXiK+LBbnD59Wv72b/9Wbr31Vnn3u98tH/nIR2Tv3r3y5JNPygMPPDB0vlB0Ud5R3clIxsoAEOK75pyRasHzcE58Pp/6gW0TEJ4vmUxqsSIZs5VKRcLhsJ4zlHZAH/COxWJqB2GygA0BtRr/MS2rmZSg4jcaDb3GKL8ouFgz+v2+VKtVCYfDQxnFFKMxKeA+63a7UiqVdCJCVrFteAK4szKAfaBWq6mKzqTIFt8B84uLiwrX2exqEw5WDZiMAcixWEwnFLyuHWsnhSSJ8Jq2CNJ20XNzeJ9/c4F3hNsPCrzOuZOrkPvZP1tVKb+yTZyJreJ89k9X0xg8HnF+4XXi/NIl4ng8st3jkZ/1eGTDqzlD9aJLxMkEX1D9dt76Znmt56cv/L66Y12OcQJeQApFlg97lohR01hezWazCielUkl2794tfr9fksmkVtBPT08rkA0GA2k2m2p1wPPI8j1q5MzMzJBCixJGsH6n09EYLgux2WxWG1xgQ7CAQQEdkM1jgWcUbQrs5ubmZGpqSoHDLvvTxAK4mZub0yV/mjSs7SDXaDSk2+1q+sGJEyfk0UcflU6nIx/4wAfkiiuukDe/+c1y1VVXyf79++XMmTPq70QpXrsflUplCErz+fyzCuU4ZqwdxI2xFI5qTpEVnl5UR6wfsVhMms2m1Ot1iUajmluLNYDEB5T3XC4nMzMzet8AiRwDim86nZZwOCxer3eoII3v7927V8GdIjlgj+uHxYG8YorJ8IYD29aiYTu/WcXWKtMAfCwWU394u90eioSzyipgipWGbmm0WyZlo1wuq+WA17XHgjcaVZ+4Nlt8idrO3yn7zt8rFov1/v40qs0F3hFuPwjwOl//K3EiU+J84g/F+dOPiHP1R8XZdL04n//v4vzF9eL87u+I84uvF+fHLxLn9T8lEY9HfsPjedUrl85i7YVh9/x4o3uu3PF9jnECXgCBbmR8OAOLhPZTxBWNRmUwGEg6nZa77rpL9u3bpx298Gb6/X7JZrOyf/9+rfjHXgA4osJR6W6bJtDQguYXQDHgAtiiduJDJoKs2WxKIBDQtAKOEe8wy+pUvwMJKIicC1rj8lp2SR6fLyozMVrWT4n9gIKl5eVlOX78uPT7fdm2bZts3LhRPv7xj8u73vUu+eQnPym1Wk2efvppWVxcHPKgMjEgtowJCJm3WB+A3UwmowV8QJf1mgLTKMOoi4AiqilJC0BxKpXSznE8P15d1F4SLwBMLClYTuLxuNoALMhZjyyeViCU62jbBwP6RNJhTYjH4+Lz+fT+sd3lsBoAm1ahBdh5PdRtmkbYyQQFhnNzc9qhjhUBrBY2CcN6fLPZ1dxjzi1pEwCvtYIwkeBxfM1+4ju232NSs97fn0a1ucA7wu37BV7nW+dWG0pMbBXnlhvEue4T4nz8I+L8zjvF+YMPiRPet5q/+57fFue//ors8njkTzwe2eDxXHAYuJDDeebMi4Jdx+OR/83jkQ2vZo+zO77vMW7AOxgMJBAISLlc1g9QlshRUZPJpHQ6HWk2m7rcPDk5qdCEmrhr1y5pNpty6NAhWVhYkGQyqf5WoqharZYEg0FVGlE0KcDCD2mX7UkvsF7RfD6vBWk215Slbau2Ajprnw+LAr5gio5sQgFqL80uWGYmq5eMWs4VMMk+7t+/X1ZWVuTo0aNSq9VkenpaJiYmJBAIyHXXXSfve9/7JBwOy+OPPy4rKysyGAy0EI2iJatcoghaqLKNMWzxGMVPqIFAFEkKHB+KMfFY7XZb1U2ycfP51eKxUCik5wAV3u4jymupVFKPtL2XuPY0/GCig08Y3yw+8WKxKMvLy6quApzWFmO9vdaaw6QBxdr+LgO7AhMc7ncUYeCWa2yzmG1iiFWYUYUB5LWNPFKp1LPuZa6FndRkMhlpt9vS6/XU0oCFwd6/3CsozOv9/WlUmwu8I9xeMvB63iDOkw+J88hRcTp5cXx3i7P1JnE+8wlx3viz4rz+p8X5ww+I49slTtIvzm03yYc8HnmzxyMbXuWZu843HhXnU3/womD3Vqwfr4D9dsf6G+MEvIAKgJtOp1UVpeofHycAS1avhYTdu3fLnj17JJ/Py9mzZzUpwEZC2QgrfmaXZO3yMh/+NgcWn2IoFJJGoyGNRkPVTeAUJTKTyWir22azqZYHioV8Pt8QoKFsYz0ANlCCaY9LwRJxZbZxgFXharWaFoc9+OCD8tBDD0mr1ZI9e/bItm3bZGZmRqampuTqq6+WL3/5y/LUU0/JM888I8vLy2olsACEnYPnt0vjeJH5fTzZ/KzRaOj1snFWnM+1y+N4WQFjmnJwfuPxuLRaLX3sWvWTrFjuG2snsYo7/wdGOTauOZaGRqOhUW6zs7NqbeAa2eV+7uVUKqVWDDtRYqKCOoqdA+U/Ho9rMZpNj0BBxobAvtP2F/WdxwD9TFhsQwqbXIFlAesGkzOuZbVa1ePi3FKsab3o5DZXKhUpl8vr/v1pVJsLvCPcXjTwen5enIcOilPPiJOLiTMoi9MviRObEefPPyXORedh7UdfI86v/SdxvvBpecv5ZfnXuuC2eq5epLLreDzyTo9HNnh+7oLvtzvW5xgn4I1Go1qExNK51+sVr9cr6XRaWq2WHDlyRCqVigQCAUkkEprEgNJ2xx13yK5du6RSqcixY8e0kUIsFlMFjE5jiURCarXaUFC/7bRmmxUAFcAXPlWv16vqJbAMMACvwBxeymw2q1FYqIK2wQWV8zZzF6C1hUaAx9zc3FC3NHKIUfFY/j9x4oQ89thj0mg0ZM+ePfKFL3xBJicnJRaLybZt22Tnzp1y7tw5ERE5fvy4qqgAbL1eH0o5AO64BniKyeilCMw2lqDKn6I0oI/CM9tUwwJqqVTSbOB8/j8aLdjldNvOmWPn9VGhSQBhGZ+oLiYYHCdpC1ybWCw21JEtHA6rfcQ2tMDOYtVVW0zIZCh9PoM5mUyK3+/XCRf3CMeUy+V0csPxYguxEwjSN5jcAax8zbUEgol54z7FBsOKBt7p58qcrtfr0ul0pNFo6N8L1iCsICjcs7Oz6/79aVSbC7wj3F4M8DrfOifOqUPi5OPizIbESQVW/12orqq87/6NVVD7z78szq/8n+L8518S5wP/r1zi8chrPW94dftQPa8T5/K3vCTY/XOPRy72bLjw++6OdTvGCXj37t2rMFCv19UT2ev1pNvtSrPZlPn5eYlEIrJv3z71qdK6N51Oa5HXgw8+KL1eT6anpxVO7YcwXluWjCnqIt4KFbjZbKr6hYqVTCaHuq+xdMuSOsoxgEJnMKLNWP5FySyXy9r4od/vq1KMqgZ44TUmc9cqrBwfAN3r9SSfXy166nQ6curUKTl+/LjMzs7KzTffLNdcc43cfPPNMjExIV/84hdlx44dcvjwYfn7v/97OX78uKrS4XBYjz+fz2smLCopqrNNNACGY7GYWgzoyJXJZPQ5OXarqNLNDcjHjoCaynI59wegjD0C6O90OqpeAu1rC+2sHxbVORaLKShyXrEZ2MQC8oNtERxpCkyqksmkKsz4wuPxuLTbbW0UgRfdrh5wbqznluNc651lhYJjYXJAoSUTD1R5m0bBRMMWvXFN+ZooMqwrrVZrKFMaRZ9VABRljrlWq63796dRbS7wjnB7QeC96JLVZhIPLIkTnRbnnt3iFNPiZMKryu7cPeJkI+K8/72rjSZ++zfEed97xPnlS+TjHo9s8Fx8wT/4L+h4CZDLKHs88lNuMw53/IBjnIB3ampqSB1DqTxy5IisrKzI3Nyc3HHHHXL77bcrxPD7QOfCwoIsLy/LYDCQbDYr+/btU3UV8GVpORgMqsJlc3ABThRVlqwBjWKxqM+FdYCle56r2+0qPNmMVmwa7Xb7Wb5kgMbCFR7Y9PlYMcAHv7EtXotGo1pAxb41Gg05efKknD17VjKZjExMTMgf//Efy+233y47d+6UTZs2yac+9SlpNpvyjW98Q86ePSuzs7MSCARUEaRNMIkCs7OzOskghg2wRREE7AFCznmtVpNut6uwBUgDmJlMRhVifLvAL3YRFEqOle9zHWiHjG8VNZmfx2IxVTctNKLIA/a2SAxV1Sqm2WxWC+fwHXPOrcJrj9PGeNVqNY1Y4x5mVQGbgD03jUZDLTkANpCPsguQMlFgAoGyDYhbu4ZNb+B7HCueYGuXAYRprMGEg0Yl+Xxe+v2+TvbW+/vTqDYXeEe4vRDwOk+dEqeaFmfbF8S5/pPi3HC1OLu3r8aQXfNH4tz0WXGCe1eL1X7r7eL8378pe8/7T//3V7mNwXnyoe8Ldq/1eGSD5xcu+P67Y32PcQJewAPA6/f7cvz4cTlz5oyUy2UJhUJaKBMMBiUSiUggEJB9+/ZJPp+XxcVFWVlZ0SVglr0B0F6vp53ZgFgSBYAmlCz74d7v9/Vrlu9R5liCTyQSuixNd6pOpyPxeFwajYa0Wi1V/Kx6ZxtVWBjCr4liBvTkcjnp9XpqqwBMbEMCKu/b7bacOHFC9u/fL16vV+68805VdX0+n2zatEluvPFG2bFjh5w8eVJOnz4tnU5HlWzro63VagqYthWuz+dT6KWIi8fTgAEbiPXqcq5pY0tDEeLkuE72+AqFgjbrAN7sxAN7CtYF4BXVs1ar6TnnGnPPWa8vKwEUEFKgFQqFpN1uD/lnbVwdNgygn9ewPwegWTng2KrVqnS7XZmdnZWFhQW1wsTjcT0nKOH4bwFioJeVAr/fP6QS21bUQLot7LOrBFgd2H/2j+uKfQPF2t7PtVpNOp2OrmhEo1EJBALr/v1pVJsLvCPcnhd4N7xJnL8siHPtx8T52EfE+dDvifM77xLnA7+7GkH26U+IM32XOME9qxB89R/J5z0eucbjkV/2eGSD56cu+If+hRpOcub7gt2om2LhjpdpjBPwxuNx7bCForSysiK5XE4mJyc1Yozl8y996UsSCASk1WrJwYMH5b777lNlyRYR2Q9+/LF8QAOOLMMSvm+BD1C1TQ0AN5agAQ6Kg7rdroI0y/jYBEiBoAjPqmR2aZtCJnJn6/W6FmhRsEcxHEoz+724uChHjx6Vbrcrk5OTsnv3btm0aZNs375dQqGQBAIB+cxnPiPT09Ny/Phx+eY3vykLCwsSCATUL03UGPDDvrEkji0kEAiIz+dTKKtWq5qgQYEZ5whVEHXbQjBL8VZFROWlAJDzmz7fWth6bjl+1FtUz3Q6LYFAQPcfz3YoFJJ0Oq0QS/6xhT/rKeY4isWitjLm9+zkBejF/8t9wwSMn6FK85zk1wLnROJZpdeq3XyNUsyki/3g9+0kMhqNSrPZ1AlDPB7Xvyu7OsC9yWSPY6lWqzrp4/n5eyFBwyrHhUJh3b8/jWpzgXeE2/MBr/PUKXH2bBfnw/+fOJf+2n/A2QaPOO+9XJzdO8RJB8WZC8ulHo+8yeORH/V45GLPj796l+Nf88ZVT/P3AbtfcWHXHS/jGCfgxctIlNfhw4clm83Kxo0bZdu2bdJsNiUej8vevXtlYmJCwuGwdDodLaAhmgpgjEQiuqRO5XosFpN2u63QQBIC/kNUW+CVZWPrk6WgjOIrq9QBFuQJoy6yVI3qZVVkiqri8bhCAr5K+7qolbOzswoWtjUs5+PQoUNy+PBhaTabMjExIVu3bpWJiQmZmJiQqakpueOOO2T79u0yMzMjx44dExGRo0ePKoRZyALOqLwH8lAgI5GIthXGBoJCWCwW1QqxVlkEsDiPXHdUTK4JEwoSBgBloHltlzXOF9fYQuHaSYxt64zlAAtAKpUaUnP7/b7aYPg9Xov7CLsBKwhYOShktDaC2dlZ9cCS2mFTEvBJ4xWnSM4qx3ZwbLwuxWV0YgsGg3ovWo8196YF2kqlomkUeKbxRdNWGstKrVaTXq+n559r2e/3VbFe7+9Po9pc4B3h9pzAS7vgO255bkh7+1vE+czV4sS88jvnI8d+wvMzr17QvfgXVxXxWz/7fcHu77uw646XeYwT8N57771aUJbL5eTQoUNSLBbllltukS1btsj27dslEAjI9PS0RCIRWV5elv3798tgMFCAIQaMZW/sBnzIW5iqVqtDEGXVsHg8rjFPJCdgGWBp3S7xAyter1cCgYAu//I48n5ZMgZ+bdqA3U8b7QVMWTXZFo7RjKPRaMihQ4fkoYcekmg0Knfffbd87nOfk71790ogEJC77rpLtm3bJtu2bVP1/PHHH5ezZ88qtBEhBrQ2Gg3dL3JxUV0p7mIfBoOBPgdwhUrabrcVnq1vORQKDbX/Zfncqpg2W9aq9qjyFJDZ+C6b/sA5x0dt7RD4tcvl8hDMUxiHAt9ut+XgwYMKqRR98Voo2bQKJrECIAfkOXZSNSh2tI/lPsNXDFhzT2BNaLfbQ+2R6SQIvBPjRqY1YFssFtW3y/nHPkOxGTYHrq/1SGezWZmamtI4PdIkUMw5f4uLi9JoNNb9+9OoNhd4R7g9r8L7tbPiXPex5wa1t/6qONf8kbzL45Ff9XjkJzw/+ur1nV50yWozidtu/L5g9waPRzZ4fvbCH4c7xmqME/DigZ2enpZ0Oq0B95OTk3LttdfKpk2bJJFIyPz8vNx3331D3l4+iIGacrmsai1FTIVCQWKx2LOKu1Dr+HC34BOJRCSVSsn/z96bR8l5l3e+L21BCEmASwKYM7l3SCbDzQI3+GKSTDJM4sSA50xiw8SGkIQEj8GyR4vdsawFybItYe3dXYtr33qhqqtrX05VV29qtXQlWZK1WRGyvGDLio3NCYFzSMKhcpLn/qH+PDzVtkAQynY373vO79jqruXduurz+/6+z/cJhUKSz+e1mAkgYzmeyCzAFUABOIAIoBzIAcopNAJWarWaKqYULOVyOW0SgCoMeLZaLTl+/LgcPHhQotGobN68WTZs2CDBYFB8Pp/s3LlTPve5z8mOHTuk1WrJxYsX5cKFCwpZHC/nMBgM6oSA8wJAAZX4n4E39sUWP2HBWFigx+vZ7mpcdwALmLQqJs8Nh8P6PHy8qKWBQEAGBwdldHRUUzzK5bIkk0kJh8NSq9UUiEulkoKkVeoZttAN763NoyXSy3ZqGxm5lIXLa6I0cw9S9EhRIMkiPp9PIZ7VDtJHKAyksA31355bFGQmJtxvXEeg2qaMsL/xeFzvPaw9qPA2js1aGWijTSHf2NiY+Hw+TYJoNBpuSsP32Vzg7eJ2OYX3jc5V0r7p+lcEtb9xHPnPjiNvdn76J74TWHsk8COBbs5x5B5X2XVHl8ZSAl6++KkuHxsbk+npaTlx4oQUCgU5evSoTExM6DI5MMKXO+qibUfMl7GtrCexARhgydcueQ8NDXUsafM7slvHx8elXq8rSKCOAWXAKHm71p9p1TNSIaxaCziy1I7iCphQDEajhAMHDsjp06elWCxqi+B169aJ3+8Xj8cjmzZtkrvvvltGR0flueeek5deekn27t2r+wv4TU1NSalUelmigPXx4tnFPmLjyVBObX4wjTmo9Mf3yzWxbX2BNxRTPKxcZ37G/lI8FYlENIXBpknQXtcCGsebyWR0KR4wBy4t3HGOiDEj6gtFemH7ZiAXqwn3YCwWk1gsJuFwWL3jnD8i24BJEh+s5YV7ClAG0oFvPOGoy1hibFc3uszh4200Gnr9JiYmpNlsKpRzDzKZ5Hxwn0ciEU0UsYBNxJ/X69XJz2L/fOrW5gJvF7fLKbzLnHfKNY4jHgNoOceRMceR33Ic6XF++jX/Un+tR/vg+I8Mu9c7jvQ4b3zNj8EdS3MsJeD1+Xz6Jc6XLcVSZJdOT0/rMjD5sEAh8FgqlSQQCKhdoFardVgZsAnYLFIaXdgWsVbtYyk5m81qyP7Q0JAWjuG9pPkBPlMA+XLtiFkWZtkedZmUAWAQSJuamtKlaSwHRInde++98hd/8ReyevVq2bJli6xZs0ZWrVola9askWq1Ki+88IKcP39eDh8+LENDQ3ocwODCbFsKtojJisViUq/XtZitXC53dGIDwmxiBI0UgEkSBmz6hH2eXUJfqAIDV5lMRj25C1M1KBorlUoSDAZlcHBQFX2OkXsM9Zy0i0gkIuVyWQYHB6W/v19bPNPmGauLBT+uHbaThXm2THaYqAwPD6vyidrLRIGJGufAdpzDamJfn0kDxXnsH5MhAB87B9Ds9/v1mg3WUZrTAAAgAElEQVQNDcn4+Lh6d0OhkFQqFSkWixIOh7XpC+eq0Wh0XC+sPI1GQ1VnEhq4/ov986lbmwu8Xdwum9Jw1dXyZseR/+I40u84kp4vrPoV5yc7gUFHz7t/ZNj9SU+xcEf3x1ICXr4kUS75Yi+Xy1oUBSyh/E1NTWmDCqARYLZLzQxik4AhGj6wTI5FAdAOhULq8UQttvsZiUQUpMma5T1QH/GQViqVDiUPqMHyEAqF1PIA5Nq2uLZIivMxPT0tc3Nzsn79elm+fLncc889snr1alm+fLn09vZKKBSSubk5uXjxonz961+Xer3eUc3PObJZvkAdS+4UI0WjUfH5fC9bygb66NI1ODjYkbbAcQYCAYVP3pP8ZM4556XZbHb4ehOJhE4sULvZT2u7sP5fQBJ/MrCMNQMofaXHNJtNLXjksUwSuLaotOQrA9yhUEiLKDOZjAwMDCjQck2txYPJEt5sqxpb64I9n1YVRwXmXFkV27YWJqli+/btWpTJfcSKBfc3DTL4e7BNKlCQLUyzz9xTnM9sNrvoP5+6tbnA28Xt+zae6Hm3vMl5u7zdceQdjiNvcXp+cr26C8abfgTY3eE4ssyZbyrhvE16nJ+XHuct0uP81CUfLxYH542XfrfsPdLzhnf9ZBcDuuNHGksJeG1hDKoWXk6rsNLgoFaraT6ox+PRqnFgORwOdxSCscSeyWS0Oh8l1VoWWCb2+/1aFMRycSgU0v8fHByUiYkJbbWK8mUVXhotTExMyMTEhKq6tnCuWq1qoRvQjj8YUKJgbWZmpgO6jx8/LolEQm6//Xa59dZbZdOmTbJhwwbZunWrZDIZuXDhgnz729+WCxcuSKVSUaUum81Kq9WSVqslc3NzUiwWZXJyUvbv3y979+6VgwcPyvj4uIyPj0ulUpFsNitTU1OacWuVXTzTfr9fwRe1m3PLOUkmk3q8AC+gBDTZZgfWYoCVo1KpvMyCYuHP5s6yrA64Y0eh4AtFlCSHcrmsFg4K95hkMAEIBALa4AF1l8dZkCWZIRQKKTyOjo5q0gPFhIA7Ex2r4qLKhsNhicVi+typqSl9DlBqJ4mov9ara1+biQ4TH9IaaFKBb9yeA8DWpoyQM831JU2iWq2q73ixfz51a3OBt4vblbQW7ul5twu6C87Hz/6Qqu6uedhtP/b/SfvWm6X9339f2h/6dWm/9arLJGH8mrQ/8B+l/b8/e6kgzvclaU8VL7VzvnhW2i89+dqfB3e8bsdSAl4Kw/gip5qdL24gCH9kIpHQHF58jKn5DNlM5lKUFECTyWSkr69P1dRqtao2AwsXyWRSC47wQwaDQfWJWo8k6hZQvBDAWFJmudcqk0ASaQ00W7DdwWxVPAP/KsdUr9dlZGRE/uzP/kw++tGPyu233y4+n0+effZZ+fa3vy1f+9rX5OTJk1rc12q15ODBg/KVr3xFTp8+LU8//bScPn1ajh07JidOnJAzZ87ImTNn5IknnpCvfe1rcurUKTlz5owcPHhQEx3Onz8vU1NTMjs7q6CJ7QHlHHjjOIBQqwzjh03N58PS4heQJn3A6/XqxICcZaCOxA4LnSzpYzuxXdds3Jzf79fJC+eX5gmZTEbbSfMY9gfFGeBD6bQ+8WKxKLVaTWZnZ6XVamnRHJYb7g883qRB5HI5aTQaatWgRTSvXSwWFSZZQeD+5zVZZcAGYi06qOucG4/HoxNBYNh6cjlvRPoBybQcxvPL34VdvSgWi+LxeBb951O3Nhd4u7hdEfC6o3NcIfACu38F7N7yP35oG8Rlx8q/lvbZw9J+8YnX/ny443U3lhLw4gmkcIcqe5RCvox37dqlfsiFili1WpVKpaLdwWyCAEvTWBiAaiKpKHxKp9NapY7yBVwDduTPsoxNGD9+SlQ0PLkol7agySpvNNugKh4wRF1GkaP7Fh7ber0uExMTEgwGZeXKlVIul+X8+fPyzW9+U86ePSuNRkP8fr/mvh46dEjbNIdCIU2h8Hq90tfXJ7t27ZJwOCz9/f1qr2AJPpfLyf79++XUqVNy6NAhBeG5uTk9RqDQqtPFYlEzea0SChQDkQtVda4Tr0fxHoosRVNYDwBsrhX7z7I9y/ysDnCd4vG4AiLKNGo4IMpj6WTGBCaXy4nP55PBwUGp1WpqcSiVSnpP8Bq0X8YXy/Gj4lq/OJBpbR62gQX2GUCUKD4KLbFCLHw9bA/8faBc23xk2+jC2jXsc3k9q8CjimNJyufzMjQ0tOg/n7q1ucDbxc0F3h9tvMl5k3h/AOjeikWh593S/sQrJ178u8eH3ift88dc24M7OsZSAl4LCDRVYBkZ1ZVkBGK8aEjAkjT/BSSASZbDLeQABvV6Xb2VKGIofAAGXdLYj0QioU0GAGKrbNLFCiCx7XoXdqQCim2bVrvMXCwWJRQKdaQg4L8sFovSarXkwIEDGtX25JNPyqFDh6RWq2nnsKGhIXn00Ufl2LFjsm3bNrnpppvkM5/5jKxatUp6e3vlvvvukz179sg999wjn/vc5+Suu+6S++67T9atWyfr1q2TzZs3y5133ikbNmyQ9evXazvnxx57TJ555hl5/PHHZW5urgPEbIoFEWZDQ0NSrVY7YuGsMjo8PKzxW6jhwNnY2JgmK3CNbGwWajhd1yhgY9Jkzy/eWSCW4i8L7hS88bNX6noWDoe12cjIyIgMDAyoYk3OsF3u57XZZ+53/stECIin6M1O7mKxmHg8HhkZudTMAzsDYE5KRaFQUEBNp9OaEU2SCPYLLApjY2Oye/dujVpjEsLjuDY83+ZSk1tdq9V00sM5W+yfT93aXODt4uYC7484et4t73UcSb0C6OYcRz7rfC9ybJnz092BXTs2917y+77W58Udr4uxlIAXuMF7CRSNjFzKWh0fHxefz6egSSENjRdQw/iypRkFfkSsCACyVSRtO2Nyey2kAEsozyzvskSOAsvronzhaUUxpmiNJWGUUECa5fFIJKIqHcv52B+sUolHtlKpSKvVkomJCe2mZdXSXC4nx44dk1qtJp/4xCfkQx/6kKxYsUIr9rGMUDjn9/tlz5490tfXJ3v27JGdO3fKnj17ZO3atXLPPffIunXrpLe3V3bv3i1zc3Ny5swZOXXqlAIsvl0UceuNtjFyKLBMZoDYV/KdWlWf185kMnqtrI0EiAZY7WSHpX1UV+LpqtVqB9xxriuVisZsUZSFZcIWU1IwRw4tA+Dmva1NxRakcc8Arew3baW5N7PZrESjUVVaR0dHpV6vqwIei8V0hYAoPP6GuJexmWAhocDM5/OJx+MRn8+nk0S77zbphNbZgUDgFZM2SP1Y7J9P3dpc4O3i5gLvv2M4Pyu/6Djy3x1HBhxHRhxHHnIc+WXHxLZddbW8sduwOz/e7LiZvu64NJYS8Pr9fimVShqsj1pbqVTUt5jJXPLmpua7V1G1DyDwhYv3sVAoyMDAgGabWp9ttVrV12UpFzUWhZbCplKppO1asT2gsqbT6Q6bBAVDxGBZyAMMgDSWrVFtgX3AxC5Nx2KxDthFVe7r6xO/36+tdYESbA9Eap06dUry+bzccsstcuONN8rnP/952bp1q2zfvl36+/tl8+bN0t/fr75loDcUConf7xev1ys7d+4Ur9crwWBQ7r//frn11lvlM5/5jExMTMgTTzwhhw8f1mQJVF3biWyhqmshf2pqSqGXdAQmB9hDyFrG5oDVAqXWvn6xWNT4LyB1YmJCoZnXBQi5v/BrV6vVjgxc/ou6jOWEc42vlokRMIuaynva47b2FfaHewVgtY1MbAc+fOTAsy1aw1vMhAsF1+Y9c3/aDGnuYdRZ9oG4PWw5VhUm3o5jwFJEpNxi/3zq1uYCbxc3F3h/DMP52UuA67xyPvGyVwl4247jqrzukJ5lSwt4gTzU0uHh4Y6Q/XK5rDmmfAFbtckuW5MnGwgENIOXLF9sCBT3AGOhUEir4MfGxlRhRjmmKIclexRLrAaoZrZZhQUcqtwpCgoEAlKv16VYLMrAwICCC8Bg458oPCqVSgr6PIYGE4AKkAkUMXmYmZmRgwcPyvDwsPz1X/+1rF69WlavXi1333233HnnnXLbbbfJ7bffLmvWrJH77rtP1q9fL+vWrZM1a9bIli1bZNWqVXLHHXfI+vXr5a677pLNmzfLRz/6Ufmd3/kd2bBhg+zbt0+efvppVWJpyQswWeBjyTwej2vhX7PZlFarpfm3uVxOotGoJlTkcjmdtABnqOF+v18tKrbIj/NgvbCsDpBtGwqFFHoTiYRCIYBZr9e1QCs13+AhFAqJx+ORsbExabVaeo1ZdQBS2UcmNHTrA95RqlHrKWyj5S/3vs3tpWiRfbPWh4UTHe4new/aiYf14BKzh+1hz549HfYGJl5YMCx88xqsjqAs7969e9F/PnVrc4G3i5sLvK/CcN4quVcLeF2V1x3Llh7wLlyitkup6XRafD6fxlaNjIyoxaFWqykMAldADGoTX+os6dpCOFQ5vJcUGNG8IplMahtgopdsHFQ0GpVyuSyTk5MK7ICDBWgbyg9wAMLEQuVyOVWSbSEdCiKKHd3BUIV5D/zP9vxh4zh8+LDMzs7K9PS02jGAYjyspCFY2GckEgl56KGHZO3atbJixQp5//vfL+9973tl48aNcuzYMS2IY5mcSQUqZiAQ0DQCQI3jpaVtPB6XaDSq0WMolSyvl0olGR8fl3w+rwondoZMJqORYzY5Ax8w94ItdOM9iNzy+XzqHwaW8XGTUZtMJjvyi7m/WObHdmPPHcor8XlcH5/PJ81mU0ZGRvQ+4ngTiYSUy2WNtLNKLOeFCRhxceyHnVzg4+b+sJYRLB6cO9oxY5/ANsHrouBbBZv34e/P2i0W++dTtzYXeLu4ucD76ox3zXt7uwm7Hhd43TE/lhLwLsy6jcViHe1h+aKtVqsKwIAJnszh4eGOn9uqfkABsOTLPplMSqPRUL9vMBhUsCgUCqoCW3hhhMNhVYh9Pp9W7gMbQHosFlOrBtCwcInfKtYWNq1qDGgA84xsNqstY1PzTTdIKkAlZQn70UcflbNnz8rjjz8uFy9elKefflpeeOEFOXfunDz55JPy4osvyoULF+S5556TCxcuyLPPPivPP/+8PPfcc/Ktb31LnnrqKZmbm5NqtSrLly+XO+64Q0ZGRuTkyZMyPT2t4IxySXSa1+uVeDyuxYnEujGZGBwc1KYNdmkdYOdYyT1uNBrSaDQ0E5ffkyYAhNFYAQAD8LmfRkZGpF6v62QjHo9LpVJRe4Hf79fCQsCWlQM65QHcFLaVy2WdQFnVtVwuS7PZlImJCcnn8xIOhyWRSEilUpHJyUn1dkciEWm1WpJKpfSaJhIJzZYG2m13NlYEAHt+bxt0UKDJPmMRQYlGAbeWC+5H3hNLBKscTAo4Vv72aFKy2D+furW5wNvFzQXeV2k4b5Ornc7Cth9mXAnwfsK5lAjxmh+rO17zsZSANxqNSjgc7lg2tpXnqI+AHyBhvZu0xcV3a8GWUa/XpVKp6Je1bSTBv61CirKFCkgnN1ugQ9EShT4sDQMQwBy2CNQ6ABaFGXh46KGHFJImJye1wAmgsc9DGYxGo+o5Ru0FhlEiaaNbKpXUY9toNKRSqailgCxamlBMTk7K5OSkFqc98cQTcuHCBfnGN74hjzzyiBw5ckTOnTsns7Oz2nrYWlBs1y/b5QxPqFUOrZoIQDLZWJiyQFtb/Mz4tgOBQEdyA1CIAow3mtempTTX3na8Gxm5VLhIIgj3GMo718Dj8ah6jKebfFz2kRSGTOaSD537Do8zx8mEgIka1xPFFduD3+/Xe4LJDVnSjUZDJicndR/JE2bChQKMzYLf8XgmENFoVC0mNh6QCWmpVJJisahFlthO+vv7JZFIyPbt2xf951O3Nhd4u7i5wPsqjquulmXOz8hPO478ouPIdY4jn3cc2ek4Epkfu+eV2qBzqQjuSgCYn73JVXfdMT+WEvCGw2H9UgU2iBQDglDAiH4C5sLhcEdeKgphNpuVWq2mMICSCoxQJIXnFAXPAgJqbTKZ7FAdF8ZLoeCynI7ils/nJZ/Pa0wVPmUK6YAw610mYo0mFcCgBUD2FZgeGRnRyC9AbKEPeWxsTM8L9g3bStjv90sgEJCdO3d2ADLNMfAgV6tV2bt3r5w7d07Onj0r4+Pjmk1bKBQUPoE627KYxge2S9hC5ZHzgUKLgmjVR+tvZZJj1WMKArm2JIBgbyC1AMADsCna43kcR6PR0EkTXljOJ/YC9t8CNLBOYgXnwVptms2m/puuajYdgTxpVh64b7h3sTJgo6nVah32Fqv0LsyZtjnIxI3xd0QUH+cer7j9O0AF5p6zHd68Xu+i/3zq1uYCbxc3F3hfg3HV1fPd694+X+x2lWkr3GP+/+VjmePIhxfArx/YddVdd8yPpQS8Dz/8sBYH8WUKbOI15cuY5VPA0mak0qIXAGUJnGIqlm7phkWxDgpXPB6XnTt3asMAoAwwQOWlWK1YLGpBE9CGymeXgSlsAzaAm1Qqpa2JgWPbWWshbPI7FGWK8ABeq/xSyAX4UtyEfQM4TKVSGu3GObOFZbwnqrbX65VwOKwNO7Ci8Jp4UqnUp4EGCipFdxQhApKBQEAzhzOZS1nIjUZDrzXL/7YbG8BpIRCoZp+tnxX/tU0jIM0AhRVbTC6XU882iiieWQregHXOUTqdlmazqb5a9hU7Df7fQCCgkw7bVhhPuE0r4Vwy8eOeooObnegRzYZ9g4kAnmAmDz6fT+8bCuui0aiem0AgoJMBgNsmVbC6QmQgecZMRLEYLfbPp25tLvB2cXOBdxGOq66WHucN3wNhF3TdsWAsJeD1eDwKFyzn2up5lottARXqFgou8VWAXqPRkHg8LrVaTWOUrF/R+jYBa5s1ai0RmUxGlTTb3tcWJdliJLvMC1il02lpNBp6HLawyrbHRalEpQPYbLwVqi0QFgwGxefzKXyTFUs7W5sTzLFRLIYyzVJ5PB6X/v7+DiXZFkzZYw+Hw1KpVCQQCEgsFutokWwtCMPDwxIOh6VYLHZMTrxer5RKJVVYKeTjedVqVUKhkMI9AGg7irEEz3J9pVKRUCjUAc/2uZxv+/8kRtiEC5p/2OtL4SPtmvm3BVFrgQF67WsC65w3Vi2s/zgWi0koFNJzhYXB5g+n02kJBAKaaMI9waSRc7lwP+2xc7+QDhEMBnViSZFdNpvVjF+Os1gsqqKMos29xP+7jScuv7nA28XNBV53uGPpjaUEvHv27NElbFq1Wti0RTGMfD7fsdQNQKJUkavLkrKFNyAIVRK1FsCoVCod/lNAGfVqdHRUrQSAA55Pq9jxxQ9ERKNRfZ9qtSqlUkn3DWW6v79fAZ9lZ5ReFGeeTyqB7dRFu1gbYwbsYafgmFHigsGgqrC05+Uco1TjS04mkxqfZpe3UcvtxMPGV1WrVZ1UUMCGdSQSiUg8Hu8oWmNfAXiUT9RSJjqAGGqkbTICIPJfFFkaLVjVFbuDve+wVtiVB1RjrqVVl8mObjQaLwNyzj+vUSgUOjzj+IuxeQCwpDFYawbHQr4uEyYgF6XdenP5OyCbmBUFJnwcM+q4/RsA/kk4ITMbxRdLBrYIzuti/3zq1uYCbxc3F3jd4Y6lN5YS8C7MLkXlw4MLkKAAs5RLEgCgxRcyX/o2A5YCJRQ3vuQBRSAVSABM2A9AyyrNAIZtB2vbHNOVzSrG+BxR5gYHBxUu8vm8tu4F3PH+svRsfZtWhbUK3NjYmPh8Pk0SsF3AOM/AD0vUnLuxsTFtMJFKpbRILxQKSTgc1iQLMl5R9Gwx3/DwpbbNwA+TAlRc9hulG9UUTyvXxMZ4AX/JZFJVcB5Dti3XkEIzq0oD3YAw9xzWFWCPaw5YYjfBhoIXGJDkPrDWBgAQfzHHHY1GxePxyMDAgEbkcb2sJYPrwyoHnvFwOKythZPJpNTrdc0qthNCXi+ZTKoXG1sMzTuYwESjURkeHtaW14CtjdijqQTXl33gmIFkW4gYj8cX/edTt7YlD7yHDh2Sm2++Wa655hr53d/9XdmyZYt85zvfERGRU6dOyc033ywf/OAH5brrrpNcLtfx3FKpJNdff7385m/+pnzyk5+UEydO/FDv7QKvO9yx9MaPE3hfq88nPpv4UiZpAKCq1WoKJhS02Ra/FhAWdvBC2aTtKp7Z8fHxDj8mhWwAE2kKFPoAcMAm0Iv/FRCy723VYSK6UGItQFrFuVKpaGcuqvNRYwEcuyTe19en6QzsB/vNuQHcg8GgNJtNVSZrtZqCKk0YxsbGFLxHRkZUAc1mswrLgCo/CwaD6su1yRTEawF1+JfHxsY6bBTFYlHPM4AJ5M7NzXVYKVAW7ZI8sBsMBlWx5j2sR5VsWbywpFTw3qVSSSYnJ/U6W3izNgUUdCYC2GVQblkFGB4eVpsGyQ+pVEqVb85jpVLpyGfm3uNvoV6vqwpvLTYkbZBXzGoABYNMIPBAc/8xqcEChNrOfTg8PKxJF6Ojox3FoGQM82/An3uFv0H2xfXwXn5b0sD7jW98Qz7wgQ9IsViUf/3Xf5WXXnpJ/viP/1i8Xq9861vfkt/6rd+SL3/5y/Iv//IvcujQIbnmmmvk9OnTIiLyyCOPyDXXXCOPPvqotNttSaVS8tu//dvyz//8z1f8/i7wusMdS2/8uID3tfx8sq2FUZX4QqV1qf0ZX94LQZflWdQ0lldRreySNF/SLG0ToQUQAY+8HzBCIwAgE2WOzlIsTxNrZb2XQAZqInDKewCZhUJB4RlIAYAA/YU5vtgBOD6OgyV1zhPFe6jaWARQPKvVqjQaDanX6xIOh3WfOHc2b5VjBRBRcWkgYX22QLjtAGah1SrUkUhEIbxWq6m3NZPJKDCzX5wb65Hlv+wPyR42oYG8ZCCe10wkErJr1y5txAH4YhtBtR0Z+V7uLdfVtkWm+QLqus3OZb+wJ1CIhzUD9Z/BueG1rB+bWDAgl/PJygCw2mw2NfMYCwNFaUw40um05hUz+eA8c+9jtbANN7ClMMEE9Ov1uuvh/T7bkgZeEdGL/m//9m9y/vx5+ehHP6ofvh/72Mc6Hrt582ZZu3atiIjcc889smnTpo7f33DDDVIoFH6o93aB1x3uWFrjx6nwvlafT3w24cXlS7der4vf71d1y/onSQHw+/1SqVRUpWMJGC/n6OioekL54s7n82qDAF6AIFuQhBLGf7ELAMZ84QcCAY24ovqe1wXgk8lkRxyUVT2BXLqQoVjSgQ1FkvMC/LNkPzo6qpBtWx3jqbVeVOunxbfKMn4ymZREIiGtVkuVTWAWO4mNDmPJGqWP80MTEFRLfLxYAjj/FNUBnGQs2xbRiURC/cTAaiqV0uNgNYAiPp5jC6fwnhaLRbWR4A/mHOGPtcBsiwitas/kg5/hI8YGMDIyohMW4sFQTq0Ki5puzzOZunigUVg5bo6XfSK/NxKJ6O/5W2GiBYRy3vBe0844l8vJ+Pi4HjfWFjq+Eb2G6p7P5/Wep6CNvz/790YhoAu8r7wteeBl+8hHPiLve9/75M///M/ln/7pn+Shhx6SlStXdjxmeHhYbrzxRhERuemmm2R4eLjj9ytXrpQvfelLV/yeLvC6wx1Lb3TDw/tqfz7x2QTw2QIeoAkQ4YsbRc8usePv5MvWNq2w0Up8oeOtBGxYmgc6rIUB60E0GlW1NhqNKsAuLKjDc2qVMAaKLE0ZAC4eC6zhCUZlBPI4Ll6PnwNpuVxOi5UA8UajoeeTaLB4PK5d4QD8gYEBTSqgUCybzUo4HFaPNMDIdYpGox3NPwBRFEIeQ8cw+zgL7ECwbaXMeaWhByp+rVZT1R5osx3DUPltow8mH0ApnmZynLkPrDWF17OKLKqqBVugErC2YEmr3nQ6La1WSxufHDx4UPL5vO4TxYlW8efntVpNc4GxTXDu7CQEeMajm0qlZGJiQovsKLIcGxvTc7uwRTLXnL8tANqqt4A09g2yi1Hpw+Gw1Go1+fKXv+wC72W2nxjg/c53viMvvvii/OVf/qXcdttt8sUvflHuvffejsfkcjm5/vrrRUTk+uuvl3w+3/H7NWvWyBe/+MUrfk8XeN3hjqU3ugG8r/bnE59NQBSAMDw8rB5SgMpaAIBf1CXUUXJdgRGUzUKhILVaTeOkgBwUM2CUzFKW8YHrfD4vqflWr7lcTur1ulSrVYUWYBpQHh8f16VwYLRSqWhkFn5O7BWAI9DNzy0os8xtvcXpdFrVYN4bPy7nC9BEieQc1ut1qdVqCnu2wYdVpP1+v3qHgWSgERDi+AEiG93GMr3NMuaYsZXYRIJyuay/J6nBvg9WD8AQlZn7whZwAcLYFrDDMDjmZDKpFg/OPZAM9OKbZfXAFrsBurwuVgruIyYuTIZQwa3NgXt2oY2A10TFJSHB5iOjdPP3wmuTxevz+XTSksvl1H9er9c7bCYcJ5MLzgUTCJt4Yn3N7B+K/fT0tIRCIRd4L7P9xAAv2+nTp+V973ufbN26VVatWtXxu+HhYbnppptERORP/uRPZGRkpOP3K1eulIceeuiK38sFXne4Y+mNbqY0vFqfT7a1sLUAUHTFl2k8Hu/IkQUIWHYF8CjYWqhEssQNgKGoWUixjyVqCY+iVd9Q6siPJU4MQOvr69N9ZGmYuC9bCMXvgXegwS7J265eeGJ5HK89OjqqS/l4km3MGGAEkDChIMqMfSJCjXMBcAG2QBX7hNcZRZjnYrewPmhSMvABo+zi0cafbDOHbXYuP9+xY4daKJhIcK4BRtvZjOuJOkqzB342MzOjgI2dxEJgOp3WSQ8KNK/F+bDXjPcjBxgAzOVy0mq1tIDRxsRRVMc9z71sX5N7FvWa80ESBQqrfQ4TI57PvuKTRrGvVCoKxkzmuG4AL3m9nBdev1qtSiQS0de0Pl8XeC+/LWngPX78uHz84x+X7373u/qzY5gia+sAACAASURBVMeOyW/8xm/I6Oio3HDDDR2P37x5s6xZs0ZERP7mb/5GNm/e3PH7G2644WWV0t9vc4HXHe5YeuPHBbyv5eeTVXjj8bjGeAFYAEwqlRKv1yu5XK6jLatd5rewhL+RpXsAiWVmnsvr+Hw+Vd9YggZeeK6F7VKppC1o8UOi6qESWlUUMATKAG0aD9j34JjZX/ytLKWPjY3JwMCALikDzVg7otGoKrGcQ86NBXfex+/3a8wU0WF2EoHijfcXK0ChUFC4BmQBd7tUjqJtUxxqtZq2JLZFgvl8vqN7GftAygLXGe8o5wV7A/CJfcMW2uFrBV5pvDEzM6NqNr+nEHBoaEgOHDigGcEo9dynXEsbUQZcUhBYr9c1ri4QCKjtgtUCml6gjKOs2tcE4G1xJpOOarUq1WpVLQfsVyAQUIWZSQpAazvk8f/4mPk39ypZv5z3Wq32sr8PjmVwcFC8Xq9mTbvA+8rbkgbef/zHf5Tf//3fl23btsl3v/td+bu/+zu5+eab5f7775d/+Id/kGuvvVZSqZS02205fPiwXHPNNXL48GEREa2KPnz4sFZBf/jDH5ZvfvObV/z+LvC6wx1Lb/y4gPe1/Hzis2lgYEAVpGg0qpm52WxW1VGWyxd+OQMCFkh9Pp9GNqVSKVUSZ2ZmNIbLQh+2AKuM2eXaTCajfmJsD6jIVq21VgNsE2QGh0Ih9aDSZcvCCAVd1r8KaHAOgEOWwclG5bGlUkmtEXigm82mni/8yMRp4dHlOEgLIIGBGCpUUzyeqJb2GllFEWBiQlCpVKRUKkmlUlEFNRAIaEtalGfgzp5/XhMftvUuMxnCumDj6mzHNxRwziuvgUeWFAde00IgP6tWq5q2YAv7UGx5DdTzgYEBnSxMTk6q0m+tLJFIRB+HdYL7CsuAzcVNJpM6MUORZYLIhIv7ECit1Wo6KbSTPSY1TIywO2SzWW2PTA4079NsNrV4D+imxTSQPjo6qgkbLvC+8rakgVdE5Mknn5Rbb71Vrr32Wrnuuuukv79fFZXHHntMPv3pT8s111wjf/RHfyTFYrHjuZVKRT7+8Y/LBz/4Qbn55pvl1KlTP9R7u8DrDncsvfHjtDS8Vp9PfDZ5vV5d0rbxVdVqVdUywI7l8nA4rMvNLBkDuB6PR1VBq+RmMhld7rdf1oVCQarVqtTrdYUCLAWhUEgVNkAC+MhkMqquZTKXvJq2tayF8JTpgkXnNCAtmUxKX1+fqpQ2EYB9jcfjUq/X1esM/AJnQAb+zmg0KoFAQI+rVCpJf3+/wjtL4+w/yi7WC6B+eHhYIYpIL9vu2dpC8A9jsygWixIOhxWUJyYmtKgOmOf68X5kMtuGCgAXOcHAWCQSUYi3sE2TDrzXvAaAD6zZ1ANsLPiKudZ07aN4DDUdD3cmk9H7hgSIWCym4Mw9WKlU9Bi4XtFoVIGZFQkal3CdLKTa4jK7qoE/mzQGFHgmdsAtNpZUKiW7du3SiY21QmB9sHYU7l/OGROjkZERCQQCL2vCwX3rAu8rb0seeF/LzQVed7hj6Y2l1GktGAx2VI9nMhlVRlGYbJSVXbpnWTsSiShMsFRrQTeVSumSsK2Cp+gHoMUHDPSg1AJR4XBYC5f8fr8EAgFVJ61nMhaLdSRPoHTSBIOlemsBQKGzqiSQjtJIvjDnyNoULPTRKKBYLHZEZhHDBaADctYewr8BJzzDNK4AQFGn+S+TAbzVQCDpBBMTE6qCLuxmR5IAr4Wii3KJhYJzBlxy/D6fT/cff3Umk5HJycmO4jarInPtUdaj0aheZ7tUD8AxUeD+4JwBjcAekyU6rKHcArF2ojQ6OirhcFhKpZI2mgiFQrJnz56ORhUcG4WEvE4ymdQGLUyOOCdce+u/rlarMjs725FwQVEgqRHWisF9woQmlUqJz+dT+E7Nx9rZeDiu+2L/fOrW5gJvFzcXeN3hjqU3lhLwsgRPBT5L3IFAQJscAFILq8OBCRQnWtoCjyz1AxR8IU9OTnaoZgDSwMCALiUDiVSl26gr1EAACuCLx+OqRJZKpY74M7pr2eVy60luNBoKY6jAAEgoFFJFm0p9QDkQCKhyOTIyosvY+D2BmmAwqGocqiIQRgET1hFA3ev1KnhxDBw3kJdMJjVVgwJDmyKAVcWqzyiOtpNear57GVCMYo2tIhaLaaZuOBzWoj1AC8USXyyTJJIFsCbYNIdarabe2WKx2OF9JsmA1wImsd0wQaJzH7YN/NQo3hyvbSxBJzWbysFxMLmw6RP8nOYTJEOUSiVtPsFKAN7eVCql19zec6i+TOCwt1go5zwyAbT5xOwvfwN4mwHgWCwmfr9/0X8+dWtzgbeLmwu87nDH0htLCXj7+vo6FD/rzwVSbXcylF2aOgBEwCx+S9RH/LLValWLawAKotBsPJfN6qV1LUBs1Um+7AE8FD4b94UCB7zR8cqqs+VyWZf0UVN5P7ph0TgBryQV/pwTfgb0pNNp9eriNaWYi/MJxFvwJAsXFXpoaKgj8xXl0rYvpsAJ+OV5qLz8juMlVxe1PhgMKkTbJABUevYNWE0kEjrJmJiYUOjFRoAqyrVlEoFST0JCoVCQYrGo54YWwMAtzVBmZmbk8OHDmqZgu65xHrnfuHd4zWKxKAMDA1oMCRgz2QJCA4GANBoNtY0AyRRIWpsMDTqYIHJOcrlch/XA2kFov9xoNBRYaUtt7T82bYKVAs4fSjLnj8koUWjBYFAnpq7Ce/nNBd4ubi7wusMdS28sJeAdHByUarUq5XJZGo2GTExM6Jcty+Nk7AKaqI62cIhlXtRKwJaEgG3btikYElFlfZsoiMViUer1usIgX/As+eJ9ZQkaGMEHi9qK/9WmCoyPj0ulUpFkMqmeSxsFhdcTeCUuyy6HA4wUwtmM2Wg0qo9DZeacVSoVGRgYkEajoSofx7vQGmGbFeBTtcooBVS2mMz6qikmw2u8MKqMnFrAEc82nfA4l9ZTapV9lH7OB003ADubXMEg5xjVH0WY18DmQqwW2c7ValVtK9xfpBcA7txnyWRSM5er1aqUSiW1oHBuFqrjqKxDQ0MyPj6uKQdM6LDbWL9zar6JCisGvCZWGY5rbGxMkyG4jwF6iuVsY4tarSbBYFCL/vibwObB5HHnzp0d0Gs94blcTh5++OFF//nUrc0F3i5uLvC6wx1Lbywl4LWV71ZVslFeo6OjEggEVCGzgIa3E3+jVcH4kufLmyIqa0uw/lXbTAClFgBk+RsVEGhhvwA6lE3bshblsVwu6xI4UAlIo/ShiNqc21KppGCPygx8+f1+zbK1XeLwLQOYVvmzBWK2+QNqMs+zNg4L5kAOxwvkshRuG4bgS6bgbGFTBawJqfnmHiQqsPzPpMZmJfMaqNb1el327t0rtVpN34/JBtF07Ld9b6w0wCtKLGo8zxsbG1N1k+OoVqtaaMb7sJ9AOgCPhQM7ibUg2OtpJyIothamaXbi8/lUmQ+FQpLL5Tq6+NljZLLI5Ifca1pEs6+cU8CaezAYDIrH49FrWigUJBqNisfjEY/Ho/cM78Xf2WL/fOrW5gJvFzcXeN3hjsU12l9/StpPn5T2M6el/eITr/iYpQS8gUBA0um0RCIRhadcLqf5vCMjIwoqqIkUhuEPxYPI8i5LtYAtflp+zxc0sIXXEYWPJXsLGQDLyMiI9Pf3a84rGah4F22VP3A9NjamqRMLG0IAxsSP2QI8QAUgY5+I4CKeikkCRVS2uxhQhu/X+k+TyWTHkv/o6KimDuDLrNVqMjExoaCPqkyUVSwWUzDGasESOdAMVJfL5Y4YNJox8Hr4WyuVimYc8zMmFYlEQur1ulohMpmM7NmzR60uKPf5fF590SjO+GO5p/L5vBYhWn8qObq28QaebjsxY3LUarX057wG95YtaOM+ttYdO7HJZrPi8/nUNsK1IZ6MyZx9HyYfqN7ZbFZCoZBG6QH+eH2Hh4clEAh0pDGgGKfTaY224+8NSK/X63LmzBk5ceKEHDp0SA4ePKi/DwaDkkgkZGpqSu+/xf751K3NBd4ubi7wusMdi2e0n3hU2jGPtP/yk9L+5MelvWOTtM8dkZ6ed3c8bikBL/FSfr9fMz3xRYbDYWk0Gh3V/CzTsiwLBLAsju0AH+rCIjcUVrJTbdEPVgeKwYBOoqb6+vo6/Ku8NyotMMp70/mNZXIgb2xsTAu9gFCbBcyxAu1WFQTCgCr2p1qtauKEVWT5N9Bll9RZko/FYmp1sAVKKNU0x0AlZD+xTyQSCT2PtjEBj83n87q0jwLt8XjE6/XqvmUyl4rksHoA1tYTbc/BwiV9iqzsCkCxWFTfKqrmxMRER0c49hNbCMv+FMhZMOReAPZ5HKsMqL9YNiiOBMYBSQrfhoaG9D6oVCoa+4UKazOY7T1Ms5BoNCqhUEiBnImQtYlgO+Ga8f9MAjjP7DfXs1qt6r3VaDTk8ccflzNnzsj+/ftl7969cvDgQanVapJIJGT37t0daSLBYHDRfz51a3OBt4ubC7zucMciGG94l7RP7JP2f/mAtB2nc/z6L0t7X63j8UsJeFkCRhVEbWIJ1QJAar5rF6DHFzjAWK1WZWxsTMGTdIZarabV9gBjOByWcDisCiNf7IBrpVJRqwPJAECD9aoC4BbuLCQRq4WP03a+IhnBLtEDH6QNAOjAWDgc1kI4C5iAPiAFwNCuGUUQlZQiOArlqtWqTExMSDAY1M5kHDPdwjhWQNG2PMZ/SqGUtT5wflHlU/MNQbCq2HNLYwtUfquOo3LjU+W9udao6Xa5HijHWoJSDxyyRI/XGt8w3dg4Z0wcstmstkbmvXkc+88kIpfLid/v19+hWNviMK45Exxi1WyhGH5eJjacT5IvWOEguQNVlvelBXZ/f7/aNWh6gfJdq9W0GQj3WrFYlKmpKTl69KicPn1atm/fLn/1V38lt9xyi/j9fvXcozRzbQYHBxf951O3Nhd4u7i5wOsOd7z+R3uuLu3/+uGXwy7jEx/vUHmXEvDyhU/BDeoXFodwOKzwBZzZhgfABVmv5Kc2m82OPFsUMWCMpWKgFjgDRtivaDQqrVZLJicnFayAb5adF1a5M1A1h4eHNaYKkMPfyv5Zi4WFB7t8DgRjYbDgyzmhfS9WAM6ttRVg6bANC+x+A7bYC+wSOoVMlUpFgsGgXpOFXe9YouffgDxgizLJPlu/NpMC1H1sH0wesJLwO97XerutKszjgHA8r0ArwIu9gIkXKi+vSxtiJhoooBSgscJA7BeFZNg9Fq42EMOG0m+VZO6/RCKhKwZWOWcigQ2BexFrAueQ6093OWCYVRSSSzh/3Dfcg8eOHdMWy7feeqv83u/9nvzBH/yB3H777VIsFmVubk7vDUDdbTxx+c0F3i5uLvC6wx2v8+G8U9q3/MnlYXd+9DiOPmcpAS/B+zRB8Hq9HdYCoIFMWyCS5Xi+ZImYAhYAWqrUKQ7CzhAKhTSrFyiyBVssq1cqFYlEIvpYu0RM7BhL5wALKirAimWDnNqRkRFNkgAGU/NRaHgu8bUODg6K1+vV5W6U1nq9rn5kANYuY6NQ03DA2gFsC2UsDLaxA6CUSCS0YA7LBHYKQBGlPRwOS7FY1Fi4cDjcYcXAEmEzjJPJpHZf45xZuwZqKfs9Pj6usAdUZjIZhWXb3SwQCGjxWygUkkAgoAkeKJsW9Gw6BhDLPcDrcj8SaQa8cz9SvGb9t1gHIpGIhMNhnURRrEmONOeZ+9ZCJ8fIxMTGtQHbnCMmLJFIRFcsFsbD2a6GrFIAzqwoMFk5cuSIHDp0SDZv3iyf/exnZfXq1fKnf/qn0tvbK4cOHZKTJ09KJpPRc80xL/bPp25tLvB2cXOB1x3ueH2PZY4j7be+6QqAt0efs5SAF5WNL2CrzrFEnE6nVW1EgUMBRrlcWMQDlFEERPatVVRZ9g6FQvpf1E18kyy5Yw8A5KwynclktEkBwJLJXIoZC4fDHcVHABs+yVKppHDBMeVyOQmFQgp47KvX61Vl2B5nOp3WQqRisSg+n0/tHNbnSuEV1gKUQyCR/bbqJ2BL5zBUxGKxqFDKNbOpFAMDA2oFQSWNRCLaWMLv90ssFpNaraaAThcvoByAw9aCGs9+1ev1DnBMp9MaFwfMcU/hN6UADNW9XC53FIXZCRV+cq4P55HJl9/vVwBGrWfClclkZHZ2VtsqRyIRteKQuMH9iIUGuwyvRQGhfc2Ffx/YPpi0Ae5YH2i4QdYw6Q62/TUdDbF6cK+0Wi154YUXpFqtyrp162TTpk2yceNG+cIXviDbt2+XY8eOyZEjR9TPzQpIIBBY9J9P3dpc4O3i5gKvO9zxOh5XXS3v/gGg23Ycab9p6QKvx+PRL328uiixQCGQA9QQL2ZzZIEZPL4ouclkUnbt2qUgBuiRSADQ8TuKuViiByJs+1SUYNs6GJ8lwETLYyCI3FcUThpWAPN4VAuFgirSeFUt0IyPj6uSBsxaDysAVywWJTXfBAE4BhrxztLy2CqVAB77xeMpFKxUKjopsIoqyh7K9+joaEfmb2o+5gpltlKpSKlUkmKxKM1mU/NoAbH+/v4OdbJer0soFFJYHh0dlYGBAS2ks+o/PmKW7DlHFIEx+UGl5foAvqjbrB4w2eIcMEGjqI73KZfLEgqFJB6PS6vVUrXbWjus/xl/LpOwcDis9hBgH3WdCQP3HHnD1upA8RurBlbJZ8ICAHNN+J3H4+lo7x0IBKTZbMqZM2dkZGRE7rvvPknNx/D19vZKIpGQp556So4ePSrBYFAnp/wtL/bPp25tLvB2cXOB1x3ueB0P523ykSsB3l99r/Q4b9XnLSXgRbGt1+u6TItii4IKqAAmQI5VvrBB8IWL+hWJRDT6DKUXdZEsUetfxeoAuFmfaSaT0cKewcFBrcLHd4uSSzID0GmL6ICZbDartgSbUUs0WTqdlmKxKHv37pXx8XG1bwBIvC7tgFHqbIKAXZ7nXPr9frUOEGEFxDIpwOeK2sfEAC9oKBTq6G5nQZVosmw2q8kF9vwC0IODg9Lf369L9WS+Dg8Pi8/n6/Am265ieIv5PZMdkiS4T5gcjY+Pa1terinpBkAi9xP5y9hXKAZbmGLA/WAbfwCoNG2wsM45YBWACQ/nnFWMXC6nlhXuIa4nfwfWJsF9Sqto8oK5Zzl//K3YCQqxaMSUkXE9OzurKwUouLt27ZL7779f/H6/7NixQ9atWyfZbFaee+45mZ2d7UiK4O9ksX8+dWtzgbeLmwu87nDH63csc3p+MOw6jvy640iP8/P6vKUEvLt379blcGK8UAWBKWALsKIyHkgYHR3tsC54vV6Fk3q9ro0pgJF4PC7NZlMBgvdJzWfNAk9k+AIuNCewVekUreFvpZnEwiIoW5Rk1Tur4ALAAD9wbzOAeS2rMLNfLNUDSyiAgDA+YhRAmjyg3KLkMkHg3HKugDeOC0W02WxKtVoVv9+vEMfxoV7jzWXCYJtmoLIDqey3tYywvzYBgwkIhW7k9/KadIRDka7X62qVoHDQFgCizGcyGWk2m1IulyUSiUh/f7+mD9gCMsCXdAqgc9++fRrphifcFuNxn3D/0AGO90AJj8fjalUZHx+XwcFB/Tf3nLWUWI8v9x2dCfkbs50FOd9er1fvqXQ6LQMDA1Kv1+XrX/+6zMzMyL333is+n0+2bdsmO3bskAceeECazaZ84xvf0AziSqUitVpNFePF/vnUrc0F3i5uLvC6wx2v03HV1fLzV6LuOo681RSs9SxbWsD78MMPK8yhTE1MTGi7YcCP5VwaFPDFTqENal0gEBCv1yulUkmazabs3btXwaJQKCjcYmNA9crn8+qdxEsL1AFxZLwC1YlEQlqtluzYsaPDJ8vrEG9li7FsHBggC8Th67RRXvhlUSHpxAXU5vN5mZycVLDicRRloZTTjpn9BAh5LJAPQKNojox8L6PWKo+otENDQzqpALTw4trWzvx7cHBQ4ZLCMAvyNnOZBAE6kjGpsQ0hmEiMjo5Kq9VSNdpGknEusVNQJMYxo0b39fXpJIMCPM4B6SFYJ2q1mszMzKjKixUGyK/X69JsNtWKga+WY7UJHF6vV4aHh2VgYEAnDfzO7/drUR5NSOwkykIsf0Mej6fDi8s9j4qN9QWvOukdTARisZjMzs7KSy+9JIVCQe677z554IEHZOvWrdLb2yv33XefnDx5Us6dO6fxflwrVh4W++dTtzYXeLu4ucDrDne8TofzDmmvvPWKgLfHeUvHc5cS8JISALgAZjbiamRkRBqNhi5L2+guVC0aRQB82Aj4gqfAjUYKU1NT2iWLlrwLK+sBcaAXaEChww/K6wO0wC42BoqoiLFCGcTTWSqVFOgXKtpAjVUjK5VKRxe4XC4n9XpdqtWqpFIpLdziOcBtMBhUaLWtlVG3UR1JSQgGg3rOsQ7YJAd7vEwisIXgabZRcDaTGAWUfcDjixWDn9PJDsWYiQ77QMMDJhpYMLBekCmMKootg/uGmK5ms6lwX6vVtOmJvQftCkQ0GlV1meMjc9cCLVnLRIUtvLdpPsF5KhQKMjs7K3Nzc9JsNjvek2xcXp/zwM9os4xdhvPB3wL+d9sJr1QqSTAY1NegqPHMmTPyzDPPyMaNG2X79u2yY8cO2blzp2zYsEHS6bQ899xzcvLkSdm5c2fH5AJLzmL/fOrW5gJvFzcXeN3hjtfpuEJ19785jvQ4P9fx3KUEvLZtcCQSkWAwKMlksqPQB9gplUodv2PgH6xUKh1AhtqEclwqlVTRAn4qlYpks1n1Q7L8jxpJMRUFU7w2y+eBQEDVNGwFxIVZ1ZQ2r8ARPs5QKCTpdFr27dsn09PTUiqVFLZ9Pp8eL9YKKvqBYDKBgWygNRAIaNEUMGmbMKCs2iQEVFsAnv23Obco3TRuIK4rNd9ilvi30dFRiUQiCuSch2QyKePj4wpwtrEIEwvsCzYFAm/wxMSEwqn1GIfDYW3LDBhzL1l/NGo0yQXZbFYL2rA/AH74qK1FBdDE/hKJRBRKUZC5tvw3GAzqqgT7RrEl55j3TSaTHcVx3Cu2VTQTH7uigK8ZpZVrzGv29/fr30Qmk1GvMsWbWGR4jWeffVZOnTol69atkwceeEAefPBB2bhxo9x1112Sz+flmWeekenp6Y5GGoxoNLroP5+6tbnA28XNBV53uON1OK66Wn75CoH3PzmO9LzhXR3PX0rA+/DDD3eAAEoZwAL0oVKxVA98UhiGesVr2QYCu3bt0gQFG8OF6pfP5zVPFwDP5/Pi8/nUBkGGKl/u1ucLRLLszT4DujYmDY8mUOv3+6VYLEq9Xpe9e/d2FEdZ3yyFZHb5P5O5FKOFRYKWvcFgUIu37GNt/ixFa7zXvn37OlTfqakpVVeJPQOmgTuAlLzjbDYr+/fv1652kUhEYY1EAmAWENuzZ4/CM2BqC8x4D+AcJZ9z4ff7FWqZ7Nh7CcXediujyAtvKyCP4spkBSsIxwGco94XCgWNDotGoxIOh9VSg/2BJhe26x9NIFC4Od6ZmZkOtZtJHgBsJ1z23iNz2Vp9UOSxg1j1PRQK6XOZjBAdNzg4KGfOnJFz585JvV6XrVu3it/vl23btsny5ctl69at8uijj8rZs2clmUzqvc7KCSkoi/3zqVubC7xd3FzgdcdiHu2vPyXt226R9t99RdovPH7p319/6jXfr3/vWOY40v7Ar1wR8L55gX+3Z9nSAt5AIKBAmEgkpFAoqJ+2Xq93qFPAH1YBuqoBeyh3sVhMVd1GoyG5XK6jOQPZsHh/AcJ9+/Zp/JNdRsZzyuNRP1EXWdrntfgvcIfaR5EQHkobU0VRHUoj/2WfyZgtFAodXdWs15f/DwQC+npYGawKh0rL+/KzSCSiymBqvhEGrY85F8FgUH2kFDhhVZiYmOhQZYFM/KFcW1Rkm7JBskQoFFIvLf5iW1AHSKMAVyoV/X9bGEhDE9Rq/M7JZFIVzQMHDuh1SqfTUqlUNOuYYwOs6foXjUZl7969cuTIETl69KicPXtWjhw5IidPnpRKpaJFXBQJZjKZDk+4nTDEYjG9f5hMAdMopxSTkSqBRcGmfWB7odCNyRQNLygExINOUwuK+rjXueeefPJJOXbsmPj9flm7dq3s3r1bNm3aJJ/5zGdk27Zt8uKLL2pcGRMOLBPsy2L/fOrW5gJvFzcXeN2xWEf7tls64e/jH5H23x6S9sWzl8D3a+el/dVT0uO8/WUK6Ot6XHW1/NIVqrurHEd6nGUve42lBLwojCh8lUpFvZM0KSAPFUiyzShQE2u1mvpW+bJHsbQxXtauQAMJm4UKTALMdrnddvQCMm0aAkv9qHeocOwjzQxYfma5HDDx+XyaxUorY5btsQEwbK7syMiIZtBy/KQJWNDnWAOBQIefmCQHJhShUEg8Ho8WhQHCADW+a4r38MhaxdHaUbB6cH7puEbzCs49Xe0oduO6WNsFjy2VSh0RdJwTrqttwmAtBRR50WKZCQrKazAYVK83Fo2RkRFVlqvVqpw8eVJmZ2e1IK3VasmZM2fkm9/8pjz//PNy9uxZmZubk4mJCZ2cAbRMILinBwcHJRKJdESJDQwMaHoC+8P5tNFi+I+5lhaomQigdjMpoChzaGhILR/c06Ojo3L06FF54YUXpNVqycaNG2Xr1q2ybds2WbNmjdx1110yNzcnp0+flomJCT0ndqWhVCrJww8/vOg/n7q1ucDbxc0FXncsxtH++lOvDIGDD0v78IS0D7WkvXuztO/6grTvuk3aa+6Udi4h7QtnLinAr2cAdt4o7Xe/7YqA99ccR3quuvplr7GUgJduVUAqYDU+Pi65XE5VXJuBire22Wx2+HlRx4AD1GCKhQDARCKhUVp4TImFQnGlgt16jOleBciVy2Wtys9kMrq8DTgCU3g8bfatTaWIx+MyNjamxUvNZlOmpqY0qcBGtbG8bdvuvGuswAAAIABJREFUokgCPfV6XdLptC4xx+NxVXSt37ZSqcjs7Kzk83ktcrKNMvL5vMIxXmfOoVVQifri9/hlrQUD1Z59sqo0+88kAJWZ9AML5nayYwsdUeBRLm2sWzAY1GuBRYWJBj/nPPN77BfcG0xkpqam5PTp0+L3++VTn/qUXHfddXLnnXfKtm3bpFKpyP79++XQoUNy5swZeeSRR+T8+fNy8eJFeeyxxxSUJycnpdVq6USAqDFSR3w+X0cCBc0kmFBwnVGJfT6f/u0w8SLZg8fGYjGdEOZyOfH5fJpdzWuWy2U5d+6cnDx5Uh566CFZtWqV7NmzR3bv3i0rVqyQeDwuzz33nDz99NMdHffsqgPHtdg/n7q1ucDbxc0FXncsxvEydZfxU460w7ul/V+vvTwoPrxd2mcOSvvxo9J+7m+/pwZ/5RFpj0ak3cxe+vcLj78mx/bWK1R31zmOLHsFO0PPsqUFvCz9EvcFcOK3tV/k5XJZfbaJREKXUIEbrAWoararFcVQNuIpHo9r21zizYAM7AQ2uJ/noXiyVI6iSQtZYNdaDmg6YZetLSjYoqN4PK4FZ3iAra0AjzGeV8CQGCvybVEPrZXCAnI+n5dms6nvgdKXmu/QhnIHGHGOgSNr34hEIhKJRLTIz3qceQ7KqVXGbWIB/8VjClSRLlGpVDr8yKi54XBYFW7SNvCuUoiF/YFCRdRflv8BbzvBAQ5pCZzJZGR8fFwOHDggO3bskGuvvVZuuukmue2222T16tWydu1aWb9+vQwMDMiWLVv0OTMzM3Lx4kV56aWX5Omnn5YLFy7I448/rp3Kzpw5I0ePHpWJiQlN2+C+IL0hEAhowVq9XtcJjLU1YCew1xoo5j63qu/C63PgwAE5f/68NBoNufPOO2XDhg0SCoXkrrvukuXLl8vc3Jw8//zzMjU1pRNV/L8U7FEMt9g/n7q1ucDbxc0FXncsxtH+yiOXh8H3vOMHA+O6ldKOeqSdTUi7MiLtT97w8sd8ab20zx5+dcHXebu0b/zDKwLe9zuO9Di/8Iqvs5SAt6+vT/L5vExNTelSN8vr1u8IWLZaLVX9gDNAyapVZKECd0RxARKAAoqvBUHAl8YLwAFeXpbFbYU6KQ2ot7bb2UKleGFqBK2KgR2W0ym+azabepy2OxcqKSo4gIX9AssG4Do2NqaAw74Vi0WZnp5WiKcTGUVWzWZTYRWf5tjYmPpBrToYiUT0HNjiO47ddpYbGxtTr3E0GlWfbyAQ6Lj+TFR4Hbq3AcbAP49HGUbdBeQ5B7ZVtI2t416z8A3EAXa0RJ6bm5Pdu3fLpz71KbnllltkYGBAfD6fDAwMyLZt2+Tuu++Wu+++W+644w75/Oc/L2vXrpVNmzapl7pQKOhkZ3p6Wlqtlhw6dEgOHjwo5XJZzp8/L0ePHtUcYK/XqwWDrCRwze0KxvDwsDaUYOWBSSM2F64lx42y3mq15JFHHpGvfvWr4vV6ZcWKFdLX16fZuzt27JAnn3xSnnnmGcnlcuL3+zv849ZGks1mF/3nU7c2F3i7uLnA645FOZw3XBEUXnZ86P3S3rZJ2sHd0v6Tj13+cV/4c2lPl6Sn592vynG9+YfY/7dcRt3tWba0gDcUCkmj0ZDJycmOzFdAJZ/PS7ValXg8rsv1gA3LzCzZRiKRjmVfq56iRKKOWXuEBR/eFwUNmMLPWS6XdT9oU4yihjqLtYGIKMDCWip4f6DTFiQBZMBNOByWfD6vKir7QFc4C3UcA+CMKgjIWa+xjXjDIkBzh3K5LOPj49JoNLSwifazqOsUgGErsPtN8ZbNjUXdtgkD6XRalU3b4jgUCqmCbD2rTBYikYjs3btX6vW6DA0NSbVa7WhlbKGelQBrB+D/gW977oigi8ViHd7oaDQq0WhU9u3bJ5nMJa/tHXfcIQ888ID09fWpYoxa7/f75cEHH5QtW7bI9u3b5Y477pA777xT7rzzTunt7ZUVK1bI8uXLZcOGDdLb2ytbtmyRhx56SHbt2iXNZlMTL4aHhztgFW831yEcDqs3m8fYSR9eaM4/cF8oFNT6sH//fjlz5oxMT0/Lpk2bZM2aNeL3+2XVqlWycuVKKRQK8tRTT8mpU6dkx44dmrXM5MdOFEKh0KL/fOrW5gJvFzcXeN2xKIfzTmn/r09Lu+dHBN7/cb20N9wt7Ts/K+23v+Xyj/ulq6W96n9J+/Gj3T+mN7xLPn2F+/+LjiM9zjsv+1pLCXiTyaRMTEwoxKHGAjh8kaLmEgGFHzEcDuvyOAVcgA8qGLFaqIi8LqodfuF8Pt+h9gIwAGUymVTfp8fjkWg0qgo1zQ4ojqLrWyQSUVhnHxOJhBZTUYVPEZYtTErNN74IhUJSr9cVXoFdIIwCpGw2qz5jEhGAQxRVVG9yclFXaY4BMI2MjHSou9gUgGzOK9eACv9cLietVkubYDBpIIGhVqt1xGtFo1FNn0AtJNmBgj3UaSwv+XxeExCAdjrQMUmyXm7OA5Mjzpst6AIGbSbz4OCg1Ot1vYZYO2ZnZ+XUqVPyyCOPSD6fl3Xr1snq1atlw4YNsn37dvVi79mzR+PcAoGAxGIx2bVrl4RCIdm2bZusX79e7r//funt7ZVVq1bJ8uXL5e6775be3l659957JZvNSqPRkEqlIh6PR1Vr2igz2QJ08Vvn83kFZCYfhUJBWq2WVCoVCQaDEo1GNVUjnU7L9PS07Nu3T6LRqPT29sq2bdvE4/HIunXrJJPJyIULF+TcuXNSrVZ1ImInEFhLsNMs9s+nbm0u8HZxc4HXHYt1vMVxpP2xP/jRgPf//iVpL/+stD97s7R/5f/6PsD7Hmn/4UekXUx1X+W9wn2/33Gk5/uouz3LlhbwWoCtVquq8qFsWR8ijRPGx8fVm0tDBb6Aycy1flXglSV03pMiKQqqKpWKpjhYxc9W1aOQkrgABI+MjIjH4+kodMpkvtcUIx6PSygU0sp6lpwZRIHVajX15OI/jcViauuIRCIKc3hU2S+sFvy+UCho/Fkmk5H+/n6Fdwq86LxGGgXPRa3lnAOadlJiu6QVi0WZnJxUoMTLPDw8LH6/X9+X96DhgW1NvFD15v+5btwXHDsTBzJguV+4/lwzGpZ4PJ4OlRNFHW83/vBqtdpR3EZxpG0RjSL65JNPyvHjxyWVSsmGDRtky5Ytsm7dOlmxYoWsXbtWent7Ze3atbJmzRrZvn279PX1STAYlFQqpf/esWOH+P1+icVikkwm1Urg9/vl6NGjUqvVVFElWo3iQ64Fij5+ciYDQLtVtQF8PN6FQkHOnz8vJ0+elO3bt0tvb6+sWbNGNm3aJFu3bpVGoyEXL16UY8eO6f1mize5JlhzhoeHF/3nU7c2F3i7uLnA645FO5x3ylucN8gf/7Cw+5/fK+3f+5C0b/yYtP+fX7uy55RHpMf5+S4fz5Xt/7U/AHZ7li0t4KWqnpxTr9er8Ad0WBDCxwkIW7Ch1SsAaBMc+HK36qaNIiNaC8gEevkyJ2vWNjAAwimKslmzmUxGO6JxjCQU8HwADmXU5/NJs9lUhZGJAD7LarUqHo9HzxFtZClkAqJtogUti/EKA4McrwVLMlvtuQkEAlIqldRWwnmhsYJNWcC7PDg4qGowME/RG15S/LUWnlHtUfMBKhtTNz4+rnCH7YF9xp8cj8clGAzqPllY5xpwver1ukaF4Ye1SjKqOooyXlXg7tFHH5W///u/l/Pnz8uBAwdkampK71uaPKxYsUK2b98uGzdulN7eXrU1rFu3TlauXCkrVqzQCLB4PC4ej0cefPBBSafTMjMzI5FIRDwej6r6KdPKF2sPXd3wwdv4PSYV1WpVfcw26m9sbExOnDghe/fuld7eXvnEJz4h69evl/Xr10skEpGvfvWrcu7cOclkMroftVpN49Q4d9zXbqe1y28u8HZxc4HXHYt+OG+SX3Uc2e04kvtBwHjjR6W96gvS3n6ftP/6Zmn/v++X9pt/MGT+R+fyBWI/vuP46R+4Hw9cgbrbs2xpAa/P55NMJiNer1cVNvyeeFf5YueLG2DFewssowQDS/hKAS2WhIeGhjSCjAIn+4WN+mUbTNAMwvo9q9WqvgcpEgt9pxTKkV0LMPJ7gA/IZZ+wDQAlWAZYomeJnfgqcnnx4uJBBdqxZ9AyF2BFdUXVTafTCpLBYFC8Xq9aBKyNAZAcGhrSgjWKo7hWHP/evXsllUpJIBBQuwWQRpqDjdCyPlSgmXbCdEAj4QGIrVar2hSD62M7qPl8Pv0dhZCcq4UWGBRlIB01n+tmlfVYLCaFQkGazabMzMxoDNkzzzyjNoAjR47I/v371Q+8bds22bBhg2zdulU2b94sGzZskE2bNsnGjRtl+/btsmXLFhkcHJTp6Wmp1+sK2AC33+9XWwKTMe5xlPTUfDMWPONWZV/YtbDRaMhjjz0me/fulQcffFA+/elPy8qVK+Xee++VSqUiZ86ckdnZWS26Y2KHUk4BHvdCLpdb9J9P3dpc4O3i5gKvO5bEcN4pb3Ecud5x5I558LVjj+PI3Y4j7RtvkPYX75b2Pf9b2n/+P6X9sf8m7d94n7Q/+H5p//J/eEXIzDmOvM155bzbH+8x/Jzc8H1g90HHkV+4AtjtWba0gBflFO8lIf02IcH6S3O5nITDYe16hmqLNxa4s92tGBSeoSSS3IAajJJJkQ9KIfBmWwSzdFwoFCQWi+m+ViqVDiWO5WYUVbqGsSwNOKKM2XQHu3yPCg18U7SEMptIJPR9AEeruAKBeHgzmYz6QYF6QCkUCilQ09gANdmCF4kDQDe/Y9Lg9Xo16cD6PTkmC1DYRqySz7XHpmAbiDAJAI5LpVJHqgJFWSjqtqUynmq6wmFNseeOAj32xyaDMEkgAi4cDks4HNbMWhRUzlG5XJaZmRk5cuSIPPvss3L8+HE5deqUXLx4UZ5//nl54YUX5MKFC3Lx4kW5ePGinDx5Uo4cOSKNRqNjEsG+YK0g8cJOoIBv24SF+4YCzXK53BExNzY2Jnv37pVDhw5JpVKRaDSqzVMOHTok09PTUigU9Di574aGhrTxiE3lCAQCi/7zqVubC7xd3FzgdceSGs47pce51G73w44jn3Ec+TPHkd92HPmA48gfOY583LkU6fVex5FPO45sdRzZ6TiyzXHki68AyyOOI8ucd3R/36+6Wv5Px5HbLOj+wlul/b5fku2OI7/pONLj/NwVvdZSAl4UXpRQv98vpVJJO69RwAV4YnWgkxoKL0ogWasogbaNLcVeHo+nQw3DOmAL2vCgWqgGhoAlvLyookAJ3lISD4hwslYG0giAx2AwqAqoLVgDDguFQgeAAbz5fF6y2azs3Lmzo6DNKtFMCGwkWTwe71BLgV/2HbUX9dAWsVGgZFsRs/QfjUbVg4ydIhQKaVRaNBpVZRolHN8nCisgx/Xg2tgCQNthjfNgr1GxWNRjsJaNhRMXouY4T0wyotGoZkEzmQLmUEVRqm1RXTabFa/Xq1YXuqWhuAcCAbVkTE1NyezsrMzMzChsTk9Py9TUlEK/7TRnvdt4lvF8A8GAKPcPSQ48h3xivN0+n09CoZB6uKenp+Wxxx6T48ePy+nTp6VSqahHGjsQkE1babuKgB96sX8+dWtzgbeLmwu87liy4w3vutR213mr9DjvuGRJcP4PWeb8lLzR+QV5k/Mz8h7Hkf/pOLLRceQux5E/dBz5DwZ2k858c4duq7vzY5nzM3KN48jqeUV3jePIJseRP3UcebPzlit+naUEvGSpohJZNYouTnxxE3YPeFEohmKK6jcwMKDpBnxRp9Np8fl8ChBYBizYoiTS0czaBxqNhqpbQEOxWFR4I07MKqNer1cCgUBHJBlNACg+sgAaDAZf1rGMY8jn85pxSsFSOByWXC6ndgjsArQVprCLZhycM4q1gBnOH+fKFj6hEKKGojbm83nx+Xxa2EWrXlskiOJMQZadDDCBwZ/L/mO9QGUkkxd/dmo+qQOgB/hs4R3nA2804IztAeWY7mq0bS4Wi9pVznZiYxKErzmbzSoo0w2Q81MsFtXawj0UCoX0/Pt8Ps0a7u/vF6/XKyMjI9LX16cpB0TN4Y1tNBpqU+F1AF5UbtRmrjFKPkWVsVhMgsFgR/IF5z0QCMjOnTtly5YtUiqVpFarSb1e1+6D2IQAb84NvnkmqVwP18N7+c0F3i5uLvC64ydyALBXXS09ztukx3nDJW+s8875n73j0r9fJdC1+7XM+Tl5z7z6/AXHkevmFesfph3yUgJeqvhRB4EvoIjCL5IVUEBRroiY8vv9HUvi4XBYQY2oKQq3iJpCmQVoGHhSgYZ4PK7KH35ZG7Zvl+1RfoF3CqKAPbs0jW/Z5/Pp41EJUUlRq1Fj8fjaAiySCIDNYDCofls8qHYkEgkplUqaTEDVfrlc1kYPqIWogZx3q1Kj+NmldjyjQDf7j5+W7GKgyhbxEWmGSuv3+zs61/l8Pr3eqL2kKgCpqLeoygByLpeTWCymXf14LCq9tSrgKyYWDAsAx1apVFRpxlcOZDNh4P4AkHO5XEfONM9PpVJ6XLbID48t57ZQKKgFhMkDqjcQa9Vt3pcJC9DP/UyRIMWPfr9f482sQkzxX2o+LWR8fFyV+mg02pF8wn2aTqcX/edTtzYXeLu4ucDrDne8DoeC+A8HuoylBLzWVgBUABJ8eaPIAiF00yKWDNUWVcwWVwGoLLkSW5bL5bR7Ff5Olmptd7ddu3YpMAwPD6vylUwmO5pfYKUATnhvuzRNvBhZuSjYAPrIyIjUajUtxiuXy6rK7dmzR73GQDWgYz24wJZVg22hGXFvKOL4iO0YGxvTycPAwIAqjhQMAnbWXoDaCKTZ+C8G72sL6oA0igTpcIeSzH5wT3COLCTze5Rh9g2FenBwUBV4O7koFotqJbHtkWk+MTExobDO/Tc6OtrRvjoUCkmr1VJVOxwOi8/n67CtcI3Hx8f1mnFsTEK4b1DPOUbOIzF6qOnWT8yxxmIx2b17t05+8DxTzMiEg/szk7nk6a7X6xKLxfQe5FyxH0yI7IQLqKarnrWMuDm8l99c4O3i5gKvO9yx9MZSAl4gkOVQPKMWXinUymQuRVShRgYCAV3yJX92bGxM/b3Wl2nbr1L45vf7O9S9UqnUoZTyRY71gJQEgIH/NhoNmZqa0uIpVLVEIqHL6rFYTNVE1GqiuWKxmAKzfS8UY6AlHA6rbQF1t1arST6fl0AgIJVKRRtYWFglqQLvMh7kWq2my9IU/OEjBjSBcs4nzyHjl1g1wBnowRqQz+c7oJVzhhc7GAyqFYBrbVs4o7riM+YaAOss42OVIJeXa5/L5aRQKEgoFNLMWQb2B2CO51jFHmjknsCjijKKeu/xeHRyZtv8otzS9IP7aXR0VBXWhYWFtqCPe7NSqehkAAsDj8cW0t/fr+cmGAyqRSOXy4nH49FzQ9IE55f3YGJDNz281TaSjXuCY0UN5r5Ip9PS19e36D+furW5wNvFzQVed7hj6Y2lBLwoThZQ6R6GD5IvW9RNloRRy6iwRxGrVCod+bnAFP8FoAKBgKpXqIG2axUqKK1wSUNgqZznoUgCqACXjebCf4yvFiip1+uaZmAL1lA76TiGr5fmApFIpMPGkc1mJRQKSTAYVDUSGCHv1toybMJCNpvV4sGFGcf4W7kmNAaxx+fz+fT/UVgBeXsuAFref2GzCY45FotJKBTSyQOFi9gvAEL2A7BFgcTHjILJdUmn0+rFJj+We4+MWrsvuVxO34OJko2Po0GFLZK015ylf9uWmRUKFO5oNKoeWyYeyWRSIpGI+sdtww+bhgCEN5tNGRoakmg0qp54vNuotlg+2HdsCBaGQ6GQTl74e8D6w3uxGoGHnYI27DiJREKCweCi/3zq1uYCbxc3F3jd4Y6lN5YS8Pp8PqnVajI4OCi1Wk3tCOFwWDwej8IcqiUFQbaBgt/vV8gCSlCB6ea10N9oFdxisaiQiQpLIwMgCNi12b4UIIVCIQmHwxIMBjsK5VBmgQW/3y9er1e8Xq/+HFuF9W7SMhalE/gHPIgHQ6kDyHhNCpxYcmY5G0jn3FEUhwfYAqfdp3g8Lj6fT4EMCETNRFln34A3OwHgNT0ej74m163ZbOrEw0a14RnGwrHwGgJZ9nhZcgf0rN91dnZWgZXjbjQaMj4+LvV6XWq1mkI99wSqt7VnWAWZgjImE9VqVYrFoubncjwAufVCo+Zbn6xVb4Ffii3tveD1eiUajeo9Qqwblg2uH+2c6bZmJ5ZMhpg4chw2xcLmNaMKA/aswqBm87NYLLboP5+6tbnA28VtUQKv8wvzlfeOtP/2kLSfOS3tc0ekXR2R9kPr5ouPHOlx3nKpO5bzDulx3mx+7lz62bL3vPpFSe5wx6swlhLwsnzKFyoqplXn+B0tgPEnkmqACgoURKNRXXa1gBEMBju6rwF3triHAigU1VwuJ8FgUMLhsKZDNJtN2b9/v8zMzEitVpO5ubmOmKrJyUmFiXq9LlNTU3pMNlvY5/NJPB6XQCCg6Q7k9gLVFuxQI1H6bGMKC0PhcFiXm4FHJgqpVEpTLJLJpIIhUGijrVDUKUhif/AyA0+cK7zUABR2i2w2K7t27dJJCQVPw8PD0mq1VAHlOAA9VOhUKqX2DxpQoL7agi2UU6to2qxiVGrU5WAwqNaMer2uLYix1jAJAgYpgON+q9fr6rEGtimUBCp5D4rrKIBDmWcyBCwCyalUqiOajXNDBzeex3NS85nP9l5gsse1KRaLOnFA7SWVgQkG55L7KBqNqi+Zjng2JSOZTIrX69WCR4rtFvvnU7c2F3i7uC0q4HXeIe0990v7V1+5QcArjut+6/K/8z8k7Ye3S/svb5R2PiE9zs9KT8+7X/vjdIc7/p1jKQEvKQI0U2Ap26qS2AzwVwJbtVpNC3bq9brGSLE8n06npdVqaZc04BKv6Z49eySdTuuXOkqnVcDq9bpUKhWp1Wry6KOPyuOPPy4nTpyQ48ePy7Fjx+T48eNy4MABOXLkiBw4cED2798vx48fl3379mn1/oEDB2RyclL2798vjUZDTpw4IbOzszI9Pa0eU5s4AQxixwB4bNMGv9+vAIZKDDjaZXji1wBmlr5ZXkeRtYovwEYhGe9vC8E4V8AjgP7/t/fuQXKW17nvhPh452TvnOydyt5JTtWpXZWqQ0xhWRJg7EqixDjGJobgUpUrmFhYpmQHCwO2w91gGYHxSJpL3+h7T/f0DNMz09P3TvfMaCQxoI2EDDYYCmRjLsE+BMd2HAdXOWQwrPOH9Fte3Vg7GNQM06yn6i3ETF++23zf8z7vs54VjUYlGo0q8US1xdtJLBhWAIgSBWOkAaDi5vN5CQaDqi5CcK1FA5+q7U5n1e9QKKTHg7xa601Fmaa4rVAoyOLiolQqFS3UQ9nECz46Otpx3PC/2i52/JfzaMmr9YFzPCG6sVhM223bojPILIV/TGzYByLEmOAxoaObHCqvJfO0ZbbXmJ1McnytWk92cqlUUpUeWwbNKdb6/alXcMLbQ6wJwnvK78nKyJdfPcl9veN/tY9VyK/2fvvw8RpHPxFeluFtRTmkjegpGwuGwob6S1QUS7gssaMUWzUNRQtSm0wmtQgOywFqL2rpQw89JPfcc4+qqxCmWCwmu3fvllgsJrfeequEw2EZHBxUi4UlDbSBDYfDkjuenxuPx2VmZkYWFhbk4MGDSpZpr5xMJrWjHIVoxH7RKIDPhyRCviCqLMVDulji52cs4RNv1W63NQ2gUCh0kFaIOR5da1mIRqOak2uVZRpTQPhsMgSEmnNvf0Y0G2TMklQSNyj8IgoLXymKPdYFq2BzzRADRiMGfMqRSET90YVCQf3KxJBhhajX63qNkegB4WSywHHmGFovMdcf5JyVDSw0bBve8OnpaVVY7d/HzMxMRyfAdrvd0WyFlQKrOjPBw67CRItjbC0oFCxCwIn0W1xcVMJurz8KA73T2onxliG8P//5z2XLli1y/fXX68+Wl5flggsukPXr18t5550nBw4c6HhPKpWSTZs2yfr162XLli3y5JNP/krf+aYnvANvkw1vFNHtHr/zNll5+purfwx8+PgVRy8I7xt9f7IKLyrjzMyMNJtNJUa0T4U8UaGPLQGvb6PR0I5reD6LxaKquby+UqnIwsKC1Ot1zelF/YVYWBUNhXhy8lhHqkAgIDfccINcf/31csstt8htt90mw8PDcvPNN8vOnTtlZGRE9uzZI3v27JFMJiNDQ0OSSCQkEAhILBbTzxgaGpI9e/bITTfdJENDQxIKhaTdbsvevXvlvvvuk8XFRU1yYBtTqVRHYRRL0MRpQRghULbFLLFfEJmpqSk9NjQ3QMVECaVzGOQX3y8tmyORiHYQsxnE2AbwPtPcAStKrVaTRCKh28RnQrjZLs4DhBu7AAqo/b5sNqtZwZBhSC+TJYq0INnsD0QQJdNG4rHdfC/kNRqNSrlc7tgHbBdWMWaCwvdAKPk+SKu93jm+fC72DjrRYU2p1+sSjUY7LBK2uMymTqTTaVV3UWJtFzqbboKaznZirWBFgGtodnZWGo2G2h7stZnL5ZzwngBvGcIbDAblHe94hz5Qnn76aVm3bp0sLS3Jiy++KK1WS971rnfJ97//fRERqVQqsmnTJnn88cflhRdekMHBQTn//PPl5ZdfftXf+WYnvO9cLbJrx8b/9zVlofp4/WPlB0/Iyj9+S1aePbrq27KWRi8I7xt9f7IKL6pgo9GQUqmkhNV25OJBjrJGXiodpHi483l2uRsiND09LXfffbeUSiUliVNTU7rkTUQUpBGbxMjIiBKQWCwmO3fuVO+iVSLx4bIt+GCLxaKqwtVqVclnLBaTXbt2yec//3nZsWOHRKNRCYVC6vekU5mN2iLtgEg2lEUUbZRbiKttA0uSw8zMjAQCAV1Kx76Z/eyiAAAgAElEQVTBsF7jSCSiWauoquyDJXiQIwgeBYjNZlMTFiDO/D+NRlD38XNDpm3KBFYPCBsqM35mjgXL7aiznAcSCWwRIoQPEsl+LCwsyL333it33XWXLC0t6e+ZgDEhCgQCHVFgTMJYaUBdZtm/Uqkoucf3TMQZhZJWCbeEn4kfRNvmGIfDYW1sQfoE54YW1JBhiDbbQ3EdLalRmq0fOZfLSbValaWlJc0aTqfTmhdtFW0SI5zw/nK8JQjvoUOH5MMf/rBcddVV+kAZHR2VSy+9tON127Ztk1AoJCIiH/vYxyQej+vvVlZWZOPGjXL48OFX/b1vasI78DYJrDbZPT5+Y+D/XP3j8RYaK//0HVl57D5Z+Z//TVa++kVZGb9DVh7+X058X+U42YR3Ne5P3Jtuv/32jiKsxcVF9dQy8OvysMbTiJ2B5XSboTs3N6cPeBox0MwB2wIPePt5kJtUKiXValVGRkbkhhtukFtvvVWXjkdGRuTLX/6y7Ny5U4aGhmRoaEh27twpe/bskV27dmlTi5tvvllTCbLZrIyOjipphcBms1mJxWIyPDws2WxWPvvZz8o111wjmUxGfcBYMojRQvG0lfv4gCGeEEkICqQEJRB7Ap9nJxT4Xm3jB6t+2yIz9mVqakoJFxYFFHdrjWC7ScOo1WoSCAR0iZ1jT6YuCivL/naJngYI+GyxDlQqFWm326pczs3NSSKRkFarpYQ9kUhIJpPRGC4mT0eOHJHHH39cvvGNb0i9XpcjR47IY489JkeOHNHrEisNFhUIvF3mHxkZ0UmULVhkQkQGNCQZ4kiaA0TVqs9M5iC+tmgR4kpSCfvG9WAnBrbIsFAoqAebfcCmwISNls7WMmNXBFDvuc49peHE6HvC+6Mf/UjOOeccOXr0qFx//fX6QLn88stlcHCw47WDg4Oyfft2ERE566yzZP/+/R2/37x5s+RyuVf93W9uwjsg028Csstwlbf3Y+WfviMr08lffg7OWicrrelV38a1ME4m4V2t+xP3JhRHgvZR4rqXgFF0ediTi8pAXbSFQKhW2WxWv4fldIgE/09yAa1+A4GAlMtlSSaTcsMNN8iXvvQliUQictttt8nIyIjm8aKWYmfYuXOn7Ny5U7761a9qAVcymZShoSHZtWuXxONx+dKXviQ7d+6UG2+8Ufbs2aPqa7FYVIJ94403ypEjR+Tee++VWCzWQXY5XijjmUxG0wIg/RB7yAwe0mq1qkvbECpUaghRNptVNRJCFY1GdVIAUU8mk6rkRqNRjcSySRKcE5R0smUhd9grstms3HvvvarS1ut1jdrCcsGEByJG22nIsO1MRnFVd7MFiiNZPWDJ/sCBA/Kd73xHHnroISmVSvLxj39c3vnOd8pf/uVfysTEhDz22GNK+FBs2QeuNXzD2BIgm/hrrQWECQAqbi6X09SPSqWi1369Xu+wQUBEIa6QT0gvCnPueIZuoXCsQI7JXb1e1xUQLBLW+hCJRNSfzfUGkeW8EROIKt5dMOgK74nR14T3pZdekksvvVQmJiZERDoeKFu3bpVgMNjx+kAgIFu3bhURkdNOO00OHTrU8fuLL75YotHoq/7+Nzfh/V259k1AdFcGBuSigQEvZOvhWPnBE7JSGf+Pz8W5f34slu5NsM1v5nGyCO9q3p+4N0WjUfU6UuWOd5RuYBAeUgVQZbvVUjyILPeSekCSAZmtPLTL5bLUajW1KgwPD0sgEFBik8/n5cCBA1KpVKRer8vXvvY1OXz4sBw6dEh+8IMfyNNPPy0PP/ywHDx4UL7xjW/IoUOH5J577pHl5WU5ePCg3H///fLoo4/K4cOHZf/+/erZrFQqMjo6KjfeeKPcdNNNsmPHDrn55pvl5ptvlhtvvFGuuuoqiUajmvxg1TbUayr0bbIAGcC2qt5mGFO4hoKKusixhMDTZcuqxHNzcxKPx7XIjc+3y/lMKqwvFEXVHlOr1PLZdukeMk97Xs4XvlPIJYVq3QkGEEosCKiOqPPJZFJtLEtLS/JP//RP8uCDD8ry8rIEg0G58sor5T3veY/85m/+pvzhH/6hBINBefTRR2Xv3r1qrRgfH9fjRmaz3c+pqSmJx+MdBXYjIyM6OSHVwZJeaydANa7X69JsNjtex7FDJUddx7pCMd/o6Kj+nPNCkR9/O5BjPherTyqVUnsNRJ3JBZF/dIujkJCYulAo5IT3BOhrwhuLxeSyyy7T/7cPlM985jOya9eujtcPDg7K5ZdfLiIiZ5xxxiuKRDZv3izj4+Ov+vvf1IT3bX8g/2VgQIqvk6wWzXitn/GpgeP5vW+CY9JvY+Xb98vKZR9/9Uq7n4f/cJwswrua9ydbtGa7OfHwJdKp0Whoi1qUL7t0jFIJOYCQVSoVLZgaGxuTYDCoKQwUJqFI4bVkOZgHvK1Kp31wu92W++67T+6991555JFHZGlpSZaXl2V5eVn2798v+/fvl4MHD8qhQ4dkdnZWbQkLCwty+PBhOXjwoHz961+Xe++9V/bv369EAbJ64403yq5du2Tv3r3ywAMPSLlclt27d2umMOp0IpFQDyUEjGIyjgMRb+S22s5ktCm2yQ1kDVtCTPbw/Px8R05rofCLLNdurynEmqxaq3QyIG2Tk5NKcFFpeQ1Kv80jhvxRMFapVFTNRrGFcEMg+TzsFqwCHDx4UJ566im57777pFarya233irXXHONjI6Oyg033CDnnHOO/Omf/qnMzMzIM888I3fffbckk0ltMEKGLeo7ing4HO7IDMZ3TEEfxBw/7uzsrF7DbCsrHRzz7usdxdaSZroRMsFpNBp6PLCLQJB5DfaHXC7XcazYBiZA9hzbCSOKsW3+Mjk56YT3BOhrwvuhD31INm7cKGeeeaaceeaZcvrpp8vpp58uZ555poyOjsq2bds6Xr9t2zYJBAIiInLRRRdJMpnU3+GR61ZV/nd4sxPeUwZ+V0nvqx2BX+G1r5Ywf3Bg4FgTi9U+Hn00Vu7fLyulrKy8Z/2vZi1xwvsfjpNFeFfz/mSL1lCMrP8UcmY7O+HzJJLLVu6zTGur7Hngd5M0m34wOXksNgtShZfTdqSieUAsFpNIJCK7du2SUCgko6OjsmfPno5iM9oVE/0EMUHdZKl43759cs8998hdd90l3/72t+Wpp56Shx56SB544AG599575amnnpJGoyEzMzMdFfgswXd3OENhhfzRShkSRp4vpIXtYyJhSVWtVtPvwm+bz+c1fsymABQKBWm1WppmQZETxVqWfGJBoJjNtiOmAQTnnC5hWBgo6sISAcG0Xe/YZttwo9lsauwa/tv5+Xl55JFH5OjRo3L33XfL4OCgbN26Va688kpd1v/qV78ql112mQwNDcmDDz4ozzzzjDSbTdm9e7fmJBcKx6LLUNRtHjI5vGRIs3JhVWHOT3e7YI4LxYEQSjuRqNfrut/xeFy3B3XXWkm4LmkmgR2I78ODy/XERAbFl78v1OLZ2VktCg0EAlpkyTYnk0knvCdAXxPeblgF5YknnpB169ZJq9XSKuh169bJU089JSIixWJRNm3aJEePHtUq6HPPPVdWVlZe9fe96QkvY+B35O0DA/IbAwPy9oG3yykDA/K2gQH5T8fH2wYG9Pe/MTAg/3lgQP7bwID81+P//q2BAfmDgQH55MCApH4FEszP/i8nWSdtrOyryMof/v5r91L7ufgPR69yeN/I+xP3Joq6ICt4ecvlsna84qG9sLCgtoZsNqvFalaRgrTyOSiGfD4EkWgl/g0hgCBa5ZHvTyaTqhJC+PAF4wXGz4gtg9xaWyXPsjbva7VaUqlUZHFxURYWFuThhx+Whx56SDu+pdNpqVQqHeonZJJmA+wH22SbePBzotEoPIK4ohhCcPGIWksI+1ypVLSQECJn0xFQ3yH6KO4ouqjTVpkkD9h6jEulUkcbaNsIgfbLthCOc0sSw+LioiYJQEyxpCwsLMjs7Kxcd9118oUvfEE+//nPyw033CCFQkF2794tX/rSl+Sqq66Subk5+c53viM/+MEP5N5775Xc8YxlUivIxmXyRPIGhLdcLnckGnBtZjIZJaioq9ajjhXE5kXzXvy4EFIiwThO1nfNdcJqiS0045wSQWZXADgXtJLmGsYnzHZhb+Azsd0Eg0EnvCfAW5bwiojcc889cuGFF8qGDRvk/PPPl+XlZf3dyy+/LGNjY/L+979fNmzYIJdccok+bF4t1gzhZXR3Qvv13+9sD8zvf/33jxWZnfJ7v3jNr/2P462Gf9Fi+DcGBuR/DgzI35yA/E4MDMjvuLp7csbAgKz82uuzp3xiwIsHX814IwivSG/vT9yb8GmiSNE1iwe2JRCoexT28BqUwXA4rC1kydu1S+moa1gYqNC3ZJEMV97Dv2OxmMzNzXUsiUMYbb6tTTuARCwuLupyM58LuQyHwzI8PCzhcFgjpVChbWvcWq2m/k6sGkwULJmCjFnltFA41oSASKxwOKwqLsVuWA+wCExOTqqym0wm9fhjHWApPJvNytjYmCwtLanPk2MAMbZZtXRWm52d1YkBiQFWobVL69Vq9RXZsbyXfbfq48zMjOzatUsV63a7Ld/97nfl4YcflrvuuktGRkbk6quvlr/927+V2267TYnd7t275TOf+Yx86lOfknQ6LY888oj84z/+ozz44IPSbDbVbx4KhV6RGsG1YAkn25bL5aRWq0mtVpNKpaKdACkis5YPSKO1ENByulQqSaPR0HOFilwo/KKZBxYeVi2wMnBM+VsaHR19hbebY0/x2+joqEQiEbW8zM3NydjYmFSrVfW/o+rb1si7d+92wnsCvKUI7xuNNUd4ezF+7X8cK0gzJPi3j6u6b/d2w69/DAzIyvnve92Fg8Xj52bV92cNjH7qtPb3f//3Mjc3J4FAQEKhkGQyGW28AKFAicKjan2jeGyxNvAQtz5QLAosOaNuTU5OyuLiokSjUc2HhThVKhXJ5XLaWYuILUgIxW7NZlPGxsaUjEJeSqWSki+rjqKijY2NqYJNVnA+n5dAIKBL+taGYb+TJWbIFSrhxMSEKoXxeFzTLFBtsXCQW9xsNrVLGeQedXVhYUEJE00hLDmCQJFIUK/XpVQqdSjffB9+40wmoy2RsZ5AzNPptB6zarWq8VjWHgKRpDmFvRZQm1Hhx8bGZGFhQZaXl+XIkSNy4MABGR0dleuuu04+97nPyZe//GUJBoN6vnfs2CGf/exn5fOf/7zMzc3JY489Jo899pjcd999mlKAEpo73oSChhAQcNstkEkKk4RisSgLCwt67XFe7SSLrn827QCFFdWd942NjUm9XpeZmRmp1+vSaDSU4GP5sR3qOCd8p404YxUDBbtUKkkikZBIJKJ5zVz7+H/T6bS0223NFOZ802Z5rd+fegUnvD2EE94TDNTh1d6OtTwGfltWbr7qpBDdKciuq7uvavQT4YXoofKhYC4sLLzCnlCtVjviufL5vLYKtp5TLAjYFiCBY2Nj6qmEePBaPIoUfNmCJ4gWyif/pjrd+lrtMj7fY7tlQeJsowMis/BrJpNJbZzQaDS0e5z1305MTMjS0pISYAgpSjWkKxgMyt69e7UIit81Gg1dIsfzmc1mJZFIvKJzV6PR0AxbFFtr0cCSQPc6u510QYMo2WNqSSzV/nR4w1sNqccbjMe7Xq8rOSOaDeW+3W7L/fffL/v375f5+XnJ5XIyNDQk1157rezYsUNuvfVW9cWGQiHZvn27bN68Wa699lo5fPiwfO9735MHH3xQO9VZUk3RXDwel0QioZMQjiXbba0hENVWq6Wfw+QLBZZjwQRlZGRE4vG4Tk66fe227bKdGEHOQ6GQFvmVSiXJZDK6QtFtX5mZmVFfrrWicK64LlmFoZiNvwcK+ZgUTk1Nrfn7U6/ghLeHcMLr46SPU35PVsbDr5vorgwMyA0DA/L7AwNyysB/Xv39WkOjnwivrQ6PRqMyNzen1d/khNrwe8gkhIr34aElF9YSFbygdpnXElSC9lHBWLptNBodua+QLQjK1NSU7N+/X0kHBA9FjFxdSCgEg+9CTbWKNUowKjDtk8fHxyUajUqxWFRSYj3BkCzrt6zX69pUAzKK4my7eVGYxs/YDyYHpVJJkx7y+bwWdkGUIW2QK44h+2hjwVj+hgSi6k5OTur+EXmFYppKpVQdp2ue7b4HIZuYmJDFxUV5/PHHdXJDrixd8FC0r732Wrnqqqtk+/btcuutt8rMzIzcf//98uMf/1juuusutW4wceD64d90BmTCwu8tObTtoe01wTVPkwk8vt1eb65pzg8kmQYq5BpbQs71MDw8rNc1jVtsK2TsIEwmOX7hcFjq9boqvtZeRJ4xvnBWF7LZrAwPD+v1MTs7u+bvT72CE94ewgmvj5M5Vv6/x2Tl7HecFFX3C16g9ppHPxFeu1SMqmobRcRisQ4lC48qCQh4GyEI1ntLEwVUSMgjhML+F/KWyWSUTKEuJxKJDs8wCQKonyxfQ4QgpRMTExKJRDRJYGJiQgKBgExMTEir1VK1LRaLaQIEJJCl6XA4rMkPFIbZZX6W92OxmNTrdW3PSyJArVbT5e9araaEzObkLi8v63GYnp6WYDCohBQ10Bbs8buZmRklhExG0um0FlmFw2FVwiFMECibQ2vb00IQUe5Jx0DNhxxD1GigsHfvXjly5Ijcf//9UiqV5Oabb5YdO3bI0NCQtNttabVaWqh24403yuc+9zm55ZZbpFqtyte//nV58MEH5ciRI9JqtTrsInNzc1KtVtXiwvkjJ5cW1EyeUK6ZMHHNJJNJbd7BpAmrQTwe1+OHgs7ruY5Qzjl/qMw00cAfbf28vI7jj/qMgk4iCRMJ/n5Q0yORiCr72WxWGo2GWli4VjOZjJJ07CzZbHbN3596BSe8PYQTXh8na6zsLZ0UVbc4MCAXO9l9XaOfCC+KJNXeeD1RDXmoUrgzOXks5zSTyUgqleqIHqO9KgSZBzsPfZQulp4rlYqMj49Ls9lUAotqjEpnC66sqsVrsFlAVFE0IQSouahftJdlSdl+H2QIkmNb+KLuobqRnmCzW3mPVXshajZbmGNK2gXeY0i9JS+2MIuJQLvdln379mn6QjKZ1ExaS6zwHbfbbS1mssq0zYxFubQKJ9uTSCS02A2lMxwOa+Yw6QutVkuCwaDcdNNNMjg4KIlEQs/32NiYtoROp9Ny4MABefzxx+XRRx+Vxx57TJaXl7U4DkWYc4/qzHUIOae4K51Oq4+ViQqTH+LXeJ9V8ycnf5FmYQkq6jqtjCHWvA9rBIowajITLVYJrNfatjVGVWbloFQqSbvd1skN5xUyzd8Yx4MJXyKR0Mg+q0rv2rVrzd+fegUnvD2EE14fr3sM/HdZSQyfFKKbOl4s6KkYr2/0E+HFYsDDlOXqfD4vkUhEbQrEPnX7GVHLyCKlMMoSC3yFqHXValVVOZt2YLtRQR5ZhkYZQwFG6QyHw6p0WlIO8SEbl2VtSBivwZOMf9buHx5MPJNYBLBcQL5RsxcWFpTcsR31el3a7bbU63UlWeyTTRPA51sqldS/y++GhoY6iCrtiqvVaoc9gqr9SqWiBU0syVuvNorx9PS0hEIhnUhA6prNpm4fHdGsEsyxqNVq8sgjj8j3vvc9mZ2dldtvv122bt0qN954o5LGwcFBuemmm+SWW26RW265Rebn5+Xw4cPy7LPPymOPPSZzc3NanDU6OqrbhxUEVR3LARMy9oXrkC50WBeISMNGwLXExIRzziTGJlzY1sQ2T3dmZkai0aiec0s0sYBAcHO5nDbFoKiR/1orCQ1aLNnmeDMZZWIIiWfFhL+zsbEx3d5arSYjIyNr/v7UKzjh7SGc8Pp4PWPl8KKs/MFvvS6SWxwYkP9n4FiW8ikDv7Pq+9QPo98IryWntiCGHNqxsTElg3g6KVJCicIaYQt7pqenJRqNqjcYfyFEjAxcCLFVNCEpfE+xWFSCATlje216AwOFE/KJ+tVdpGXVZAg95JTvwOtbrVY14ozPISbKektRKcfHx6Ver8vBgwelUChosw6UWCYUtj2vJTr4OFk+5/e8n2p9SB0EMJFIdHhfsTHQYIQCPc6NbTPM+STZgeYREE6SM/bt2yfPPvusHDlyRAqFglx77bVyyy23aORXJpORr371q7Jt2za57rrrZHh4WL72ta/JE088IYcPH9ZtwzZC7JzdFqueW9829hgybCHsWHKYsGGL4DxiFeD9HEN831wzqNvFYlFarZZGwGFFqdVq0mg0dFLG+ULBZcKUSqW02Ud3/Ju93kkyKZVKUqlU9D2pVKpDmaaIslar6USRqDT2pVAoyPDw8Jq/P/UKTnh7CCe8Pl7z+PXX3jwConsF6QsD/33196ePRj8RXnyzPDBRPIm0onrctmQlbonGE7wOFYxkAF5L8ZBVeyGGPPSXlpY039QWhfH51jZAURf2A95DHBgkkexV4tZIc8hkMkpqaS2MbxNlkiYO+JshXXgt8/m8qp/tdlvGx8eV9JNZiyo6MzMjo6OjkkqldNtZzma/IHsUREHCUKFtARmk2Fb7W7IeDAaVYKXTafUd0xYXggWhrVQqqgJPTU1JLBbTQjdLhLPZrAwNDUmpVNLYsEgkItu3b5err75at2d0dFQ++9nPyic+8QnZs2ePLC8vy9GjR+VrX/ua1Go1SSQSGt1FwgBFexxjCDDXYalUUj8rvmQI8d69ezvSKcbHx3UiBUnHlw7xxU89Njamqw2QUP4GrDeYCQLHmWufz2CS1Wg0JBgMSiKR0M9GdSb2jNSSQuFY17l6va7XBdvH3xp/H/jkWelgskYcHVYi8qPX+v2pV3DC20M44fXxWsfbXgfR/buBY13wThn47VXfj34c/UR4iVCyXtDx8XEleii81WpVGy6gvtpleZZqeShbLyQJDxBUCFwmk5FgMKjvq9Vq2g6W5VoKrUqlkhK0bn+vtSeg1KKwzc3Nqc/TFsnZphKosRAM9pl9ICWB7mnYJfCKsu18NseO10FI+C78zbnj3cnwHk9OHsu2XVxc1PNgl9bZZvafNAWInFXEmYBAZCFREDuUdPzGbBeKt/Ws2rzeRCIhi4uL8s1vflOSyaSce+65csEFF8jOnTslnU7LddddJ9dcc42Mj4/LAw88IN/73vfk4YcfVqsGqQ3k/bbb7Q5Pdrvd1u22Obt2wkHhHMcYGwwrC1ahxe/KvtlcXo5bKBTqKLikmMymOXD9ZLNZ/X5INu/hms3n8x050Hih2TY6vU1MTEitVpNcLqcTQ8gyf1uRSESPgbVdcH0yIWSyxzau9ftTr+CEt4dwwuvjNY1f/335P14D2b1u4FgL6FMG/uvq70Mfj34ivOFwWBYWFlTBoqDG+h9RvCCGRC5BdFGbbE6uVS/5HAqA8GCSvQsx4fPYDryiEDB+ZvNkIZexWExTBmiDi08TckTjAdsUgO1FdaYQikgsbAdEitm4MMgFRBnbAduFYg4Z3b17t4yOjup7IbEcF7YF/ypE3/6suwsYy/SovFNTU1pMNjU11UHErY0AtRui102grH3FJkBQJHXXXXfJ6OiovPOd75R3vOMdctFFF8n27dtl165dMj4+Ls8++6w888wzsry8rKQcqwHnhp9zjsvlsk4wyLm13lWbectxYVtrtZpet1b5xtKB5aM7Eo5jNDU11VHAFgwGZWJioiOv106UmETgD2eShG0EfzWfyz6yP2wv0XX23JASwqQAO459PwQcmwWT0eXlZbnjjjvW/P2pV3DC20M44fXxWserVXhRdd/nyQtv2OgnwptIJPTBzPKtLYThYW2LplCyIF/JZFISiYQSQlv4Zn2RtvioUqmop9YWq6FgkfhgSY4lkHg9sSFQqY+ai2oHUajVaupfpYIevzLEAgKI0kwjAcgncWHRaFStGdYOwkQA7zPFbWTwEmMWj8c7yFIkEtHlaCYOkJjZ2dkOkgQBpbBsfn6+owAKdR6CiHoIsaKRAhMMfNFEYJVKJSmVSrrMTuwaqjzJGI8++qgUCgW58MIL5ZxzzpFLL71UyuWyPPLII/Ltb39bHnnkEbVehEIhiUaj0mq11PJBAdfU1JQEg0Et/LOTEa4xq+QWi8UONdYqn7Ti5TqwDUZSqZSMjIzoZ3I++AxeQ0Ej5DgcDutkKxgMqiJr0zUg3+yDtauwcoDVwKq15XJZPcfsN/vC34adlNmJCYkUqN72OrzzzjvX/P2pV3DC20M44fXxmsevQHb/y8CAnDLwu6u/zW+R0U+Et1A4VpWPdYCcXduRy3ZEg5hCWlAmeT1qb7FYlEgkot3TeChjN7BRUnh74/F4h6KJjxK1bH5+XtLptObBxmIxJb3j4+NKAmzqBGQBPy4Ez8acYQ1g+1FFIaB0ysKTzHunpqbUH9xoNDoUXhp24Ju1y+WkBNg8Xo5ttVpVFRybCNtmlT38q6VSqWNpndQNCCOeXdIObFEcNgeOlW1oYAurIL3WV720tCQHDx7UzmeLi4vyne98R5544gm57777JJVKyfDwsESjUV0FsE0U9u3bpxMitjudTksgEFCF1V4jZOTim83n81Kr1XRi1B0xl8vl1AMMEWRiRUMRfLio+SRw0Gqaz7OEm3ORzWalVqupGs01TrIEPlvympmAMAnCgpHL5WRpaUmvK2ub4FphdYKJIsV4nGOuaQh0Lpdb8/enXsEJbw/hhNfH6xlb/jdE93Iluu7TfaNHPxFeu+Rvla1KpaKkjQ5WWBNQsfC12mVmiA3RWaiLNmkAlRHl0Por+bxKpaK5sO12W6anp5Ww4a+kxS+fTVte1DbUa+u1te1Z5+bm9DPL5fIrCvZisZgEg0FVv7ENWN9xs9mUer2uqinxU3w2KiPKNf9PMwZ7rK3iyL7TMrhQOFYchwLbXShoCwtZAmeb8fTaZiHWPmFTHjg/qKSQbo4J3dhyuZy0Wi154C7lRmoAACAASURBVIEH5JFHHpEnnnhC9u3bJ/v27VPFn+1nwmBtKzMzM9JoNLT4jGPEcSKJIJPJyMLCgpTLZbW/2AkMKwacYz6D44naDZGfmprSCQ5FhqjlHE/ILYSZCR+fgcqaTCZ10sA5KRaLOgkIhUJ6DNgXS5Tt6glRaEzYOGao70StkQFMOgPnJZlMSiQSkWazKZlMZs3fn3oFJ7w9hBNeH69rDAzIFqPkFgcGZOvAgPzfAwNyysBvrP72vUVHPxFe/LQQXx6u9t8sPeNxRSFrt9tK6qw1gYc4ubDRaFQLgbATQEYgVpAhm96QSCQkEAhIvV6X6elpfZjb5WzILUQ8k8lIPB7XdAIb8wRph9SVy2VJJBISiUSUqFJMBrnt7pIFwcJeMTExIdFoVNrttjY54DMgR6jY3bFbJF2gRuI5RpWcnp5Wry1EkSImyBm2A44FRA7yHw6H9dxB7BOJhLTbbfUR1+t17aZWq9XUr8p3QNCY6OCDhegvLi7K9PS0pNNptWzYOC2OhVWWUX0h6iz1k0lskyWwc3AuuD4tyWWiRXOTcrksCwsLutpg83jZbt6L6gqJZjtQ2lFTuca67TdYTFCzg8GgFmuiInNtU3TId9h/V6tVVf75N5MSa1lgIsNkJB6P62vGxsYkFAqt+ftTr+CEt4dwwuvjpAz8uQMDcsrAb63+9rzFRz8RXls0ZJfE7bKttQDUajUlBZA7S4bwwUJgySLFIwvpJBoK9RhFcG5uTv992223KZGBUKNioraxLWNjY0qAbNtZyCpLwpFIRAl4oVBQZQyCC7FIp9NSrVaV1ODXtW1tIVDdxWQcGyLJaJhhjzHEHwUW0kY8FSTNxqzZFrYQuNnZWZmYmJBYLKbnbXh4WD2mKOizs7NK3minTKGT9W7bYwtptXFmNnKO45/JZGTPnj1aVIWCawkh7ZlZ1mf1IJ/PS71el2w2K7FYTObn52V+fl7a7bbaYlA++VxsLNYbju+bSRQKNHaMRCIhwWBQ1X2U2JmZGYnH43rtsB+1Wk0zeJlUYcfBC8zkgomQLeC0ExtbyFksFtWiYzvz2UkN+5tMJlU5DofD2q2OCSF+YgrpIpGIerzX+v2pV3DC20M44fXho/9GPxFeW8REfJJtIGFJHOkHpACghNpldaKcUB+tkkUHtXa7rUQKlQqvKMkNEAFIZa1WUy8k8WQQQogC8V8sW6NOoj6yHXwnxVEQCNRuCp4gPbx2YmJCQqGQxrgVi0VNtSgUCqocWrKDoszrIZE2HQKyXCqVtCAORRlSjlpoi6Xq9bpaJ1CKUVcTiYQkk0lVu/m8arWqbaFJSSAmDXKOYr+4uKjnHXWyXC5LLpdT9RMF07bOZaKBQtntA85ms9JutztIMyr92NiYFv1ZIpjP57XhCRMQJhU2lxYfOJMJjh/XKtdk7njnPasuYx3pbrGMdQbiy37wGWxnuVyW+fl5vfYpSuR81+t13WaizbhG+buamJiQVqulzTHY7nw+L5VKpSPmznq3KZhjwrjW70+9ghPeHsIJrw8f/Tf6ifDah3k6ndY8UAquULhQ4WZmZrR5AITMeilt+1oe9t1ZshBSVEYe+DbKjEQA1C5IDcVrLOPz4M/n86r0oZ6Gw2FV4exnk80KsaOqfmJiQpU6lrAhPtavDHljf/icfD6vhBUrAnYMiBeTCTqH8dlYCLLZrJJXKvD5nU2pwG4A2cWigXJuLR9MDFC9IVoovajU2AjsubLEnCYdtVpNKpWKnmubnBEIBDoIP9tASgG2DxI0ODfJZFKVWVTwdDqtqwbtdlsL2GxjD9smemFhQYny3Nxcx+SB68k2D0E9pzjORrJhj0FNrlQqHZ35Wq2WJBIJjQ1DOca/i5UCLzJ/O+QuW/8uqizHieNdrVZ1ssHfAX9L+LFty2WItDeeODGc8PYQTnh9+Oi/0U+EF1XLLmkXi0VJpVJa3GOLofDIom5aG0GhUNDlWpRHKs6j0egrHvQooslkUtvkQupQGlHFUAuTyaSqjTbhIJfLafwXnx+NRiUUCumyPm10qaxnaduSdYrXiLfCU8vnQa7s8aKQDvKHUssyu30dBJvvRqlGQea4EYVGK13IUneuLpML/h/CQ/EdincoFNI2x/v27VN7AtvIdqCSplIpnexUKhWdTPAayDqvsRMDVEmOB8068IJzPIhKw5bCuc3n85pXjKodj8c1kcESedRxq4Ziw8ESYCckJCSwbUwGmEDZ/F+UeyYdqNC2+QOKM8kh9Xq9o50wkXGoztiASKGwf1tMOpn8MamytorJyV90XYvFYtpchc8mnm2t3596BSe8PYQTXh8++m/0E+GlmQSEB38pD1SIWLValWazKYuLi68oILJL8NgBIBapVErVQbJHWe6GHKGa4g2FKPM+bAUs2VM4Va/XpV6va1c1iC/+xoWFBc2mtWQeclitVqVSqcjMzIxEIhElJbYxARYNCA9FRaiauVxOVUa7hD4+Pq6EBCUalc92mIMAQyJtHFwmk9FzYckQyRE2IYD3ocxCYunABZleWlrS7cVbnMlkOs4nFgB7jLB/MKlIp9O6BM8xhsij/nIcrW0FhRQCx/aj9kKOR0dHJRwO6woChVpMcDjeVt23kyk+n0YZnAdeEwwG9brnesVXbI83qikpDrYDH75eJg/2muCYdSuz/K3YyQ5/a5B2cq7J77XXJJM27AtMdvAS4wdf6/enXsEJbw/hhNeHj/4b/UR4ITwsi/JAJmcX8rC8vCyNRkObMqBWElHFEjDL9QT1JxIJVVRnZmaUxFDZDkm1HbJQMVGH6/W6kgCI1/79+5VcWluFVQobjUaH+txoNFTRRbW1HmRIha3MR2lmKR2/KkvghUJBl+khW5ByiJ5dpodMcbz4XtrJlstl9bdGo9GOhgUUx0G2IEsUsWH74OeWvHX/mwYOqVRK0um0LC4udiRgoL7zWfhnKfzCB2yTCzjO1jPNubEFfJbEl8tlTYmwqwiQPby6HHOOJ1YM+/3Wg2tVYAriyD+mWGxqakparZaq1UxKOP8Q3EajIXNzc9Jut7VjnP1uJjEo2KFQSAqFghaajY2NycLCgjbdCAaDqjZznU1MTGhuNfnSkNtCodDxnZB8JlLEteEn9k5rJ4YT3h7CCa8PH/03+onw4pOETFIVbxMOWNZuNpv6wEV5gjgQywSJghTZbFOUTywE+Db5XpaQ6XxGEZttsUrrVkhqvV5XAmPVQ6t8Tk5OakoEqin7CDmC2CWTSSXffEetVtNObfhTOSa2KI1JAtuBqmo7ftGkotFodHTRIvoLfyiTiOnpae1QhkppO8VxvFBl6ZK2sLAgjUZD1VAsERB49pmkBuuhxrpgl/GtOgopxUYC6U6lUhoFhjWCz0MBDofD+nk2JzeZTCq5tEowEx17blHHKZKEFEN6Z2Zm9BzzPooySTbgWsM2AZluNpvSarXUs8v5wd7DZ1LAOTU1JfPz81r8xznGKsFxZPUCOwWTP7zuTFRQ8fHwMgmy55uVCHts8cUzOVnr96dewQlvD+GE14eP/hv9RHjxaqIUscRvq8htagLqpfUv8rBm+ReSkjPxVLFYTFUzln2tmpfJZCSZTKqNgbiryclJrdpHDcPDWCqVJBwOd6irkBRLzlDAbMta60etVquqSvN78mtt0oDtYAbxt/sxOTmp+8l3sK9sj22hOzIyotsAAUYF5pxYTyf7Mj4+rsTfNkxgH1GZ+T78oNhMUBIrlYo2OMD/iVppC+YgadaWwL7ZDnEUlTEBwBJDpFmpVJKhoSFVJrvVZOwBpVKpI+eW4i32xSqkkMBYLKbn3qr19jxD8pmk2YkJBHdmZkYnC7VaTebn51WdTyaTr8iBtsWMKK/Wt8w2W4vIzMxMx7mz55aiRToN8vdijz8TyOnpaW3ewXWJYr/W70+9ghPeHsIJrw8f/Tf6ifBCMlENIa2E/kPgeJDy8LbLrVbxQwGl0Mk+iJPJpKZCsERLnBVKoS12IkWA6no8j9b+wOvi8bh6KkulkhKY+fl5tQuQF4wflPQH8lFRyyBBdjkfwmqza3PHM1NRtDlOqIaRSETfVy6XpVarqQ82mUyqZSMcDkuz2dTYtGazKalUqmPZ2yqu5XJZ46kgd7bACuIHScLryzHuPmcUzbG/fBeKIUWF+JzJWcaGgKXDZiFz7rvJmp2A4F9GhSZ6y/pxG42GnoupqSltFEL7X8goTSy4TjkW2FiWlpaU+NsUBSY5kGy+k8xpfOPEpUFaKR6jsUgoFFLiybmzEzwKCPEds//2bw4LBX5crlG2ie221hi6+9kGJ054TwwnvD2EE14fPvpv9BPhRV21pNc+THmw2wp52zwAwhgOhzuW1W17VQhXLpeTvXv3dhQV4WvkwT03NydTU8c6r9F9CgWPbSHhAII8NTWlhVyVSkU7XlliwJibm1OPL2QD2wKWArYtkUiofcKq1daTC1GDGKLqWZLKMjjKdz6f1+p7a8FgH9l+iC1ElSV51MFCoaDL7FZ9JuaM70LpZL8gZSRJ8J5araaeaEguxBC1lmMA2aQwi/NkFfB0Oi2jo6MyPj4uQ0NDamNBEUVpRplnQtVoNHS/yQtmO+v1ulprUqmUtNttOXDggDSbTSmXy+qxZbt3796t7yPLmYkUE4hKpaJdBW02MDYIm4JB7BrXMwkMxMHdc8896ksnpoxJBaSViYT1DuPP5rPxAWPRgLxjZ2ByYreXdI5kMrnm70+9ghPeHsIJrw8f/Tf6ifCyPM4yKWokKQA0gkAdw+7Qbre1Axfvswoay7+8BsIAebBL2iheEDfipSg8w/87MTGhSi1Lw/hcI5GIphFABMfHx9VXbImFzT2FNEBCbCc31E5IPRFj5XJZAoGA5rdC3kgpaDQa0m63X9G8Y3x8XDKZjKqByWRSFhYWlET/MlWWdr34pCuViqqevNYuf+OJjsViSpxpVcv+kUpA9Bek36rxtkUydhbre+Z6IXrLdpHDhsBEykatkQhhfcRMdrB/WAsFZJg0Dj4bpZ//t9nDkEEaTbCKAclFDSYpgZ9Xq1WpVqtSr9c7ViiYuJDOgd0DUk1zj27LR71e178Xvicajaqynjue8cu+o2Bb1dt6vDmvJEJQSMd3cZw9h/fEcMLbQzjh9eGj/0Y/Ed6RkRFVkFCsKAQjooqHvV2CtY0TILssxUJ8ID0289XaBCAG1o8KKVtcXFSShlKGqocvkv9CnthmCocgCOwD6iVxVbYanyIn7BOol2wPqQsQZ+LaMpmMjIyMdKjJzWZTVT9rA8FvPDU1JdFoVFvUZjIZLXiDxOE1hcxCPpvNphI+/MXpdFq3DQ8uBU8scXOOINMoiPl8XourOL6o6xRzYXmIx+PSarU0KxfrCceNSQNL+yjd5MSSwIElAbKNgmsjurg2IpGIxpJhX+F3nD9LntPptK5aWP811wfEHm94uVzWQjlr+UC5t01LmLDgaacIkAnD1NSU1Ot1barCBITVhmKxqBMZW0TIZ9i2xHiFIdb79u3TmD/sPBwnkidIv/BYshPDCW8P4YTXh4/+G/1EeMm7JerqlxWtQTYymYxEo1FNMuCBbAmLrVJnGR7SRyU//kSW9LPZrOTzeS1e6lbqIEEUU6FuWrJtEwZQwMikhXDYz7NkzxIiGxVFtzX2DaLUbDa1qAqFGh+vTU5IpVId6h8Th+7ILY4X2w1Bn5iYkHA4rGQaAobSzAQFfy1FX+Qkz8zMaHthzhXKOCSUfSdRg4kJZA2yy3UxPT0t0WhU98keI/zF3YkG5XJZqtWqjI2NabMJS4yJaLPL/CQ0zM3NqQoOYWXlgG0l4YF9YTLCtQiBLxaLeo11Z/hy/eDLjcfjuv0cL86LnZRwHoiQy2az2pUQ9ZpjgEcZSw37SwoHKwbWToJqawsiOe9YhmzhHHaUtX5/6hWc8PYQTnh9+Oi/0U+E984779Ql33q9LsVisYPMQnpQWynYwc+JBxNiwUPaKocUB5F/i/qXSqW0KxXEFSsCJIxtwXuJpcESV9rIsi2kEaBa4guGVLE8b0kSRAaSghJnLR6ocWw/6iAkxCrPltyyb7ZNMwQFBY+cW7pvWZIM+cHXy3mByGEBgHSXy2VVszOZTIdHlCgv8ogpMoT8Tk1NaVMDyBPnFYLIBINtJOkBhdHaEVBIrVWkWCxqTi/nitiyer0u7XZbJwL4u1OplFQqFY09s0WCExMTmhzCsefcoYraY40KW6/XOzr2TU1N6WvZV5qbQHYLhYLmJLPvqO/JZFKjxpjQ4WVHrcfPS6EhXvhuZXtsbExVePzAluxyHO1qBhYL77R2Yjjh7SGc8Prw0X+jnwgvhATFKpfLSSaTkfn5+Y7uW4VCQTtroWROTk6qAslnlEolXSqGvFkCCHnK5/P6wLZ2AFROFDke8qOjox02hLm5uY4uatPT05pcgIJHVBXeWruPJCNANlhuxhPMoKMbHlqIazgc1m2DTEEyUWLz+bwsLCx0EPSpqSmp1WqqNFarVVVWg8Ggem4hiUwUWq2WHheykiHi+FT5vFarpSqhTb2wZIpzhVfaxnzZQrruJf5CoaDNQzgWtlkJtgZIKO/Hs8p+W88r5BVyznUHwRwbG+so9EJB5rqx1xlJEmQ0c72RggDZhdDbfzMJIGXEFohZol0oFGRhYaHD4gKZtgV22CcsybcrArbRS7lcVtsDubrZbFaGh4f1eiL3mb8/mqGk02lpt9vqGc5ms2v+/tQrOOHtIZzw+vDRf6OfCC9L691xTraxBEqh9edCVHnoz87OavaoJX0QXT4Xwlmr1TqiwEgZYCmbpW6+H8WWFAgIDYokZAAVFyKKem3/HwWOz7WEBSJnI8xQElH8bMMG9tV6ZSEiqHxsD9FaFBgVCgVVuCFjEDeI2sLCQke+LV3ZIIFkt+ZyOZmfn5eJiQmNPMN3DNliUkIjAxR1LBIoqpOTx5Iims2mLufjW8XiYq0PnF8abUBg5+fnlThiu6jVahoZZwk45BSVmOOOV9XGsnGt4GWFALdaLQkEAjohsuQyEolIsViUVCql22iTLWxRI9FgHHMmLNPT07K0tKQEGMU8nU5rMRnEnGKyeDwuxWJRr0smDrQAZmJD8xXOMdtobRHkRVsbCueUiRIT07V+f+oVnPD2EE54ffjov9FPhBev4fT0tOzdu1cfptZ2QDEQObqoazzE6U7Fe6vVquSOd+HKHY8ao1AMBQ0VC2sA6h7EsZtQU90PaQ0Gg1KtVpWwQUjJ2J2ZmZF4PN7RlWp6elri8bjE43FVYFHL8KayLI5VYe/evR3KdLcCOjQ0pNtZKBS0uh/bhFUJIWwQdhRfFNd0Oq2vR+m0yRC0bUblplkHflQ6tNlJBvuHBYHzhzpOYgGvr1arOnGxx8daMThPNo6N7UTZZendtvnl3E9OHktEwAuObcKScRRoir44Fhwrvp9Jh105sKo/JJ0CvO4GI3i9IdgTExMSjUZV+cZTzUQLv28sFtNkCCYtTPIg28TqjYyM6PdxDHImQ9q2WibTuLvb4eTkpE50aMldq9U6sn1ZyZienl7z96dewQlvD+GE14eP/hv9RHiLxaK0Wi0plUqqGIZCIY2i4sFPYZD1wbIM3G63lfCy5A6RohAHohEKhZS8khmKWghxQUGEbGSzWQkEAlpUBgEknYDEApaIKWyamJiQu+++u6NdLfYMCBrEAsLKf2leQRtgotFskwlUNo4DBVCWvMzNzXV4MCF71lMKwccmwXZBbCDDbJsdtCrunjDgCYWsQv4ikYh6i2l7jC2hUChoCgN+U7aZ7eHYMOlBXURZptnGyMiITjhQK/HHLi0tycLCgqr4kFTIGuSc7WI7KpWKesjZf65bFOxarabHmG1iIlEoHEtiIG3BHi8IOr5icnPZNiYs3fYQiDD7ZoltuVxWhd12aOM8Qtq5XunmRpML/vY4DrwWYpvJZNSvbZt+ZDKZNX9/6hWc8PYQTnh9+Oi/0U+E16qtNDqwlgT8nZFIpGMZeHLyWKzT3Nyc7N27V9VWSETueDICxWyRSETC4bDGRkGYo9FoR3IANgeKqWwKAN3UWLKmqxpEJRQKqSIJiSyXy7K4uKikAVWO6DCr5tLS1aqX/H+xWOyITqMhAfvNEjYELplMSq1Wk1arpR2zeC+eUzJc8Xmy/E3hm22Piz8VohoMBjs8peyfXcq3S93WbgEhs1m2FG6hHONn5rUQXGtrsG2NsZxw3LGv0BJ4bm5Ou6ThT2UC0l2EaD2qENKJiQmNYwuHw6riM0mzvlnb1herA+qtJZnNZrOjhXMymVSPsZ0EWI97qVTSCUGr1ZJqtaqRdkxUUPetH91OjGKxmOTz+Y5EC5T9RCKhxWtcr/Pz8x1+dq4//t44t3xXuVxe8/enXsEJbw/hhNeHj/4b/UR4ichiGZqHe7PZlGazqQ9q2zCAZhRW8eVhTyxWPB6X3PHcWCKd6OQFieRBzbIsDSJs+D6EyqY9QAQgAWwLBJslfUiZrXBvNBoas2aL5mKxmPpFiY+CvKK2kSzAsjvxVzR4QO3j+3gdKRHJZFK3P5FIdHTxggjaQjNbvNZtBUABLRQK2tQBwseEIhQKKQGtVCqSyWQ6mhoUCsc6rFH8ZgvaIGIso6fTaVU2mSBZlRKfbTwe10kT5y8YDGoxGZ9hfdTYIohPY/u5RkiwoEU0VgbIO6+zJDqVSqmyz/cSZ0aBn42Ns8q8bV7Cz6w1A/LL+efvg5UM6xdnkmDPaaPR6JhwkODAOaQ7IU0uaHXcXVxarVb1erVe5EQisebvT72CE94ewgmvDx/9N/qJ8I6MjHQ8jKenp2V+fl47O9nle5bm8VNC1HjIEkdGy9hGo9HR/ck2J4Bo0tIX8mVjpfA72ggrCGypVFKFLRaLKcmypAUCZJtEUJBmvcFU8FO0REct/MAoc4FAQIkMCi37AhlHGbSd0Kz32P6MOCkmA1axZZ9RE1nKt/mtHF9sBPzcem/ttlJMx7Hms2zUnPXP4kfmPKBCclw4TqQxcCyxyVj/KUV2HOepqSlt6UtHNPYTCwTXo81PtvaIaDSqEwh+12g0VCFtNpvSbrelVqup0swx5LrEW57L5TT9gvPDNthjwnvS6bSes0wmI81mUyd5tnsbthG2BxJMYxD83nwHZJZjyr4y4eL6aDQaHY0mIOWco7V+f+oVnPD2EE54ffjov9FPhDebzepSPg9PCBNeRzyO5XJZY7bI0yWkP5vNSjgclnq9rs0eWObGnwrBRaGznlA6jVFQFYvFVJWEqEJWWeKmiAmiZtMjIJykFVh1Lh6PdyQlzM/Pq+I4OTkprVaro4ObVe1QDyORiE4AqLa3yiGKMu104/G4+kvxrvKZqLtzc3Ma+cWArOLnZYIBYe9uQWvVYKvYo0iSEEDEmyWTzWazQ7m1hVtEjk1OTmoiAeqrjYJjYmTPPWqsncyg1DYaDb0ubBwcyivJBXZSFovFlPhapZf9wsZy4MABTaiwpNVOLLBxFItFiUaj0mg0lPhisbHpFVg/2HYUaf6LvaHZbGq0HpMKrhHaZ2MTsV3x2BcmBbYAjuObSqU6rl+KIyHkHkt2Yjjh7SGc8Prw0X+jnwjvyMiI+kZtw4l8Pi/RaFQmJ491skokEuqJhOThOYVYWS8mpNg+wCEaqLx4KCFolnzZTFuKh1jSxwrA6/EuoiSSmjA6OvoK4kiBUa1WU6JC4wq8kYVCQavwib4qlUoSj8dV1UYdpU0wkwKsEBAqLBYUdKHqoTiTQjAyMtKRpwuJgTQXCgUJBoMdzRVyuZzs3r1bfawUaVmrgC1SgwyjPkJw9+7dK6lUSps/sM14ZlHLZ2dnJRwOa2Ys1wKJD5BKto19xDPLsWbCYm0otnX0+Pi4FjdCoPlcziHnxirVKK4zMzOyuLjY4cW1BYVWFeb/uTZR4zn2FGEyMeJ6w0bRXUSXz+f1Z7njCSVYQGwrYjupobELNoZmsymzs7N6jaPKYzvqtl0kk8mOpAfvtHZiOOHtIZzw+vDRf6OfCC8PfpZh8axCPiCRgUBASQ4PdqwNqKEs00MAbNtiyATL4BAY21WNpXIIOETRtrhFvYUE2IgwlsZRpq0Vg6VzlDpbOW8L4ZrN5ivUNawWdpl5enpagsGglMtlicfj0mq1Oor2UHY5fpZcUbCER/aXkS4KCDlWLIfbYjoK+igKYzkcu0C9Xlfiai0WljDxc0i8zVGGfBcKx5IV+DeKO5OIYrGoBYP23FiPNqTTFrzZODR73jlnXCs0V+C7sRVAApPJpNplxsbGJBqNqt8XRZ/PhHzPzc1pigLbxvWJxQGbAP5gW3jGxM3+/XDtcPzs6kQ+n9fVCSZ5qLE2eYTJDeo9E1GOB3+f9XpdSqVSR6tka4FY6/enXsEJbw/hhNeHj/4b/UR4beU6tgG7tBqPx3Vpl+VcHtR2yZq0hHg8LtVqVUKhkKqmPIytXYJCM0iTLU6zyi3Eg+Vh65uFgN11112yf//+DsuBzZyFeEB68EhaImWzdFk2Hh0dVc8l/tvx8XElNuwzw2bkUmTE99pYLBRqyCvHpFgsKqlHDbXnArWXSQfk3toEZmdndd+wDdD4ge+3x7lcLne0jUbVx+bSTcJsnBseW9upjNdR+AcBhmjGYjEJh8OSTCbVFmMLrmjPzPlH3Z+entYcYKwJTLLYf4hwLpeTXbt2SSwWk0gkIolEQidvTNqYcNk0Co7p3r179bxhRWAFgu+ioQmWBK5zLCB4nLGusIrASgjE31pIrLrMpAmyXi6XVSkmpxfivri4qMeO71jr96deoe8Jb6vVktNOO002bNig45prrhERkeXlZbngggtk/fr1ct5558mBAwc63ptKpWTTpk2yfv162bJlizz55JO/0nc74fXho//GySS8q3V/4t4E2bBeyG4iCPmwSmTueOxYd9U85HhkZER9m1TdEx8F6YQMUexkfaOotaQb/KiqvwAAFttJREFUdC/zU6wFeSZRgoIllo8tCWN52XbpovCNz4HssQRt38//1+t1yR3PV4WwU2RGbJVNQqBgCgXRFk9Bivh8+2+K//D+Ymfg+/kZCjSkDWJH7BWeagrk7HI6575b1R4bG1My2D0RYemdCQbFUvwO5Z14MCYBWBywhkAw6V5Hpzb2l3zZbDarDUNsC2iIKMcetZO4Mqu4c/5RQPEgT0xMyIEDB9SmYa9XUhTsKoA9xhBxrmkmRtZSAjGtVCo6+WAfrD2FJAmu+dzxFt9YiaxdgXPPagE+diYmntJwYvQ94d21a5fccMMNr/j5008/LevWrZOlpSV58cUXpdVqybve9S75/ve/LyIilUpFNm3aJI8//ri88MILMjg4KOeff768/PLLr/q7nfD68NF/42QS3tW6P3FvKpfLGsaPkmS9mJYYjY+PK6HtXt5neRiizMMeQmJVWRosdMdbQTJzx9vBQqggFKh0qGCxWEzVMlt0h1pKx7fp6emO5hPsL/tTKpU0dQLbAL7Ydrut3tZisaixZpOTk5owQWtc7BJsG6QLRY78WKLbUEVtIgQV+Ry7QqEge/fu1eVzCvtyx1sJQ8og+rFYTIrFoi6Vj4+PKxHsTj1IJBId3wPZskvytVpN85M5/ryGrnEQZts0otuT3e3vJe4M2wV2BrbVEnHOsbUfcJ1wHm0hI5F1hcIvkhrsNYZlwXbyK5VKapfhtXhtrZUH4m5XOLoTOzjWxOwVCsdaRFtbhbXz0F2Nyadt6MGkhtUEuroRTYcVxa7ITE1NOeE9Afqe8H784x+XO++88xU/Hx0dlUsvvbTjZ9u2bZNQKCQiIh/72MckHo/r71ZWVmTjxo1y+PDhV/3dTnh9+Oi/cTIJ72rdn6yHF3WLDk90mbKqG8Su+4GOqpRKpSQQCOjDHAJmPYoUTvF6SGU8Hu8gGkRGYROwaikKZTKZ7FDwLJnkM/id9RGTw4qKjYJNcVIkEtF4K0gyMVRWPcYyMDY2ptm4kBSIt1WlLfHLZDJaZGRj2VC72Z5uwoNijrUBAonSjeI3PT2t5xFFkc9kcmJbGxcKx2KuqtWqtieGSM/OzmpOM+cR8msnPBBQcpfx5+KfpnObLcbiOzgHNoWje5KEpYZjAllEQbUd2XiPVfUTiUSHdQJSn8/nZXh4WAYHB/VnnCsajeTzeSXiu3fv1u+NRCIdrYApnpyentaCSc4Lxxnl1ir8tsEI1yR/l3bSyYTDWjk4tnYlJp1OO+E9Afqa8L700kuyYcMG+dSnPiXve9/7ZNOmTXLzzTfLT37yE7n88stlcHCw4/WDg4Oyfft2ERE566yzZP/+/R2/37x5s+RyuVf9/U54ffjov3GyCO9q3p+4N1kCYBVeyFWtVlNSgTqFEgnxZKkWzyNKJD/j/3no84DGbwsBgqxks9mOmKVoNKqqmrUAsDSOEkhxTzablWg0qpmvkHB8l7albCwW6+hCBoEj85d9sKoclgP2zS53W89tt8WAiLRQKKRpCTYmCxWX4i4mBBxf1PVWq6WtcbEMoOxyfCGEEGaSNjjGTGRsERTfCxm31ggmEFbVxZYSi8WUhGEPgZzyWVYhJbKL81Mo/KKlMdcT5xT12/qrbXEbxxQ7gG0+AUnGYwsptuQaFZcECyZU1mNtrR6o6CQ2UODJ+aXIbXJyUkKhkE4QrP2BSQ3eb8ivvWaYxOBhxiqBhaXRaOgqBu+xhXNOeH85+prw/vCHP5S/+Zu/kbm5OfnZz34mzz77rGzZskU+/elPy9atWyUYDHa8PhAIyNatW0VE5LTTTpNDhw51/P7iiy+WaDT6qr/fCa8PH/03ThbhXc37E/cmmxVar9eVrLHcj0oHMen2MlIZ361gQrBo80tVPMVOuVxOv8umQSSTSSV2ED5bcAZ5st5Mlqanp6c7GlBEIhHtglYulzUDFbIKAWZ7LGnFxxuPx7WNL9m7kIvx8XEtzEO1Y/+i0ahkMhn1/EJo7XfYpX4I/tTUlLTbbVXdIUaQQLvkzc84lrQdtqoo55Lja+PDsA1YkjsxMaHntFqtaqGYLaajxbFtsmGvH4imXaK3S/ZMjLieksmkktVuzyqEkuuUa43rqVAoqJrMscAfS8voVCqlx5DUD6uaci2wf0zoEomEKuuklpD2wcSGyQONV7BnkCPMtWLVZZRgJpIo0UyquFbwe+PtJv6N/bGKO5MMjrcT3l+Ovia8vwzf/OY35Y/+6I/kE5/4hOzatavjd4ODg3L55ZeLiMgZZ5zxiiKRzZs3y/j4+Kv+Lie8Pnz03+hlSsMbdX/i3gQpg3QS14UaC1lD3UPlxJJgi7TwUvIwtm2Hx8fHNeHBdraCqECceHjzer4bcodSSyMG3tvdlpcCKVt8ZNMEUCop5kLdtDFn/I594ntQZWnLbFsM0+mLGDc7EeA4WJ8whAaFFfLL95MbHIvFlEzjoYb4815+j2JJ1zy+m6I82y4aVRNybD2mXAscR5RcLBDsGxMHmjdA0rGT8F8+104c8DIzYeEzSSpgf/DhYjFg0sJnkM9s21Hb405RYyaTUeWVxApSHGgEQfYt74WcptNp9a5zzqvVqmQyGe1YyLbl83m9NmitbVMrILaxWExGRkb0ezg3WGSYGOTzeWk2m6qu24I2S5RbrZbEYjEnvCdAXxPeo0ePytDQUEchx/333y+nnXaaDA8Py7Zt2zpev23bNgkEAiIictFFF0kymdTf4ZHrVlX+d3DC68NH/42TRXhX8/7EvYmHP95DimOsAgbJ6c5XxSsKseuO8KI4rFKpqOcVFTCdTmtmqiVZ1nfLcj0PdSKgILaoiaiEdtui0aiSeFQ+Xh8MBvU7uz2zbButdaPRqEQiEZmZmZFWq9VB3KzCapeVLYm2pNcmFqAysv2kGvDZ+JhRUa06aIur+Hw6m9GiF1sHii2vY3IDIYZYTk1NKeGkiQbfS1c2yBc+aQgcxJBzhi93ZmZG4vG42g1Q7K1VZnJyUgkr24HKCuFltSGRSOhEByI9OzsrlUql4zgWi0W9BtvtdkcmMaSY/bQ+7vn5ebWOcI54P2oxEwN7bZGSQDEeqwNcF5D5UCgk09PTHQ1cAoFAB1GOx+Paac6q2Jwf2lEHAgHNKcajbpV4J7y/HH1NeJ977jnZsGGDpFIpefHFF+XZZ5+Vv/7rv5YvfvGL8sQTT8i6deuk1WppFfS6devkqaeeEhGRYrEomzZtkqNHj2oV9LnnnisrKyuv+vud8Prw0X/jZBHe1bw/defwEu2EX5PlZkticrmcDA0N6QMc9S0ajSrBgxjOzs52NEqg3SopBxCpkZERJRgsyUNAbZU/qhqdqGi00Gg0lESg8nYXukE2UfWwTVjyapf42R7bFthaOYi0glyXSiVd/oYMot6hfEKMUOsgsDaajaI3Wvdms1kZHR3VNAtsF41GQ0l/PB5X8kWBGdtp2/Kyv6jaqIxzc3PaHY7uZhDRZDKpy+6ou0xSaKFLkgVeWYgoNhMmK/hV7eSiO44NtRnijYpJFBeZtJxze84siWXbKDTDrlGv1zVaDnIdi8VUfV1eXlZCj5VlbGxMExbspMFaVJi8xeNxTXvg+mZVAEUYSwXXLHYfjhnb2d1iGmWeiQgrKtbSwDnzWLITo68Jr4jIkSNH5KKLLpKNGzfKe9/7XrntttvkhRdeEBGRe+65Ry688ELZsGGDnH/++bK8vKzve/nll2VsbEze//73y4YNG+SSSy7Rh82rhRNeHz76b5xMS8Nq3Z+4N6EMUQAGAYTQ2pB8yIpVXsmKRTnEn4mPE4XXKnB4fCE5FA9BYFBXrT/VekCbzabMz89LvV7X4qFub6wlU+FwWJU3CEYmk5FIJKKqo13Op6of8k36QLVaVeIC2aOYi+IyLAsotIFAQLcDL7EtfrO2AIg5S9m04bU+WYgj2b5TU1Pa5c0Wq2FHSKVSHUVeFOnZGDfUVc6LLbAaHx9XL3S1WlVF1CY/jI2NaUEcEyRi3uzxhKTb3F8bg8fxROWkmxyTBV7XnccL6UWxbrVa2oQCBdmS4lKp1GGfIH7t61//ul5DHAeKAzm/xNPhJ2Ziw7ljhYPPJS6NYz03NyfValXC4bB6x8PhcIeH3J7nmZkZGR4e1uuV7We7INPWhpPL5ZzwngB9T3hXE88//7yceuqp8ra3H3tI+vDhY+2Pt739GOF9/vnnV/sW85rBvYkl+5GREbnjjjukWq2qgmlbA9ss0jvuuEOXzbPZrNxxxx1KQOLxuESjUbnzzjs1BSEajeprGbzfFg0lEglVZu+4444OpRbSHY/H9bOt0sV2UOCUzWZ1CXn37t1ahJTNZiUYDCoxtdszMjKiKlowGNSGBxwP1EC2nZSEYDCoql0ikVDVdXh4WP9NwRTFTGS32lQBe3wqlYpGvWFVsN22IFIQLM4XxywWi+m2W9sFJJZCsdzxLFteWywWNSd5dHRUP5M4LVRROsmROIGFIZ1Oq5XijjvukGAwqN5ZjpttJ20VXb6D4jCuOUuQR0dHJRQK6bZzTu+88069njh35NVGIhH9WTAY1H2PxWISCoU6FHWK/+644w6JRqOq7nMN8H18fiaT0ePEdqRSKe0ml8/n9X3BYFCvD/v3g30iGo1KLBbrmCCkUildVclms+oVtteh3Sa2ea3fn3oFJ7w9xHPPPSennnqqDx8++nA899xzq32Lec3we5MPH/091vL9qVdwwttDvPTSS/Lcc8/J888/Lz/96U99+PDRB+P555+X5557Tl566aXVvsW8Zvi9yYeP/hz9cH/qFZzwOhwOh8PhcDj6Gk54HQ6Hw+FwOBx9DSe8DofD4XA4HI6+hhNeh8PhcDgcDkdfwwmvw+FwOBwOh6Ov4YTX4XA4HA6Hw9HXcMLrcDgcDofD4ehrOOF1OBwOh8PhcPQ1nPD2AD/60Y9k+/btcuaZZ8rZZ58tX/nKV+TFF19c7c3qKxw9elQ++clPyrvf/W754z/+Y7n22mvln//5n0VE5KGHHpKPfvSjsmHDBjnnnHOkWCx2vLdSqcgHPvABWb9+vWzevFm+8Y1vrMYu9AV+/vOfy5YtW+T666/Xny0vL8sFF1wg69evl/POO08OHDjQ8Z5UKiWbNm2S9evXy5YtW+TJJ598ozf7LQ2/P/Uefn96c8DvTw4LJ7w9wJYtW+Tqq6+Wn/3sZ/Ld735Xzj//fEmn06u9WX2Df/u3f5M/+ZM/kVAoJP/+7/8uP/7xj+XTn/60XHbZZfKTn/xEzj77bLnzzjvlxRdflEOHDsnGjRvlm9/8poiI3HfffbJx40Z54IEHZGVlRXK5nLznPe+Rn/3sZ6u8V2sTwWBQ3vGOd+gD5emnn5Z169bJ0tKSvPjii9JqteRd73qXfP/73xeRYw/zTZs2yeOPPy4vvPCCDA4Oyvnnny8vv/zyau7GWwp+f+ot/P705oHfnxwWTnhPMv7hH/5BTj31VP0DEhFptVryvve9bxW3qr/w5JNPyrZt2+TnP/+5/mzfvn1yxhlnSLFYlA9+8IMdr9+xY4dcd911IiJy9dVXy80339zx+/POO09KpVLvN7zPcOjQIfnwhz8sV111lT5QRkdH5dJLL+143bZt2yQUComIyMc+9jGJx+P6u5WVFdm4caMcPnz4jdvwtzD8/tR7+P3pzQG/Pzm64YT3JGNpaUnOPvvsjp9961vfklNPPVX+9V//dZW2qv9x7bXXyiWXXCK33367XHHFFR2/m5iYkAsvvFBERD7ykY/IxMREx++vuOIK+cpXvvKGbWs/4Ec/+pGcc845cvToUbn++uv1gXL55ZfL4OBgx2sHBwdl+/btIiJy1llnyf79+zt+v3nzZsnlcm/Idr/V4fen1YHfn95Y+P3J8cvghPcko1aryZ//+Z93/OyZZ56RU089VZ577rnV2ag+xssvvyyjo6Ny1llnybe+9S354he/KNdee23Ha4rFonzgAx8QEZEPfOADMjc31/H7a665Rr74xS++Ydu81vHSSy/JpZdeqg9m+0DZunWrBIPBjtcHAgHZunWriIicdtppcujQoY7fX3zxxRKNRnu/4Q6/P73B8PvTGw+/PzlOBCe8Jxl79+49oYLy/PPPr9JW9Sd++tOfyhVXXCHnnHOOfOtb3xIRkdtuu02uvPLKjtdNTEzIRz7yERER+au/+iuZnJzs+P0VV1wht99++xuz0X2AWCwml112mf6/faB85jOfkV27dnW8fnBwUC6//HIRETnjjDNeUSSyefNmGR8f7/FWO0T8/vRGwu9PqwO/PzlOBCe8JxlPP/20nHrqqfLDH/5Qf9ZqteTP/uzPVnGr+g/PPPOMfPCDH5RPfvKTWv0sIjI7OyvnnXdex2t37Ngh11xzjYiI/N3f/Z3s2LGj4/fnnXfeKyqlHSfGhz70Idm4caOceeaZcuaZZ8rpp58up59+upx55pkyOjoq27Zt63j9tm3bJBAIiIjIRRddJMlkUn+HR65bVXH0Bn5/emPg96fVg9+fHCeCE94e4OKLL5YvfOEL8tOf/lSroMPh8GpvVt/gJz/5ibzvfe+TG264QV566aWO3/34xz+Ws846S3K5nKysrMjhw4c7ig6oij58+LBWQb/73e+Wf/mXf1mNXekLWAXliSeekHXr1kmr1dIq6HXr1slTTz0lIseWbzdt2iRHjx7VKuhzzz1XVlZWVnMX3lLw+1Nv4fenNxf8/uQATnh7gB/+8Idy5ZVXytlnny3vfe97ZdeuXR0Vu47Xh2w2K6eeeqqsX79eNmzY0DFERB5++GG56KKLZOPGjfIXf/EXUi6XO95fq9XkQx/6kGzYsEE++tGPykMPPbQau9E3sA8UEZF77rlHLrzwQtmwYYOcf/75sry8rL97+eWXZWxsTN7//vfLhg0b5JJLLtGHjeONgd+fegu/P7254PcnB3DC63A4HA6Hw+HoazjhdTgcDofD4XD0NZzwOhwOh8PhcDj6Gk54HQ6Hw+FwOBx9DSe8DofD4XA4HI6+hhNeh8PhcDgcDkdfwwmvw+FwOBwOh6Ov4YTX4XA4HA6Hw9HXcMLrcDgcDofD4ehrOOF1OBwOh8PhcPQ1nPA6HA6Hw+FwOPoaTngdDofD4XA4HH0NJ7wOh8PhcDgcjr6GE16Hw+FwOBwOR1/DCa/D4XA4HA6Ho6/hhNfhcDgcDofD0ddwwutwOBwOh8Ph6Gs44XU4HA6Hw+Fw9DWc8DocDofD4XA4+hpOeB0Oh8PhcDgcfQ0nvA6Hw+FwOByOvoYTXofD4XA4HA5HX8MJr8PhcDgcDoejr+GE1+FwOBwOh8PR13DC63A4HA6Hw+HoazjhdTgcDofD4XD0NZzwOhwOh8PhcDj6Gk54HQ6Hw+FwOBx9DSe8DofD4XA4HI6+hhNeh8PhcDgcDkdfwwmvw+FwOBwOh6Ov4YTX4XA4HA6Hw9HXcMLrcDgcDofD4ehrOOF1OBwOh8PhcPQ1nPA6HA6Hw+FwOPoaTngdDofD4XA4HH0NJ7wOh8PhcDgcjr6GE16Hw+FwOBwOR1/DCa/D4XA4HA6Ho6/hhNfhcDgcDofD0ddwwutwOBwOh8Ph6Gs44XU4HA6Hw+Fw9DWc8DocDofD4XA4+hpOeB0Oh8PhcDgcfQ0nvA6Hw+FwOByOvoYTXofD4XA4HA5HX8MJr8PhcDgcDoejr+GE1+FwOBwOh8PR13DC63A4HA6Hw+HoazjhdTgcDofD4XD0NZzwOhwOh8PhcDj6Gk54HQ6Hw+FwOBx9DSe8DofD4XA4HI6+hhNeh8PhcDgcDkdfwwmvw+FwOBwOh6Ov4YTX4XA4HA6Hw9HX+P8BqJxbuP7waewAAAAASUVORK5CYII=\" width=\"700\">"
      ],
      "text/plain": [
       "<IPython.core.display.HTML object>"
      ]
     },
     "metadata": {},
     "output_type": "display_data"
    },
    {
     "data": {
      "application/vnd.jupyter.widget-view+json": {
       "model_id": "53b2e20bc06a4ce09c87e8b1ae870204",
       "version_major": 2,
       "version_minor": 0
      },
      "text/plain": [
       "VBox(children=(HBox(children=(Button(description='First', style=ButtonStyle()), Button(description='Prev', sty…"
      ]
     },
     "metadata": {},
     "output_type": "display_data"
    }
   ],
   "source": [
    "x_storm = [st['x'] for st in storm_list]\n",
    "y_storm = [st['y'] for st in storm_list]\n",
    "\n",
    "fig, axes = iter_subplots(1, 2, figsize=(7, 4))\n",
    "axes[0].iter_imshow(binary_stack)\n",
    "axes[0].iter_plot(x_storm, y_storm, 'r.', alpha=0.01)\n",
    "axes[0].set_title('Binary + STORM')\n",
    "axes[1].iter_imshow(brightfield_stack, cmap='gray')\n",
    "axes[1].set_title('Brightfield')\n",
    "fig.display()"
   ]
  },
  {
   "cell_type": "markdown",
   "metadata": {},
   "source": [
    "The list of stuctured arrays is concatenated to form one big array with ~250k entries:"
   ]
  },
  {
   "cell_type": "code",
   "execution_count": 6,
   "metadata": {},
   "outputs": [
    {
     "name": "stdout",
     "output_type": "stream",
     "text": [
      "[('id', '<i4'), ('frame', '<i4'), ('x', '<f8'), ('y', '<f8'), ('sigma', '<f8'), ('intensity', '<f8'), ('offset', '<f8'), ('bkgstd', '<f8'), ('chi2', '<f8'), ('uncertainty_xy', '<f8')]\n",
      "(252912,)\n"
     ]
    }
   ],
   "source": [
    "final_array = np.concatenate(storm_list)\n",
    "print(final_array.dtype)\n",
    "print(final_array.shape)"
   ]
  },
  {
   "cell_type": "markdown",
   "metadata": {},
   "source": [
    "We can them make ``Data`` object using the normal procedure, using 'storm' as data class for the STORM localizations."
   ]
  },
  {
   "cell_type": "code",
   "execution_count": 7,
   "metadata": {},
   "outputs": [],
   "source": [
    "data = Data()\n",
    "binary_labeled = label_stack(binary_stack)\n",
    "data.add_data(binary_labeled, 'binary')\n",
    "data.add_data(brightfield_stack, 'brightfield')\n",
    "data.add_data(final_array, 'storm')"
   ]
  },
  {
   "cell_type": "markdown",
   "metadata": {},
   "source": [
    "To make cells from the ``Data`` object, setting `remove_multiple_cells` as ``False`` to return all cells. STORM localizations within the selection of each cell are copied to the Cell object, and their coordinates are transformed by rotation and translation along with the image data."
   ]
  },
  {
   "cell_type": "code",
   "execution_count": 8,
   "metadata": {},
   "outputs": [
    {
     "data": {
      "text/plain": [
       "62"
      ]
     },
     "execution_count": 8,
     "metadata": {},
     "output_type": "execute_result"
    }
   ],
   "source": [
    "cells = data_to_cells(data, remove_multiple_cells=False)\n",
    "len(cells)"
   ]
  },
  {
   "cell_type": "markdown",
   "metadata": {},
   "source": [
    "We can visualize the result using `iter_subplots` and `IterCellPlot`. The STORM data is shown here as a marker (point) for each localization."
   ]
  },
  {
   "cell_type": "code",
   "execution_count": 46,
   "metadata": {},
   "outputs": [
    {
     "data": {
      "application/javascript": [
       "/* Put everything inside the global mpl namespace */\n",
       "window.mpl = {};\n",
       "\n",
       "\n",
       "mpl.get_websocket_type = function() {\n",
       "    if (typeof(WebSocket) !== 'undefined') {\n",
       "        return WebSocket;\n",
       "    } else if (typeof(MozWebSocket) !== 'undefined') {\n",
       "        return MozWebSocket;\n",
       "    } else {\n",
       "        alert('Your browser does not have WebSocket support.' +\n",
       "              'Please try Chrome, Safari or Firefox ≥ 6. ' +\n",
       "              'Firefox 4 and 5 are also supported but you ' +\n",
       "              'have to enable WebSockets in about:config.');\n",
       "    };\n",
       "}\n",
       "\n",
       "mpl.figure = function(figure_id, websocket, ondownload, parent_element) {\n",
       "    this.id = figure_id;\n",
       "\n",
       "    this.ws = websocket;\n",
       "\n",
       "    this.supports_binary = (this.ws.binaryType != undefined);\n",
       "\n",
       "    if (!this.supports_binary) {\n",
       "        var warnings = document.getElementById(\"mpl-warnings\");\n",
       "        if (warnings) {\n",
       "            warnings.style.display = 'block';\n",
       "            warnings.textContent = (\n",
       "                \"This browser does not support binary websocket messages. \" +\n",
       "                    \"Performance may be slow.\");\n",
       "        }\n",
       "    }\n",
       "\n",
       "    this.imageObj = new Image();\n",
       "\n",
       "    this.context = undefined;\n",
       "    this.message = undefined;\n",
       "    this.canvas = undefined;\n",
       "    this.rubberband_canvas = undefined;\n",
       "    this.rubberband_context = undefined;\n",
       "    this.format_dropdown = undefined;\n",
       "\n",
       "    this.image_mode = 'full';\n",
       "\n",
       "    this.root = $('<div/>');\n",
       "    this._root_extra_style(this.root)\n",
       "    this.root.attr('style', 'display: inline-block');\n",
       "\n",
       "    $(parent_element).append(this.root);\n",
       "\n",
       "    this._init_header(this);\n",
       "    this._init_canvas(this);\n",
       "    this._init_toolbar(this);\n",
       "\n",
       "    var fig = this;\n",
       "\n",
       "    this.waiting = false;\n",
       "\n",
       "    this.ws.onopen =  function () {\n",
       "            fig.send_message(\"supports_binary\", {value: fig.supports_binary});\n",
       "            fig.send_message(\"send_image_mode\", {});\n",
       "            if (mpl.ratio != 1) {\n",
       "                fig.send_message(\"set_dpi_ratio\", {'dpi_ratio': mpl.ratio});\n",
       "            }\n",
       "            fig.send_message(\"refresh\", {});\n",
       "        }\n",
       "\n",
       "    this.imageObj.onload = function() {\n",
       "            if (fig.image_mode == 'full') {\n",
       "                // Full images could contain transparency (where diff images\n",
       "                // almost always do), so we need to clear the canvas so that\n",
       "                // there is no ghosting.\n",
       "                fig.context.clearRect(0, 0, fig.canvas.width, fig.canvas.height);\n",
       "            }\n",
       "            fig.context.drawImage(fig.imageObj, 0, 0);\n",
       "        };\n",
       "\n",
       "    this.imageObj.onunload = function() {\n",
       "        fig.ws.close();\n",
       "    }\n",
       "\n",
       "    this.ws.onmessage = this._make_on_message_function(this);\n",
       "\n",
       "    this.ondownload = ondownload;\n",
       "}\n",
       "\n",
       "mpl.figure.prototype._init_header = function() {\n",
       "    var titlebar = $(\n",
       "        '<div class=\"ui-dialog-titlebar ui-widget-header ui-corner-all ' +\n",
       "        'ui-helper-clearfix\"/>');\n",
       "    var titletext = $(\n",
       "        '<div class=\"ui-dialog-title\" style=\"width: 100%; ' +\n",
       "        'text-align: center; padding: 3px;\"/>');\n",
       "    titlebar.append(titletext)\n",
       "    this.root.append(titlebar);\n",
       "    this.header = titletext[0];\n",
       "}\n",
       "\n",
       "\n",
       "\n",
       "mpl.figure.prototype._canvas_extra_style = function(canvas_div) {\n",
       "\n",
       "}\n",
       "\n",
       "\n",
       "mpl.figure.prototype._root_extra_style = function(canvas_div) {\n",
       "\n",
       "}\n",
       "\n",
       "mpl.figure.prototype._init_canvas = function() {\n",
       "    var fig = this;\n",
       "\n",
       "    var canvas_div = $('<div/>');\n",
       "\n",
       "    canvas_div.attr('style', 'position: relative; clear: both; outline: 0');\n",
       "\n",
       "    function canvas_keyboard_event(event) {\n",
       "        return fig.key_event(event, event['data']);\n",
       "    }\n",
       "\n",
       "    canvas_div.keydown('key_press', canvas_keyboard_event);\n",
       "    canvas_div.keyup('key_release', canvas_keyboard_event);\n",
       "    this.canvas_div = canvas_div\n",
       "    this._canvas_extra_style(canvas_div)\n",
       "    this.root.append(canvas_div);\n",
       "\n",
       "    var canvas = $('<canvas/>');\n",
       "    canvas.addClass('mpl-canvas');\n",
       "    canvas.attr('style', \"left: 0; top: 0; z-index: 0; outline: 0\")\n",
       "\n",
       "    this.canvas = canvas[0];\n",
       "    this.context = canvas[0].getContext(\"2d\");\n",
       "\n",
       "    var backingStore = this.context.backingStorePixelRatio ||\n",
       "\tthis.context.webkitBackingStorePixelRatio ||\n",
       "\tthis.context.mozBackingStorePixelRatio ||\n",
       "\tthis.context.msBackingStorePixelRatio ||\n",
       "\tthis.context.oBackingStorePixelRatio ||\n",
       "\tthis.context.backingStorePixelRatio || 1;\n",
       "\n",
       "    mpl.ratio = (window.devicePixelRatio || 1) / backingStore;\n",
       "\n",
       "    var rubberband = $('<canvas/>');\n",
       "    rubberband.attr('style', \"position: absolute; left: 0; top: 0; z-index: 1;\")\n",
       "\n",
       "    var pass_mouse_events = true;\n",
       "\n",
       "    canvas_div.resizable({\n",
       "        start: function(event, ui) {\n",
       "            pass_mouse_events = false;\n",
       "        },\n",
       "        resize: function(event, ui) {\n",
       "            fig.request_resize(ui.size.width, ui.size.height);\n",
       "        },\n",
       "        stop: function(event, ui) {\n",
       "            pass_mouse_events = true;\n",
       "            fig.request_resize(ui.size.width, ui.size.height);\n",
       "        },\n",
       "    });\n",
       "\n",
       "    function mouse_event_fn(event) {\n",
       "        if (pass_mouse_events)\n",
       "            return fig.mouse_event(event, event['data']);\n",
       "    }\n",
       "\n",
       "    rubberband.mousedown('button_press', mouse_event_fn);\n",
       "    rubberband.mouseup('button_release', mouse_event_fn);\n",
       "    // Throttle sequential mouse events to 1 every 20ms.\n",
       "    rubberband.mousemove('motion_notify', mouse_event_fn);\n",
       "\n",
       "    rubberband.mouseenter('figure_enter', mouse_event_fn);\n",
       "    rubberband.mouseleave('figure_leave', mouse_event_fn);\n",
       "\n",
       "    canvas_div.on(\"wheel\", function (event) {\n",
       "        event = event.originalEvent;\n",
       "        event['data'] = 'scroll'\n",
       "        if (event.deltaY < 0) {\n",
       "            event.step = 1;\n",
       "        } else {\n",
       "            event.step = -1;\n",
       "        }\n",
       "        mouse_event_fn(event);\n",
       "    });\n",
       "\n",
       "    canvas_div.append(canvas);\n",
       "    canvas_div.append(rubberband);\n",
       "\n",
       "    this.rubberband = rubberband;\n",
       "    this.rubberband_canvas = rubberband[0];\n",
       "    this.rubberband_context = rubberband[0].getContext(\"2d\");\n",
       "    this.rubberband_context.strokeStyle = \"#000000\";\n",
       "\n",
       "    this._resize_canvas = function(width, height) {\n",
       "        // Keep the size of the canvas, canvas container, and rubber band\n",
       "        // canvas in synch.\n",
       "        canvas_div.css('width', width)\n",
       "        canvas_div.css('height', height)\n",
       "\n",
       "        canvas.attr('width', width * mpl.ratio);\n",
       "        canvas.attr('height', height * mpl.ratio);\n",
       "        canvas.attr('style', 'width: ' + width + 'px; height: ' + height + 'px;');\n",
       "\n",
       "        rubberband.attr('width', width);\n",
       "        rubberband.attr('height', height);\n",
       "    }\n",
       "\n",
       "    // Set the figure to an initial 600x600px, this will subsequently be updated\n",
       "    // upon first draw.\n",
       "    this._resize_canvas(600, 600);\n",
       "\n",
       "    // Disable right mouse context menu.\n",
       "    $(this.rubberband_canvas).bind(\"contextmenu\",function(e){\n",
       "        return false;\n",
       "    });\n",
       "\n",
       "    function set_focus () {\n",
       "        canvas.focus();\n",
       "        canvas_div.focus();\n",
       "    }\n",
       "\n",
       "    window.setTimeout(set_focus, 100);\n",
       "}\n",
       "\n",
       "mpl.figure.prototype._init_toolbar = function() {\n",
       "    var fig = this;\n",
       "\n",
       "    var nav_element = $('<div/>')\n",
       "    nav_element.attr('style', 'width: 100%');\n",
       "    this.root.append(nav_element);\n",
       "\n",
       "    // Define a callback function for later on.\n",
       "    function toolbar_event(event) {\n",
       "        return fig.toolbar_button_onclick(event['data']);\n",
       "    }\n",
       "    function toolbar_mouse_event(event) {\n",
       "        return fig.toolbar_button_onmouseover(event['data']);\n",
       "    }\n",
       "\n",
       "    for(var toolbar_ind in mpl.toolbar_items) {\n",
       "        var name = mpl.toolbar_items[toolbar_ind][0];\n",
       "        var tooltip = mpl.toolbar_items[toolbar_ind][1];\n",
       "        var image = mpl.toolbar_items[toolbar_ind][2];\n",
       "        var method_name = mpl.toolbar_items[toolbar_ind][3];\n",
       "\n",
       "        if (!name) {\n",
       "            // put a spacer in here.\n",
       "            continue;\n",
       "        }\n",
       "        var button = $('<button/>');\n",
       "        button.addClass('ui-button ui-widget ui-state-default ui-corner-all ' +\n",
       "                        'ui-button-icon-only');\n",
       "        button.attr('role', 'button');\n",
       "        button.attr('aria-disabled', 'false');\n",
       "        button.click(method_name, toolbar_event);\n",
       "        button.mouseover(tooltip, toolbar_mouse_event);\n",
       "\n",
       "        var icon_img = $('<span/>');\n",
       "        icon_img.addClass('ui-button-icon-primary ui-icon');\n",
       "        icon_img.addClass(image);\n",
       "        icon_img.addClass('ui-corner-all');\n",
       "\n",
       "        var tooltip_span = $('<span/>');\n",
       "        tooltip_span.addClass('ui-button-text');\n",
       "        tooltip_span.html(tooltip);\n",
       "\n",
       "        button.append(icon_img);\n",
       "        button.append(tooltip_span);\n",
       "\n",
       "        nav_element.append(button);\n",
       "    }\n",
       "\n",
       "    var fmt_picker_span = $('<span/>');\n",
       "\n",
       "    var fmt_picker = $('<select/>');\n",
       "    fmt_picker.addClass('mpl-toolbar-option ui-widget ui-widget-content');\n",
       "    fmt_picker_span.append(fmt_picker);\n",
       "    nav_element.append(fmt_picker_span);\n",
       "    this.format_dropdown = fmt_picker[0];\n",
       "\n",
       "    for (var ind in mpl.extensions) {\n",
       "        var fmt = mpl.extensions[ind];\n",
       "        var option = $(\n",
       "            '<option/>', {selected: fmt === mpl.default_extension}).html(fmt);\n",
       "        fmt_picker.append(option)\n",
       "    }\n",
       "\n",
       "    // Add hover states to the ui-buttons\n",
       "    $( \".ui-button\" ).hover(\n",
       "        function() { $(this).addClass(\"ui-state-hover\");},\n",
       "        function() { $(this).removeClass(\"ui-state-hover\");}\n",
       "    );\n",
       "\n",
       "    var status_bar = $('<span class=\"mpl-message\"/>');\n",
       "    nav_element.append(status_bar);\n",
       "    this.message = status_bar[0];\n",
       "}\n",
       "\n",
       "mpl.figure.prototype.request_resize = function(x_pixels, y_pixels) {\n",
       "    // Request matplotlib to resize the figure. Matplotlib will then trigger a resize in the client,\n",
       "    // which will in turn request a refresh of the image.\n",
       "    this.send_message('resize', {'width': x_pixels, 'height': y_pixels});\n",
       "}\n",
       "\n",
       "mpl.figure.prototype.send_message = function(type, properties) {\n",
       "    properties['type'] = type;\n",
       "    properties['figure_id'] = this.id;\n",
       "    this.ws.send(JSON.stringify(properties));\n",
       "}\n",
       "\n",
       "mpl.figure.prototype.send_draw_message = function() {\n",
       "    if (!this.waiting) {\n",
       "        this.waiting = true;\n",
       "        this.ws.send(JSON.stringify({type: \"draw\", figure_id: this.id}));\n",
       "    }\n",
       "}\n",
       "\n",
       "\n",
       "mpl.figure.prototype.handle_save = function(fig, msg) {\n",
       "    var format_dropdown = fig.format_dropdown;\n",
       "    var format = format_dropdown.options[format_dropdown.selectedIndex].value;\n",
       "    fig.ondownload(fig, format);\n",
       "}\n",
       "\n",
       "\n",
       "mpl.figure.prototype.handle_resize = function(fig, msg) {\n",
       "    var size = msg['size'];\n",
       "    if (size[0] != fig.canvas.width || size[1] != fig.canvas.height) {\n",
       "        fig._resize_canvas(size[0], size[1]);\n",
       "        fig.send_message(\"refresh\", {});\n",
       "    };\n",
       "}\n",
       "\n",
       "mpl.figure.prototype.handle_rubberband = function(fig, msg) {\n",
       "    var x0 = msg['x0'] / mpl.ratio;\n",
       "    var y0 = (fig.canvas.height - msg['y0']) / mpl.ratio;\n",
       "    var x1 = msg['x1'] / mpl.ratio;\n",
       "    var y1 = (fig.canvas.height - msg['y1']) / mpl.ratio;\n",
       "    x0 = Math.floor(x0) + 0.5;\n",
       "    y0 = Math.floor(y0) + 0.5;\n",
       "    x1 = Math.floor(x1) + 0.5;\n",
       "    y1 = Math.floor(y1) + 0.5;\n",
       "    var min_x = Math.min(x0, x1);\n",
       "    var min_y = Math.min(y0, y1);\n",
       "    var width = Math.abs(x1 - x0);\n",
       "    var height = Math.abs(y1 - y0);\n",
       "\n",
       "    fig.rubberband_context.clearRect(\n",
       "        0, 0, fig.canvas.width, fig.canvas.height);\n",
       "\n",
       "    fig.rubberband_context.strokeRect(min_x, min_y, width, height);\n",
       "}\n",
       "\n",
       "mpl.figure.prototype.handle_figure_label = function(fig, msg) {\n",
       "    // Updates the figure title.\n",
       "    fig.header.textContent = msg['label'];\n",
       "}\n",
       "\n",
       "mpl.figure.prototype.handle_cursor = function(fig, msg) {\n",
       "    var cursor = msg['cursor'];\n",
       "    switch(cursor)\n",
       "    {\n",
       "    case 0:\n",
       "        cursor = 'pointer';\n",
       "        break;\n",
       "    case 1:\n",
       "        cursor = 'default';\n",
       "        break;\n",
       "    case 2:\n",
       "        cursor = 'crosshair';\n",
       "        break;\n",
       "    case 3:\n",
       "        cursor = 'move';\n",
       "        break;\n",
       "    }\n",
       "    fig.rubberband_canvas.style.cursor = cursor;\n",
       "}\n",
       "\n",
       "mpl.figure.prototype.handle_message = function(fig, msg) {\n",
       "    fig.message.textContent = msg['message'];\n",
       "}\n",
       "\n",
       "mpl.figure.prototype.handle_draw = function(fig, msg) {\n",
       "    // Request the server to send over a new figure.\n",
       "    fig.send_draw_message();\n",
       "}\n",
       "\n",
       "mpl.figure.prototype.handle_image_mode = function(fig, msg) {\n",
       "    fig.image_mode = msg['mode'];\n",
       "}\n",
       "\n",
       "mpl.figure.prototype.updated_canvas_event = function() {\n",
       "    // Called whenever the canvas gets updated.\n",
       "    this.send_message(\"ack\", {});\n",
       "}\n",
       "\n",
       "// A function to construct a web socket function for onmessage handling.\n",
       "// Called in the figure constructor.\n",
       "mpl.figure.prototype._make_on_message_function = function(fig) {\n",
       "    return function socket_on_message(evt) {\n",
       "        if (evt.data instanceof Blob) {\n",
       "            /* FIXME: We get \"Resource interpreted as Image but\n",
       "             * transferred with MIME type text/plain:\" errors on\n",
       "             * Chrome.  But how to set the MIME type?  It doesn't seem\n",
       "             * to be part of the websocket stream */\n",
       "            evt.data.type = \"image/png\";\n",
       "\n",
       "            /* Free the memory for the previous frames */\n",
       "            if (fig.imageObj.src) {\n",
       "                (window.URL || window.webkitURL).revokeObjectURL(\n",
       "                    fig.imageObj.src);\n",
       "            }\n",
       "\n",
       "            fig.imageObj.src = (window.URL || window.webkitURL).createObjectURL(\n",
       "                evt.data);\n",
       "            fig.updated_canvas_event();\n",
       "            fig.waiting = false;\n",
       "            return;\n",
       "        }\n",
       "        else if (typeof evt.data === 'string' && evt.data.slice(0, 21) == \"data:image/png;base64\") {\n",
       "            fig.imageObj.src = evt.data;\n",
       "            fig.updated_canvas_event();\n",
       "            fig.waiting = false;\n",
       "            return;\n",
       "        }\n",
       "\n",
       "        var msg = JSON.parse(evt.data);\n",
       "        var msg_type = msg['type'];\n",
       "\n",
       "        // Call the  \"handle_{type}\" callback, which takes\n",
       "        // the figure and JSON message as its only arguments.\n",
       "        try {\n",
       "            var callback = fig[\"handle_\" + msg_type];\n",
       "        } catch (e) {\n",
       "            console.log(\"No handler for the '\" + msg_type + \"' message type: \", msg);\n",
       "            return;\n",
       "        }\n",
       "\n",
       "        if (callback) {\n",
       "            try {\n",
       "                // console.log(\"Handling '\" + msg_type + \"' message: \", msg);\n",
       "                callback(fig, msg);\n",
       "            } catch (e) {\n",
       "                console.log(\"Exception inside the 'handler_\" + msg_type + \"' callback:\", e, e.stack, msg);\n",
       "            }\n",
       "        }\n",
       "    };\n",
       "}\n",
       "\n",
       "// from http://stackoverflow.com/questions/1114465/getting-mouse-location-in-canvas\n",
       "mpl.findpos = function(e) {\n",
       "    //this section is from http://www.quirksmode.org/js/events_properties.html\n",
       "    var targ;\n",
       "    if (!e)\n",
       "        e = window.event;\n",
       "    if (e.target)\n",
       "        targ = e.target;\n",
       "    else if (e.srcElement)\n",
       "        targ = e.srcElement;\n",
       "    if (targ.nodeType == 3) // defeat Safari bug\n",
       "        targ = targ.parentNode;\n",
       "\n",
       "    // jQuery normalizes the pageX and pageY\n",
       "    // pageX,Y are the mouse positions relative to the document\n",
       "    // offset() returns the position of the element relative to the document\n",
       "    var x = e.pageX - $(targ).offset().left;\n",
       "    var y = e.pageY - $(targ).offset().top;\n",
       "\n",
       "    return {\"x\": x, \"y\": y};\n",
       "};\n",
       "\n",
       "/*\n",
       " * return a copy of an object with only non-object keys\n",
       " * we need this to avoid circular references\n",
       " * http://stackoverflow.com/a/24161582/3208463\n",
       " */\n",
       "function simpleKeys (original) {\n",
       "  return Object.keys(original).reduce(function (obj, key) {\n",
       "    if (typeof original[key] !== 'object')\n",
       "        obj[key] = original[key]\n",
       "    return obj;\n",
       "  }, {});\n",
       "}\n",
       "\n",
       "mpl.figure.prototype.mouse_event = function(event, name) {\n",
       "    var canvas_pos = mpl.findpos(event)\n",
       "\n",
       "    if (name === 'button_press')\n",
       "    {\n",
       "        this.canvas.focus();\n",
       "        this.canvas_div.focus();\n",
       "    }\n",
       "\n",
       "    var x = canvas_pos.x * mpl.ratio;\n",
       "    var y = canvas_pos.y * mpl.ratio;\n",
       "\n",
       "    this.send_message(name, {x: x, y: y, button: event.button,\n",
       "                             step: event.step,\n",
       "                             guiEvent: simpleKeys(event)});\n",
       "\n",
       "    /* This prevents the web browser from automatically changing to\n",
       "     * the text insertion cursor when the button is pressed.  We want\n",
       "     * to control all of the cursor setting manually through the\n",
       "     * 'cursor' event from matplotlib */\n",
       "    event.preventDefault();\n",
       "    return false;\n",
       "}\n",
       "\n",
       "mpl.figure.prototype._key_event_extra = function(event, name) {\n",
       "    // Handle any extra behaviour associated with a key event\n",
       "}\n",
       "\n",
       "mpl.figure.prototype.key_event = function(event, name) {\n",
       "\n",
       "    // Prevent repeat events\n",
       "    if (name == 'key_press')\n",
       "    {\n",
       "        if (event.which === this._key)\n",
       "            return;\n",
       "        else\n",
       "            this._key = event.which;\n",
       "    }\n",
       "    if (name == 'key_release')\n",
       "        this._key = null;\n",
       "\n",
       "    var value = '';\n",
       "    if (event.ctrlKey && event.which != 17)\n",
       "        value += \"ctrl+\";\n",
       "    if (event.altKey && event.which != 18)\n",
       "        value += \"alt+\";\n",
       "    if (event.shiftKey && event.which != 16)\n",
       "        value += \"shift+\";\n",
       "\n",
       "    value += 'k';\n",
       "    value += event.which.toString();\n",
       "\n",
       "    this._key_event_extra(event, name);\n",
       "\n",
       "    this.send_message(name, {key: value,\n",
       "                             guiEvent: simpleKeys(event)});\n",
       "    return false;\n",
       "}\n",
       "\n",
       "mpl.figure.prototype.toolbar_button_onclick = function(name) {\n",
       "    if (name == 'download') {\n",
       "        this.handle_save(this, null);\n",
       "    } else {\n",
       "        this.send_message(\"toolbar_button\", {name: name});\n",
       "    }\n",
       "};\n",
       "\n",
       "mpl.figure.prototype.toolbar_button_onmouseover = function(tooltip) {\n",
       "    this.message.textContent = tooltip;\n",
       "};\n",
       "mpl.toolbar_items = [[\"Home\", \"Reset original view\", \"fa fa-home icon-home\", \"home\"], [\"Back\", \"Back to previous view\", \"fa fa-arrow-left icon-arrow-left\", \"back\"], [\"Forward\", \"Forward to next view\", \"fa fa-arrow-right icon-arrow-right\", \"forward\"], [\"\", \"\", \"\", \"\"], [\"Pan\", \"Pan axes with left mouse, zoom with right\", \"fa fa-arrows icon-move\", \"pan\"], [\"Zoom\", \"Zoom to rectangle\", \"fa fa-square-o icon-check-empty\", \"zoom\"], [\"\", \"\", \"\", \"\"], [\"Download\", \"Download plot\", \"fa fa-floppy-o icon-save\", \"download\"]];\n",
       "\n",
       "mpl.extensions = [\"eps\", \"jpeg\", \"pdf\", \"png\", \"ps\", \"raw\", \"svg\", \"tif\"];\n",
       "\n",
       "mpl.default_extension = \"png\";var comm_websocket_adapter = function(comm) {\n",
       "    // Create a \"websocket\"-like object which calls the given IPython comm\n",
       "    // object with the appropriate methods. Currently this is a non binary\n",
       "    // socket, so there is still some room for performance tuning.\n",
       "    var ws = {};\n",
       "\n",
       "    ws.close = function() {\n",
       "        comm.close()\n",
       "    };\n",
       "    ws.send = function(m) {\n",
       "        //console.log('sending', m);\n",
       "        comm.send(m);\n",
       "    };\n",
       "    // Register the callback with on_msg.\n",
       "    comm.on_msg(function(msg) {\n",
       "        //console.log('receiving', msg['content']['data'], msg);\n",
       "        // Pass the mpl event to the overridden (by mpl) onmessage function.\n",
       "        ws.onmessage(msg['content']['data'])\n",
       "    });\n",
       "    return ws;\n",
       "}\n",
       "\n",
       "mpl.mpl_figure_comm = function(comm, msg) {\n",
       "    // This is the function which gets called when the mpl process\n",
       "    // starts-up an IPython Comm through the \"matplotlib\" channel.\n",
       "\n",
       "    var id = msg.content.data.id;\n",
       "    // Get hold of the div created by the display call when the Comm\n",
       "    // socket was opened in Python.\n",
       "    var element = $(\"#\" + id);\n",
       "    var ws_proxy = comm_websocket_adapter(comm)\n",
       "\n",
       "    function ondownload(figure, format) {\n",
       "        window.open(figure.imageObj.src);\n",
       "    }\n",
       "\n",
       "    var fig = new mpl.figure(id, ws_proxy,\n",
       "                           ondownload,\n",
       "                           element.get(0));\n",
       "\n",
       "    // Call onopen now - mpl needs it, as it is assuming we've passed it a real\n",
       "    // web socket which is closed, not our websocket->open comm proxy.\n",
       "    ws_proxy.onopen();\n",
       "\n",
       "    fig.parent_element = element.get(0);\n",
       "    fig.cell_info = mpl.find_output_cell(\"<div id='\" + id + \"'></div>\");\n",
       "    if (!fig.cell_info) {\n",
       "        console.error(\"Failed to find cell for figure\", id, fig);\n",
       "        return;\n",
       "    }\n",
       "\n",
       "    var output_index = fig.cell_info[2]\n",
       "    var cell = fig.cell_info[0];\n",
       "\n",
       "};\n",
       "\n",
       "mpl.figure.prototype.handle_close = function(fig, msg) {\n",
       "    var width = fig.canvas.width/mpl.ratio\n",
       "    fig.root.unbind('remove')\n",
       "\n",
       "    // Update the output cell to use the data from the current canvas.\n",
       "    fig.push_to_output();\n",
       "    var dataURL = fig.canvas.toDataURL();\n",
       "    // Re-enable the keyboard manager in IPython - without this line, in FF,\n",
       "    // the notebook keyboard shortcuts fail.\n",
       "    IPython.keyboard_manager.enable()\n",
       "    $(fig.parent_element).html('<img src=\"' + dataURL + '\" width=\"' + width + '\">');\n",
       "    fig.close_ws(fig, msg);\n",
       "}\n",
       "\n",
       "mpl.figure.prototype.close_ws = function(fig, msg){\n",
       "    fig.send_message('closing', msg);\n",
       "    // fig.ws.close()\n",
       "}\n",
       "\n",
       "mpl.figure.prototype.push_to_output = function(remove_interactive) {\n",
       "    // Turn the data on the canvas into data in the output cell.\n",
       "    var width = this.canvas.width/mpl.ratio\n",
       "    var dataURL = this.canvas.toDataURL();\n",
       "    this.cell_info[1]['text/html'] = '<img src=\"' + dataURL + '\" width=\"' + width + '\">';\n",
       "}\n",
       "\n",
       "mpl.figure.prototype.updated_canvas_event = function() {\n",
       "    // Tell IPython that the notebook contents must change.\n",
       "    IPython.notebook.set_dirty(true);\n",
       "    this.send_message(\"ack\", {});\n",
       "    var fig = this;\n",
       "    // Wait a second, then push the new image to the DOM so\n",
       "    // that it is saved nicely (might be nice to debounce this).\n",
       "    setTimeout(function () { fig.push_to_output() }, 1000);\n",
       "}\n",
       "\n",
       "mpl.figure.prototype._init_toolbar = function() {\n",
       "    var fig = this;\n",
       "\n",
       "    var nav_element = $('<div/>')\n",
       "    nav_element.attr('style', 'width: 100%');\n",
       "    this.root.append(nav_element);\n",
       "\n",
       "    // Define a callback function for later on.\n",
       "    function toolbar_event(event) {\n",
       "        return fig.toolbar_button_onclick(event['data']);\n",
       "    }\n",
       "    function toolbar_mouse_event(event) {\n",
       "        return fig.toolbar_button_onmouseover(event['data']);\n",
       "    }\n",
       "\n",
       "    for(var toolbar_ind in mpl.toolbar_items){\n",
       "        var name = mpl.toolbar_items[toolbar_ind][0];\n",
       "        var tooltip = mpl.toolbar_items[toolbar_ind][1];\n",
       "        var image = mpl.toolbar_items[toolbar_ind][2];\n",
       "        var method_name = mpl.toolbar_items[toolbar_ind][3];\n",
       "\n",
       "        if (!name) { continue; };\n",
       "\n",
       "        var button = $('<button class=\"btn btn-default\" href=\"#\" title=\"' + name + '\"><i class=\"fa ' + image + ' fa-lg\"></i></button>');\n",
       "        button.click(method_name, toolbar_event);\n",
       "        button.mouseover(tooltip, toolbar_mouse_event);\n",
       "        nav_element.append(button);\n",
       "    }\n",
       "\n",
       "    // Add the status bar.\n",
       "    var status_bar = $('<span class=\"mpl-message\" style=\"text-align:right; float: right;\"/>');\n",
       "    nav_element.append(status_bar);\n",
       "    this.message = status_bar[0];\n",
       "\n",
       "    // Add the close button to the window.\n",
       "    var buttongrp = $('<div class=\"btn-group inline pull-right\"></div>');\n",
       "    var button = $('<button class=\"btn btn-mini btn-primary\" href=\"#\" title=\"Stop Interaction\"><i class=\"fa fa-power-off icon-remove icon-large\"></i></button>');\n",
       "    button.click(function (evt) { fig.handle_close(fig, {}); } );\n",
       "    button.mouseover('Stop Interaction', toolbar_mouse_event);\n",
       "    buttongrp.append(button);\n",
       "    var titlebar = this.root.find($('.ui-dialog-titlebar'));\n",
       "    titlebar.prepend(buttongrp);\n",
       "}\n",
       "\n",
       "mpl.figure.prototype._root_extra_style = function(el){\n",
       "    var fig = this\n",
       "    el.on(\"remove\", function(){\n",
       "\tfig.close_ws(fig, {});\n",
       "    });\n",
       "}\n",
       "\n",
       "mpl.figure.prototype._canvas_extra_style = function(el){\n",
       "    // this is important to make the div 'focusable\n",
       "    el.attr('tabindex', 0)\n",
       "    // reach out to IPython and tell the keyboard manager to turn it's self\n",
       "    // off when our div gets focus\n",
       "\n",
       "    // location in version 3\n",
       "    if (IPython.notebook.keyboard_manager) {\n",
       "        IPython.notebook.keyboard_manager.register_events(el);\n",
       "    }\n",
       "    else {\n",
       "        // location in version 2\n",
       "        IPython.keyboard_manager.register_events(el);\n",
       "    }\n",
       "\n",
       "}\n",
       "\n",
       "mpl.figure.prototype._key_event_extra = function(event, name) {\n",
       "    var manager = IPython.notebook.keyboard_manager;\n",
       "    if (!manager)\n",
       "        manager = IPython.keyboard_manager;\n",
       "\n",
       "    // Check for shift+enter\n",
       "    if (event.shiftKey && event.which == 13) {\n",
       "        this.canvas_div.blur();\n",
       "        event.shiftKey = false;\n",
       "        // Send a \"J\" for go to next cell\n",
       "        event.which = 74;\n",
       "        event.keyCode = 74;\n",
       "        manager.command_mode();\n",
       "        manager.handle_keydown(event);\n",
       "    }\n",
       "}\n",
       "\n",
       "mpl.figure.prototype.handle_save = function(fig, msg) {\n",
       "    fig.ondownload(fig, null);\n",
       "}\n",
       "\n",
       "\n",
       "mpl.find_output_cell = function(html_output) {\n",
       "    // Return the cell and output element which can be found *uniquely* in the notebook.\n",
       "    // Note - this is a bit hacky, but it is done because the \"notebook_saving.Notebook\"\n",
       "    // IPython event is triggered only after the cells have been serialised, which for\n",
       "    // our purposes (turning an active figure into a static one), is too late.\n",
       "    var cells = IPython.notebook.get_cells();\n",
       "    var ncells = cells.length;\n",
       "    for (var i=0; i<ncells; i++) {\n",
       "        var cell = cells[i];\n",
       "        if (cell.cell_type === 'code'){\n",
       "            for (var j=0; j<cell.output_area.outputs.length; j++) {\n",
       "                var data = cell.output_area.outputs[j];\n",
       "                if (data.data) {\n",
       "                    // IPython >= 3 moved mimebundle to data attribute of output\n",
       "                    data = data.data;\n",
       "                }\n",
       "                if (data['text/html'] == html_output) {\n",
       "                    return [cell, data, j];\n",
       "                }\n",
       "            }\n",
       "        }\n",
       "    }\n",
       "}\n",
       "\n",
       "// Register the function which deals with the matplotlib target/channel.\n",
       "// The kernel may be null if the page has been refreshed.\n",
       "if (IPython.notebook.kernel != null) {\n",
       "    IPython.notebook.kernel.comm_manager.register_target('matplotlib', mpl.mpl_figure_comm);\n",
       "}\n"
      ],
      "text/plain": [
       "<IPython.core.display.Javascript object>"
      ]
     },
     "metadata": {},
     "output_type": "display_data"
    },
    {
     "data": {
      "text/html": [
       "<img src=\"data:image/png;base64,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\" width=\"850\">"
      ],
      "text/plain": [
       "<IPython.core.display.HTML object>"
      ]
     },
     "metadata": {},
     "output_type": "display_data"
    },
    {
     "data": {
      "application/vnd.jupyter.widget-view+json": {
       "model_id": "639c00a4fdb34f5693acfa2971fbf125",
       "version_major": 2,
       "version_minor": 0
      },
      "text/plain": [
       "VBox(children=(HBox(children=(Button(description='First', style=ButtonStyle()), Button(description='Prev', sty…"
      ]
     },
     "metadata": {},
     "output_type": "display_data"
    }
   ],
   "source": [
    "fig_1, axes = iter_subplots(1, 3, figsize=(8.5, 2))\n",
    "icp = IterCellPlot(cells)\n",
    "icp.imshow('binary', ax=axes[0])\n",
    "icp.imshow('brightfield', ax=axes[1])\n",
    "icp.plot_outline(ax=axes[1])\n",
    "icp.imshow('brightfield', ax=axes[2])\n",
    "icp.plot_storm(ax=axes[2], method='plot', color='b')\n",
    "icp.plot_outline(ax=axes[2])\n",
    "plt.tight_layout()\n",
    "fig_1.display()"
   ]
  },
  {
   "cell_type": "markdown",
   "metadata": {},
   "source": [
    "We can render the STORM image by calling `plot_storm` and specifying 'gauss' as the plotting method. This places a gaussian with a sigma with a default value of 0.25 pixels. This can be customized by either giving a numpy array with custom values as value for the `sigma` keyword argument or a string which identifies the column in the STORM data element to use.<br>\n",
    "The rendering can take some time to complete dependingon the desired output pixels size.  This example takes ~2 minutes, the rendering process will be part of a performance update in the future."
   ]
  },
  {
   "cell_type": "code",
   "execution_count": 18,
   "metadata": {},
   "outputs": [
    {
     "data": {
      "application/javascript": [
       "/* Put everything inside the global mpl namespace */\n",
       "window.mpl = {};\n",
       "\n",
       "\n",
       "mpl.get_websocket_type = function() {\n",
       "    if (typeof(WebSocket) !== 'undefined') {\n",
       "        return WebSocket;\n",
       "    } else if (typeof(MozWebSocket) !== 'undefined') {\n",
       "        return MozWebSocket;\n",
       "    } else {\n",
       "        alert('Your browser does not have WebSocket support.' +\n",
       "              'Please try Chrome, Safari or Firefox ≥ 6. ' +\n",
       "              'Firefox 4 and 5 are also supported but you ' +\n",
       "              'have to enable WebSockets in about:config.');\n",
       "    };\n",
       "}\n",
       "\n",
       "mpl.figure = function(figure_id, websocket, ondownload, parent_element) {\n",
       "    this.id = figure_id;\n",
       "\n",
       "    this.ws = websocket;\n",
       "\n",
       "    this.supports_binary = (this.ws.binaryType != undefined);\n",
       "\n",
       "    if (!this.supports_binary) {\n",
       "        var warnings = document.getElementById(\"mpl-warnings\");\n",
       "        if (warnings) {\n",
       "            warnings.style.display = 'block';\n",
       "            warnings.textContent = (\n",
       "                \"This browser does not support binary websocket messages. \" +\n",
       "                    \"Performance may be slow.\");\n",
       "        }\n",
       "    }\n",
       "\n",
       "    this.imageObj = new Image();\n",
       "\n",
       "    this.context = undefined;\n",
       "    this.message = undefined;\n",
       "    this.canvas = undefined;\n",
       "    this.rubberband_canvas = undefined;\n",
       "    this.rubberband_context = undefined;\n",
       "    this.format_dropdown = undefined;\n",
       "\n",
       "    this.image_mode = 'full';\n",
       "\n",
       "    this.root = $('<div/>');\n",
       "    this._root_extra_style(this.root)\n",
       "    this.root.attr('style', 'display: inline-block');\n",
       "\n",
       "    $(parent_element).append(this.root);\n",
       "\n",
       "    this._init_header(this);\n",
       "    this._init_canvas(this);\n",
       "    this._init_toolbar(this);\n",
       "\n",
       "    var fig = this;\n",
       "\n",
       "    this.waiting = false;\n",
       "\n",
       "    this.ws.onopen =  function () {\n",
       "            fig.send_message(\"supports_binary\", {value: fig.supports_binary});\n",
       "            fig.send_message(\"send_image_mode\", {});\n",
       "            if (mpl.ratio != 1) {\n",
       "                fig.send_message(\"set_dpi_ratio\", {'dpi_ratio': mpl.ratio});\n",
       "            }\n",
       "            fig.send_message(\"refresh\", {});\n",
       "        }\n",
       "\n",
       "    this.imageObj.onload = function() {\n",
       "            if (fig.image_mode == 'full') {\n",
       "                // Full images could contain transparency (where diff images\n",
       "                // almost always do), so we need to clear the canvas so that\n",
       "                // there is no ghosting.\n",
       "                fig.context.clearRect(0, 0, fig.canvas.width, fig.canvas.height);\n",
       "            }\n",
       "            fig.context.drawImage(fig.imageObj, 0, 0);\n",
       "        };\n",
       "\n",
       "    this.imageObj.onunload = function() {\n",
       "        fig.ws.close();\n",
       "    }\n",
       "\n",
       "    this.ws.onmessage = this._make_on_message_function(this);\n",
       "\n",
       "    this.ondownload = ondownload;\n",
       "}\n",
       "\n",
       "mpl.figure.prototype._init_header = function() {\n",
       "    var titlebar = $(\n",
       "        '<div class=\"ui-dialog-titlebar ui-widget-header ui-corner-all ' +\n",
       "        'ui-helper-clearfix\"/>');\n",
       "    var titletext = $(\n",
       "        '<div class=\"ui-dialog-title\" style=\"width: 100%; ' +\n",
       "        'text-align: center; padding: 3px;\"/>');\n",
       "    titlebar.append(titletext)\n",
       "    this.root.append(titlebar);\n",
       "    this.header = titletext[0];\n",
       "}\n",
       "\n",
       "\n",
       "\n",
       "mpl.figure.prototype._canvas_extra_style = function(canvas_div) {\n",
       "\n",
       "}\n",
       "\n",
       "\n",
       "mpl.figure.prototype._root_extra_style = function(canvas_div) {\n",
       "\n",
       "}\n",
       "\n",
       "mpl.figure.prototype._init_canvas = function() {\n",
       "    var fig = this;\n",
       "\n",
       "    var canvas_div = $('<div/>');\n",
       "\n",
       "    canvas_div.attr('style', 'position: relative; clear: both; outline: 0');\n",
       "\n",
       "    function canvas_keyboard_event(event) {\n",
       "        return fig.key_event(event, event['data']);\n",
       "    }\n",
       "\n",
       "    canvas_div.keydown('key_press', canvas_keyboard_event);\n",
       "    canvas_div.keyup('key_release', canvas_keyboard_event);\n",
       "    this.canvas_div = canvas_div\n",
       "    this._canvas_extra_style(canvas_div)\n",
       "    this.root.append(canvas_div);\n",
       "\n",
       "    var canvas = $('<canvas/>');\n",
       "    canvas.addClass('mpl-canvas');\n",
       "    canvas.attr('style', \"left: 0; top: 0; z-index: 0; outline: 0\")\n",
       "\n",
       "    this.canvas = canvas[0];\n",
       "    this.context = canvas[0].getContext(\"2d\");\n",
       "\n",
       "    var backingStore = this.context.backingStorePixelRatio ||\n",
       "\tthis.context.webkitBackingStorePixelRatio ||\n",
       "\tthis.context.mozBackingStorePixelRatio ||\n",
       "\tthis.context.msBackingStorePixelRatio ||\n",
       "\tthis.context.oBackingStorePixelRatio ||\n",
       "\tthis.context.backingStorePixelRatio || 1;\n",
       "\n",
       "    mpl.ratio = (window.devicePixelRatio || 1) / backingStore;\n",
       "\n",
       "    var rubberband = $('<canvas/>');\n",
       "    rubberband.attr('style', \"position: absolute; left: 0; top: 0; z-index: 1;\")\n",
       "\n",
       "    var pass_mouse_events = true;\n",
       "\n",
       "    canvas_div.resizable({\n",
       "        start: function(event, ui) {\n",
       "            pass_mouse_events = false;\n",
       "        },\n",
       "        resize: function(event, ui) {\n",
       "            fig.request_resize(ui.size.width, ui.size.height);\n",
       "        },\n",
       "        stop: function(event, ui) {\n",
       "            pass_mouse_events = true;\n",
       "            fig.request_resize(ui.size.width, ui.size.height);\n",
       "        },\n",
       "    });\n",
       "\n",
       "    function mouse_event_fn(event) {\n",
       "        if (pass_mouse_events)\n",
       "            return fig.mouse_event(event, event['data']);\n",
       "    }\n",
       "\n",
       "    rubberband.mousedown('button_press', mouse_event_fn);\n",
       "    rubberband.mouseup('button_release', mouse_event_fn);\n",
       "    // Throttle sequential mouse events to 1 every 20ms.\n",
       "    rubberband.mousemove('motion_notify', mouse_event_fn);\n",
       "\n",
       "    rubberband.mouseenter('figure_enter', mouse_event_fn);\n",
       "    rubberband.mouseleave('figure_leave', mouse_event_fn);\n",
       "\n",
       "    canvas_div.on(\"wheel\", function (event) {\n",
       "        event = event.originalEvent;\n",
       "        event['data'] = 'scroll'\n",
       "        if (event.deltaY < 0) {\n",
       "            event.step = 1;\n",
       "        } else {\n",
       "            event.step = -1;\n",
       "        }\n",
       "        mouse_event_fn(event);\n",
       "    });\n",
       "\n",
       "    canvas_div.append(canvas);\n",
       "    canvas_div.append(rubberband);\n",
       "\n",
       "    this.rubberband = rubberband;\n",
       "    this.rubberband_canvas = rubberband[0];\n",
       "    this.rubberband_context = rubberband[0].getContext(\"2d\");\n",
       "    this.rubberband_context.strokeStyle = \"#000000\";\n",
       "\n",
       "    this._resize_canvas = function(width, height) {\n",
       "        // Keep the size of the canvas, canvas container, and rubber band\n",
       "        // canvas in synch.\n",
       "        canvas_div.css('width', width)\n",
       "        canvas_div.css('height', height)\n",
       "\n",
       "        canvas.attr('width', width * mpl.ratio);\n",
       "        canvas.attr('height', height * mpl.ratio);\n",
       "        canvas.attr('style', 'width: ' + width + 'px; height: ' + height + 'px;');\n",
       "\n",
       "        rubberband.attr('width', width);\n",
       "        rubberband.attr('height', height);\n",
       "    }\n",
       "\n",
       "    // Set the figure to an initial 600x600px, this will subsequently be updated\n",
       "    // upon first draw.\n",
       "    this._resize_canvas(600, 600);\n",
       "\n",
       "    // Disable right mouse context menu.\n",
       "    $(this.rubberband_canvas).bind(\"contextmenu\",function(e){\n",
       "        return false;\n",
       "    });\n",
       "\n",
       "    function set_focus () {\n",
       "        canvas.focus();\n",
       "        canvas_div.focus();\n",
       "    }\n",
       "\n",
       "    window.setTimeout(set_focus, 100);\n",
       "}\n",
       "\n",
       "mpl.figure.prototype._init_toolbar = function() {\n",
       "    var fig = this;\n",
       "\n",
       "    var nav_element = $('<div/>')\n",
       "    nav_element.attr('style', 'width: 100%');\n",
       "    this.root.append(nav_element);\n",
       "\n",
       "    // Define a callback function for later on.\n",
       "    function toolbar_event(event) {\n",
       "        return fig.toolbar_button_onclick(event['data']);\n",
       "    }\n",
       "    function toolbar_mouse_event(event) {\n",
       "        return fig.toolbar_button_onmouseover(event['data']);\n",
       "    }\n",
       "\n",
       "    for(var toolbar_ind in mpl.toolbar_items) {\n",
       "        var name = mpl.toolbar_items[toolbar_ind][0];\n",
       "        var tooltip = mpl.toolbar_items[toolbar_ind][1];\n",
       "        var image = mpl.toolbar_items[toolbar_ind][2];\n",
       "        var method_name = mpl.toolbar_items[toolbar_ind][3];\n",
       "\n",
       "        if (!name) {\n",
       "            // put a spacer in here.\n",
       "            continue;\n",
       "        }\n",
       "        var button = $('<button/>');\n",
       "        button.addClass('ui-button ui-widget ui-state-default ui-corner-all ' +\n",
       "                        'ui-button-icon-only');\n",
       "        button.attr('role', 'button');\n",
       "        button.attr('aria-disabled', 'false');\n",
       "        button.click(method_name, toolbar_event);\n",
       "        button.mouseover(tooltip, toolbar_mouse_event);\n",
       "\n",
       "        var icon_img = $('<span/>');\n",
       "        icon_img.addClass('ui-button-icon-primary ui-icon');\n",
       "        icon_img.addClass(image);\n",
       "        icon_img.addClass('ui-corner-all');\n",
       "\n",
       "        var tooltip_span = $('<span/>');\n",
       "        tooltip_span.addClass('ui-button-text');\n",
       "        tooltip_span.html(tooltip);\n",
       "\n",
       "        button.append(icon_img);\n",
       "        button.append(tooltip_span);\n",
       "\n",
       "        nav_element.append(button);\n",
       "    }\n",
       "\n",
       "    var fmt_picker_span = $('<span/>');\n",
       "\n",
       "    var fmt_picker = $('<select/>');\n",
       "    fmt_picker.addClass('mpl-toolbar-option ui-widget ui-widget-content');\n",
       "    fmt_picker_span.append(fmt_picker);\n",
       "    nav_element.append(fmt_picker_span);\n",
       "    this.format_dropdown = fmt_picker[0];\n",
       "\n",
       "    for (var ind in mpl.extensions) {\n",
       "        var fmt = mpl.extensions[ind];\n",
       "        var option = $(\n",
       "            '<option/>', {selected: fmt === mpl.default_extension}).html(fmt);\n",
       "        fmt_picker.append(option)\n",
       "    }\n",
       "\n",
       "    // Add hover states to the ui-buttons\n",
       "    $( \".ui-button\" ).hover(\n",
       "        function() { $(this).addClass(\"ui-state-hover\");},\n",
       "        function() { $(this).removeClass(\"ui-state-hover\");}\n",
       "    );\n",
       "\n",
       "    var status_bar = $('<span class=\"mpl-message\"/>');\n",
       "    nav_element.append(status_bar);\n",
       "    this.message = status_bar[0];\n",
       "}\n",
       "\n",
       "mpl.figure.prototype.request_resize = function(x_pixels, y_pixels) {\n",
       "    // Request matplotlib to resize the figure. Matplotlib will then trigger a resize in the client,\n",
       "    // which will in turn request a refresh of the image.\n",
       "    this.send_message('resize', {'width': x_pixels, 'height': y_pixels});\n",
       "}\n",
       "\n",
       "mpl.figure.prototype.send_message = function(type, properties) {\n",
       "    properties['type'] = type;\n",
       "    properties['figure_id'] = this.id;\n",
       "    this.ws.send(JSON.stringify(properties));\n",
       "}\n",
       "\n",
       "mpl.figure.prototype.send_draw_message = function() {\n",
       "    if (!this.waiting) {\n",
       "        this.waiting = true;\n",
       "        this.ws.send(JSON.stringify({type: \"draw\", figure_id: this.id}));\n",
       "    }\n",
       "}\n",
       "\n",
       "\n",
       "mpl.figure.prototype.handle_save = function(fig, msg) {\n",
       "    var format_dropdown = fig.format_dropdown;\n",
       "    var format = format_dropdown.options[format_dropdown.selectedIndex].value;\n",
       "    fig.ondownload(fig, format);\n",
       "}\n",
       "\n",
       "\n",
       "mpl.figure.prototype.handle_resize = function(fig, msg) {\n",
       "    var size = msg['size'];\n",
       "    if (size[0] != fig.canvas.width || size[1] != fig.canvas.height) {\n",
       "        fig._resize_canvas(size[0], size[1]);\n",
       "        fig.send_message(\"refresh\", {});\n",
       "    };\n",
       "}\n",
       "\n",
       "mpl.figure.prototype.handle_rubberband = function(fig, msg) {\n",
       "    var x0 = msg['x0'] / mpl.ratio;\n",
       "    var y0 = (fig.canvas.height - msg['y0']) / mpl.ratio;\n",
       "    var x1 = msg['x1'] / mpl.ratio;\n",
       "    var y1 = (fig.canvas.height - msg['y1']) / mpl.ratio;\n",
       "    x0 = Math.floor(x0) + 0.5;\n",
       "    y0 = Math.floor(y0) + 0.5;\n",
       "    x1 = Math.floor(x1) + 0.5;\n",
       "    y1 = Math.floor(y1) + 0.5;\n",
       "    var min_x = Math.min(x0, x1);\n",
       "    var min_y = Math.min(y0, y1);\n",
       "    var width = Math.abs(x1 - x0);\n",
       "    var height = Math.abs(y1 - y0);\n",
       "\n",
       "    fig.rubberband_context.clearRect(\n",
       "        0, 0, fig.canvas.width, fig.canvas.height);\n",
       "\n",
       "    fig.rubberband_context.strokeRect(min_x, min_y, width, height);\n",
       "}\n",
       "\n",
       "mpl.figure.prototype.handle_figure_label = function(fig, msg) {\n",
       "    // Updates the figure title.\n",
       "    fig.header.textContent = msg['label'];\n",
       "}\n",
       "\n",
       "mpl.figure.prototype.handle_cursor = function(fig, msg) {\n",
       "    var cursor = msg['cursor'];\n",
       "    switch(cursor)\n",
       "    {\n",
       "    case 0:\n",
       "        cursor = 'pointer';\n",
       "        break;\n",
       "    case 1:\n",
       "        cursor = 'default';\n",
       "        break;\n",
       "    case 2:\n",
       "        cursor = 'crosshair';\n",
       "        break;\n",
       "    case 3:\n",
       "        cursor = 'move';\n",
       "        break;\n",
       "    }\n",
       "    fig.rubberband_canvas.style.cursor = cursor;\n",
       "}\n",
       "\n",
       "mpl.figure.prototype.handle_message = function(fig, msg) {\n",
       "    fig.message.textContent = msg['message'];\n",
       "}\n",
       "\n",
       "mpl.figure.prototype.handle_draw = function(fig, msg) {\n",
       "    // Request the server to send over a new figure.\n",
       "    fig.send_draw_message();\n",
       "}\n",
       "\n",
       "mpl.figure.prototype.handle_image_mode = function(fig, msg) {\n",
       "    fig.image_mode = msg['mode'];\n",
       "}\n",
       "\n",
       "mpl.figure.prototype.updated_canvas_event = function() {\n",
       "    // Called whenever the canvas gets updated.\n",
       "    this.send_message(\"ack\", {});\n",
       "}\n",
       "\n",
       "// A function to construct a web socket function for onmessage handling.\n",
       "// Called in the figure constructor.\n",
       "mpl.figure.prototype._make_on_message_function = function(fig) {\n",
       "    return function socket_on_message(evt) {\n",
       "        if (evt.data instanceof Blob) {\n",
       "            /* FIXME: We get \"Resource interpreted as Image but\n",
       "             * transferred with MIME type text/plain:\" errors on\n",
       "             * Chrome.  But how to set the MIME type?  It doesn't seem\n",
       "             * to be part of the websocket stream */\n",
       "            evt.data.type = \"image/png\";\n",
       "\n",
       "            /* Free the memory for the previous frames */\n",
       "            if (fig.imageObj.src) {\n",
       "                (window.URL || window.webkitURL).revokeObjectURL(\n",
       "                    fig.imageObj.src);\n",
       "            }\n",
       "\n",
       "            fig.imageObj.src = (window.URL || window.webkitURL).createObjectURL(\n",
       "                evt.data);\n",
       "            fig.updated_canvas_event();\n",
       "            fig.waiting = false;\n",
       "            return;\n",
       "        }\n",
       "        else if (typeof evt.data === 'string' && evt.data.slice(0, 21) == \"data:image/png;base64\") {\n",
       "            fig.imageObj.src = evt.data;\n",
       "            fig.updated_canvas_event();\n",
       "            fig.waiting = false;\n",
       "            return;\n",
       "        }\n",
       "\n",
       "        var msg = JSON.parse(evt.data);\n",
       "        var msg_type = msg['type'];\n",
       "\n",
       "        // Call the  \"handle_{type}\" callback, which takes\n",
       "        // the figure and JSON message as its only arguments.\n",
       "        try {\n",
       "            var callback = fig[\"handle_\" + msg_type];\n",
       "        } catch (e) {\n",
       "            console.log(\"No handler for the '\" + msg_type + \"' message type: \", msg);\n",
       "            return;\n",
       "        }\n",
       "\n",
       "        if (callback) {\n",
       "            try {\n",
       "                // console.log(\"Handling '\" + msg_type + \"' message: \", msg);\n",
       "                callback(fig, msg);\n",
       "            } catch (e) {\n",
       "                console.log(\"Exception inside the 'handler_\" + msg_type + \"' callback:\", e, e.stack, msg);\n",
       "            }\n",
       "        }\n",
       "    };\n",
       "}\n",
       "\n",
       "// from http://stackoverflow.com/questions/1114465/getting-mouse-location-in-canvas\n",
       "mpl.findpos = function(e) {\n",
       "    //this section is from http://www.quirksmode.org/js/events_properties.html\n",
       "    var targ;\n",
       "    if (!e)\n",
       "        e = window.event;\n",
       "    if (e.target)\n",
       "        targ = e.target;\n",
       "    else if (e.srcElement)\n",
       "        targ = e.srcElement;\n",
       "    if (targ.nodeType == 3) // defeat Safari bug\n",
       "        targ = targ.parentNode;\n",
       "\n",
       "    // jQuery normalizes the pageX and pageY\n",
       "    // pageX,Y are the mouse positions relative to the document\n",
       "    // offset() returns the position of the element relative to the document\n",
       "    var x = e.pageX - $(targ).offset().left;\n",
       "    var y = e.pageY - $(targ).offset().top;\n",
       "\n",
       "    return {\"x\": x, \"y\": y};\n",
       "};\n",
       "\n",
       "/*\n",
       " * return a copy of an object with only non-object keys\n",
       " * we need this to avoid circular references\n",
       " * http://stackoverflow.com/a/24161582/3208463\n",
       " */\n",
       "function simpleKeys (original) {\n",
       "  return Object.keys(original).reduce(function (obj, key) {\n",
       "    if (typeof original[key] !== 'object')\n",
       "        obj[key] = original[key]\n",
       "    return obj;\n",
       "  }, {});\n",
       "}\n",
       "\n",
       "mpl.figure.prototype.mouse_event = function(event, name) {\n",
       "    var canvas_pos = mpl.findpos(event)\n",
       "\n",
       "    if (name === 'button_press')\n",
       "    {\n",
       "        this.canvas.focus();\n",
       "        this.canvas_div.focus();\n",
       "    }\n",
       "\n",
       "    var x = canvas_pos.x * mpl.ratio;\n",
       "    var y = canvas_pos.y * mpl.ratio;\n",
       "\n",
       "    this.send_message(name, {x: x, y: y, button: event.button,\n",
       "                             step: event.step,\n",
       "                             guiEvent: simpleKeys(event)});\n",
       "\n",
       "    /* This prevents the web browser from automatically changing to\n",
       "     * the text insertion cursor when the button is pressed.  We want\n",
       "     * to control all of the cursor setting manually through the\n",
       "     * 'cursor' event from matplotlib */\n",
       "    event.preventDefault();\n",
       "    return false;\n",
       "}\n",
       "\n",
       "mpl.figure.prototype._key_event_extra = function(event, name) {\n",
       "    // Handle any extra behaviour associated with a key event\n",
       "}\n",
       "\n",
       "mpl.figure.prototype.key_event = function(event, name) {\n",
       "\n",
       "    // Prevent repeat events\n",
       "    if (name == 'key_press')\n",
       "    {\n",
       "        if (event.which === this._key)\n",
       "            return;\n",
       "        else\n",
       "            this._key = event.which;\n",
       "    }\n",
       "    if (name == 'key_release')\n",
       "        this._key = null;\n",
       "\n",
       "    var value = '';\n",
       "    if (event.ctrlKey && event.which != 17)\n",
       "        value += \"ctrl+\";\n",
       "    if (event.altKey && event.which != 18)\n",
       "        value += \"alt+\";\n",
       "    if (event.shiftKey && event.which != 16)\n",
       "        value += \"shift+\";\n",
       "\n",
       "    value += 'k';\n",
       "    value += event.which.toString();\n",
       "\n",
       "    this._key_event_extra(event, name);\n",
       "\n",
       "    this.send_message(name, {key: value,\n",
       "                             guiEvent: simpleKeys(event)});\n",
       "    return false;\n",
       "}\n",
       "\n",
       "mpl.figure.prototype.toolbar_button_onclick = function(name) {\n",
       "    if (name == 'download') {\n",
       "        this.handle_save(this, null);\n",
       "    } else {\n",
       "        this.send_message(\"toolbar_button\", {name: name});\n",
       "    }\n",
       "};\n",
       "\n",
       "mpl.figure.prototype.toolbar_button_onmouseover = function(tooltip) {\n",
       "    this.message.textContent = tooltip;\n",
       "};\n",
       "mpl.toolbar_items = [[\"Home\", \"Reset original view\", \"fa fa-home icon-home\", \"home\"], [\"Back\", \"Back to previous view\", \"fa fa-arrow-left icon-arrow-left\", \"back\"], [\"Forward\", \"Forward to next view\", \"fa fa-arrow-right icon-arrow-right\", \"forward\"], [\"\", \"\", \"\", \"\"], [\"Pan\", \"Pan axes with left mouse, zoom with right\", \"fa fa-arrows icon-move\", \"pan\"], [\"Zoom\", \"Zoom to rectangle\", \"fa fa-square-o icon-check-empty\", \"zoom\"], [\"\", \"\", \"\", \"\"], [\"Download\", \"Download plot\", \"fa fa-floppy-o icon-save\", \"download\"]];\n",
       "\n",
       "mpl.extensions = [\"eps\", \"jpeg\", \"pdf\", \"png\", \"ps\", \"raw\", \"svg\", \"tif\"];\n",
       "\n",
       "mpl.default_extension = \"png\";var comm_websocket_adapter = function(comm) {\n",
       "    // Create a \"websocket\"-like object which calls the given IPython comm\n",
       "    // object with the appropriate methods. Currently this is a non binary\n",
       "    // socket, so there is still some room for performance tuning.\n",
       "    var ws = {};\n",
       "\n",
       "    ws.close = function() {\n",
       "        comm.close()\n",
       "    };\n",
       "    ws.send = function(m) {\n",
       "        //console.log('sending', m);\n",
       "        comm.send(m);\n",
       "    };\n",
       "    // Register the callback with on_msg.\n",
       "    comm.on_msg(function(msg) {\n",
       "        //console.log('receiving', msg['content']['data'], msg);\n",
       "        // Pass the mpl event to the overridden (by mpl) onmessage function.\n",
       "        ws.onmessage(msg['content']['data'])\n",
       "    });\n",
       "    return ws;\n",
       "}\n",
       "\n",
       "mpl.mpl_figure_comm = function(comm, msg) {\n",
       "    // This is the function which gets called when the mpl process\n",
       "    // starts-up an IPython Comm through the \"matplotlib\" channel.\n",
       "\n",
       "    var id = msg.content.data.id;\n",
       "    // Get hold of the div created by the display call when the Comm\n",
       "    // socket was opened in Python.\n",
       "    var element = $(\"#\" + id);\n",
       "    var ws_proxy = comm_websocket_adapter(comm)\n",
       "\n",
       "    function ondownload(figure, format) {\n",
       "        window.open(figure.imageObj.src);\n",
       "    }\n",
       "\n",
       "    var fig = new mpl.figure(id, ws_proxy,\n",
       "                           ondownload,\n",
       "                           element.get(0));\n",
       "\n",
       "    // Call onopen now - mpl needs it, as it is assuming we've passed it a real\n",
       "    // web socket which is closed, not our websocket->open comm proxy.\n",
       "    ws_proxy.onopen();\n",
       "\n",
       "    fig.parent_element = element.get(0);\n",
       "    fig.cell_info = mpl.find_output_cell(\"<div id='\" + id + \"'></div>\");\n",
       "    if (!fig.cell_info) {\n",
       "        console.error(\"Failed to find cell for figure\", id, fig);\n",
       "        return;\n",
       "    }\n",
       "\n",
       "    var output_index = fig.cell_info[2]\n",
       "    var cell = fig.cell_info[0];\n",
       "\n",
       "};\n",
       "\n",
       "mpl.figure.prototype.handle_close = function(fig, msg) {\n",
       "    var width = fig.canvas.width/mpl.ratio\n",
       "    fig.root.unbind('remove')\n",
       "\n",
       "    // Update the output cell to use the data from the current canvas.\n",
       "    fig.push_to_output();\n",
       "    var dataURL = fig.canvas.toDataURL();\n",
       "    // Re-enable the keyboard manager in IPython - without this line, in FF,\n",
       "    // the notebook keyboard shortcuts fail.\n",
       "    IPython.keyboard_manager.enable()\n",
       "    $(fig.parent_element).html('<img src=\"' + dataURL + '\" width=\"' + width + '\">');\n",
       "    fig.close_ws(fig, msg);\n",
       "}\n",
       "\n",
       "mpl.figure.prototype.close_ws = function(fig, msg){\n",
       "    fig.send_message('closing', msg);\n",
       "    // fig.ws.close()\n",
       "}\n",
       "\n",
       "mpl.figure.prototype.push_to_output = function(remove_interactive) {\n",
       "    // Turn the data on the canvas into data in the output cell.\n",
       "    var width = this.canvas.width/mpl.ratio\n",
       "    var dataURL = this.canvas.toDataURL();\n",
       "    this.cell_info[1]['text/html'] = '<img src=\"' + dataURL + '\" width=\"' + width + '\">';\n",
       "}\n",
       "\n",
       "mpl.figure.prototype.updated_canvas_event = function() {\n",
       "    // Tell IPython that the notebook contents must change.\n",
       "    IPython.notebook.set_dirty(true);\n",
       "    this.send_message(\"ack\", {});\n",
       "    var fig = this;\n",
       "    // Wait a second, then push the new image to the DOM so\n",
       "    // that it is saved nicely (might be nice to debounce this).\n",
       "    setTimeout(function () { fig.push_to_output() }, 1000);\n",
       "}\n",
       "\n",
       "mpl.figure.prototype._init_toolbar = function() {\n",
       "    var fig = this;\n",
       "\n",
       "    var nav_element = $('<div/>')\n",
       "    nav_element.attr('style', 'width: 100%');\n",
       "    this.root.append(nav_element);\n",
       "\n",
       "    // Define a callback function for later on.\n",
       "    function toolbar_event(event) {\n",
       "        return fig.toolbar_button_onclick(event['data']);\n",
       "    }\n",
       "    function toolbar_mouse_event(event) {\n",
       "        return fig.toolbar_button_onmouseover(event['data']);\n",
       "    }\n",
       "\n",
       "    for(var toolbar_ind in mpl.toolbar_items){\n",
       "        var name = mpl.toolbar_items[toolbar_ind][0];\n",
       "        var tooltip = mpl.toolbar_items[toolbar_ind][1];\n",
       "        var image = mpl.toolbar_items[toolbar_ind][2];\n",
       "        var method_name = mpl.toolbar_items[toolbar_ind][3];\n",
       "\n",
       "        if (!name) { continue; };\n",
       "\n",
       "        var button = $('<button class=\"btn btn-default\" href=\"#\" title=\"' + name + '\"><i class=\"fa ' + image + ' fa-lg\"></i></button>');\n",
       "        button.click(method_name, toolbar_event);\n",
       "        button.mouseover(tooltip, toolbar_mouse_event);\n",
       "        nav_element.append(button);\n",
       "    }\n",
       "\n",
       "    // Add the status bar.\n",
       "    var status_bar = $('<span class=\"mpl-message\" style=\"text-align:right; float: right;\"/>');\n",
       "    nav_element.append(status_bar);\n",
       "    this.message = status_bar[0];\n",
       "\n",
       "    // Add the close button to the window.\n",
       "    var buttongrp = $('<div class=\"btn-group inline pull-right\"></div>');\n",
       "    var button = $('<button class=\"btn btn-mini btn-primary\" href=\"#\" title=\"Stop Interaction\"><i class=\"fa fa-power-off icon-remove icon-large\"></i></button>');\n",
       "    button.click(function (evt) { fig.handle_close(fig, {}); } );\n",
       "    button.mouseover('Stop Interaction', toolbar_mouse_event);\n",
       "    buttongrp.append(button);\n",
       "    var titlebar = this.root.find($('.ui-dialog-titlebar'));\n",
       "    titlebar.prepend(buttongrp);\n",
       "}\n",
       "\n",
       "mpl.figure.prototype._root_extra_style = function(el){\n",
       "    var fig = this\n",
       "    el.on(\"remove\", function(){\n",
       "\tfig.close_ws(fig, {});\n",
       "    });\n",
       "}\n",
       "\n",
       "mpl.figure.prototype._canvas_extra_style = function(el){\n",
       "    // this is important to make the div 'focusable\n",
       "    el.attr('tabindex', 0)\n",
       "    // reach out to IPython and tell the keyboard manager to turn it's self\n",
       "    // off when our div gets focus\n",
       "\n",
       "    // location in version 3\n",
       "    if (IPython.notebook.keyboard_manager) {\n",
       "        IPython.notebook.keyboard_manager.register_events(el);\n",
       "    }\n",
       "    else {\n",
       "        // location in version 2\n",
       "        IPython.keyboard_manager.register_events(el);\n",
       "    }\n",
       "\n",
       "}\n",
       "\n",
       "mpl.figure.prototype._key_event_extra = function(event, name) {\n",
       "    var manager = IPython.notebook.keyboard_manager;\n",
       "    if (!manager)\n",
       "        manager = IPython.keyboard_manager;\n",
       "\n",
       "    // Check for shift+enter\n",
       "    if (event.shiftKey && event.which == 13) {\n",
       "        this.canvas_div.blur();\n",
       "        event.shiftKey = false;\n",
       "        // Send a \"J\" for go to next cell\n",
       "        event.which = 74;\n",
       "        event.keyCode = 74;\n",
       "        manager.command_mode();\n",
       "        manager.handle_keydown(event);\n",
       "    }\n",
       "}\n",
       "\n",
       "mpl.figure.prototype.handle_save = function(fig, msg) {\n",
       "    fig.ondownload(fig, null);\n",
       "}\n",
       "\n",
       "\n",
       "mpl.find_output_cell = function(html_output) {\n",
       "    // Return the cell and output element which can be found *uniquely* in the notebook.\n",
       "    // Note - this is a bit hacky, but it is done because the \"notebook_saving.Notebook\"\n",
       "    // IPython event is triggered only after the cells have been serialised, which for\n",
       "    // our purposes (turning an active figure into a static one), is too late.\n",
       "    var cells = IPython.notebook.get_cells();\n",
       "    var ncells = cells.length;\n",
       "    for (var i=0; i<ncells; i++) {\n",
       "        var cell = cells[i];\n",
       "        if (cell.cell_type === 'code'){\n",
       "            for (var j=0; j<cell.output_area.outputs.length; j++) {\n",
       "                var data = cell.output_area.outputs[j];\n",
       "                if (data.data) {\n",
       "                    // IPython >= 3 moved mimebundle to data attribute of output\n",
       "                    data = data.data;\n",
       "                }\n",
       "                if (data['text/html'] == html_output) {\n",
       "                    return [cell, data, j];\n",
       "                }\n",
       "            }\n",
       "        }\n",
       "    }\n",
       "}\n",
       "\n",
       "// Register the function which deals with the matplotlib target/channel.\n",
       "// The kernel may be null if the page has been refreshed.\n",
       "if (IPython.notebook.kernel != null) {\n",
       "    IPython.notebook.kernel.comm_manager.register_target('matplotlib', mpl.mpl_figure_comm);\n",
       "}\n"
      ],
      "text/plain": [
       "<IPython.core.display.Javascript object>"
      ]
     },
     "metadata": {},
     "output_type": "display_data"
    },
    {
     "data": {
      "text/html": [
       "<img src=\"data:image/png;base64,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\" width=\"800\">"
      ],
      "text/plain": [
       "<IPython.core.display.HTML object>"
      ]
     },
     "metadata": {},
     "output_type": "display_data"
    },
    {
     "data": {
      "application/vnd.jupyter.widget-view+json": {
       "model_id": "b5ebcf3d63aa458aa22700313f95c1ad",
       "version_major": 2,
       "version_minor": 0
      },
      "text/plain": [
       "HBox(children=(IntProgress(value=0, max=2920), HTML(value='')))"
      ]
     },
     "metadata": {},
     "output_type": "display_data"
    },
    {
     "data": {
      "text/plain": [
       "<matplotlib.image.AxesImage at 0x23da91a0cf8>"
      ]
     },
     "execution_count": 18,
     "metadata": {},
     "output_type": "execute_result"
    }
   ],
   "source": [
    "cp = CellPlot(cells[27])\n",
    "fig, axes = plt.subplots(1, 2, figsize=(8, 2))\n",
    "cp.imshow('brightfield', ax=axes[0])\n",
    "cp.plot_outline(ax=axes[0])\n",
    "cp.plot_storm(ax=axes[1], method='gauss', upscale=10)"
   ]
  },
  {
   "cell_type": "markdown",
   "metadata": {},
   "source": [
    "To optimize the coordinate system based on the STORM super-resolution data:"
   ]
  },
  {
   "cell_type": "code",
   "execution_count": 20,
   "metadata": {},
   "outputs": [
    {
     "name": "stdout",
     "output_type": "stream",
     "text": [
      "\n",
      "Parameter Value        Standard Deviation\n",
      "a0        2.618555e+01 None\n",
      "a1        -5.186016e-01 None\n",
      "a2        6.886181e-03 None\n",
      "r         3.520652e+00 None\n",
      "xl        1.680405e+01 None\n",
      "xr        5.709113e+01 None\n",
      "Fitting status message: Optimization terminated successfully.\n",
      "Number of iterations:   2549\n",
      "Regression Coefficient: -inf\n",
      "\n"
     ]
    }
   ],
   "source": [
    "cell_opt = cells[27].copy()\n",
    "res = cell_opt.optimize('storm')\n",
    "print(res)"
   ]
  },
  {
   "cell_type": "code",
   "execution_count": 23,
   "metadata": {},
   "outputs": [
    {
     "data": {
      "application/javascript": [
       "/* Put everything inside the global mpl namespace */\n",
       "window.mpl = {};\n",
       "\n",
       "\n",
       "mpl.get_websocket_type = function() {\n",
       "    if (typeof(WebSocket) !== 'undefined') {\n",
       "        return WebSocket;\n",
       "    } else if (typeof(MozWebSocket) !== 'undefined') {\n",
       "        return MozWebSocket;\n",
       "    } else {\n",
       "        alert('Your browser does not have WebSocket support.' +\n",
       "              'Please try Chrome, Safari or Firefox ≥ 6. ' +\n",
       "              'Firefox 4 and 5 are also supported but you ' +\n",
       "              'have to enable WebSockets in about:config.');\n",
       "    };\n",
       "}\n",
       "\n",
       "mpl.figure = function(figure_id, websocket, ondownload, parent_element) {\n",
       "    this.id = figure_id;\n",
       "\n",
       "    this.ws = websocket;\n",
       "\n",
       "    this.supports_binary = (this.ws.binaryType != undefined);\n",
       "\n",
       "    if (!this.supports_binary) {\n",
       "        var warnings = document.getElementById(\"mpl-warnings\");\n",
       "        if (warnings) {\n",
       "            warnings.style.display = 'block';\n",
       "            warnings.textContent = (\n",
       "                \"This browser does not support binary websocket messages. \" +\n",
       "                    \"Performance may be slow.\");\n",
       "        }\n",
       "    }\n",
       "\n",
       "    this.imageObj = new Image();\n",
       "\n",
       "    this.context = undefined;\n",
       "    this.message = undefined;\n",
       "    this.canvas = undefined;\n",
       "    this.rubberband_canvas = undefined;\n",
       "    this.rubberband_context = undefined;\n",
       "    this.format_dropdown = undefined;\n",
       "\n",
       "    this.image_mode = 'full';\n",
       "\n",
       "    this.root = $('<div/>');\n",
       "    this._root_extra_style(this.root)\n",
       "    this.root.attr('style', 'display: inline-block');\n",
       "\n",
       "    $(parent_element).append(this.root);\n",
       "\n",
       "    this._init_header(this);\n",
       "    this._init_canvas(this);\n",
       "    this._init_toolbar(this);\n",
       "\n",
       "    var fig = this;\n",
       "\n",
       "    this.waiting = false;\n",
       "\n",
       "    this.ws.onopen =  function () {\n",
       "            fig.send_message(\"supports_binary\", {value: fig.supports_binary});\n",
       "            fig.send_message(\"send_image_mode\", {});\n",
       "            if (mpl.ratio != 1) {\n",
       "                fig.send_message(\"set_dpi_ratio\", {'dpi_ratio': mpl.ratio});\n",
       "            }\n",
       "            fig.send_message(\"refresh\", {});\n",
       "        }\n",
       "\n",
       "    this.imageObj.onload = function() {\n",
       "            if (fig.image_mode == 'full') {\n",
       "                // Full images could contain transparency (where diff images\n",
       "                // almost always do), so we need to clear the canvas so that\n",
       "                // there is no ghosting.\n",
       "                fig.context.clearRect(0, 0, fig.canvas.width, fig.canvas.height);\n",
       "            }\n",
       "            fig.context.drawImage(fig.imageObj, 0, 0);\n",
       "        };\n",
       "\n",
       "    this.imageObj.onunload = function() {\n",
       "        fig.ws.close();\n",
       "    }\n",
       "\n",
       "    this.ws.onmessage = this._make_on_message_function(this);\n",
       "\n",
       "    this.ondownload = ondownload;\n",
       "}\n",
       "\n",
       "mpl.figure.prototype._init_header = function() {\n",
       "    var titlebar = $(\n",
       "        '<div class=\"ui-dialog-titlebar ui-widget-header ui-corner-all ' +\n",
       "        'ui-helper-clearfix\"/>');\n",
       "    var titletext = $(\n",
       "        '<div class=\"ui-dialog-title\" style=\"width: 100%; ' +\n",
       "        'text-align: center; padding: 3px;\"/>');\n",
       "    titlebar.append(titletext)\n",
       "    this.root.append(titlebar);\n",
       "    this.header = titletext[0];\n",
       "}\n",
       "\n",
       "\n",
       "\n",
       "mpl.figure.prototype._canvas_extra_style = function(canvas_div) {\n",
       "\n",
       "}\n",
       "\n",
       "\n",
       "mpl.figure.prototype._root_extra_style = function(canvas_div) {\n",
       "\n",
       "}\n",
       "\n",
       "mpl.figure.prototype._init_canvas = function() {\n",
       "    var fig = this;\n",
       "\n",
       "    var canvas_div = $('<div/>');\n",
       "\n",
       "    canvas_div.attr('style', 'position: relative; clear: both; outline: 0');\n",
       "\n",
       "    function canvas_keyboard_event(event) {\n",
       "        return fig.key_event(event, event['data']);\n",
       "    }\n",
       "\n",
       "    canvas_div.keydown('key_press', canvas_keyboard_event);\n",
       "    canvas_div.keyup('key_release', canvas_keyboard_event);\n",
       "    this.canvas_div = canvas_div\n",
       "    this._canvas_extra_style(canvas_div)\n",
       "    this.root.append(canvas_div);\n",
       "\n",
       "    var canvas = $('<canvas/>');\n",
       "    canvas.addClass('mpl-canvas');\n",
       "    canvas.attr('style', \"left: 0; top: 0; z-index: 0; outline: 0\")\n",
       "\n",
       "    this.canvas = canvas[0];\n",
       "    this.context = canvas[0].getContext(\"2d\");\n",
       "\n",
       "    var backingStore = this.context.backingStorePixelRatio ||\n",
       "\tthis.context.webkitBackingStorePixelRatio ||\n",
       "\tthis.context.mozBackingStorePixelRatio ||\n",
       "\tthis.context.msBackingStorePixelRatio ||\n",
       "\tthis.context.oBackingStorePixelRatio ||\n",
       "\tthis.context.backingStorePixelRatio || 1;\n",
       "\n",
       "    mpl.ratio = (window.devicePixelRatio || 1) / backingStore;\n",
       "\n",
       "    var rubberband = $('<canvas/>');\n",
       "    rubberband.attr('style', \"position: absolute; left: 0; top: 0; z-index: 1;\")\n",
       "\n",
       "    var pass_mouse_events = true;\n",
       "\n",
       "    canvas_div.resizable({\n",
       "        start: function(event, ui) {\n",
       "            pass_mouse_events = false;\n",
       "        },\n",
       "        resize: function(event, ui) {\n",
       "            fig.request_resize(ui.size.width, ui.size.height);\n",
       "        },\n",
       "        stop: function(event, ui) {\n",
       "            pass_mouse_events = true;\n",
       "            fig.request_resize(ui.size.width, ui.size.height);\n",
       "        },\n",
       "    });\n",
       "\n",
       "    function mouse_event_fn(event) {\n",
       "        if (pass_mouse_events)\n",
       "            return fig.mouse_event(event, event['data']);\n",
       "    }\n",
       "\n",
       "    rubberband.mousedown('button_press', mouse_event_fn);\n",
       "    rubberband.mouseup('button_release', mouse_event_fn);\n",
       "    // Throttle sequential mouse events to 1 every 20ms.\n",
       "    rubberband.mousemove('motion_notify', mouse_event_fn);\n",
       "\n",
       "    rubberband.mouseenter('figure_enter', mouse_event_fn);\n",
       "    rubberband.mouseleave('figure_leave', mouse_event_fn);\n",
       "\n",
       "    canvas_div.on(\"wheel\", function (event) {\n",
       "        event = event.originalEvent;\n",
       "        event['data'] = 'scroll'\n",
       "        if (event.deltaY < 0) {\n",
       "            event.step = 1;\n",
       "        } else {\n",
       "            event.step = -1;\n",
       "        }\n",
       "        mouse_event_fn(event);\n",
       "    });\n",
       "\n",
       "    canvas_div.append(canvas);\n",
       "    canvas_div.append(rubberband);\n",
       "\n",
       "    this.rubberband = rubberband;\n",
       "    this.rubberband_canvas = rubberband[0];\n",
       "    this.rubberband_context = rubberband[0].getContext(\"2d\");\n",
       "    this.rubberband_context.strokeStyle = \"#000000\";\n",
       "\n",
       "    this._resize_canvas = function(width, height) {\n",
       "        // Keep the size of the canvas, canvas container, and rubber band\n",
       "        // canvas in synch.\n",
       "        canvas_div.css('width', width)\n",
       "        canvas_div.css('height', height)\n",
       "\n",
       "        canvas.attr('width', width * mpl.ratio);\n",
       "        canvas.attr('height', height * mpl.ratio);\n",
       "        canvas.attr('style', 'width: ' + width + 'px; height: ' + height + 'px;');\n",
       "\n",
       "        rubberband.attr('width', width);\n",
       "        rubberband.attr('height', height);\n",
       "    }\n",
       "\n",
       "    // Set the figure to an initial 600x600px, this will subsequently be updated\n",
       "    // upon first draw.\n",
       "    this._resize_canvas(600, 600);\n",
       "\n",
       "    // Disable right mouse context menu.\n",
       "    $(this.rubberband_canvas).bind(\"contextmenu\",function(e){\n",
       "        return false;\n",
       "    });\n",
       "\n",
       "    function set_focus () {\n",
       "        canvas.focus();\n",
       "        canvas_div.focus();\n",
       "    }\n",
       "\n",
       "    window.setTimeout(set_focus, 100);\n",
       "}\n",
       "\n",
       "mpl.figure.prototype._init_toolbar = function() {\n",
       "    var fig = this;\n",
       "\n",
       "    var nav_element = $('<div/>')\n",
       "    nav_element.attr('style', 'width: 100%');\n",
       "    this.root.append(nav_element);\n",
       "\n",
       "    // Define a callback function for later on.\n",
       "    function toolbar_event(event) {\n",
       "        return fig.toolbar_button_onclick(event['data']);\n",
       "    }\n",
       "    function toolbar_mouse_event(event) {\n",
       "        return fig.toolbar_button_onmouseover(event['data']);\n",
       "    }\n",
       "\n",
       "    for(var toolbar_ind in mpl.toolbar_items) {\n",
       "        var name = mpl.toolbar_items[toolbar_ind][0];\n",
       "        var tooltip = mpl.toolbar_items[toolbar_ind][1];\n",
       "        var image = mpl.toolbar_items[toolbar_ind][2];\n",
       "        var method_name = mpl.toolbar_items[toolbar_ind][3];\n",
       "\n",
       "        if (!name) {\n",
       "            // put a spacer in here.\n",
       "            continue;\n",
       "        }\n",
       "        var button = $('<button/>');\n",
       "        button.addClass('ui-button ui-widget ui-state-default ui-corner-all ' +\n",
       "                        'ui-button-icon-only');\n",
       "        button.attr('role', 'button');\n",
       "        button.attr('aria-disabled', 'false');\n",
       "        button.click(method_name, toolbar_event);\n",
       "        button.mouseover(tooltip, toolbar_mouse_event);\n",
       "\n",
       "        var icon_img = $('<span/>');\n",
       "        icon_img.addClass('ui-button-icon-primary ui-icon');\n",
       "        icon_img.addClass(image);\n",
       "        icon_img.addClass('ui-corner-all');\n",
       "\n",
       "        var tooltip_span = $('<span/>');\n",
       "        tooltip_span.addClass('ui-button-text');\n",
       "        tooltip_span.html(tooltip);\n",
       "\n",
       "        button.append(icon_img);\n",
       "        button.append(tooltip_span);\n",
       "\n",
       "        nav_element.append(button);\n",
       "    }\n",
       "\n",
       "    var fmt_picker_span = $('<span/>');\n",
       "\n",
       "    var fmt_picker = $('<select/>');\n",
       "    fmt_picker.addClass('mpl-toolbar-option ui-widget ui-widget-content');\n",
       "    fmt_picker_span.append(fmt_picker);\n",
       "    nav_element.append(fmt_picker_span);\n",
       "    this.format_dropdown = fmt_picker[0];\n",
       "\n",
       "    for (var ind in mpl.extensions) {\n",
       "        var fmt = mpl.extensions[ind];\n",
       "        var option = $(\n",
       "            '<option/>', {selected: fmt === mpl.default_extension}).html(fmt);\n",
       "        fmt_picker.append(option)\n",
       "    }\n",
       "\n",
       "    // Add hover states to the ui-buttons\n",
       "    $( \".ui-button\" ).hover(\n",
       "        function() { $(this).addClass(\"ui-state-hover\");},\n",
       "        function() { $(this).removeClass(\"ui-state-hover\");}\n",
       "    );\n",
       "\n",
       "    var status_bar = $('<span class=\"mpl-message\"/>');\n",
       "    nav_element.append(status_bar);\n",
       "    this.message = status_bar[0];\n",
       "}\n",
       "\n",
       "mpl.figure.prototype.request_resize = function(x_pixels, y_pixels) {\n",
       "    // Request matplotlib to resize the figure. Matplotlib will then trigger a resize in the client,\n",
       "    // which will in turn request a refresh of the image.\n",
       "    this.send_message('resize', {'width': x_pixels, 'height': y_pixels});\n",
       "}\n",
       "\n",
       "mpl.figure.prototype.send_message = function(type, properties) {\n",
       "    properties['type'] = type;\n",
       "    properties['figure_id'] = this.id;\n",
       "    this.ws.send(JSON.stringify(properties));\n",
       "}\n",
       "\n",
       "mpl.figure.prototype.send_draw_message = function() {\n",
       "    if (!this.waiting) {\n",
       "        this.waiting = true;\n",
       "        this.ws.send(JSON.stringify({type: \"draw\", figure_id: this.id}));\n",
       "    }\n",
       "}\n",
       "\n",
       "\n",
       "mpl.figure.prototype.handle_save = function(fig, msg) {\n",
       "    var format_dropdown = fig.format_dropdown;\n",
       "    var format = format_dropdown.options[format_dropdown.selectedIndex].value;\n",
       "    fig.ondownload(fig, format);\n",
       "}\n",
       "\n",
       "\n",
       "mpl.figure.prototype.handle_resize = function(fig, msg) {\n",
       "    var size = msg['size'];\n",
       "    if (size[0] != fig.canvas.width || size[1] != fig.canvas.height) {\n",
       "        fig._resize_canvas(size[0], size[1]);\n",
       "        fig.send_message(\"refresh\", {});\n",
       "    };\n",
       "}\n",
       "\n",
       "mpl.figure.prototype.handle_rubberband = function(fig, msg) {\n",
       "    var x0 = msg['x0'] / mpl.ratio;\n",
       "    var y0 = (fig.canvas.height - msg['y0']) / mpl.ratio;\n",
       "    var x1 = msg['x1'] / mpl.ratio;\n",
       "    var y1 = (fig.canvas.height - msg['y1']) / mpl.ratio;\n",
       "    x0 = Math.floor(x0) + 0.5;\n",
       "    y0 = Math.floor(y0) + 0.5;\n",
       "    x1 = Math.floor(x1) + 0.5;\n",
       "    y1 = Math.floor(y1) + 0.5;\n",
       "    var min_x = Math.min(x0, x1);\n",
       "    var min_y = Math.min(y0, y1);\n",
       "    var width = Math.abs(x1 - x0);\n",
       "    var height = Math.abs(y1 - y0);\n",
       "\n",
       "    fig.rubberband_context.clearRect(\n",
       "        0, 0, fig.canvas.width, fig.canvas.height);\n",
       "\n",
       "    fig.rubberband_context.strokeRect(min_x, min_y, width, height);\n",
       "}\n",
       "\n",
       "mpl.figure.prototype.handle_figure_label = function(fig, msg) {\n",
       "    // Updates the figure title.\n",
       "    fig.header.textContent = msg['label'];\n",
       "}\n",
       "\n",
       "mpl.figure.prototype.handle_cursor = function(fig, msg) {\n",
       "    var cursor = msg['cursor'];\n",
       "    switch(cursor)\n",
       "    {\n",
       "    case 0:\n",
       "        cursor = 'pointer';\n",
       "        break;\n",
       "    case 1:\n",
       "        cursor = 'default';\n",
       "        break;\n",
       "    case 2:\n",
       "        cursor = 'crosshair';\n",
       "        break;\n",
       "    case 3:\n",
       "        cursor = 'move';\n",
       "        break;\n",
       "    }\n",
       "    fig.rubberband_canvas.style.cursor = cursor;\n",
       "}\n",
       "\n",
       "mpl.figure.prototype.handle_message = function(fig, msg) {\n",
       "    fig.message.textContent = msg['message'];\n",
       "}\n",
       "\n",
       "mpl.figure.prototype.handle_draw = function(fig, msg) {\n",
       "    // Request the server to send over a new figure.\n",
       "    fig.send_draw_message();\n",
       "}\n",
       "\n",
       "mpl.figure.prototype.handle_image_mode = function(fig, msg) {\n",
       "    fig.image_mode = msg['mode'];\n",
       "}\n",
       "\n",
       "mpl.figure.prototype.updated_canvas_event = function() {\n",
       "    // Called whenever the canvas gets updated.\n",
       "    this.send_message(\"ack\", {});\n",
       "}\n",
       "\n",
       "// A function to construct a web socket function for onmessage handling.\n",
       "// Called in the figure constructor.\n",
       "mpl.figure.prototype._make_on_message_function = function(fig) {\n",
       "    return function socket_on_message(evt) {\n",
       "        if (evt.data instanceof Blob) {\n",
       "            /* FIXME: We get \"Resource interpreted as Image but\n",
       "             * transferred with MIME type text/plain:\" errors on\n",
       "             * Chrome.  But how to set the MIME type?  It doesn't seem\n",
       "             * to be part of the websocket stream */\n",
       "            evt.data.type = \"image/png\";\n",
       "\n",
       "            /* Free the memory for the previous frames */\n",
       "            if (fig.imageObj.src) {\n",
       "                (window.URL || window.webkitURL).revokeObjectURL(\n",
       "                    fig.imageObj.src);\n",
       "            }\n",
       "\n",
       "            fig.imageObj.src = (window.URL || window.webkitURL).createObjectURL(\n",
       "                evt.data);\n",
       "            fig.updated_canvas_event();\n",
       "            fig.waiting = false;\n",
       "            return;\n",
       "        }\n",
       "        else if (typeof evt.data === 'string' && evt.data.slice(0, 21) == \"data:image/png;base64\") {\n",
       "            fig.imageObj.src = evt.data;\n",
       "            fig.updated_canvas_event();\n",
       "            fig.waiting = false;\n",
       "            return;\n",
       "        }\n",
       "\n",
       "        var msg = JSON.parse(evt.data);\n",
       "        var msg_type = msg['type'];\n",
       "\n",
       "        // Call the  \"handle_{type}\" callback, which takes\n",
       "        // the figure and JSON message as its only arguments.\n",
       "        try {\n",
       "            var callback = fig[\"handle_\" + msg_type];\n",
       "        } catch (e) {\n",
       "            console.log(\"No handler for the '\" + msg_type + \"' message type: \", msg);\n",
       "            return;\n",
       "        }\n",
       "\n",
       "        if (callback) {\n",
       "            try {\n",
       "                // console.log(\"Handling '\" + msg_type + \"' message: \", msg);\n",
       "                callback(fig, msg);\n",
       "            } catch (e) {\n",
       "                console.log(\"Exception inside the 'handler_\" + msg_type + \"' callback:\", e, e.stack, msg);\n",
       "            }\n",
       "        }\n",
       "    };\n",
       "}\n",
       "\n",
       "// from http://stackoverflow.com/questions/1114465/getting-mouse-location-in-canvas\n",
       "mpl.findpos = function(e) {\n",
       "    //this section is from http://www.quirksmode.org/js/events_properties.html\n",
       "    var targ;\n",
       "    if (!e)\n",
       "        e = window.event;\n",
       "    if (e.target)\n",
       "        targ = e.target;\n",
       "    else if (e.srcElement)\n",
       "        targ = e.srcElement;\n",
       "    if (targ.nodeType == 3) // defeat Safari bug\n",
       "        targ = targ.parentNode;\n",
       "\n",
       "    // jQuery normalizes the pageX and pageY\n",
       "    // pageX,Y are the mouse positions relative to the document\n",
       "    // offset() returns the position of the element relative to the document\n",
       "    var x = e.pageX - $(targ).offset().left;\n",
       "    var y = e.pageY - $(targ).offset().top;\n",
       "\n",
       "    return {\"x\": x, \"y\": y};\n",
       "};\n",
       "\n",
       "/*\n",
       " * return a copy of an object with only non-object keys\n",
       " * we need this to avoid circular references\n",
       " * http://stackoverflow.com/a/24161582/3208463\n",
       " */\n",
       "function simpleKeys (original) {\n",
       "  return Object.keys(original).reduce(function (obj, key) {\n",
       "    if (typeof original[key] !== 'object')\n",
       "        obj[key] = original[key]\n",
       "    return obj;\n",
       "  }, {});\n",
       "}\n",
       "\n",
       "mpl.figure.prototype.mouse_event = function(event, name) {\n",
       "    var canvas_pos = mpl.findpos(event)\n",
       "\n",
       "    if (name === 'button_press')\n",
       "    {\n",
       "        this.canvas.focus();\n",
       "        this.canvas_div.focus();\n",
       "    }\n",
       "\n",
       "    var x = canvas_pos.x * mpl.ratio;\n",
       "    var y = canvas_pos.y * mpl.ratio;\n",
       "\n",
       "    this.send_message(name, {x: x, y: y, button: event.button,\n",
       "                             step: event.step,\n",
       "                             guiEvent: simpleKeys(event)});\n",
       "\n",
       "    /* This prevents the web browser from automatically changing to\n",
       "     * the text insertion cursor when the button is pressed.  We want\n",
       "     * to control all of the cursor setting manually through the\n",
       "     * 'cursor' event from matplotlib */\n",
       "    event.preventDefault();\n",
       "    return false;\n",
       "}\n",
       "\n",
       "mpl.figure.prototype._key_event_extra = function(event, name) {\n",
       "    // Handle any extra behaviour associated with a key event\n",
       "}\n",
       "\n",
       "mpl.figure.prototype.key_event = function(event, name) {\n",
       "\n",
       "    // Prevent repeat events\n",
       "    if (name == 'key_press')\n",
       "    {\n",
       "        if (event.which === this._key)\n",
       "            return;\n",
       "        else\n",
       "            this._key = event.which;\n",
       "    }\n",
       "    if (name == 'key_release')\n",
       "        this._key = null;\n",
       "\n",
       "    var value = '';\n",
       "    if (event.ctrlKey && event.which != 17)\n",
       "        value += \"ctrl+\";\n",
       "    if (event.altKey && event.which != 18)\n",
       "        value += \"alt+\";\n",
       "    if (event.shiftKey && event.which != 16)\n",
       "        value += \"shift+\";\n",
       "\n",
       "    value += 'k';\n",
       "    value += event.which.toString();\n",
       "\n",
       "    this._key_event_extra(event, name);\n",
       "\n",
       "    this.send_message(name, {key: value,\n",
       "                             guiEvent: simpleKeys(event)});\n",
       "    return false;\n",
       "}\n",
       "\n",
       "mpl.figure.prototype.toolbar_button_onclick = function(name) {\n",
       "    if (name == 'download') {\n",
       "        this.handle_save(this, null);\n",
       "    } else {\n",
       "        this.send_message(\"toolbar_button\", {name: name});\n",
       "    }\n",
       "};\n",
       "\n",
       "mpl.figure.prototype.toolbar_button_onmouseover = function(tooltip) {\n",
       "    this.message.textContent = tooltip;\n",
       "};\n",
       "mpl.toolbar_items = [[\"Home\", \"Reset original view\", \"fa fa-home icon-home\", \"home\"], [\"Back\", \"Back to previous view\", \"fa fa-arrow-left icon-arrow-left\", \"back\"], [\"Forward\", \"Forward to next view\", \"fa fa-arrow-right icon-arrow-right\", \"forward\"], [\"\", \"\", \"\", \"\"], [\"Pan\", \"Pan axes with left mouse, zoom with right\", \"fa fa-arrows icon-move\", \"pan\"], [\"Zoom\", \"Zoom to rectangle\", \"fa fa-square-o icon-check-empty\", \"zoom\"], [\"\", \"\", \"\", \"\"], [\"Download\", \"Download plot\", \"fa fa-floppy-o icon-save\", \"download\"]];\n",
       "\n",
       "mpl.extensions = [\"eps\", \"jpeg\", \"pdf\", \"png\", \"ps\", \"raw\", \"svg\", \"tif\"];\n",
       "\n",
       "mpl.default_extension = \"png\";var comm_websocket_adapter = function(comm) {\n",
       "    // Create a \"websocket\"-like object which calls the given IPython comm\n",
       "    // object with the appropriate methods. Currently this is a non binary\n",
       "    // socket, so there is still some room for performance tuning.\n",
       "    var ws = {};\n",
       "\n",
       "    ws.close = function() {\n",
       "        comm.close()\n",
       "    };\n",
       "    ws.send = function(m) {\n",
       "        //console.log('sending', m);\n",
       "        comm.send(m);\n",
       "    };\n",
       "    // Register the callback with on_msg.\n",
       "    comm.on_msg(function(msg) {\n",
       "        //console.log('receiving', msg['content']['data'], msg);\n",
       "        // Pass the mpl event to the overridden (by mpl) onmessage function.\n",
       "        ws.onmessage(msg['content']['data'])\n",
       "    });\n",
       "    return ws;\n",
       "}\n",
       "\n",
       "mpl.mpl_figure_comm = function(comm, msg) {\n",
       "    // This is the function which gets called when the mpl process\n",
       "    // starts-up an IPython Comm through the \"matplotlib\" channel.\n",
       "\n",
       "    var id = msg.content.data.id;\n",
       "    // Get hold of the div created by the display call when the Comm\n",
       "    // socket was opened in Python.\n",
       "    var element = $(\"#\" + id);\n",
       "    var ws_proxy = comm_websocket_adapter(comm)\n",
       "\n",
       "    function ondownload(figure, format) {\n",
       "        window.open(figure.imageObj.src);\n",
       "    }\n",
       "\n",
       "    var fig = new mpl.figure(id, ws_proxy,\n",
       "                           ondownload,\n",
       "                           element.get(0));\n",
       "\n",
       "    // Call onopen now - mpl needs it, as it is assuming we've passed it a real\n",
       "    // web socket which is closed, not our websocket->open comm proxy.\n",
       "    ws_proxy.onopen();\n",
       "\n",
       "    fig.parent_element = element.get(0);\n",
       "    fig.cell_info = mpl.find_output_cell(\"<div id='\" + id + \"'></div>\");\n",
       "    if (!fig.cell_info) {\n",
       "        console.error(\"Failed to find cell for figure\", id, fig);\n",
       "        return;\n",
       "    }\n",
       "\n",
       "    var output_index = fig.cell_info[2]\n",
       "    var cell = fig.cell_info[0];\n",
       "\n",
       "};\n",
       "\n",
       "mpl.figure.prototype.handle_close = function(fig, msg) {\n",
       "    var width = fig.canvas.width/mpl.ratio\n",
       "    fig.root.unbind('remove')\n",
       "\n",
       "    // Update the output cell to use the data from the current canvas.\n",
       "    fig.push_to_output();\n",
       "    var dataURL = fig.canvas.toDataURL();\n",
       "    // Re-enable the keyboard manager in IPython - without this line, in FF,\n",
       "    // the notebook keyboard shortcuts fail.\n",
       "    IPython.keyboard_manager.enable()\n",
       "    $(fig.parent_element).html('<img src=\"' + dataURL + '\" width=\"' + width + '\">');\n",
       "    fig.close_ws(fig, msg);\n",
       "}\n",
       "\n",
       "mpl.figure.prototype.close_ws = function(fig, msg){\n",
       "    fig.send_message('closing', msg);\n",
       "    // fig.ws.close()\n",
       "}\n",
       "\n",
       "mpl.figure.prototype.push_to_output = function(remove_interactive) {\n",
       "    // Turn the data on the canvas into data in the output cell.\n",
       "    var width = this.canvas.width/mpl.ratio\n",
       "    var dataURL = this.canvas.toDataURL();\n",
       "    this.cell_info[1]['text/html'] = '<img src=\"' + dataURL + '\" width=\"' + width + '\">';\n",
       "}\n",
       "\n",
       "mpl.figure.prototype.updated_canvas_event = function() {\n",
       "    // Tell IPython that the notebook contents must change.\n",
       "    IPython.notebook.set_dirty(true);\n",
       "    this.send_message(\"ack\", {});\n",
       "    var fig = this;\n",
       "    // Wait a second, then push the new image to the DOM so\n",
       "    // that it is saved nicely (might be nice to debounce this).\n",
       "    setTimeout(function () { fig.push_to_output() }, 1000);\n",
       "}\n",
       "\n",
       "mpl.figure.prototype._init_toolbar = function() {\n",
       "    var fig = this;\n",
       "\n",
       "    var nav_element = $('<div/>')\n",
       "    nav_element.attr('style', 'width: 100%');\n",
       "    this.root.append(nav_element);\n",
       "\n",
       "    // Define a callback function for later on.\n",
       "    function toolbar_event(event) {\n",
       "        return fig.toolbar_button_onclick(event['data']);\n",
       "    }\n",
       "    function toolbar_mouse_event(event) {\n",
       "        return fig.toolbar_button_onmouseover(event['data']);\n",
       "    }\n",
       "\n",
       "    for(var toolbar_ind in mpl.toolbar_items){\n",
       "        var name = mpl.toolbar_items[toolbar_ind][0];\n",
       "        var tooltip = mpl.toolbar_items[toolbar_ind][1];\n",
       "        var image = mpl.toolbar_items[toolbar_ind][2];\n",
       "        var method_name = mpl.toolbar_items[toolbar_ind][3];\n",
       "\n",
       "        if (!name) { continue; };\n",
       "\n",
       "        var button = $('<button class=\"btn btn-default\" href=\"#\" title=\"' + name + '\"><i class=\"fa ' + image + ' fa-lg\"></i></button>');\n",
       "        button.click(method_name, toolbar_event);\n",
       "        button.mouseover(tooltip, toolbar_mouse_event);\n",
       "        nav_element.append(button);\n",
       "    }\n",
       "\n",
       "    // Add the status bar.\n",
       "    var status_bar = $('<span class=\"mpl-message\" style=\"text-align:right; float: right;\"/>');\n",
       "    nav_element.append(status_bar);\n",
       "    this.message = status_bar[0];\n",
       "\n",
       "    // Add the close button to the window.\n",
       "    var buttongrp = $('<div class=\"btn-group inline pull-right\"></div>');\n",
       "    var button = $('<button class=\"btn btn-mini btn-primary\" href=\"#\" title=\"Stop Interaction\"><i class=\"fa fa-power-off icon-remove icon-large\"></i></button>');\n",
       "    button.click(function (evt) { fig.handle_close(fig, {}); } );\n",
       "    button.mouseover('Stop Interaction', toolbar_mouse_event);\n",
       "    buttongrp.append(button);\n",
       "    var titlebar = this.root.find($('.ui-dialog-titlebar'));\n",
       "    titlebar.prepend(buttongrp);\n",
       "}\n",
       "\n",
       "mpl.figure.prototype._root_extra_style = function(el){\n",
       "    var fig = this\n",
       "    el.on(\"remove\", function(){\n",
       "\tfig.close_ws(fig, {});\n",
       "    });\n",
       "}\n",
       "\n",
       "mpl.figure.prototype._canvas_extra_style = function(el){\n",
       "    // this is important to make the div 'focusable\n",
       "    el.attr('tabindex', 0)\n",
       "    // reach out to IPython and tell the keyboard manager to turn it's self\n",
       "    // off when our div gets focus\n",
       "\n",
       "    // location in version 3\n",
       "    if (IPython.notebook.keyboard_manager) {\n",
       "        IPython.notebook.keyboard_manager.register_events(el);\n",
       "    }\n",
       "    else {\n",
       "        // location in version 2\n",
       "        IPython.keyboard_manager.register_events(el);\n",
       "    }\n",
       "\n",
       "}\n",
       "\n",
       "mpl.figure.prototype._key_event_extra = function(event, name) {\n",
       "    var manager = IPython.notebook.keyboard_manager;\n",
       "    if (!manager)\n",
       "        manager = IPython.keyboard_manager;\n",
       "\n",
       "    // Check for shift+enter\n",
       "    if (event.shiftKey && event.which == 13) {\n",
       "        this.canvas_div.blur();\n",
       "        event.shiftKey = false;\n",
       "        // Send a \"J\" for go to next cell\n",
       "        event.which = 74;\n",
       "        event.keyCode = 74;\n",
       "        manager.command_mode();\n",
       "        manager.handle_keydown(event);\n",
       "    }\n",
       "}\n",
       "\n",
       "mpl.figure.prototype.handle_save = function(fig, msg) {\n",
       "    fig.ondownload(fig, null);\n",
       "}\n",
       "\n",
       "\n",
       "mpl.find_output_cell = function(html_output) {\n",
       "    // Return the cell and output element which can be found *uniquely* in the notebook.\n",
       "    // Note - this is a bit hacky, but it is done because the \"notebook_saving.Notebook\"\n",
       "    // IPython event is triggered only after the cells have been serialised, which for\n",
       "    // our purposes (turning an active figure into a static one), is too late.\n",
       "    var cells = IPython.notebook.get_cells();\n",
       "    var ncells = cells.length;\n",
       "    for (var i=0; i<ncells; i++) {\n",
       "        var cell = cells[i];\n",
       "        if (cell.cell_type === 'code'){\n",
       "            for (var j=0; j<cell.output_area.outputs.length; j++) {\n",
       "                var data = cell.output_area.outputs[j];\n",
       "                if (data.data) {\n",
       "                    // IPython >= 3 moved mimebundle to data attribute of output\n",
       "                    data = data.data;\n",
       "                }\n",
       "                if (data['text/html'] == html_output) {\n",
       "                    return [cell, data, j];\n",
       "                }\n",
       "            }\n",
       "        }\n",
       "    }\n",
       "}\n",
       "\n",
       "// Register the function which deals with the matplotlib target/channel.\n",
       "// The kernel may be null if the page has been refreshed.\n",
       "if (IPython.notebook.kernel != null) {\n",
       "    IPython.notebook.kernel.comm_manager.register_target('matplotlib', mpl.mpl_figure_comm);\n",
       "}\n"
      ],
      "text/plain": [
       "<IPython.core.display.Javascript object>"
      ]
     },
     "metadata": {},
     "output_type": "display_data"
    },
    {
     "data": {
      "text/html": [
       "<img src=\"data:image/png;base64,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\" width=\"800\">"
      ],
      "text/plain": [
       "<IPython.core.display.HTML object>"
      ]
     },
     "metadata": {},
     "output_type": "display_data"
    },
    {
     "data": {
      "application/vnd.jupyter.widget-view+json": {
       "model_id": "b588cd7d32214a789047c631115ac596",
       "version_major": 2,
       "version_minor": 0
      },
      "text/plain": [
       "HBox(children=(IntProgress(value=0, max=2920), HTML(value='')))"
      ]
     },
     "metadata": {},
     "output_type": "display_data"
    },
    {
     "data": {
      "text/plain": [
       "<matplotlib.lines.Line2D at 0x23da9604630>"
      ]
     },
     "execution_count": 23,
     "metadata": {},
     "output_type": "execute_result"
    }
   ],
   "source": [
    "cp = CellPlot(cell_opt)\n",
    "fig, axes = plt.subplots(1, 2, figsize=(8, 2))\n",
    "cp.imshow('brightfield', ax=axes[0])\n",
    "cp.plot_outline(ax=axes[0])\n",
    "cp.plot_storm(ax=axes[1], method='gauss', upscale=10)\n",
    "cp.plot_outline(ax=axes[1])"
   ]
  },
  {
   "cell_type": "markdown",
   "metadata": {},
   "source": [
    "We can now use the coordinate system for further analysis and visualizations.\n",
    "\n",
    "The localizations' radial distribution histogram:"
   ]
  },
  {
   "cell_type": "code",
   "execution_count": 29,
   "metadata": {},
   "outputs": [
    {
     "data": {
      "application/javascript": [
       "/* Put everything inside the global mpl namespace */\n",
       "window.mpl = {};\n",
       "\n",
       "\n",
       "mpl.get_websocket_type = function() {\n",
       "    if (typeof(WebSocket) !== 'undefined') {\n",
       "        return WebSocket;\n",
       "    } else if (typeof(MozWebSocket) !== 'undefined') {\n",
       "        return MozWebSocket;\n",
       "    } else {\n",
       "        alert('Your browser does not have WebSocket support.' +\n",
       "              'Please try Chrome, Safari or Firefox ≥ 6. ' +\n",
       "              'Firefox 4 and 5 are also supported but you ' +\n",
       "              'have to enable WebSockets in about:config.');\n",
       "    };\n",
       "}\n",
       "\n",
       "mpl.figure = function(figure_id, websocket, ondownload, parent_element) {\n",
       "    this.id = figure_id;\n",
       "\n",
       "    this.ws = websocket;\n",
       "\n",
       "    this.supports_binary = (this.ws.binaryType != undefined);\n",
       "\n",
       "    if (!this.supports_binary) {\n",
       "        var warnings = document.getElementById(\"mpl-warnings\");\n",
       "        if (warnings) {\n",
       "            warnings.style.display = 'block';\n",
       "            warnings.textContent = (\n",
       "                \"This browser does not support binary websocket messages. \" +\n",
       "                    \"Performance may be slow.\");\n",
       "        }\n",
       "    }\n",
       "\n",
       "    this.imageObj = new Image();\n",
       "\n",
       "    this.context = undefined;\n",
       "    this.message = undefined;\n",
       "    this.canvas = undefined;\n",
       "    this.rubberband_canvas = undefined;\n",
       "    this.rubberband_context = undefined;\n",
       "    this.format_dropdown = undefined;\n",
       "\n",
       "    this.image_mode = 'full';\n",
       "\n",
       "    this.root = $('<div/>');\n",
       "    this._root_extra_style(this.root)\n",
       "    this.root.attr('style', 'display: inline-block');\n",
       "\n",
       "    $(parent_element).append(this.root);\n",
       "\n",
       "    this._init_header(this);\n",
       "    this._init_canvas(this);\n",
       "    this._init_toolbar(this);\n",
       "\n",
       "    var fig = this;\n",
       "\n",
       "    this.waiting = false;\n",
       "\n",
       "    this.ws.onopen =  function () {\n",
       "            fig.send_message(\"supports_binary\", {value: fig.supports_binary});\n",
       "            fig.send_message(\"send_image_mode\", {});\n",
       "            if (mpl.ratio != 1) {\n",
       "                fig.send_message(\"set_dpi_ratio\", {'dpi_ratio': mpl.ratio});\n",
       "            }\n",
       "            fig.send_message(\"refresh\", {});\n",
       "        }\n",
       "\n",
       "    this.imageObj.onload = function() {\n",
       "            if (fig.image_mode == 'full') {\n",
       "                // Full images could contain transparency (where diff images\n",
       "                // almost always do), so we need to clear the canvas so that\n",
       "                // there is no ghosting.\n",
       "                fig.context.clearRect(0, 0, fig.canvas.width, fig.canvas.height);\n",
       "            }\n",
       "            fig.context.drawImage(fig.imageObj, 0, 0);\n",
       "        };\n",
       "\n",
       "    this.imageObj.onunload = function() {\n",
       "        fig.ws.close();\n",
       "    }\n",
       "\n",
       "    this.ws.onmessage = this._make_on_message_function(this);\n",
       "\n",
       "    this.ondownload = ondownload;\n",
       "}\n",
       "\n",
       "mpl.figure.prototype._init_header = function() {\n",
       "    var titlebar = $(\n",
       "        '<div class=\"ui-dialog-titlebar ui-widget-header ui-corner-all ' +\n",
       "        'ui-helper-clearfix\"/>');\n",
       "    var titletext = $(\n",
       "        '<div class=\"ui-dialog-title\" style=\"width: 100%; ' +\n",
       "        'text-align: center; padding: 3px;\"/>');\n",
       "    titlebar.append(titletext)\n",
       "    this.root.append(titlebar);\n",
       "    this.header = titletext[0];\n",
       "}\n",
       "\n",
       "\n",
       "\n",
       "mpl.figure.prototype._canvas_extra_style = function(canvas_div) {\n",
       "\n",
       "}\n",
       "\n",
       "\n",
       "mpl.figure.prototype._root_extra_style = function(canvas_div) {\n",
       "\n",
       "}\n",
       "\n",
       "mpl.figure.prototype._init_canvas = function() {\n",
       "    var fig = this;\n",
       "\n",
       "    var canvas_div = $('<div/>');\n",
       "\n",
       "    canvas_div.attr('style', 'position: relative; clear: both; outline: 0');\n",
       "\n",
       "    function canvas_keyboard_event(event) {\n",
       "        return fig.key_event(event, event['data']);\n",
       "    }\n",
       "\n",
       "    canvas_div.keydown('key_press', canvas_keyboard_event);\n",
       "    canvas_div.keyup('key_release', canvas_keyboard_event);\n",
       "    this.canvas_div = canvas_div\n",
       "    this._canvas_extra_style(canvas_div)\n",
       "    this.root.append(canvas_div);\n",
       "\n",
       "    var canvas = $('<canvas/>');\n",
       "    canvas.addClass('mpl-canvas');\n",
       "    canvas.attr('style', \"left: 0; top: 0; z-index: 0; outline: 0\")\n",
       "\n",
       "    this.canvas = canvas[0];\n",
       "    this.context = canvas[0].getContext(\"2d\");\n",
       "\n",
       "    var backingStore = this.context.backingStorePixelRatio ||\n",
       "\tthis.context.webkitBackingStorePixelRatio ||\n",
       "\tthis.context.mozBackingStorePixelRatio ||\n",
       "\tthis.context.msBackingStorePixelRatio ||\n",
       "\tthis.context.oBackingStorePixelRatio ||\n",
       "\tthis.context.backingStorePixelRatio || 1;\n",
       "\n",
       "    mpl.ratio = (window.devicePixelRatio || 1) / backingStore;\n",
       "\n",
       "    var rubberband = $('<canvas/>');\n",
       "    rubberband.attr('style', \"position: absolute; left: 0; top: 0; z-index: 1;\")\n",
       "\n",
       "    var pass_mouse_events = true;\n",
       "\n",
       "    canvas_div.resizable({\n",
       "        start: function(event, ui) {\n",
       "            pass_mouse_events = false;\n",
       "        },\n",
       "        resize: function(event, ui) {\n",
       "            fig.request_resize(ui.size.width, ui.size.height);\n",
       "        },\n",
       "        stop: function(event, ui) {\n",
       "            pass_mouse_events = true;\n",
       "            fig.request_resize(ui.size.width, ui.size.height);\n",
       "        },\n",
       "    });\n",
       "\n",
       "    function mouse_event_fn(event) {\n",
       "        if (pass_mouse_events)\n",
       "            return fig.mouse_event(event, event['data']);\n",
       "    }\n",
       "\n",
       "    rubberband.mousedown('button_press', mouse_event_fn);\n",
       "    rubberband.mouseup('button_release', mouse_event_fn);\n",
       "    // Throttle sequential mouse events to 1 every 20ms.\n",
       "    rubberband.mousemove('motion_notify', mouse_event_fn);\n",
       "\n",
       "    rubberband.mouseenter('figure_enter', mouse_event_fn);\n",
       "    rubberband.mouseleave('figure_leave', mouse_event_fn);\n",
       "\n",
       "    canvas_div.on(\"wheel\", function (event) {\n",
       "        event = event.originalEvent;\n",
       "        event['data'] = 'scroll'\n",
       "        if (event.deltaY < 0) {\n",
       "            event.step = 1;\n",
       "        } else {\n",
       "            event.step = -1;\n",
       "        }\n",
       "        mouse_event_fn(event);\n",
       "    });\n",
       "\n",
       "    canvas_div.append(canvas);\n",
       "    canvas_div.append(rubberband);\n",
       "\n",
       "    this.rubberband = rubberband;\n",
       "    this.rubberband_canvas = rubberband[0];\n",
       "    this.rubberband_context = rubberband[0].getContext(\"2d\");\n",
       "    this.rubberband_context.strokeStyle = \"#000000\";\n",
       "\n",
       "    this._resize_canvas = function(width, height) {\n",
       "        // Keep the size of the canvas, canvas container, and rubber band\n",
       "        // canvas in synch.\n",
       "        canvas_div.css('width', width)\n",
       "        canvas_div.css('height', height)\n",
       "\n",
       "        canvas.attr('width', width * mpl.ratio);\n",
       "        canvas.attr('height', height * mpl.ratio);\n",
       "        canvas.attr('style', 'width: ' + width + 'px; height: ' + height + 'px;');\n",
       "\n",
       "        rubberband.attr('width', width);\n",
       "        rubberband.attr('height', height);\n",
       "    }\n",
       "\n",
       "    // Set the figure to an initial 600x600px, this will subsequently be updated\n",
       "    // upon first draw.\n",
       "    this._resize_canvas(600, 600);\n",
       "\n",
       "    // Disable right mouse context menu.\n",
       "    $(this.rubberband_canvas).bind(\"contextmenu\",function(e){\n",
       "        return false;\n",
       "    });\n",
       "\n",
       "    function set_focus () {\n",
       "        canvas.focus();\n",
       "        canvas_div.focus();\n",
       "    }\n",
       "\n",
       "    window.setTimeout(set_focus, 100);\n",
       "}\n",
       "\n",
       "mpl.figure.prototype._init_toolbar = function() {\n",
       "    var fig = this;\n",
       "\n",
       "    var nav_element = $('<div/>')\n",
       "    nav_element.attr('style', 'width: 100%');\n",
       "    this.root.append(nav_element);\n",
       "\n",
       "    // Define a callback function for later on.\n",
       "    function toolbar_event(event) {\n",
       "        return fig.toolbar_button_onclick(event['data']);\n",
       "    }\n",
       "    function toolbar_mouse_event(event) {\n",
       "        return fig.toolbar_button_onmouseover(event['data']);\n",
       "    }\n",
       "\n",
       "    for(var toolbar_ind in mpl.toolbar_items) {\n",
       "        var name = mpl.toolbar_items[toolbar_ind][0];\n",
       "        var tooltip = mpl.toolbar_items[toolbar_ind][1];\n",
       "        var image = mpl.toolbar_items[toolbar_ind][2];\n",
       "        var method_name = mpl.toolbar_items[toolbar_ind][3];\n",
       "\n",
       "        if (!name) {\n",
       "            // put a spacer in here.\n",
       "            continue;\n",
       "        }\n",
       "        var button = $('<button/>');\n",
       "        button.addClass('ui-button ui-widget ui-state-default ui-corner-all ' +\n",
       "                        'ui-button-icon-only');\n",
       "        button.attr('role', 'button');\n",
       "        button.attr('aria-disabled', 'false');\n",
       "        button.click(method_name, toolbar_event);\n",
       "        button.mouseover(tooltip, toolbar_mouse_event);\n",
       "\n",
       "        var icon_img = $('<span/>');\n",
       "        icon_img.addClass('ui-button-icon-primary ui-icon');\n",
       "        icon_img.addClass(image);\n",
       "        icon_img.addClass('ui-corner-all');\n",
       "\n",
       "        var tooltip_span = $('<span/>');\n",
       "        tooltip_span.addClass('ui-button-text');\n",
       "        tooltip_span.html(tooltip);\n",
       "\n",
       "        button.append(icon_img);\n",
       "        button.append(tooltip_span);\n",
       "\n",
       "        nav_element.append(button);\n",
       "    }\n",
       "\n",
       "    var fmt_picker_span = $('<span/>');\n",
       "\n",
       "    var fmt_picker = $('<select/>');\n",
       "    fmt_picker.addClass('mpl-toolbar-option ui-widget ui-widget-content');\n",
       "    fmt_picker_span.append(fmt_picker);\n",
       "    nav_element.append(fmt_picker_span);\n",
       "    this.format_dropdown = fmt_picker[0];\n",
       "\n",
       "    for (var ind in mpl.extensions) {\n",
       "        var fmt = mpl.extensions[ind];\n",
       "        var option = $(\n",
       "            '<option/>', {selected: fmt === mpl.default_extension}).html(fmt);\n",
       "        fmt_picker.append(option)\n",
       "    }\n",
       "\n",
       "    // Add hover states to the ui-buttons\n",
       "    $( \".ui-button\" ).hover(\n",
       "        function() { $(this).addClass(\"ui-state-hover\");},\n",
       "        function() { $(this).removeClass(\"ui-state-hover\");}\n",
       "    );\n",
       "\n",
       "    var status_bar = $('<span class=\"mpl-message\"/>');\n",
       "    nav_element.append(status_bar);\n",
       "    this.message = status_bar[0];\n",
       "}\n",
       "\n",
       "mpl.figure.prototype.request_resize = function(x_pixels, y_pixels) {\n",
       "    // Request matplotlib to resize the figure. Matplotlib will then trigger a resize in the client,\n",
       "    // which will in turn request a refresh of the image.\n",
       "    this.send_message('resize', {'width': x_pixels, 'height': y_pixels});\n",
       "}\n",
       "\n",
       "mpl.figure.prototype.send_message = function(type, properties) {\n",
       "    properties['type'] = type;\n",
       "    properties['figure_id'] = this.id;\n",
       "    this.ws.send(JSON.stringify(properties));\n",
       "}\n",
       "\n",
       "mpl.figure.prototype.send_draw_message = function() {\n",
       "    if (!this.waiting) {\n",
       "        this.waiting = true;\n",
       "        this.ws.send(JSON.stringify({type: \"draw\", figure_id: this.id}));\n",
       "    }\n",
       "}\n",
       "\n",
       "\n",
       "mpl.figure.prototype.handle_save = function(fig, msg) {\n",
       "    var format_dropdown = fig.format_dropdown;\n",
       "    var format = format_dropdown.options[format_dropdown.selectedIndex].value;\n",
       "    fig.ondownload(fig, format);\n",
       "}\n",
       "\n",
       "\n",
       "mpl.figure.prototype.handle_resize = function(fig, msg) {\n",
       "    var size = msg['size'];\n",
       "    if (size[0] != fig.canvas.width || size[1] != fig.canvas.height) {\n",
       "        fig._resize_canvas(size[0], size[1]);\n",
       "        fig.send_message(\"refresh\", {});\n",
       "    };\n",
       "}\n",
       "\n",
       "mpl.figure.prototype.handle_rubberband = function(fig, msg) {\n",
       "    var x0 = msg['x0'] / mpl.ratio;\n",
       "    var y0 = (fig.canvas.height - msg['y0']) / mpl.ratio;\n",
       "    var x1 = msg['x1'] / mpl.ratio;\n",
       "    var y1 = (fig.canvas.height - msg['y1']) / mpl.ratio;\n",
       "    x0 = Math.floor(x0) + 0.5;\n",
       "    y0 = Math.floor(y0) + 0.5;\n",
       "    x1 = Math.floor(x1) + 0.5;\n",
       "    y1 = Math.floor(y1) + 0.5;\n",
       "    var min_x = Math.min(x0, x1);\n",
       "    var min_y = Math.min(y0, y1);\n",
       "    var width = Math.abs(x1 - x0);\n",
       "    var height = Math.abs(y1 - y0);\n",
       "\n",
       "    fig.rubberband_context.clearRect(\n",
       "        0, 0, fig.canvas.width, fig.canvas.height);\n",
       "\n",
       "    fig.rubberband_context.strokeRect(min_x, min_y, width, height);\n",
       "}\n",
       "\n",
       "mpl.figure.prototype.handle_figure_label = function(fig, msg) {\n",
       "    // Updates the figure title.\n",
       "    fig.header.textContent = msg['label'];\n",
       "}\n",
       "\n",
       "mpl.figure.prototype.handle_cursor = function(fig, msg) {\n",
       "    var cursor = msg['cursor'];\n",
       "    switch(cursor)\n",
       "    {\n",
       "    case 0:\n",
       "        cursor = 'pointer';\n",
       "        break;\n",
       "    case 1:\n",
       "        cursor = 'default';\n",
       "        break;\n",
       "    case 2:\n",
       "        cursor = 'crosshair';\n",
       "        break;\n",
       "    case 3:\n",
       "        cursor = 'move';\n",
       "        break;\n",
       "    }\n",
       "    fig.rubberband_canvas.style.cursor = cursor;\n",
       "}\n",
       "\n",
       "mpl.figure.prototype.handle_message = function(fig, msg) {\n",
       "    fig.message.textContent = msg['message'];\n",
       "}\n",
       "\n",
       "mpl.figure.prototype.handle_draw = function(fig, msg) {\n",
       "    // Request the server to send over a new figure.\n",
       "    fig.send_draw_message();\n",
       "}\n",
       "\n",
       "mpl.figure.prototype.handle_image_mode = function(fig, msg) {\n",
       "    fig.image_mode = msg['mode'];\n",
       "}\n",
       "\n",
       "mpl.figure.prototype.updated_canvas_event = function() {\n",
       "    // Called whenever the canvas gets updated.\n",
       "    this.send_message(\"ack\", {});\n",
       "}\n",
       "\n",
       "// A function to construct a web socket function for onmessage handling.\n",
       "// Called in the figure constructor.\n",
       "mpl.figure.prototype._make_on_message_function = function(fig) {\n",
       "    return function socket_on_message(evt) {\n",
       "        if (evt.data instanceof Blob) {\n",
       "            /* FIXME: We get \"Resource interpreted as Image but\n",
       "             * transferred with MIME type text/plain:\" errors on\n",
       "             * Chrome.  But how to set the MIME type?  It doesn't seem\n",
       "             * to be part of the websocket stream */\n",
       "            evt.data.type = \"image/png\";\n",
       "\n",
       "            /* Free the memory for the previous frames */\n",
       "            if (fig.imageObj.src) {\n",
       "                (window.URL || window.webkitURL).revokeObjectURL(\n",
       "                    fig.imageObj.src);\n",
       "            }\n",
       "\n",
       "            fig.imageObj.src = (window.URL || window.webkitURL).createObjectURL(\n",
       "                evt.data);\n",
       "            fig.updated_canvas_event();\n",
       "            fig.waiting = false;\n",
       "            return;\n",
       "        }\n",
       "        else if (typeof evt.data === 'string' && evt.data.slice(0, 21) == \"data:image/png;base64\") {\n",
       "            fig.imageObj.src = evt.data;\n",
       "            fig.updated_canvas_event();\n",
       "            fig.waiting = false;\n",
       "            return;\n",
       "        }\n",
       "\n",
       "        var msg = JSON.parse(evt.data);\n",
       "        var msg_type = msg['type'];\n",
       "\n",
       "        // Call the  \"handle_{type}\" callback, which takes\n",
       "        // the figure and JSON message as its only arguments.\n",
       "        try {\n",
       "            var callback = fig[\"handle_\" + msg_type];\n",
       "        } catch (e) {\n",
       "            console.log(\"No handler for the '\" + msg_type + \"' message type: \", msg);\n",
       "            return;\n",
       "        }\n",
       "\n",
       "        if (callback) {\n",
       "            try {\n",
       "                // console.log(\"Handling '\" + msg_type + \"' message: \", msg);\n",
       "                callback(fig, msg);\n",
       "            } catch (e) {\n",
       "                console.log(\"Exception inside the 'handler_\" + msg_type + \"' callback:\", e, e.stack, msg);\n",
       "            }\n",
       "        }\n",
       "    };\n",
       "}\n",
       "\n",
       "// from http://stackoverflow.com/questions/1114465/getting-mouse-location-in-canvas\n",
       "mpl.findpos = function(e) {\n",
       "    //this section is from http://www.quirksmode.org/js/events_properties.html\n",
       "    var targ;\n",
       "    if (!e)\n",
       "        e = window.event;\n",
       "    if (e.target)\n",
       "        targ = e.target;\n",
       "    else if (e.srcElement)\n",
       "        targ = e.srcElement;\n",
       "    if (targ.nodeType == 3) // defeat Safari bug\n",
       "        targ = targ.parentNode;\n",
       "\n",
       "    // jQuery normalizes the pageX and pageY\n",
       "    // pageX,Y are the mouse positions relative to the document\n",
       "    // offset() returns the position of the element relative to the document\n",
       "    var x = e.pageX - $(targ).offset().left;\n",
       "    var y = e.pageY - $(targ).offset().top;\n",
       "\n",
       "    return {\"x\": x, \"y\": y};\n",
       "};\n",
       "\n",
       "/*\n",
       " * return a copy of an object with only non-object keys\n",
       " * we need this to avoid circular references\n",
       " * http://stackoverflow.com/a/24161582/3208463\n",
       " */\n",
       "function simpleKeys (original) {\n",
       "  return Object.keys(original).reduce(function (obj, key) {\n",
       "    if (typeof original[key] !== 'object')\n",
       "        obj[key] = original[key]\n",
       "    return obj;\n",
       "  }, {});\n",
       "}\n",
       "\n",
       "mpl.figure.prototype.mouse_event = function(event, name) {\n",
       "    var canvas_pos = mpl.findpos(event)\n",
       "\n",
       "    if (name === 'button_press')\n",
       "    {\n",
       "        this.canvas.focus();\n",
       "        this.canvas_div.focus();\n",
       "    }\n",
       "\n",
       "    var x = canvas_pos.x * mpl.ratio;\n",
       "    var y = canvas_pos.y * mpl.ratio;\n",
       "\n",
       "    this.send_message(name, {x: x, y: y, button: event.button,\n",
       "                             step: event.step,\n",
       "                             guiEvent: simpleKeys(event)});\n",
       "\n",
       "    /* This prevents the web browser from automatically changing to\n",
       "     * the text insertion cursor when the button is pressed.  We want\n",
       "     * to control all of the cursor setting manually through the\n",
       "     * 'cursor' event from matplotlib */\n",
       "    event.preventDefault();\n",
       "    return false;\n",
       "}\n",
       "\n",
       "mpl.figure.prototype._key_event_extra = function(event, name) {\n",
       "    // Handle any extra behaviour associated with a key event\n",
       "}\n",
       "\n",
       "mpl.figure.prototype.key_event = function(event, name) {\n",
       "\n",
       "    // Prevent repeat events\n",
       "    if (name == 'key_press')\n",
       "    {\n",
       "        if (event.which === this._key)\n",
       "            return;\n",
       "        else\n",
       "            this._key = event.which;\n",
       "    }\n",
       "    if (name == 'key_release')\n",
       "        this._key = null;\n",
       "\n",
       "    var value = '';\n",
       "    if (event.ctrlKey && event.which != 17)\n",
       "        value += \"ctrl+\";\n",
       "    if (event.altKey && event.which != 18)\n",
       "        value += \"alt+\";\n",
       "    if (event.shiftKey && event.which != 16)\n",
       "        value += \"shift+\";\n",
       "\n",
       "    value += 'k';\n",
       "    value += event.which.toString();\n",
       "\n",
       "    this._key_event_extra(event, name);\n",
       "\n",
       "    this.send_message(name, {key: value,\n",
       "                             guiEvent: simpleKeys(event)});\n",
       "    return false;\n",
       "}\n",
       "\n",
       "mpl.figure.prototype.toolbar_button_onclick = function(name) {\n",
       "    if (name == 'download') {\n",
       "        this.handle_save(this, null);\n",
       "    } else {\n",
       "        this.send_message(\"toolbar_button\", {name: name});\n",
       "    }\n",
       "};\n",
       "\n",
       "mpl.figure.prototype.toolbar_button_onmouseover = function(tooltip) {\n",
       "    this.message.textContent = tooltip;\n",
       "};\n",
       "mpl.toolbar_items = [[\"Home\", \"Reset original view\", \"fa fa-home icon-home\", \"home\"], [\"Back\", \"Back to previous view\", \"fa fa-arrow-left icon-arrow-left\", \"back\"], [\"Forward\", \"Forward to next view\", \"fa fa-arrow-right icon-arrow-right\", \"forward\"], [\"\", \"\", \"\", \"\"], [\"Pan\", \"Pan axes with left mouse, zoom with right\", \"fa fa-arrows icon-move\", \"pan\"], [\"Zoom\", \"Zoom to rectangle\", \"fa fa-square-o icon-check-empty\", \"zoom\"], [\"\", \"\", \"\", \"\"], [\"Download\", \"Download plot\", \"fa fa-floppy-o icon-save\", \"download\"]];\n",
       "\n",
       "mpl.extensions = [\"eps\", \"jpeg\", \"pdf\", \"png\", \"ps\", \"raw\", \"svg\", \"tif\"];\n",
       "\n",
       "mpl.default_extension = \"png\";var comm_websocket_adapter = function(comm) {\n",
       "    // Create a \"websocket\"-like object which calls the given IPython comm\n",
       "    // object with the appropriate methods. Currently this is a non binary\n",
       "    // socket, so there is still some room for performance tuning.\n",
       "    var ws = {};\n",
       "\n",
       "    ws.close = function() {\n",
       "        comm.close()\n",
       "    };\n",
       "    ws.send = function(m) {\n",
       "        //console.log('sending', m);\n",
       "        comm.send(m);\n",
       "    };\n",
       "    // Register the callback with on_msg.\n",
       "    comm.on_msg(function(msg) {\n",
       "        //console.log('receiving', msg['content']['data'], msg);\n",
       "        // Pass the mpl event to the overridden (by mpl) onmessage function.\n",
       "        ws.onmessage(msg['content']['data'])\n",
       "    });\n",
       "    return ws;\n",
       "}\n",
       "\n",
       "mpl.mpl_figure_comm = function(comm, msg) {\n",
       "    // This is the function which gets called when the mpl process\n",
       "    // starts-up an IPython Comm through the \"matplotlib\" channel.\n",
       "\n",
       "    var id = msg.content.data.id;\n",
       "    // Get hold of the div created by the display call when the Comm\n",
       "    // socket was opened in Python.\n",
       "    var element = $(\"#\" + id);\n",
       "    var ws_proxy = comm_websocket_adapter(comm)\n",
       "\n",
       "    function ondownload(figure, format) {\n",
       "        window.open(figure.imageObj.src);\n",
       "    }\n",
       "\n",
       "    var fig = new mpl.figure(id, ws_proxy,\n",
       "                           ondownload,\n",
       "                           element.get(0));\n",
       "\n",
       "    // Call onopen now - mpl needs it, as it is assuming we've passed it a real\n",
       "    // web socket which is closed, not our websocket->open comm proxy.\n",
       "    ws_proxy.onopen();\n",
       "\n",
       "    fig.parent_element = element.get(0);\n",
       "    fig.cell_info = mpl.find_output_cell(\"<div id='\" + id + \"'></div>\");\n",
       "    if (!fig.cell_info) {\n",
       "        console.error(\"Failed to find cell for figure\", id, fig);\n",
       "        return;\n",
       "    }\n",
       "\n",
       "    var output_index = fig.cell_info[2]\n",
       "    var cell = fig.cell_info[0];\n",
       "\n",
       "};\n",
       "\n",
       "mpl.figure.prototype.handle_close = function(fig, msg) {\n",
       "    var width = fig.canvas.width/mpl.ratio\n",
       "    fig.root.unbind('remove')\n",
       "\n",
       "    // Update the output cell to use the data from the current canvas.\n",
       "    fig.push_to_output();\n",
       "    var dataURL = fig.canvas.toDataURL();\n",
       "    // Re-enable the keyboard manager in IPython - without this line, in FF,\n",
       "    // the notebook keyboard shortcuts fail.\n",
       "    IPython.keyboard_manager.enable()\n",
       "    $(fig.parent_element).html('<img src=\"' + dataURL + '\" width=\"' + width + '\">');\n",
       "    fig.close_ws(fig, msg);\n",
       "}\n",
       "\n",
       "mpl.figure.prototype.close_ws = function(fig, msg){\n",
       "    fig.send_message('closing', msg);\n",
       "    // fig.ws.close()\n",
       "}\n",
       "\n",
       "mpl.figure.prototype.push_to_output = function(remove_interactive) {\n",
       "    // Turn the data on the canvas into data in the output cell.\n",
       "    var width = this.canvas.width/mpl.ratio\n",
       "    var dataURL = this.canvas.toDataURL();\n",
       "    this.cell_info[1]['text/html'] = '<img src=\"' + dataURL + '\" width=\"' + width + '\">';\n",
       "}\n",
       "\n",
       "mpl.figure.prototype.updated_canvas_event = function() {\n",
       "    // Tell IPython that the notebook contents must change.\n",
       "    IPython.notebook.set_dirty(true);\n",
       "    this.send_message(\"ack\", {});\n",
       "    var fig = this;\n",
       "    // Wait a second, then push the new image to the DOM so\n",
       "    // that it is saved nicely (might be nice to debounce this).\n",
       "    setTimeout(function () { fig.push_to_output() }, 1000);\n",
       "}\n",
       "\n",
       "mpl.figure.prototype._init_toolbar = function() {\n",
       "    var fig = this;\n",
       "\n",
       "    var nav_element = $('<div/>')\n",
       "    nav_element.attr('style', 'width: 100%');\n",
       "    this.root.append(nav_element);\n",
       "\n",
       "    // Define a callback function for later on.\n",
       "    function toolbar_event(event) {\n",
       "        return fig.toolbar_button_onclick(event['data']);\n",
       "    }\n",
       "    function toolbar_mouse_event(event) {\n",
       "        return fig.toolbar_button_onmouseover(event['data']);\n",
       "    }\n",
       "\n",
       "    for(var toolbar_ind in mpl.toolbar_items){\n",
       "        var name = mpl.toolbar_items[toolbar_ind][0];\n",
       "        var tooltip = mpl.toolbar_items[toolbar_ind][1];\n",
       "        var image = mpl.toolbar_items[toolbar_ind][2];\n",
       "        var method_name = mpl.toolbar_items[toolbar_ind][3];\n",
       "\n",
       "        if (!name) { continue; };\n",
       "\n",
       "        var button = $('<button class=\"btn btn-default\" href=\"#\" title=\"' + name + '\"><i class=\"fa ' + image + ' fa-lg\"></i></button>');\n",
       "        button.click(method_name, toolbar_event);\n",
       "        button.mouseover(tooltip, toolbar_mouse_event);\n",
       "        nav_element.append(button);\n",
       "    }\n",
       "\n",
       "    // Add the status bar.\n",
       "    var status_bar = $('<span class=\"mpl-message\" style=\"text-align:right; float: right;\"/>');\n",
       "    nav_element.append(status_bar);\n",
       "    this.message = status_bar[0];\n",
       "\n",
       "    // Add the close button to the window.\n",
       "    var buttongrp = $('<div class=\"btn-group inline pull-right\"></div>');\n",
       "    var button = $('<button class=\"btn btn-mini btn-primary\" href=\"#\" title=\"Stop Interaction\"><i class=\"fa fa-power-off icon-remove icon-large\"></i></button>');\n",
       "    button.click(function (evt) { fig.handle_close(fig, {}); } );\n",
       "    button.mouseover('Stop Interaction', toolbar_mouse_event);\n",
       "    buttongrp.append(button);\n",
       "    var titlebar = this.root.find($('.ui-dialog-titlebar'));\n",
       "    titlebar.prepend(buttongrp);\n",
       "}\n",
       "\n",
       "mpl.figure.prototype._root_extra_style = function(el){\n",
       "    var fig = this\n",
       "    el.on(\"remove\", function(){\n",
       "\tfig.close_ws(fig, {});\n",
       "    });\n",
       "}\n",
       "\n",
       "mpl.figure.prototype._canvas_extra_style = function(el){\n",
       "    // this is important to make the div 'focusable\n",
       "    el.attr('tabindex', 0)\n",
       "    // reach out to IPython and tell the keyboard manager to turn it's self\n",
       "    // off when our div gets focus\n",
       "\n",
       "    // location in version 3\n",
       "    if (IPython.notebook.keyboard_manager) {\n",
       "        IPython.notebook.keyboard_manager.register_events(el);\n",
       "    }\n",
       "    else {\n",
       "        // location in version 2\n",
       "        IPython.keyboard_manager.register_events(el);\n",
       "    }\n",
       "\n",
       "}\n",
       "\n",
       "mpl.figure.prototype._key_event_extra = function(event, name) {\n",
       "    var manager = IPython.notebook.keyboard_manager;\n",
       "    if (!manager)\n",
       "        manager = IPython.keyboard_manager;\n",
       "\n",
       "    // Check for shift+enter\n",
       "    if (event.shiftKey && event.which == 13) {\n",
       "        this.canvas_div.blur();\n",
       "        event.shiftKey = false;\n",
       "        // Send a \"J\" for go to next cell\n",
       "        event.which = 74;\n",
       "        event.keyCode = 74;\n",
       "        manager.command_mode();\n",
       "        manager.handle_keydown(event);\n",
       "    }\n",
       "}\n",
       "\n",
       "mpl.figure.prototype.handle_save = function(fig, msg) {\n",
       "    fig.ondownload(fig, null);\n",
       "}\n",
       "\n",
       "\n",
       "mpl.find_output_cell = function(html_output) {\n",
       "    // Return the cell and output element which can be found *uniquely* in the notebook.\n",
       "    // Note - this is a bit hacky, but it is done because the \"notebook_saving.Notebook\"\n",
       "    // IPython event is triggered only after the cells have been serialised, which for\n",
       "    // our purposes (turning an active figure into a static one), is too late.\n",
       "    var cells = IPython.notebook.get_cells();\n",
       "    var ncells = cells.length;\n",
       "    for (var i=0; i<ncells; i++) {\n",
       "        var cell = cells[i];\n",
       "        if (cell.cell_type === 'code'){\n",
       "            for (var j=0; j<cell.output_area.outputs.length; j++) {\n",
       "                var data = cell.output_area.outputs[j];\n",
       "                if (data.data) {\n",
       "                    // IPython >= 3 moved mimebundle to data attribute of output\n",
       "                    data = data.data;\n",
       "                }\n",
       "                if (data['text/html'] == html_output) {\n",
       "                    return [cell, data, j];\n",
       "                }\n",
       "            }\n",
       "        }\n",
       "    }\n",
       "}\n",
       "\n",
       "// Register the function which deals with the matplotlib target/channel.\n",
       "// The kernel may be null if the page has been refreshed.\n",
       "if (IPython.notebook.kernel != null) {\n",
       "    IPython.notebook.kernel.comm_manager.register_target('matplotlib', mpl.mpl_figure_comm);\n",
       "}\n"
      ],
      "text/plain": [
       "<IPython.core.display.Javascript object>"
      ]
     },
     "metadata": {},
     "output_type": "display_data"
    },
    {
     "data": {
      "text/html": [
       "<img src=\"data:image/png;base64,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\" width=\"640\">"
      ],
      "text/plain": [
       "<IPython.core.display.HTML object>"
      ]
     },
     "metadata": {},
     "output_type": "display_data"
    }
   ],
   "source": [
    "plt.figure()\n",
    "cp = CellPlot(cell_opt)\n",
    "h = cp.hist_r_storm(norm_x=False)"
   ]
  },
  {
   "cell_type": "markdown",
   "metadata": {},
   "source": [
    "To plot the localizations as a function of position along the perimeter of the cell:"
   ]
  },
  {
   "cell_type": "code",
   "execution_count": 65,
   "metadata": {},
   "outputs": [
    {
     "data": {
      "application/javascript": [
       "/* Put everything inside the global mpl namespace */\n",
       "window.mpl = {};\n",
       "\n",
       "\n",
       "mpl.get_websocket_type = function() {\n",
       "    if (typeof(WebSocket) !== 'undefined') {\n",
       "        return WebSocket;\n",
       "    } else if (typeof(MozWebSocket) !== 'undefined') {\n",
       "        return MozWebSocket;\n",
       "    } else {\n",
       "        alert('Your browser does not have WebSocket support.' +\n",
       "              'Please try Chrome, Safari or Firefox ≥ 6. ' +\n",
       "              'Firefox 4 and 5 are also supported but you ' +\n",
       "              'have to enable WebSockets in about:config.');\n",
       "    };\n",
       "}\n",
       "\n",
       "mpl.figure = function(figure_id, websocket, ondownload, parent_element) {\n",
       "    this.id = figure_id;\n",
       "\n",
       "    this.ws = websocket;\n",
       "\n",
       "    this.supports_binary = (this.ws.binaryType != undefined);\n",
       "\n",
       "    if (!this.supports_binary) {\n",
       "        var warnings = document.getElementById(\"mpl-warnings\");\n",
       "        if (warnings) {\n",
       "            warnings.style.display = 'block';\n",
       "            warnings.textContent = (\n",
       "                \"This browser does not support binary websocket messages. \" +\n",
       "                    \"Performance may be slow.\");\n",
       "        }\n",
       "    }\n",
       "\n",
       "    this.imageObj = new Image();\n",
       "\n",
       "    this.context = undefined;\n",
       "    this.message = undefined;\n",
       "    this.canvas = undefined;\n",
       "    this.rubberband_canvas = undefined;\n",
       "    this.rubberband_context = undefined;\n",
       "    this.format_dropdown = undefined;\n",
       "\n",
       "    this.image_mode = 'full';\n",
       "\n",
       "    this.root = $('<div/>');\n",
       "    this._root_extra_style(this.root)\n",
       "    this.root.attr('style', 'display: inline-block');\n",
       "\n",
       "    $(parent_element).append(this.root);\n",
       "\n",
       "    this._init_header(this);\n",
       "    this._init_canvas(this);\n",
       "    this._init_toolbar(this);\n",
       "\n",
       "    var fig = this;\n",
       "\n",
       "    this.waiting = false;\n",
       "\n",
       "    this.ws.onopen =  function () {\n",
       "            fig.send_message(\"supports_binary\", {value: fig.supports_binary});\n",
       "            fig.send_message(\"send_image_mode\", {});\n",
       "            if (mpl.ratio != 1) {\n",
       "                fig.send_message(\"set_dpi_ratio\", {'dpi_ratio': mpl.ratio});\n",
       "            }\n",
       "            fig.send_message(\"refresh\", {});\n",
       "        }\n",
       "\n",
       "    this.imageObj.onload = function() {\n",
       "            if (fig.image_mode == 'full') {\n",
       "                // Full images could contain transparency (where diff images\n",
       "                // almost always do), so we need to clear the canvas so that\n",
       "                // there is no ghosting.\n",
       "                fig.context.clearRect(0, 0, fig.canvas.width, fig.canvas.height);\n",
       "            }\n",
       "            fig.context.drawImage(fig.imageObj, 0, 0);\n",
       "        };\n",
       "\n",
       "    this.imageObj.onunload = function() {\n",
       "        fig.ws.close();\n",
       "    }\n",
       "\n",
       "    this.ws.onmessage = this._make_on_message_function(this);\n",
       "\n",
       "    this.ondownload = ondownload;\n",
       "}\n",
       "\n",
       "mpl.figure.prototype._init_header = function() {\n",
       "    var titlebar = $(\n",
       "        '<div class=\"ui-dialog-titlebar ui-widget-header ui-corner-all ' +\n",
       "        'ui-helper-clearfix\"/>');\n",
       "    var titletext = $(\n",
       "        '<div class=\"ui-dialog-title\" style=\"width: 100%; ' +\n",
       "        'text-align: center; padding: 3px;\"/>');\n",
       "    titlebar.append(titletext)\n",
       "    this.root.append(titlebar);\n",
       "    this.header = titletext[0];\n",
       "}\n",
       "\n",
       "\n",
       "\n",
       "mpl.figure.prototype._canvas_extra_style = function(canvas_div) {\n",
       "\n",
       "}\n",
       "\n",
       "\n",
       "mpl.figure.prototype._root_extra_style = function(canvas_div) {\n",
       "\n",
       "}\n",
       "\n",
       "mpl.figure.prototype._init_canvas = function() {\n",
       "    var fig = this;\n",
       "\n",
       "    var canvas_div = $('<div/>');\n",
       "\n",
       "    canvas_div.attr('style', 'position: relative; clear: both; outline: 0');\n",
       "\n",
       "    function canvas_keyboard_event(event) {\n",
       "        return fig.key_event(event, event['data']);\n",
       "    }\n",
       "\n",
       "    canvas_div.keydown('key_press', canvas_keyboard_event);\n",
       "    canvas_div.keyup('key_release', canvas_keyboard_event);\n",
       "    this.canvas_div = canvas_div\n",
       "    this._canvas_extra_style(canvas_div)\n",
       "    this.root.append(canvas_div);\n",
       "\n",
       "    var canvas = $('<canvas/>');\n",
       "    canvas.addClass('mpl-canvas');\n",
       "    canvas.attr('style', \"left: 0; top: 0; z-index: 0; outline: 0\")\n",
       "\n",
       "    this.canvas = canvas[0];\n",
       "    this.context = canvas[0].getContext(\"2d\");\n",
       "\n",
       "    var backingStore = this.context.backingStorePixelRatio ||\n",
       "\tthis.context.webkitBackingStorePixelRatio ||\n",
       "\tthis.context.mozBackingStorePixelRatio ||\n",
       "\tthis.context.msBackingStorePixelRatio ||\n",
       "\tthis.context.oBackingStorePixelRatio ||\n",
       "\tthis.context.backingStorePixelRatio || 1;\n",
       "\n",
       "    mpl.ratio = (window.devicePixelRatio || 1) / backingStore;\n",
       "\n",
       "    var rubberband = $('<canvas/>');\n",
       "    rubberband.attr('style', \"position: absolute; left: 0; top: 0; z-index: 1;\")\n",
       "\n",
       "    var pass_mouse_events = true;\n",
       "\n",
       "    canvas_div.resizable({\n",
       "        start: function(event, ui) {\n",
       "            pass_mouse_events = false;\n",
       "        },\n",
       "        resize: function(event, ui) {\n",
       "            fig.request_resize(ui.size.width, ui.size.height);\n",
       "        },\n",
       "        stop: function(event, ui) {\n",
       "            pass_mouse_events = true;\n",
       "            fig.request_resize(ui.size.width, ui.size.height);\n",
       "        },\n",
       "    });\n",
       "\n",
       "    function mouse_event_fn(event) {\n",
       "        if (pass_mouse_events)\n",
       "            return fig.mouse_event(event, event['data']);\n",
       "    }\n",
       "\n",
       "    rubberband.mousedown('button_press', mouse_event_fn);\n",
       "    rubberband.mouseup('button_release', mouse_event_fn);\n",
       "    // Throttle sequential mouse events to 1 every 20ms.\n",
       "    rubberband.mousemove('motion_notify', mouse_event_fn);\n",
       "\n",
       "    rubberband.mouseenter('figure_enter', mouse_event_fn);\n",
       "    rubberband.mouseleave('figure_leave', mouse_event_fn);\n",
       "\n",
       "    canvas_div.on(\"wheel\", function (event) {\n",
       "        event = event.originalEvent;\n",
       "        event['data'] = 'scroll'\n",
       "        if (event.deltaY < 0) {\n",
       "            event.step = 1;\n",
       "        } else {\n",
       "            event.step = -1;\n",
       "        }\n",
       "        mouse_event_fn(event);\n",
       "    });\n",
       "\n",
       "    canvas_div.append(canvas);\n",
       "    canvas_div.append(rubberband);\n",
       "\n",
       "    this.rubberband = rubberband;\n",
       "    this.rubberband_canvas = rubberband[0];\n",
       "    this.rubberband_context = rubberband[0].getContext(\"2d\");\n",
       "    this.rubberband_context.strokeStyle = \"#000000\";\n",
       "\n",
       "    this._resize_canvas = function(width, height) {\n",
       "        // Keep the size of the canvas, canvas container, and rubber band\n",
       "        // canvas in synch.\n",
       "        canvas_div.css('width', width)\n",
       "        canvas_div.css('height', height)\n",
       "\n",
       "        canvas.attr('width', width * mpl.ratio);\n",
       "        canvas.attr('height', height * mpl.ratio);\n",
       "        canvas.attr('style', 'width: ' + width + 'px; height: ' + height + 'px;');\n",
       "\n",
       "        rubberband.attr('width', width);\n",
       "        rubberband.attr('height', height);\n",
       "    }\n",
       "\n",
       "    // Set the figure to an initial 600x600px, this will subsequently be updated\n",
       "    // upon first draw.\n",
       "    this._resize_canvas(600, 600);\n",
       "\n",
       "    // Disable right mouse context menu.\n",
       "    $(this.rubberband_canvas).bind(\"contextmenu\",function(e){\n",
       "        return false;\n",
       "    });\n",
       "\n",
       "    function set_focus () {\n",
       "        canvas.focus();\n",
       "        canvas_div.focus();\n",
       "    }\n",
       "\n",
       "    window.setTimeout(set_focus, 100);\n",
       "}\n",
       "\n",
       "mpl.figure.prototype._init_toolbar = function() {\n",
       "    var fig = this;\n",
       "\n",
       "    var nav_element = $('<div/>')\n",
       "    nav_element.attr('style', 'width: 100%');\n",
       "    this.root.append(nav_element);\n",
       "\n",
       "    // Define a callback function for later on.\n",
       "    function toolbar_event(event) {\n",
       "        return fig.toolbar_button_onclick(event['data']);\n",
       "    }\n",
       "    function toolbar_mouse_event(event) {\n",
       "        return fig.toolbar_button_onmouseover(event['data']);\n",
       "    }\n",
       "\n",
       "    for(var toolbar_ind in mpl.toolbar_items) {\n",
       "        var name = mpl.toolbar_items[toolbar_ind][0];\n",
       "        var tooltip = mpl.toolbar_items[toolbar_ind][1];\n",
       "        var image = mpl.toolbar_items[toolbar_ind][2];\n",
       "        var method_name = mpl.toolbar_items[toolbar_ind][3];\n",
       "\n",
       "        if (!name) {\n",
       "            // put a spacer in here.\n",
       "            continue;\n",
       "        }\n",
       "        var button = $('<button/>');\n",
       "        button.addClass('ui-button ui-widget ui-state-default ui-corner-all ' +\n",
       "                        'ui-button-icon-only');\n",
       "        button.attr('role', 'button');\n",
       "        button.attr('aria-disabled', 'false');\n",
       "        button.click(method_name, toolbar_event);\n",
       "        button.mouseover(tooltip, toolbar_mouse_event);\n",
       "\n",
       "        var icon_img = $('<span/>');\n",
       "        icon_img.addClass('ui-button-icon-primary ui-icon');\n",
       "        icon_img.addClass(image);\n",
       "        icon_img.addClass('ui-corner-all');\n",
       "\n",
       "        var tooltip_span = $('<span/>');\n",
       "        tooltip_span.addClass('ui-button-text');\n",
       "        tooltip_span.html(tooltip);\n",
       "\n",
       "        button.append(icon_img);\n",
       "        button.append(tooltip_span);\n",
       "\n",
       "        nav_element.append(button);\n",
       "    }\n",
       "\n",
       "    var fmt_picker_span = $('<span/>');\n",
       "\n",
       "    var fmt_picker = $('<select/>');\n",
       "    fmt_picker.addClass('mpl-toolbar-option ui-widget ui-widget-content');\n",
       "    fmt_picker_span.append(fmt_picker);\n",
       "    nav_element.append(fmt_picker_span);\n",
       "    this.format_dropdown = fmt_picker[0];\n",
       "\n",
       "    for (var ind in mpl.extensions) {\n",
       "        var fmt = mpl.extensions[ind];\n",
       "        var option = $(\n",
       "            '<option/>', {selected: fmt === mpl.default_extension}).html(fmt);\n",
       "        fmt_picker.append(option)\n",
       "    }\n",
       "\n",
       "    // Add hover states to the ui-buttons\n",
       "    $( \".ui-button\" ).hover(\n",
       "        function() { $(this).addClass(\"ui-state-hover\");},\n",
       "        function() { $(this).removeClass(\"ui-state-hover\");}\n",
       "    );\n",
       "\n",
       "    var status_bar = $('<span class=\"mpl-message\"/>');\n",
       "    nav_element.append(status_bar);\n",
       "    this.message = status_bar[0];\n",
       "}\n",
       "\n",
       "mpl.figure.prototype.request_resize = function(x_pixels, y_pixels) {\n",
       "    // Request matplotlib to resize the figure. Matplotlib will then trigger a resize in the client,\n",
       "    // which will in turn request a refresh of the image.\n",
       "    this.send_message('resize', {'width': x_pixels, 'height': y_pixels});\n",
       "}\n",
       "\n",
       "mpl.figure.prototype.send_message = function(type, properties) {\n",
       "    properties['type'] = type;\n",
       "    properties['figure_id'] = this.id;\n",
       "    this.ws.send(JSON.stringify(properties));\n",
       "}\n",
       "\n",
       "mpl.figure.prototype.send_draw_message = function() {\n",
       "    if (!this.waiting) {\n",
       "        this.waiting = true;\n",
       "        this.ws.send(JSON.stringify({type: \"draw\", figure_id: this.id}));\n",
       "    }\n",
       "}\n",
       "\n",
       "\n",
       "mpl.figure.prototype.handle_save = function(fig, msg) {\n",
       "    var format_dropdown = fig.format_dropdown;\n",
       "    var format = format_dropdown.options[format_dropdown.selectedIndex].value;\n",
       "    fig.ondownload(fig, format);\n",
       "}\n",
       "\n",
       "\n",
       "mpl.figure.prototype.handle_resize = function(fig, msg) {\n",
       "    var size = msg['size'];\n",
       "    if (size[0] != fig.canvas.width || size[1] != fig.canvas.height) {\n",
       "        fig._resize_canvas(size[0], size[1]);\n",
       "        fig.send_message(\"refresh\", {});\n",
       "    };\n",
       "}\n",
       "\n",
       "mpl.figure.prototype.handle_rubberband = function(fig, msg) {\n",
       "    var x0 = msg['x0'] / mpl.ratio;\n",
       "    var y0 = (fig.canvas.height - msg['y0']) / mpl.ratio;\n",
       "    var x1 = msg['x1'] / mpl.ratio;\n",
       "    var y1 = (fig.canvas.height - msg['y1']) / mpl.ratio;\n",
       "    x0 = Math.floor(x0) + 0.5;\n",
       "    y0 = Math.floor(y0) + 0.5;\n",
       "    x1 = Math.floor(x1) + 0.5;\n",
       "    y1 = Math.floor(y1) + 0.5;\n",
       "    var min_x = Math.min(x0, x1);\n",
       "    var min_y = Math.min(y0, y1);\n",
       "    var width = Math.abs(x1 - x0);\n",
       "    var height = Math.abs(y1 - y0);\n",
       "\n",
       "    fig.rubberband_context.clearRect(\n",
       "        0, 0, fig.canvas.width, fig.canvas.height);\n",
       "\n",
       "    fig.rubberband_context.strokeRect(min_x, min_y, width, height);\n",
       "}\n",
       "\n",
       "mpl.figure.prototype.handle_figure_label = function(fig, msg) {\n",
       "    // Updates the figure title.\n",
       "    fig.header.textContent = msg['label'];\n",
       "}\n",
       "\n",
       "mpl.figure.prototype.handle_cursor = function(fig, msg) {\n",
       "    var cursor = msg['cursor'];\n",
       "    switch(cursor)\n",
       "    {\n",
       "    case 0:\n",
       "        cursor = 'pointer';\n",
       "        break;\n",
       "    case 1:\n",
       "        cursor = 'default';\n",
       "        break;\n",
       "    case 2:\n",
       "        cursor = 'crosshair';\n",
       "        break;\n",
       "    case 3:\n",
       "        cursor = 'move';\n",
       "        break;\n",
       "    }\n",
       "    fig.rubberband_canvas.style.cursor = cursor;\n",
       "}\n",
       "\n",
       "mpl.figure.prototype.handle_message = function(fig, msg) {\n",
       "    fig.message.textContent = msg['message'];\n",
       "}\n",
       "\n",
       "mpl.figure.prototype.handle_draw = function(fig, msg) {\n",
       "    // Request the server to send over a new figure.\n",
       "    fig.send_draw_message();\n",
       "}\n",
       "\n",
       "mpl.figure.prototype.handle_image_mode = function(fig, msg) {\n",
       "    fig.image_mode = msg['mode'];\n",
       "}\n",
       "\n",
       "mpl.figure.prototype.updated_canvas_event = function() {\n",
       "    // Called whenever the canvas gets updated.\n",
       "    this.send_message(\"ack\", {});\n",
       "}\n",
       "\n",
       "// A function to construct a web socket function for onmessage handling.\n",
       "// Called in the figure constructor.\n",
       "mpl.figure.prototype._make_on_message_function = function(fig) {\n",
       "    return function socket_on_message(evt) {\n",
       "        if (evt.data instanceof Blob) {\n",
       "            /* FIXME: We get \"Resource interpreted as Image but\n",
       "             * transferred with MIME type text/plain:\" errors on\n",
       "             * Chrome.  But how to set the MIME type?  It doesn't seem\n",
       "             * to be part of the websocket stream */\n",
       "            evt.data.type = \"image/png\";\n",
       "\n",
       "            /* Free the memory for the previous frames */\n",
       "            if (fig.imageObj.src) {\n",
       "                (window.URL || window.webkitURL).revokeObjectURL(\n",
       "                    fig.imageObj.src);\n",
       "            }\n",
       "\n",
       "            fig.imageObj.src = (window.URL || window.webkitURL).createObjectURL(\n",
       "                evt.data);\n",
       "            fig.updated_canvas_event();\n",
       "            fig.waiting = false;\n",
       "            return;\n",
       "        }\n",
       "        else if (typeof evt.data === 'string' && evt.data.slice(0, 21) == \"data:image/png;base64\") {\n",
       "            fig.imageObj.src = evt.data;\n",
       "            fig.updated_canvas_event();\n",
       "            fig.waiting = false;\n",
       "            return;\n",
       "        }\n",
       "\n",
       "        var msg = JSON.parse(evt.data);\n",
       "        var msg_type = msg['type'];\n",
       "\n",
       "        // Call the  \"handle_{type}\" callback, which takes\n",
       "        // the figure and JSON message as its only arguments.\n",
       "        try {\n",
       "            var callback = fig[\"handle_\" + msg_type];\n",
       "        } catch (e) {\n",
       "            console.log(\"No handler for the '\" + msg_type + \"' message type: \", msg);\n",
       "            return;\n",
       "        }\n",
       "\n",
       "        if (callback) {\n",
       "            try {\n",
       "                // console.log(\"Handling '\" + msg_type + \"' message: \", msg);\n",
       "                callback(fig, msg);\n",
       "            } catch (e) {\n",
       "                console.log(\"Exception inside the 'handler_\" + msg_type + \"' callback:\", e, e.stack, msg);\n",
       "            }\n",
       "        }\n",
       "    };\n",
       "}\n",
       "\n",
       "// from http://stackoverflow.com/questions/1114465/getting-mouse-location-in-canvas\n",
       "mpl.findpos = function(e) {\n",
       "    //this section is from http://www.quirksmode.org/js/events_properties.html\n",
       "    var targ;\n",
       "    if (!e)\n",
       "        e = window.event;\n",
       "    if (e.target)\n",
       "        targ = e.target;\n",
       "    else if (e.srcElement)\n",
       "        targ = e.srcElement;\n",
       "    if (targ.nodeType == 3) // defeat Safari bug\n",
       "        targ = targ.parentNode;\n",
       "\n",
       "    // jQuery normalizes the pageX and pageY\n",
       "    // pageX,Y are the mouse positions relative to the document\n",
       "    // offset() returns the position of the element relative to the document\n",
       "    var x = e.pageX - $(targ).offset().left;\n",
       "    var y = e.pageY - $(targ).offset().top;\n",
       "\n",
       "    return {\"x\": x, \"y\": y};\n",
       "};\n",
       "\n",
       "/*\n",
       " * return a copy of an object with only non-object keys\n",
       " * we need this to avoid circular references\n",
       " * http://stackoverflow.com/a/24161582/3208463\n",
       " */\n",
       "function simpleKeys (original) {\n",
       "  return Object.keys(original).reduce(function (obj, key) {\n",
       "    if (typeof original[key] !== 'object')\n",
       "        obj[key] = original[key]\n",
       "    return obj;\n",
       "  }, {});\n",
       "}\n",
       "\n",
       "mpl.figure.prototype.mouse_event = function(event, name) {\n",
       "    var canvas_pos = mpl.findpos(event)\n",
       "\n",
       "    if (name === 'button_press')\n",
       "    {\n",
       "        this.canvas.focus();\n",
       "        this.canvas_div.focus();\n",
       "    }\n",
       "\n",
       "    var x = canvas_pos.x * mpl.ratio;\n",
       "    var y = canvas_pos.y * mpl.ratio;\n",
       "\n",
       "    this.send_message(name, {x: x, y: y, button: event.button,\n",
       "                             step: event.step,\n",
       "                             guiEvent: simpleKeys(event)});\n",
       "\n",
       "    /* This prevents the web browser from automatically changing to\n",
       "     * the text insertion cursor when the button is pressed.  We want\n",
       "     * to control all of the cursor setting manually through the\n",
       "     * 'cursor' event from matplotlib */\n",
       "    event.preventDefault();\n",
       "    return false;\n",
       "}\n",
       "\n",
       "mpl.figure.prototype._key_event_extra = function(event, name) {\n",
       "    // Handle any extra behaviour associated with a key event\n",
       "}\n",
       "\n",
       "mpl.figure.prototype.key_event = function(event, name) {\n",
       "\n",
       "    // Prevent repeat events\n",
       "    if (name == 'key_press')\n",
       "    {\n",
       "        if (event.which === this._key)\n",
       "            return;\n",
       "        else\n",
       "            this._key = event.which;\n",
       "    }\n",
       "    if (name == 'key_release')\n",
       "        this._key = null;\n",
       "\n",
       "    var value = '';\n",
       "    if (event.ctrlKey && event.which != 17)\n",
       "        value += \"ctrl+\";\n",
       "    if (event.altKey && event.which != 18)\n",
       "        value += \"alt+\";\n",
       "    if (event.shiftKey && event.which != 16)\n",
       "        value += \"shift+\";\n",
       "\n",
       "    value += 'k';\n",
       "    value += event.which.toString();\n",
       "\n",
       "    this._key_event_extra(event, name);\n",
       "\n",
       "    this.send_message(name, {key: value,\n",
       "                             guiEvent: simpleKeys(event)});\n",
       "    return false;\n",
       "}\n",
       "\n",
       "mpl.figure.prototype.toolbar_button_onclick = function(name) {\n",
       "    if (name == 'download') {\n",
       "        this.handle_save(this, null);\n",
       "    } else {\n",
       "        this.send_message(\"toolbar_button\", {name: name});\n",
       "    }\n",
       "};\n",
       "\n",
       "mpl.figure.prototype.toolbar_button_onmouseover = function(tooltip) {\n",
       "    this.message.textContent = tooltip;\n",
       "};\n",
       "mpl.toolbar_items = [[\"Home\", \"Reset original view\", \"fa fa-home icon-home\", \"home\"], [\"Back\", \"Back to previous view\", \"fa fa-arrow-left icon-arrow-left\", \"back\"], [\"Forward\", \"Forward to next view\", \"fa fa-arrow-right icon-arrow-right\", \"forward\"], [\"\", \"\", \"\", \"\"], [\"Pan\", \"Pan axes with left mouse, zoom with right\", \"fa fa-arrows icon-move\", \"pan\"], [\"Zoom\", \"Zoom to rectangle\", \"fa fa-square-o icon-check-empty\", \"zoom\"], [\"\", \"\", \"\", \"\"], [\"Download\", \"Download plot\", \"fa fa-floppy-o icon-save\", \"download\"]];\n",
       "\n",
       "mpl.extensions = [\"eps\", \"jpeg\", \"pdf\", \"png\", \"ps\", \"raw\", \"svg\", \"tif\"];\n",
       "\n",
       "mpl.default_extension = \"png\";var comm_websocket_adapter = function(comm) {\n",
       "    // Create a \"websocket\"-like object which calls the given IPython comm\n",
       "    // object with the appropriate methods. Currently this is a non binary\n",
       "    // socket, so there is still some room for performance tuning.\n",
       "    var ws = {};\n",
       "\n",
       "    ws.close = function() {\n",
       "        comm.close()\n",
       "    };\n",
       "    ws.send = function(m) {\n",
       "        //console.log('sending', m);\n",
       "        comm.send(m);\n",
       "    };\n",
       "    // Register the callback with on_msg.\n",
       "    comm.on_msg(function(msg) {\n",
       "        //console.log('receiving', msg['content']['data'], msg);\n",
       "        // Pass the mpl event to the overridden (by mpl) onmessage function.\n",
       "        ws.onmessage(msg['content']['data'])\n",
       "    });\n",
       "    return ws;\n",
       "}\n",
       "\n",
       "mpl.mpl_figure_comm = function(comm, msg) {\n",
       "    // This is the function which gets called when the mpl process\n",
       "    // starts-up an IPython Comm through the \"matplotlib\" channel.\n",
       "\n",
       "    var id = msg.content.data.id;\n",
       "    // Get hold of the div created by the display call when the Comm\n",
       "    // socket was opened in Python.\n",
       "    var element = $(\"#\" + id);\n",
       "    var ws_proxy = comm_websocket_adapter(comm)\n",
       "\n",
       "    function ondownload(figure, format) {\n",
       "        window.open(figure.imageObj.src);\n",
       "    }\n",
       "\n",
       "    var fig = new mpl.figure(id, ws_proxy,\n",
       "                           ondownload,\n",
       "                           element.get(0));\n",
       "\n",
       "    // Call onopen now - mpl needs it, as it is assuming we've passed it a real\n",
       "    // web socket which is closed, not our websocket->open comm proxy.\n",
       "    ws_proxy.onopen();\n",
       "\n",
       "    fig.parent_element = element.get(0);\n",
       "    fig.cell_info = mpl.find_output_cell(\"<div id='\" + id + \"'></div>\");\n",
       "    if (!fig.cell_info) {\n",
       "        console.error(\"Failed to find cell for figure\", id, fig);\n",
       "        return;\n",
       "    }\n",
       "\n",
       "    var output_index = fig.cell_info[2]\n",
       "    var cell = fig.cell_info[0];\n",
       "\n",
       "};\n",
       "\n",
       "mpl.figure.prototype.handle_close = function(fig, msg) {\n",
       "    var width = fig.canvas.width/mpl.ratio\n",
       "    fig.root.unbind('remove')\n",
       "\n",
       "    // Update the output cell to use the data from the current canvas.\n",
       "    fig.push_to_output();\n",
       "    var dataURL = fig.canvas.toDataURL();\n",
       "    // Re-enable the keyboard manager in IPython - without this line, in FF,\n",
       "    // the notebook keyboard shortcuts fail.\n",
       "    IPython.keyboard_manager.enable()\n",
       "    $(fig.parent_element).html('<img src=\"' + dataURL + '\" width=\"' + width + '\">');\n",
       "    fig.close_ws(fig, msg);\n",
       "}\n",
       "\n",
       "mpl.figure.prototype.close_ws = function(fig, msg){\n",
       "    fig.send_message('closing', msg);\n",
       "    // fig.ws.close()\n",
       "}\n",
       "\n",
       "mpl.figure.prototype.push_to_output = function(remove_interactive) {\n",
       "    // Turn the data on the canvas into data in the output cell.\n",
       "    var width = this.canvas.width/mpl.ratio\n",
       "    var dataURL = this.canvas.toDataURL();\n",
       "    this.cell_info[1]['text/html'] = '<img src=\"' + dataURL + '\" width=\"' + width + '\">';\n",
       "}\n",
       "\n",
       "mpl.figure.prototype.updated_canvas_event = function() {\n",
       "    // Tell IPython that the notebook contents must change.\n",
       "    IPython.notebook.set_dirty(true);\n",
       "    this.send_message(\"ack\", {});\n",
       "    var fig = this;\n",
       "    // Wait a second, then push the new image to the DOM so\n",
       "    // that it is saved nicely (might be nice to debounce this).\n",
       "    setTimeout(function () { fig.push_to_output() }, 1000);\n",
       "}\n",
       "\n",
       "mpl.figure.prototype._init_toolbar = function() {\n",
       "    var fig = this;\n",
       "\n",
       "    var nav_element = $('<div/>')\n",
       "    nav_element.attr('style', 'width: 100%');\n",
       "    this.root.append(nav_element);\n",
       "\n",
       "    // Define a callback function for later on.\n",
       "    function toolbar_event(event) {\n",
       "        return fig.toolbar_button_onclick(event['data']);\n",
       "    }\n",
       "    function toolbar_mouse_event(event) {\n",
       "        return fig.toolbar_button_onmouseover(event['data']);\n",
       "    }\n",
       "\n",
       "    for(var toolbar_ind in mpl.toolbar_items){\n",
       "        var name = mpl.toolbar_items[toolbar_ind][0];\n",
       "        var tooltip = mpl.toolbar_items[toolbar_ind][1];\n",
       "        var image = mpl.toolbar_items[toolbar_ind][2];\n",
       "        var method_name = mpl.toolbar_items[toolbar_ind][3];\n",
       "\n",
       "        if (!name) { continue; };\n",
       "\n",
       "        var button = $('<button class=\"btn btn-default\" href=\"#\" title=\"' + name + '\"><i class=\"fa ' + image + ' fa-lg\"></i></button>');\n",
       "        button.click(method_name, toolbar_event);\n",
       "        button.mouseover(tooltip, toolbar_mouse_event);\n",
       "        nav_element.append(button);\n",
       "    }\n",
       "\n",
       "    // Add the status bar.\n",
       "    var status_bar = $('<span class=\"mpl-message\" style=\"text-align:right; float: right;\"/>');\n",
       "    nav_element.append(status_bar);\n",
       "    this.message = status_bar[0];\n",
       "\n",
       "    // Add the close button to the window.\n",
       "    var buttongrp = $('<div class=\"btn-group inline pull-right\"></div>');\n",
       "    var button = $('<button class=\"btn btn-mini btn-primary\" href=\"#\" title=\"Stop Interaction\"><i class=\"fa fa-power-off icon-remove icon-large\"></i></button>');\n",
       "    button.click(function (evt) { fig.handle_close(fig, {}); } );\n",
       "    button.mouseover('Stop Interaction', toolbar_mouse_event);\n",
       "    buttongrp.append(button);\n",
       "    var titlebar = this.root.find($('.ui-dialog-titlebar'));\n",
       "    titlebar.prepend(buttongrp);\n",
       "}\n",
       "\n",
       "mpl.figure.prototype._root_extra_style = function(el){\n",
       "    var fig = this\n",
       "    el.on(\"remove\", function(){\n",
       "\tfig.close_ws(fig, {});\n",
       "    });\n",
       "}\n",
       "\n",
       "mpl.figure.prototype._canvas_extra_style = function(el){\n",
       "    // this is important to make the div 'focusable\n",
       "    el.attr('tabindex', 0)\n",
       "    // reach out to IPython and tell the keyboard manager to turn it's self\n",
       "    // off when our div gets focus\n",
       "\n",
       "    // location in version 3\n",
       "    if (IPython.notebook.keyboard_manager) {\n",
       "        IPython.notebook.keyboard_manager.register_events(el);\n",
       "    }\n",
       "    else {\n",
       "        // location in version 2\n",
       "        IPython.keyboard_manager.register_events(el);\n",
       "    }\n",
       "\n",
       "}\n",
       "\n",
       "mpl.figure.prototype._key_event_extra = function(event, name) {\n",
       "    var manager = IPython.notebook.keyboard_manager;\n",
       "    if (!manager)\n",
       "        manager = IPython.keyboard_manager;\n",
       "\n",
       "    // Check for shift+enter\n",
       "    if (event.shiftKey && event.which == 13) {\n",
       "        this.canvas_div.blur();\n",
       "        event.shiftKey = false;\n",
       "        // Send a \"J\" for go to next cell\n",
       "        event.which = 74;\n",
       "        event.keyCode = 74;\n",
       "        manager.command_mode();\n",
       "        manager.handle_keydown(event);\n",
       "    }\n",
       "}\n",
       "\n",
       "mpl.figure.prototype.handle_save = function(fig, msg) {\n",
       "    fig.ondownload(fig, null);\n",
       "}\n",
       "\n",
       "\n",
       "mpl.find_output_cell = function(html_output) {\n",
       "    // Return the cell and output element which can be found *uniquely* in the notebook.\n",
       "    // Note - this is a bit hacky, but it is done because the \"notebook_saving.Notebook\"\n",
       "    // IPython event is triggered only after the cells have been serialised, which for\n",
       "    // our purposes (turning an active figure into a static one), is too late.\n",
       "    var cells = IPython.notebook.get_cells();\n",
       "    var ncells = cells.length;\n",
       "    for (var i=0; i<ncells; i++) {\n",
       "        var cell = cells[i];\n",
       "        if (cell.cell_type === 'code'){\n",
       "            for (var j=0; j<cell.output_area.outputs.length; j++) {\n",
       "                var data = cell.output_area.outputs[j];\n",
       "                if (data.data) {\n",
       "                    // IPython >= 3 moved mimebundle to data attribute of output\n",
       "                    data = data.data;\n",
       "                }\n",
       "                if (data['text/html'] == html_output) {\n",
       "                    return [cell, data, j];\n",
       "                }\n",
       "            }\n",
       "        }\n",
       "    }\n",
       "}\n",
       "\n",
       "// Register the function which deals with the matplotlib target/channel.\n",
       "// The kernel may be null if the page has been refreshed.\n",
       "if (IPython.notebook.kernel != null) {\n",
       "    IPython.notebook.kernel.comm_manager.register_target('matplotlib', mpl.mpl_figure_comm);\n",
       "}\n"
      ],
      "text/plain": [
       "<IPython.core.display.Javascript object>"
      ]
     },
     "metadata": {},
     "output_type": "display_data"
    },
    {
     "data": {
      "text/html": [
       "<img src=\"data:image/png;base64,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\" width=\"900\">"
      ],
      "text/plain": [
       "<IPython.core.display.HTML object>"
      ]
     },
     "metadata": {},
     "output_type": "display_data"
    }
   ],
   "source": [
    "p = cell_opt.coords.calc_perimeter(cell_opt.data.data_dict['storm']['x'], cell_opt.data.data_dict['storm']['y'])\n",
    "x = np.linspace(0, cell_opt.circumference, num=10000)\n",
    "y = running_sum(p, np.ones_like(p), x, sigma=0.02)\n",
    "\n",
    "plt.figure(figsize=(9, 5))\n",
    "plt.plot(x, y)\n",
    "plt.xlabel('Distance (px)')\n",
    "plt.ylabel('localization density')\n",
    "plt.tight_layout()"
   ]
  },
  {
   "cell_type": "markdown",
   "metadata": {},
   "source": [
    "Each coordinate pair of all localizations are calculated to distance along the perimeter. Then, the result is convoluted with  a gaussian running sum window (effectively an 1D STORM reconstruction)."
   ]
  }
 ],
 "metadata": {
  "kernelspec": {
   "display_name": "py_main",
   "language": "python",
   "name": "py_main"
  },
  "language_info": {
   "codemirror_mode": {
    "name": "ipython",
    "version": 3
   },
   "file_extension": ".py",
   "mimetype": "text/x-python",
   "name": "python",
   "nbconvert_exporter": "python",
   "pygments_lexer": "ipython3",
   "version": "3.6.5"
  },
  "varInspector": {
   "cols": {
    "lenName": 16,
    "lenType": 16,
    "lenVar": 40
   },
   "kernels_config": {
    "python": {
     "delete_cmd_postfix": "",
     "delete_cmd_prefix": "del ",
     "library": "var_list.py",
     "varRefreshCmd": "print(var_dic_list())"
    },
    "r": {
     "delete_cmd_postfix": ") ",
     "delete_cmd_prefix": "rm(",
     "library": "var_list.r",
     "varRefreshCmd": "cat(var_dic_list()) "
    }
   },
   "oldHeight": 705,
   "position": {
    "height": "40px",
    "left": "1304px",
    "right": "268px",
    "top": "121px",
    "width": "350px"
   },
   "types_to_exclude": [
    "module",
    "function",
    "builtin_function_or_method",
    "instance",
    "_Feature"
   ],
   "varInspector_section_display": "none",
   "window_display": false
  },
  "widgets": {
   "application/vnd.jupyter.widget-state+json": {
    "state": {
     "0089d92aadc6488b9fe78755816d623d": {
      "model_module": "@jupyter-widgets/base",
      "model_module_version": "1.1.0",
      "model_name": "LayoutModel",
      "state": {}
     },
     "010fa38bd0e04b739babba8cd5137148": {
      "model_module": "@jupyter-widgets/controls",
      "model_module_version": "1.4.0",
      "model_name": "DescriptionStyleModel",
      "state": {
       "description_width": ""
      }
     },
     "016e0fe52177407285597df8708bed49": {
      "model_module": "@jupyter-widgets/controls",
      "model_module_version": "1.4.0",
      "model_name": "HBoxModel",
      "state": {
       "children": [
        "IPY_MODEL_acccbe794b984762b0ad9e170a4257fc",
        "IPY_MODEL_7b12f5ea33d040f59374506bce02007c",
        "IPY_MODEL_eaf46382df7f424bae8f1daed267c244",
        "IPY_MODEL_4728379167374e25b3ebcdb1f32999a9",
        "IPY_MODEL_78af389305f94d1b8bdd21acfe0aa135",
        "IPY_MODEL_0b88cfcb2187483f9ae3a3f59dc800a6"
       ],
       "layout": "IPY_MODEL_3fb6abba1f7b4880891701ad6032e27d"
      }
     },
     "017eb9ffdb6c498c8ce6d9aee3c4ead3": {
      "model_module": "@jupyter-widgets/controls",
      "model_module_version": "1.4.0",
      "model_name": "ButtonStyleModel",
      "state": {}
     },
     "01dd56afbfc446189a474f8dcccd0157": {
      "model_module": "@jupyter-widgets/controls",
      "model_module_version": "1.4.0",
      "model_name": "ButtonStyleModel",
      "state": {}
     },
     "0253a582a0974fe88d3d09542f980031": {
      "model_module": "@jupyter-widgets/controls",
      "model_module_version": "1.4.0",
      "model_name": "SliderStyleModel",
      "state": {
       "description_width": ""
      }
     },
     "03943ac5be5f4aef9c0d7bc6505ee048": {
      "model_module": "@jupyter-widgets/controls",
      "model_module_version": "1.4.0",
      "model_name": "ButtonStyleModel",
      "state": {}
     },
     "03a8424bf754488f821821779d4f8484": {
      "model_module": "@jupyter-widgets/controls",
      "model_module_version": "1.4.0",
      "model_name": "ButtonModel",
      "state": {
       "description": "First",
       "layout": "IPY_MODEL_1d7f50da54b245dea266bbaa1be50e62",
       "style": "IPY_MODEL_427c9b8524124eda9a6b7cdf6eac3878"
      }
     },
     "03bff4c3d47f40b9881c51aafc10f890": {
      "model_module": "@jupyter-widgets/controls",
      "model_module_version": "1.4.0",
      "model_name": "ButtonStyleModel",
      "state": {}
     },
     "04198f7e1d634405b147e5803f8960a0": {
      "model_module": "@jupyter-widgets/controls",
      "model_module_version": "1.4.0",
      "model_name": "BoundedIntTextModel",
      "state": {
       "layout": "IPY_MODEL_ccda32d3f54c405882bb694d963792a8",
       "max": 60,
       "style": "IPY_MODEL_56450492d81441f7b26ed00198a93ad3"
      }
     },
     "043a07eba70540cca27037a680dd5894": {
      "model_module": "@jupyter-widgets/controls",
      "model_module_version": "1.4.0",
      "model_name": "ButtonStyleModel",
      "state": {}
     },
     "047f3dd2a7484bd78a46042561a0f4a2": {
      "model_module": "@jupyter-widgets/controls",
      "model_module_version": "1.4.0",
      "model_name": "SliderStyleModel",
      "state": {
       "description_width": ""
      }
     },
     "04f6e3b54a244070b13c54bb7855bab0": {
      "model_module": "@jupyter-widgets/base",
      "model_module_version": "1.1.0",
      "model_name": "LayoutModel",
      "state": {}
     },
     "06122e4e6ebd4f4f9f1b3a95d7c13611": {
      "model_module": "@jupyter-widgets/controls",
      "model_module_version": "1.4.0",
      "model_name": "ButtonModel",
      "state": {
       "description": "Last",
       "layout": "IPY_MODEL_ae550641df2d4ec99f42fe2ddc176250",
       "style": "IPY_MODEL_a1c47c7af0004a58b08cc71e44897646"
      }
     },
     "0623fbaa344d4476a653f6e3a4cdddd4": {
      "model_module": "@jupyter-widgets/controls",
      "model_module_version": "1.4.0",
      "model_name": "SliderStyleModel",
      "state": {
       "description_width": ""
      }
     },
     "06bbc191e9f04ac3b2ec982abe7c4757": {
      "model_module": "@jupyter-widgets/controls",
      "model_module_version": "1.4.0",
      "model_name": "ButtonModel",
      "state": {
       "description": "First",
       "layout": "IPY_MODEL_c78a27cc866c416b8dd3c13cc0e78631",
       "style": "IPY_MODEL_3a5327bda5664cd0b42a6b3b59693fb8"
      }
     },
     "06d2f4a657ed46259b8b2d5aa9bf2f7e": {
      "model_module": "@jupyter-widgets/base",
      "model_module_version": "1.1.0",
      "model_name": "LayoutModel",
      "state": {
       "width": "99%"
      }
     },
     "07983b99bb9144089cc13e3fc59827d4": {
      "model_module": "@jupyter-widgets/base",
      "model_module_version": "1.1.0",
      "model_name": "LayoutModel",
      "state": {
       "width": "99%"
      }
     },
     "07d794e87cb04b419fe37eadc2caeb0c": {
      "model_module": "@jupyter-widgets/base",
      "model_module_version": "1.1.0",
      "model_name": "LayoutModel",
      "state": {
       "width": "99%"
      }
     },
     "07eb5a3e31df4056b173a8363a8fa544": {
      "model_module": "@jupyter-widgets/base",
      "model_module_version": "1.1.0",
      "model_name": "LayoutModel",
      "state": {}
     },
     "07fe915201dd4a82a8beb8dbfbe6f051": {
      "model_module": "@jupyter-widgets/base",
      "model_module_version": "1.1.0",
      "model_name": "LayoutModel",
      "state": {}
     },
     "0867544c9b2e42f7bce0230deb08ebad": {
      "model_module": "@jupyter-widgets/base",
      "model_module_version": "1.1.0",
      "model_name": "LayoutModel",
      "state": {}
     },
     "092ea27d225e4b02b581b34e9614b3d0": {
      "model_module": "@jupyter-widgets/base",
      "model_module_version": "1.1.0",
      "model_name": "LayoutModel",
      "state": {}
     },
     "09759234d72f4c5f8a73524742824715": {
      "model_module": "@jupyter-widgets/controls",
      "model_module_version": "1.4.0",
      "model_name": "ButtonStyleModel",
      "state": {}
     },
     "0a0b0b8d24ef433b8c7e673325b67a78": {
      "model_module": "@jupyter-widgets/base",
      "model_module_version": "1.1.0",
      "model_name": "LayoutModel",
      "state": {}
     },
     "0a3b62d9f8e0443e819310b809853c70": {
      "model_module": "@jupyter-widgets/base",
      "model_module_version": "1.1.0",
      "model_name": "LayoutModel",
      "state": {}
     },
     "0ac2311acc1442d8b578fb4bc0c18167": {
      "model_module": "@jupyter-widgets/controls",
      "model_module_version": "1.4.0",
      "model_name": "DescriptionStyleModel",
      "state": {
       "description_width": ""
      }
     },
     "0adb8befe79044ff93d3852f55c74314": {
      "model_module": "@jupyter-widgets/controls",
      "model_module_version": "1.4.0",
      "model_name": "BoundedIntTextModel",
      "state": {
       "layout": "IPY_MODEL_bf1122ceb1ad4a77bda54a0afba23b26",
       "max": 8,
       "style": "IPY_MODEL_9a457381d95b44f6927c5e59db84c849"
      }
     },
     "0aee852c11024054a42434457196beef": {
      "model_module": "@jupyter-widgets/controls",
      "model_module_version": "1.4.0",
      "model_name": "ButtonStyleModel",
      "state": {}
     },
     "0b10f585f1884380a9f28118e5ac5333": {
      "model_module": "@jupyter-widgets/controls",
      "model_module_version": "1.4.0",
      "model_name": "ButtonStyleModel",
      "state": {}
     },
     "0b5d2f1e5d0941ab80779eeef9aae1f9": {
      "model_module": "@jupyter-widgets/controls",
      "model_module_version": "1.4.0",
      "model_name": "ButtonModel",
      "state": {
       "description": "Last",
       "layout": "IPY_MODEL_94ce7f860cdd451aa49d6333ce6cae05",
       "style": "IPY_MODEL_ee87a076ce584537be3842f0b62444d4"
      }
     },
     "0b88cfcb2187483f9ae3a3f59dc800a6": {
      "model_module": "@jupyter-widgets/controls",
      "model_module_version": "1.4.0",
      "model_name": "ButtonModel",
      "state": {
       "description": "Random",
       "layout": "IPY_MODEL_5443acbe279648b5a447dcd56e6db40c",
       "style": "IPY_MODEL_d2fa0ac54d244a218a41dffff9d3cca4"
      }
     },
     "0bcd6360271e467683e93778bc2a94ee": {
      "model_module": "@jupyter-widgets/controls",
      "model_module_version": "1.4.0",
      "model_name": "IntSliderModel",
      "state": {
       "layout": "IPY_MODEL_77a90a3ea9484bb78fc28a1e3688ba42",
       "max": 8,
       "readout": false,
       "style": "IPY_MODEL_6b5f1d6b930445b286411b9c1ca9f443"
      }
     },
     "0ce1d69edb5640dcb6fb4e7f6afe94eb": {
      "model_module": "@jupyter-widgets/controls",
      "model_module_version": "1.4.0",
      "model_name": "VBoxModel",
      "state": {
       "children": [
        "IPY_MODEL_b78c009a972947c294324669db11b0a5",
        "IPY_MODEL_5d0d43b0bd2c4cf6bf2dcc903d57bcaa"
       ],
       "layout": "IPY_MODEL_3d05d9244fc74f4fa4a7a098e82204f6"
      }
     },
     "0ced38be1daf499aaab9a4f50e43df51": {
      "model_module": "@jupyter-widgets/controls",
      "model_module_version": "1.4.0",
      "model_name": "ButtonModel",
      "state": {
       "description": "Next",
       "layout": "IPY_MODEL_88975caf254749a0a65c6d6b11acfb16",
       "style": "IPY_MODEL_6f497712d4c64be08e7ecd55e975281d"
      }
     },
     "0d284061ca674fa18cf5d033a21944c6": {
      "model_module": "@jupyter-widgets/controls",
      "model_module_version": "1.4.0",
      "model_name": "ButtonStyleModel",
      "state": {}
     },
     "0db9c6f6acca4c039b88472e8f00f1db": {
      "model_module": "@jupyter-widgets/base",
      "model_module_version": "1.1.0",
      "model_name": "LayoutModel",
      "state": {}
     },
     "0e16e78a8611499bb78714e3e11320bc": {
      "model_module": "@jupyter-widgets/base",
      "model_module_version": "1.1.0",
      "model_name": "LayoutModel",
      "state": {}
     },
     "0e2a9153637d4bc8ac9928588760e1e8": {
      "model_module": "@jupyter-widgets/controls",
      "model_module_version": "1.4.0",
      "model_name": "ButtonStyleModel",
      "state": {}
     },
     "0e486e253d2645b7ac0264a51af4cece": {
      "model_module": "@jupyter-widgets/controls",
      "model_module_version": "1.4.0",
      "model_name": "LinkModel",
      "state": {
       "source": [
        "IPY_MODEL_1f94b5b08a864c1a95448dd9d2df40e3",
        "value"
       ],
       "target": [
        "IPY_MODEL_b67ad5bb34aa41158312c98fced8b553",
        "value"
       ]
      }
     },
     "0e6e7f972a7945edab16ddb97cbed300": {
      "model_module": "@jupyter-widgets/controls",
      "model_module_version": "1.4.0",
      "model_name": "LinkModel",
      "state": {
       "source": [
        "IPY_MODEL_d3e985f9692e41a3836fd2be3a666b81",
        "value"
       ],
       "target": [
        "IPY_MODEL_6e7a4103979d4877beebcee285d2eb02",
        "value"
       ]
      }
     },
     "0ec4db37ffeb4fe4afd95426ebfa45ac": {
      "model_module": "@jupyter-widgets/base",
      "model_module_version": "1.1.0",
      "model_name": "LayoutModel",
      "state": {}
     },
     "0f0eb5be9e244bf381f3768573724ae8": {
      "model_module": "@jupyter-widgets/controls",
      "model_module_version": "1.4.0",
      "model_name": "LinkModel",
      "state": {
       "source": [
        "IPY_MODEL_f324dd0425ad44b9ac5c852fe98f3a02",
        "value"
       ],
       "target": [
        "IPY_MODEL_3103048d52d54ff69453226def89ac6b",
        "value"
       ]
      }
     },
     "0fadabb6f03543058a1ef8be417b82a7": {
      "model_module": "@jupyter-widgets/controls",
      "model_module_version": "1.4.0",
      "model_name": "ButtonModel",
      "state": {
       "description": "Next",
       "layout": "IPY_MODEL_6826c92b87d543b7b892cc117414a988",
       "style": "IPY_MODEL_0e2a9153637d4bc8ac9928588760e1e8"
      }
     },
     "0fce0b97c4e74ddd9b792bd2ace0f9c6": {
      "model_module": "@jupyter-widgets/controls",
      "model_module_version": "1.4.0",
      "model_name": "IntSliderModel",
      "state": {
       "layout": "IPY_MODEL_331dee49173e434098e0b525b38a2e1e",
       "max": 61,
       "readout": false,
       "style": "IPY_MODEL_3bb6ce95f3ec4f7988005f0a086122ed"
      }
     },
     "115b526e2632477788dbcfe0db370481": {
      "model_module": "@jupyter-widgets/base",
      "model_module_version": "1.1.0",
      "model_name": "LayoutModel",
      "state": {}
     },
     "115d813d138047268fe55fccd5dfb46e": {
      "model_module": "@jupyter-widgets/base",
      "model_module_version": "1.1.0",
      "model_name": "LayoutModel",
      "state": {}
     },
     "11a2708adc9b4163ad657dd86a11935b": {
      "model_module": "@jupyter-widgets/controls",
      "model_module_version": "1.4.0",
      "model_name": "ButtonModel",
      "state": {
       "description": "First",
       "layout": "IPY_MODEL_70aca00a082041989e521ebba296e456",
       "style": "IPY_MODEL_0b10f585f1884380a9f28118e5ac5333"
      }
     },
     "11a30716dfed4e3181187f7f477d55ec": {
      "model_module": "@jupyter-widgets/controls",
      "model_module_version": "1.4.0",
      "model_name": "ButtonStyleModel",
      "state": {}
     },
     "12144be28abe4c9b832b81332b888ebe": {
      "model_module": "@jupyter-widgets/base",
      "model_module_version": "1.1.0",
      "model_name": "LayoutModel",
      "state": {
       "width": "99%"
      }
     },
     "124f5ac903e940de9e964c1f6d36c0ef": {
      "model_module": "@jupyter-widgets/base",
      "model_module_version": "1.1.0",
      "model_name": "LayoutModel",
      "state": {}
     },
     "134c263a3dbc494ebad317532263bf6d": {
      "model_module": "@jupyter-widgets/base",
      "model_module_version": "1.1.0",
      "model_name": "LayoutModel",
      "state": {}
     },
     "14d6f6bb742e4483be29a96740f08735": {
      "model_module": "@jupyter-widgets/controls",
      "model_module_version": "1.4.0",
      "model_name": "ButtonModel",
      "state": {
       "description": "Last",
       "layout": "IPY_MODEL_2ec8ce72435d4a6e92dcbfe1ff7943ff",
       "style": "IPY_MODEL_226fd992b0844660a4ab005173bc4ed5"
      }
     },
     "14fbed9c01af4df2af94c9d91326de94": {
      "model_module": "@jupyter-widgets/controls",
      "model_module_version": "1.4.0",
      "model_name": "HBoxModel",
      "state": {
       "children": [
        "IPY_MODEL_ffb548f86e6946168b7f1246fd601643",
        "IPY_MODEL_3a98712c15b946c2be15db2843a56b52",
        "IPY_MODEL_f0fef5f023f046dfb0270ff55d65e9d3",
        "IPY_MODEL_195fb2b139cb4f1b9a5b8aa055d357a2",
        "IPY_MODEL_e158601df74f4798ac3f4d4087c85a2d",
        "IPY_MODEL_18f68b10f304429ca3816491845f7441"
       ],
       "layout": "IPY_MODEL_90ba96cd0e344b1da7491f1d40060711"
      }
     },
     "15ce7d86ea914a06ae574b4a1b864473": {
      "model_module": "@jupyter-widgets/controls",
      "model_module_version": "1.4.0",
      "model_name": "DescriptionStyleModel",
      "state": {
       "description_width": ""
      }
     },
     "165b8fb9f2c841938a5702e4b07cce22": {
      "model_module": "@jupyter-widgets/base",
      "model_module_version": "1.1.0",
      "model_name": "LayoutModel",
      "state": {}
     },
     "16913ba1b83f43b38cab94cfe41d0e2a": {
      "model_module": "@jupyter-widgets/controls",
      "model_module_version": "1.4.0",
      "model_name": "SliderStyleModel",
      "state": {
       "description_width": ""
      }
     },
     "175e3815ba4d47ffb3821d7a3c1b3957": {
      "model_module": "@jupyter-widgets/controls",
      "model_module_version": "1.4.0",
      "model_name": "IntSliderModel",
      "state": {
       "layout": "IPY_MODEL_12144be28abe4c9b832b81332b888ebe",
       "max": 60,
       "readout": false,
       "style": "IPY_MODEL_fc18aa9d95f74f9aa7fea6081416c103",
       "value": 27
      }
     },
     "17a5322b641b4d7ba66ef81272df40ba": {
      "model_module": "@jupyter-widgets/controls",
      "model_module_version": "1.4.0",
      "model_name": "DescriptionStyleModel",
      "state": {
       "description_width": ""
      }
     },
     "17b8d698da444edcbebb88f624d0ab59": {
      "model_module": "@jupyter-widgets/controls",
      "model_module_version": "1.4.0",
      "model_name": "ButtonStyleModel",
      "state": {}
     },
     "182316c91db44344b796d1cbbaf62997": {
      "model_module": "@jupyter-widgets/controls",
      "model_module_version": "1.4.0",
      "model_name": "ButtonModel",
      "state": {
       "description": "Prev",
       "layout": "IPY_MODEL_5c13f648387741e3be75e25be7e0ff11",
       "style": "IPY_MODEL_610e44d92e4a4e949b2d7fb5b6e1b196"
      }
     },
     "18525dc38ed54c22b0a7917dd72faa79": {
      "model_module": "@jupyter-widgets/controls",
      "model_module_version": "1.4.0",
      "model_name": "ButtonModel",
      "state": {
       "description": "Last",
       "layout": "IPY_MODEL_56df2e997dcd4ff3bc79513273ee9921",
       "style": "IPY_MODEL_ee536f45815846cd9c2de494db302a03"
      }
     },
     "1887da41cd2a43ebb9457f237e79e2e6": {
      "model_module": "@jupyter-widgets/controls",
      "model_module_version": "1.4.0",
      "model_name": "ButtonModel",
      "state": {
       "description": "Random",
       "layout": "IPY_MODEL_5bd297fb83b0408786a6c3ab81ab55de",
       "style": "IPY_MODEL_ee82cc2040604df496d0dcdfcecb7ddd"
      }
     },
     "18f68b10f304429ca3816491845f7441": {
      "model_module": "@jupyter-widgets/controls",
      "model_module_version": "1.4.0",
      "model_name": "ButtonModel",
      "state": {
       "description": "Random",
       "layout": "IPY_MODEL_fe152f5dc6cd4b15975de02d5e394090",
       "style": "IPY_MODEL_1db9881c6c674a12aa9adeeb19c0c4e4"
      }
     },
     "195fb2b139cb4f1b9a5b8aa055d357a2": {
      "model_module": "@jupyter-widgets/controls",
      "model_module_version": "1.4.0",
      "model_name": "ButtonModel",
      "state": {
       "description": "Next",
       "layout": "IPY_MODEL_b2303e2b27c942a09140534e40e87160",
       "style": "IPY_MODEL_296eb5b780e048518dc254082f9c5b20"
      }
     },
     "197c18348e624db2bff9718bcc26b7fa": {
      "model_module": "@jupyter-widgets/base",
      "model_module_version": "1.1.0",
      "model_name": "LayoutModel",
      "state": {}
     },
     "19a3972fc3d84fa991eae8cde9f9914f": {
      "model_module": "@jupyter-widgets/base",
      "model_module_version": "1.1.0",
      "model_name": "LayoutModel",
      "state": {}
     },
     "1a7140cebf744c9a96744bc036869c48": {
      "model_module": "@jupyter-widgets/base",
      "model_module_version": "1.1.0",
      "model_name": "LayoutModel",
      "state": {
       "width": "99%"
      }
     },
     "1ac13c7af9954d62aa09edbd15b3e287": {
      "model_module": "@jupyter-widgets/base",
      "model_module_version": "1.1.0",
      "model_name": "LayoutModel",
      "state": {}
     },
     "1ad60be24d494152b3fc68621104563c": {
      "model_module": "@jupyter-widgets/base",
      "model_module_version": "1.1.0",
      "model_name": "LayoutModel",
      "state": {
       "width": "99%"
      }
     },
     "1b26ac34f089433b863b54d01de3a257": {
      "model_module": "@jupyter-widgets/base",
      "model_module_version": "1.1.0",
      "model_name": "LayoutModel",
      "state": {}
     },
     "1b6b9a3024a0431b91043408de71540b": {
      "model_module": "@jupyter-widgets/base",
      "model_module_version": "1.1.0",
      "model_name": "LayoutModel",
      "state": {}
     },
     "1bae335eecae49ddbfee942cd5a6179e": {
      "model_module": "@jupyter-widgets/controls",
      "model_module_version": "1.4.0",
      "model_name": "LinkModel",
      "state": {
       "source": [
        "IPY_MODEL_4c20df655e724d7facf6712794ac2e41",
        "value"
       ],
       "target": [
        "IPY_MODEL_5d0d43b0bd2c4cf6bf2dcc903d57bcaa",
        "value"
       ]
      }
     },
     "1c1f0902c59940bfa27f3669db6a10d9": {
      "model_module": "@jupyter-widgets/controls",
      "model_module_version": "1.4.0",
      "model_name": "ButtonStyleModel",
      "state": {}
     },
     "1c366d3708404e8c8bcda3bb55e9357c": {
      "model_module": "@jupyter-widgets/controls",
      "model_module_version": "1.4.0",
      "model_name": "VBoxModel",
      "state": {
       "children": [
        "IPY_MODEL_dbdf48fbdb2744e288e6a193b8c83adc",
        "IPY_MODEL_6e7a4103979d4877beebcee285d2eb02"
       ],
       "layout": "IPY_MODEL_7e943f76918f49ef8d04aca54b3bd1ac"
      }
     },
     "1c95e5ef968d4c2687110833bb3cc4a9": {
      "model_module": "@jupyter-widgets/base",
      "model_module_version": "1.1.0",
      "model_name": "LayoutModel",
      "state": {}
     },
     "1d64c40a6d3c46ccbb96816bf11beae8": {
      "model_module": "@jupyter-widgets/controls",
      "model_module_version": "1.4.0",
      "model_name": "ButtonStyleModel",
      "state": {}
     },
     "1d7ec7a1639f4d57939010ccbea3e71a": {
      "model_module": "@jupyter-widgets/base",
      "model_module_version": "1.1.0",
      "model_name": "LayoutModel",
      "state": {}
     },
     "1d7f50da54b245dea266bbaa1be50e62": {
      "model_module": "@jupyter-widgets/base",
      "model_module_version": "1.1.0",
      "model_name": "LayoutModel",
      "state": {}
     },
     "1db9881c6c674a12aa9adeeb19c0c4e4": {
      "model_module": "@jupyter-widgets/controls",
      "model_module_version": "1.4.0",
      "model_name": "ButtonStyleModel",
      "state": {}
     },
     "1dc6ef70d4f24b579b6c11a4614c4ccc": {
      "model_module": "@jupyter-widgets/base",
      "model_module_version": "1.1.0",
      "model_name": "LayoutModel",
      "state": {}
     },
     "1ea0d1cbf84e44448b4e6589bf63dc00": {
      "model_module": "@jupyter-widgets/base",
      "model_module_version": "1.1.0",
      "model_name": "LayoutModel",
      "state": {}
     },
     "1ebb391469f24773805b73938c08fef1": {
      "model_module": "@jupyter-widgets/base",
      "model_module_version": "1.1.0",
      "model_name": "LayoutModel",
      "state": {}
     },
     "1f7eca4cb5d243a1aee3aa40f6030fcd": {
      "model_module": "@jupyter-widgets/base",
      "model_module_version": "1.1.0",
      "model_name": "LayoutModel",
      "state": {}
     },
     "1f94b5b08a864c1a95448dd9d2df40e3": {
      "model_module": "@jupyter-widgets/controls",
      "model_module_version": "1.4.0",
      "model_name": "BoundedIntTextModel",
      "state": {
       "layout": "IPY_MODEL_668e0cc85575457e83386f65457b592a",
       "max": 60,
       "style": "IPY_MODEL_67449972c67d45589fb3b625b859bd7b"
      }
     },
     "205fdddc26034253aa6d6934d77b6457": {
      "model_module": "@jupyter-widgets/base",
      "model_module_version": "1.1.0",
      "model_name": "LayoutModel",
      "state": {}
     },
     "212e5cbd8a56401f9505d661cb7f87cb": {
      "model_module": "@jupyter-widgets/controls",
      "model_module_version": "1.4.0",
      "model_name": "HTMLModel",
      "state": {
       "layout": "IPY_MODEL_e43de62a9db8458fb5f588be2f31afb0",
       "style": "IPY_MODEL_a03c29435dda415fabe3558e837a7f4c",
       "value": "100% 2920/2920 [01:56&lt;00:00, 24.99it/s]"
      }
     },
     "2130174fe1b84e35913446f8ab11b4d0": {
      "model_module": "@jupyter-widgets/base",
      "model_module_version": "1.1.0",
      "model_name": "LayoutModel",
      "state": {}
     },
     "214b9ab71514436c81de037f10dc4ba4": {
      "model_module": "@jupyter-widgets/base",
      "model_module_version": "1.1.0",
      "model_name": "LayoutModel",
      "state": {}
     },
     "2152779a41d24b42939ea298e5129024": {
      "model_module": "@jupyter-widgets/controls",
      "model_module_version": "1.4.0",
      "model_name": "ButtonModel",
      "state": {
       "description": "Prev",
       "layout": "IPY_MODEL_197c18348e624db2bff9718bcc26b7fa",
       "style": "IPY_MODEL_a662c65bf7ac4a939678a707c85da032"
      }
     },
     "218a88ad2ea9426e80a8d658e7a3f5d6": {
      "model_module": "@jupyter-widgets/controls",
      "model_module_version": "1.4.0",
      "model_name": "ButtonModel",
      "state": {
       "description": "Random",
       "layout": "IPY_MODEL_e87c4ff7588f4aabaff50c920cf6600a",
       "style": "IPY_MODEL_ae7a0632c78940dfba906d7614116d6c"
      }
     },
     "226fd992b0844660a4ab005173bc4ed5": {
      "model_module": "@jupyter-widgets/controls",
      "model_module_version": "1.4.0",
      "model_name": "ButtonStyleModel",
      "state": {}
     },
     "23aeba74cd4f4409a2f4be00d65be8f9": {
      "model_module": "@jupyter-widgets/base",
      "model_module_version": "1.1.0",
      "model_name": "LayoutModel",
      "state": {}
     },
     "23ed152c759c426a81e9d90ee1bcd044": {
      "model_module": "@jupyter-widgets/controls",
      "model_module_version": "1.4.0",
      "model_name": "LinkModel",
      "state": {
       "source": [
        "IPY_MODEL_c491d6cabc004b619cc5d837df8e645b",
        "value"
       ],
       "target": [
        "IPY_MODEL_3f8f6a85ca624e28ae754331951a1281",
        "value"
       ]
      }
     },
     "24e3115664d647998cd6a4aaf9807c00": {
      "model_module": "@jupyter-widgets/controls",
      "model_module_version": "1.4.0",
      "model_name": "LinkModel",
      "state": {
       "source": [
        "IPY_MODEL_eaf46382df7f424bae8f1daed267c244",
        "value"
       ],
       "target": [
        "IPY_MODEL_95eb3e109e8e4239b0c849810068f950",
        "value"
       ]
      }
     },
     "25258415bfad47f78a4ee3796b530d06": {
      "model_module": "@jupyter-widgets/base",
      "model_module_version": "1.1.0",
      "model_name": "LayoutModel",
      "state": {}
     },
     "25dbab6d94ec40929949b9f7e0c2e97f": {
      "model_module": "@jupyter-widgets/controls",
      "model_module_version": "1.4.0",
      "model_name": "LinkModel",
      "state": {
       "source": [
        "IPY_MODEL_0adb8befe79044ff93d3852f55c74314",
        "value"
       ],
       "target": [
        "IPY_MODEL_369d8b2146b044ffa8ae8d127294d549",
        "value"
       ]
      }
     },
     "2672d2a966564428a122f35e7a4f96cf": {
      "model_module": "@jupyter-widgets/controls",
      "model_module_version": "1.4.0",
      "model_name": "ButtonStyleModel",
      "state": {}
     },
     "26a55f933b66449db33326cc126e4277": {
      "model_module": "@jupyter-widgets/controls",
      "model_module_version": "1.4.0",
      "model_name": "ButtonStyleModel",
      "state": {}
     },
     "26aa612973eb464ab4c43f4c6b88f316": {
      "model_module": "@jupyter-widgets/controls",
      "model_module_version": "1.4.0",
      "model_name": "VBoxModel",
      "state": {
       "children": [
        "IPY_MODEL_7f3e19bc835847f8a9c962e4c8bc21b1",
        "IPY_MODEL_3103048d52d54ff69453226def89ac6b"
       ],
       "layout": "IPY_MODEL_7deaa5ef5b1f4d5299bc87398c554dc8"
      }
     },
     "26d61819b0ab43c7acf8eae8b5985db3": {
      "model_module": "@jupyter-widgets/controls",
      "model_module_version": "1.4.0",
      "model_name": "HBoxModel",
      "state": {
       "children": [
        "IPY_MODEL_e6c71f566fd346aea1e39b56ca123a06",
        "IPY_MODEL_33a1a4e489f14e688c2bd004353dfe70",
        "IPY_MODEL_965dc5d4ac414876b6c9b3afada79f15",
        "IPY_MODEL_c3f323cb274d4bb79903e8fffac75705",
        "IPY_MODEL_d7bb4094dd90419480279b5adec2f7f4",
        "IPY_MODEL_218a88ad2ea9426e80a8d658e7a3f5d6"
       ],
       "layout": "IPY_MODEL_5ee409c82b004b62b954cf49dfe39d08"
      }
     },
     "26dc4feaa7d9415e9b006604ce601078": {
      "model_module": "@jupyter-widgets/controls",
      "model_module_version": "1.4.0",
      "model_name": "ButtonStyleModel",
      "state": {}
     },
     "2734c839e764418084b5ce3fbf43d9cf": {
      "model_module": "@jupyter-widgets/controls",
      "model_module_version": "1.4.0",
      "model_name": "ButtonStyleModel",
      "state": {}
     },
     "273dfb4bb4744e17b8466033c238d73d": {
      "model_module": "@jupyter-widgets/controls",
      "model_module_version": "1.4.0",
      "model_name": "SliderStyleModel",
      "state": {
       "description_width": ""
      }
     },
     "2749b44d55194f1f97932698a02b3ce3": {
      "model_module": "@jupyter-widgets/base",
      "model_module_version": "1.1.0",
      "model_name": "LayoutModel",
      "state": {}
     },
     "278b6fba9e9944149eb1c0200239ca20": {
      "model_module": "@jupyter-widgets/controls",
      "model_module_version": "1.4.0",
      "model_name": "ButtonStyleModel",
      "state": {}
     },
     "27c5e90517e2436dbc78b50fc808d232": {
      "model_module": "@jupyter-widgets/base",
      "model_module_version": "1.1.0",
      "model_name": "LayoutModel",
      "state": {
       "width": "99%"
      }
     },
     "28690603169147c2a338bc815ec61bb5": {
      "model_module": "@jupyter-widgets/controls",
      "model_module_version": "1.4.0",
      "model_name": "ButtonModel",
      "state": {
       "description": "First",
       "layout": "IPY_MODEL_205fdddc26034253aa6d6934d77b6457",
       "style": "IPY_MODEL_b9fb65dd7ebd4b4e9d87d49cdc69d360"
      }
     },
     "287638c76d384ff3a6d8b1327215d0b0": {
      "model_module": "@jupyter-widgets/base",
      "model_module_version": "1.1.0",
      "model_name": "LayoutModel",
      "state": {}
     },
     "296eb5b780e048518dc254082f9c5b20": {
      "model_module": "@jupyter-widgets/controls",
      "model_module_version": "1.4.0",
      "model_name": "ButtonStyleModel",
      "state": {}
     },
     "2a625b9010504b56a43e0bcc6818bcba": {
      "model_module": "@jupyter-widgets/base",
      "model_module_version": "1.1.0",
      "model_name": "LayoutModel",
      "state": {
       "width": "99%"
      }
     },
     "2af7299c4e3d42fc86c4a738be9cf7a8": {
      "model_module": "@jupyter-widgets/base",
      "model_module_version": "1.1.0",
      "model_name": "LayoutModel",
      "state": {}
     },
     "2b44e9de27ef48c3a9f0016cd8634791": {
      "model_module": "@jupyter-widgets/controls",
      "model_module_version": "1.4.0",
      "model_name": "ButtonStyleModel",
      "state": {}
     },
     "2b6a24f299324610ad9d9c5abe22e7e9": {
      "model_module": "@jupyter-widgets/base",
      "model_module_version": "1.1.0",
      "model_name": "LayoutModel",
      "state": {}
     },
     "2ba04555e0af4f51b5d0f9729bdf8c4b": {
      "model_module": "@jupyter-widgets/controls",
      "model_module_version": "1.4.0",
      "model_name": "ProgressStyleModel",
      "state": {
       "description_width": ""
      }
     },
     "2bdd2a5bc8d64a2bbef5e12addbb7e0e": {
      "model_module": "@jupyter-widgets/controls",
      "model_module_version": "1.4.0",
      "model_name": "ButtonStyleModel",
      "state": {}
     },
     "2c04e17c795745389d5024568ec3faae": {
      "model_module": "@jupyter-widgets/base",
      "model_module_version": "1.1.0",
      "model_name": "LayoutModel",
      "state": {
       "width": "99%"
      }
     },
     "2c5a07be399f4cc5b850790df1d9e707": {
      "model_module": "@jupyter-widgets/controls",
      "model_module_version": "1.4.0",
      "model_name": "IntProgressModel",
      "state": {
       "bar_style": "success",
       "layout": "IPY_MODEL_441c09bf1a0e441fa704c6f14333361b",
       "max": 2920,
       "style": "IPY_MODEL_b31b6a6c4cdc40a7b5fe6ca17bc50d6d",
       "value": 2920
      }
     },
     "2c85b84f58dc4c9ab6b694894125a198": {
      "model_module": "@jupyter-widgets/controls",
      "model_module_version": "1.4.0",
      "model_name": "ButtonStyleModel",
      "state": {}
     },
     "2c8acc5c4f704875ad1e82b43b22fbfb": {
      "model_module": "@jupyter-widgets/controls",
      "model_module_version": "1.4.0",
      "model_name": "ButtonModel",
      "state": {
       "description": "Last",
       "layout": "IPY_MODEL_c9c7ccd2ddc34314a3f44c825e7c9703",
       "style": "IPY_MODEL_5533739c49f84a40bdb6a6730c0b935d"
      }
     },
     "2cb7343e274542c88fd0b37069930029": {
      "model_module": "@jupyter-widgets/controls",
      "model_module_version": "1.4.0",
      "model_name": "HTMLModel",
      "state": {
       "layout": "IPY_MODEL_a90b157dd09f4a23b91683d560422519",
       "style": "IPY_MODEL_c231e901e1cc4cfbab0c1f893264996d",
       "value": "100% 2920/2920 [00:00&lt;00:00, 4615.45it/s]"
      }
     },
     "2cc9816613264050939b47ad82bcf8b7": {
      "model_module": "@jupyter-widgets/controls",
      "model_module_version": "1.4.0",
      "model_name": "ButtonStyleModel",
      "state": {}
     },
     "2d0d1dc5afd34287839e94109765c00c": {
      "model_module": "@jupyter-widgets/controls",
      "model_module_version": "1.4.0",
      "model_name": "ButtonModel",
      "state": {
       "description": "First",
       "layout": "IPY_MODEL_cef003f84d7b4814b316b55021c6733a",
       "style": "IPY_MODEL_1d64c40a6d3c46ccbb96816bf11beae8"
      }
     },
     "2d8550908c624698accfb00e9f25948a": {
      "model_module": "@jupyter-widgets/controls",
      "model_module_version": "1.4.0",
      "model_name": "ButtonModel",
      "state": {
       "description": "Next",
       "layout": "IPY_MODEL_79985da5257849adbdf3a8584ef07715",
       "style": "IPY_MODEL_eedfee126eaa41d0a7fb31ba5d31eb63"
      }
     },
     "2e49168dae334bb58ce0c0dff1848960": {
      "model_module": "@jupyter-widgets/controls",
      "model_module_version": "1.4.0",
      "model_name": "ButtonModel",
      "state": {
       "description": "Prev",
       "layout": "IPY_MODEL_a693f043c259458fb81cc58b7a35f714",
       "style": "IPY_MODEL_785eded72ecd47cfa37d2c774fe7809c"
      }
     },
     "2e5fb1e30b0242a19ec2dc7bc40a7830": {
      "model_module": "@jupyter-widgets/base",
      "model_module_version": "1.1.0",
      "model_name": "LayoutModel",
      "state": {
       "width": "99%"
      }
     },
     "2ec8ce72435d4a6e92dcbfe1ff7943ff": {
      "model_module": "@jupyter-widgets/base",
      "model_module_version": "1.1.0",
      "model_name": "LayoutModel",
      "state": {}
     },
     "2fe163a9fdce494fbe55a00c443fd358": {
      "model_module": "@jupyter-widgets/controls",
      "model_module_version": "1.4.0",
      "model_name": "ButtonStyleModel",
      "state": {}
     },
     "2fff7959dcc8489b8f8a043f7dc59a49": {
      "model_module": "@jupyter-widgets/base",
      "model_module_version": "1.1.0",
      "model_name": "LayoutModel",
      "state": {}
     },
     "300c07f2f86f4c99b0503a98db840895": {
      "model_module": "@jupyter-widgets/base",
      "model_module_version": "1.1.0",
      "model_name": "LayoutModel",
      "state": {}
     },
     "3011d9344ee540178d1b2b20cc8c3765": {
      "model_module": "@jupyter-widgets/base",
      "model_module_version": "1.1.0",
      "model_name": "LayoutModel",
      "state": {}
     },
     "30344ac53e0f44a3bfa13e9631f94274": {
      "model_module": "@jupyter-widgets/base",
      "model_module_version": "1.1.0",
      "model_name": "LayoutModel",
      "state": {}
     },
     "3103048d52d54ff69453226def89ac6b": {
      "model_module": "@jupyter-widgets/controls",
      "model_module_version": "1.4.0",
      "model_name": "IntSliderModel",
      "state": {
       "layout": "IPY_MODEL_1ad60be24d494152b3fc68621104563c",
       "max": 8,
       "readout": false,
       "style": "IPY_MODEL_0253a582a0974fe88d3d09542f980031",
       "value": 4
      }
     },
     "3104d0caa8ca4b5eb3af4961fe53cc46": {
      "model_module": "@jupyter-widgets/controls",
      "model_module_version": "1.4.0",
      "model_name": "VBoxModel",
      "state": {
       "children": [
        "IPY_MODEL_69eb6951817b4e24a295d3cbcbc004c6",
        "IPY_MODEL_7e1e9795ec6a4e9390c880555c76f7d7"
       ],
       "layout": "IPY_MODEL_a6b55f0a1420478e80ef51a6c46d7abc"
      }
     },
     "31e9bbbb5f994dafb3359a2196a0b239": {
      "model_module": "@jupyter-widgets/controls",
      "model_module_version": "1.4.0",
      "model_name": "IntSliderModel",
      "state": {
       "layout": "IPY_MODEL_06d2f4a657ed46259b8b2d5aa9bf2f7e",
       "max": 8,
       "readout": false,
       "style": "IPY_MODEL_439862aa32fe41488ef282816a3e382d"
      }
     },
     "31f5b907b3da4f359e4d65b4dc27a353": {
      "model_module": "@jupyter-widgets/controls",
      "model_module_version": "1.4.0",
      "model_name": "HTMLModel",
      "state": {
       "layout": "IPY_MODEL_e593bdb2b72d41649f1922e3d8e3110b",
       "style": "IPY_MODEL_7f42f28ae20d4d2b89ec80f09273a68d",
       "value": "100% 2920/2920 [00:00&lt;00:00, 4564.94it/s]"
      }
     },
     "32065df198df4c6a93ee76d78c7154ef": {
      "model_module": "@jupyter-widgets/controls",
      "model_module_version": "1.4.0",
      "model_name": "HBoxModel",
      "state": {
       "children": [
        "IPY_MODEL_96493cc48b784792b664e6f2663c7d34",
        "IPY_MODEL_7f82efa359134686846fa7baf5594808",
        "IPY_MODEL_c491d6cabc004b619cc5d837df8e645b",
        "IPY_MODEL_c2e6323e6dba47b59fe6ae9854a27a95",
        "IPY_MODEL_18525dc38ed54c22b0a7917dd72faa79",
        "IPY_MODEL_f76f2cdef92d4410a3fc3084d4ff1360"
       ],
       "layout": "IPY_MODEL_fbdaa24fb5a64818ac1f7c0c5052759e"
      }
     },
     "324b6631516143ba83324a6379babdf5": {
      "model_module": "@jupyter-widgets/base",
      "model_module_version": "1.1.0",
      "model_name": "LayoutModel",
      "state": {}
     },
     "329e4787893e4cdd94586c3c83b4ec4e": {
      "model_module": "@jupyter-widgets/controls",
      "model_module_version": "1.4.0",
      "model_name": "ButtonModel",
      "state": {
       "description": "Random",
       "layout": "IPY_MODEL_f35fc16d53de49ea8fe73e20225eb078",
       "style": "IPY_MODEL_e45435ba72ab4d0db448d630f6e26258"
      }
     },
     "32d73095c5cf4743900de039bcb48d7f": {
      "model_module": "@jupyter-widgets/controls",
      "model_module_version": "1.4.0",
      "model_name": "VBoxModel",
      "state": {
       "children": [
        "IPY_MODEL_14fbed9c01af4df2af94c9d91326de94",
        "IPY_MODEL_8ef5a29384f14139979a8249ab6cca20"
       ],
       "layout": "IPY_MODEL_8702c76298d34b0ca589e00768b1333b"
      }
     },
     "32e705d32b37447e94727edf797d92f4": {
      "model_module": "@jupyter-widgets/controls",
      "model_module_version": "1.4.0",
      "model_name": "DescriptionStyleModel",
      "state": {
       "description_width": ""
      }
     },
     "331dee49173e434098e0b525b38a2e1e": {
      "model_module": "@jupyter-widgets/base",
      "model_module_version": "1.1.0",
      "model_name": "LayoutModel",
      "state": {
       "width": "99%"
      }
     },
     "3331cb9d3a084194826f81f3c73e0b49": {
      "model_module": "@jupyter-widgets/base",
      "model_module_version": "1.1.0",
      "model_name": "LayoutModel",
      "state": {}
     },
     "33755128f6dd4cfb984c0cb79df7ac6b": {
      "model_module": "@jupyter-widgets/base",
      "model_module_version": "1.1.0",
      "model_name": "LayoutModel",
      "state": {}
     },
     "33a1a4e489f14e688c2bd004353dfe70": {
      "model_module": "@jupyter-widgets/controls",
      "model_module_version": "1.4.0",
      "model_name": "ButtonModel",
      "state": {
       "description": "Prev",
       "layout": "IPY_MODEL_0ec4db37ffeb4fe4afd95426ebfa45ac",
       "style": "IPY_MODEL_60be7f81bf7848f6b033b6d1b2ecbf0a"
      }
     },
     "33cf4ff908c3460ab2b2c4271c1e1fc0": {
      "model_module": "@jupyter-widgets/controls",
      "model_module_version": "1.4.0",
      "model_name": "ProgressStyleModel",
      "state": {
       "description_width": ""
      }
     },
     "3411fe15be354de08bf16cf09574538a": {
      "model_module": "@jupyter-widgets/controls",
      "model_module_version": "1.4.0",
      "model_name": "ButtonModel",
      "state": {
       "description": "Next",
       "layout": "IPY_MODEL_3011d9344ee540178d1b2b20cc8c3765",
       "style": "IPY_MODEL_017eb9ffdb6c498c8ce6d9aee3c4ead3"
      }
     },
     "345d20527404464c83f7fb7cf113a6c8": {
      "model_module": "@jupyter-widgets/controls",
      "model_module_version": "1.4.0",
      "model_name": "DescriptionStyleModel",
      "state": {
       "description_width": ""
      }
     },
     "3481f2a234ef4223b8b2a7a3ea61b8b2": {
      "model_module": "@jupyter-widgets/controls",
      "model_module_version": "1.4.0",
      "model_name": "ButtonStyleModel",
      "state": {}
     },
     "3506e759567d424bb254eccd9bab8c1e": {
      "model_module": "@jupyter-widgets/controls",
      "model_module_version": "1.4.0",
      "model_name": "ButtonModel",
      "state": {
       "description": "Next",
       "layout": "IPY_MODEL_7bcfe66e27b74cf8be331f62c580499b",
       "style": "IPY_MODEL_90d26e8f7b274dfbb8f63067690e4f71"
      }
     },
     "35beadf80ed44e66b2b6d0724ec6e40c": {
      "model_module": "@jupyter-widgets/base",
      "model_module_version": "1.1.0",
      "model_name": "LayoutModel",
      "state": {}
     },
     "369d8b2146b044ffa8ae8d127294d549": {
      "model_module": "@jupyter-widgets/controls",
      "model_module_version": "1.4.0",
      "model_name": "IntSliderModel",
      "state": {
       "layout": "IPY_MODEL_4ed2430f4e66469ba07584a80d9627fc",
       "max": 8,
       "readout": false,
       "style": "IPY_MODEL_c292e10adeff489d9f9d955e587c1cb4"
      }
     },
     "3723da5f3c5a4f75a83309f1d91f2beb": {
      "model_module": "@jupyter-widgets/controls",
      "model_module_version": "1.4.0",
      "model_name": "ButtonModel",
      "state": {
       "description": "Last",
       "layout": "IPY_MODEL_ad22e600aa4d4ac4bb1462577a77ce27",
       "style": "IPY_MODEL_64faebf468d54cef84c0885a3dd217b0"
      }
     },
     "373f77dd571f4092a2caacfab258910b": {
      "model_module": "@jupyter-widgets/base",
      "model_module_version": "1.1.0",
      "model_name": "LayoutModel",
      "state": {}
     },
     "37b8227b446344e684748e996ef33553": {
      "model_module": "@jupyter-widgets/base",
      "model_module_version": "1.1.0",
      "model_name": "LayoutModel",
      "state": {}
     },
     "38bcabee8c5e460589d3d770aad4e8b9": {
      "model_module": "@jupyter-widgets/base",
      "model_module_version": "1.1.0",
      "model_name": "LayoutModel",
      "state": {}
     },
     "39341378361c4b13a086da7a5fca30ac": {
      "model_module": "@jupyter-widgets/base",
      "model_module_version": "1.1.0",
      "model_name": "LayoutModel",
      "state": {}
     },
     "39ec8c825ae74cb4abca32d79a28315f": {
      "model_module": "@jupyter-widgets/controls",
      "model_module_version": "1.4.0",
      "model_name": "ButtonModel",
      "state": {
       "description": "Next",
       "layout": "IPY_MODEL_115d813d138047268fe55fccd5dfb46e",
       "style": "IPY_MODEL_63f39942e1a249b2905d8ba78fd03488"
      }
     },
     "3a5327bda5664cd0b42a6b3b59693fb8": {
      "model_module": "@jupyter-widgets/controls",
      "model_module_version": "1.4.0",
      "model_name": "ButtonStyleModel",
      "state": {}
     },
     "3a5b7d0a836d42b099c0dac4554ac6ef": {
      "model_module": "@jupyter-widgets/controls",
      "model_module_version": "1.4.0",
      "model_name": "BoundedIntTextModel",
      "state": {
       "layout": "IPY_MODEL_e11a802445f04d5881b5600e77c24f8b",
       "max": 61,
       "style": "IPY_MODEL_010fa38bd0e04b739babba8cd5137148",
       "value": 19
      }
     },
     "3a5da907bf3a4c9eaccbcaff2c2c81c7": {
      "model_module": "@jupyter-widgets/controls",
      "model_module_version": "1.4.0",
      "model_name": "SliderStyleModel",
      "state": {
       "description_width": ""
      }
     },
     "3a7d1c8fb8704c41a550d15b6cef65c6": {
      "model_module": "@jupyter-widgets/base",
      "model_module_version": "1.1.0",
      "model_name": "LayoutModel",
      "state": {}
     },
     "3a98712c15b946c2be15db2843a56b52": {
      "model_module": "@jupyter-widgets/controls",
      "model_module_version": "1.4.0",
      "model_name": "ButtonModel",
      "state": {
       "description": "Prev",
       "layout": "IPY_MODEL_eb30fd4350704ebbbb66460474c167b5",
       "style": "IPY_MODEL_dd6008a5fdaf4b74bcee1ad560a8881b"
      }
     },
     "3b03ab5d84ea4fd9879c16e44359caa3": {
      "model_module": "@jupyter-widgets/controls",
      "model_module_version": "1.4.0",
      "model_name": "ButtonModel",
      "state": {
       "description": "Next",
       "layout": "IPY_MODEL_487ab632b4dc4c40bd740cf2be791d6b",
       "style": "IPY_MODEL_e2d6f617f4b2409880936df01d931853"
      }
     },
     "3b08fbee1bc64915800827434c6285b6": {
      "model_module": "@jupyter-widgets/controls",
      "model_module_version": "1.4.0",
      "model_name": "ProgressStyleModel",
      "state": {
       "description_width": ""
      }
     },
     "3b1fc1fa27bd47da997dba65ad02e4bb": {
      "model_module": "@jupyter-widgets/controls",
      "model_module_version": "1.4.0",
      "model_name": "IntSliderModel",
      "state": {
       "layout": "IPY_MODEL_647df37d456f482fa2e40728439ffe4e",
       "max": 60,
       "readout": false,
       "style": "IPY_MODEL_ded3b4ccc72f4a288f038f50d755ba06",
       "value": 42
      }
     },
     "3b83dbc1f8c94e84b4afb92bab1a7c50": {
      "model_module": "@jupyter-widgets/controls",
      "model_module_version": "1.4.0",
      "model_name": "VBoxModel",
      "state": {
       "children": [
        "IPY_MODEL_a0be4ad6ab2044e7807b09c967dc7ebd",
        "IPY_MODEL_a99898f19cbb4e18aed0036cd5004001"
       ],
       "layout": "IPY_MODEL_8fa08768e4154a48af78cd3c7d4ccac5"
      }
     },
     "3bb6ce95f3ec4f7988005f0a086122ed": {
      "model_module": "@jupyter-widgets/controls",
      "model_module_version": "1.4.0",
      "model_name": "SliderStyleModel",
      "state": {
       "description_width": ""
      }
     },
     "3c15ed93d12f4ff587e685a5f17350d7": {
      "model_module": "@jupyter-widgets/base",
      "model_module_version": "1.1.0",
      "model_name": "LayoutModel",
      "state": {
       "width": "99%"
      }
     },
     "3c44296038ee44808d587c86e76b67bb": {
      "model_module": "@jupyter-widgets/controls",
      "model_module_version": "1.4.0",
      "model_name": "DescriptionStyleModel",
      "state": {
       "description_width": ""
      }
     },
     "3c70dd61a7804db0a5b1ea1834f5ac93": {
      "model_module": "@jupyter-widgets/controls",
      "model_module_version": "1.4.0",
      "model_name": "ButtonModel",
      "state": {
       "description": "Next",
       "layout": "IPY_MODEL_0a3b62d9f8e0443e819310b809853c70",
       "style": "IPY_MODEL_53fc64c5ccc54e019c42158517b3f214"
      }
     },
     "3cb9f2d14b1545a0bfffe9f20046f873": {
      "model_module": "@jupyter-widgets/controls",
      "model_module_version": "1.4.0",
      "model_name": "ButtonStyleModel",
      "state": {}
     },
     "3d05d9244fc74f4fa4a7a098e82204f6": {
      "model_module": "@jupyter-widgets/base",
      "model_module_version": "1.1.0",
      "model_name": "LayoutModel",
      "state": {}
     },
     "3d704d511d224ad2a50b4ec1cef8b607": {
      "model_module": "@jupyter-widgets/controls",
      "model_module_version": "1.4.0",
      "model_name": "ButtonModel",
      "state": {
       "description": "Random",
       "layout": "IPY_MODEL_39341378361c4b13a086da7a5fca30ac",
       "style": "IPY_MODEL_b425a38234c5481187da8d01cb6df7c2"
      }
     },
     "3d877a6377f6401e96d302ee9ec33745": {
      "model_module": "@jupyter-widgets/controls",
      "model_module_version": "1.4.0",
      "model_name": "IntSliderModel",
      "state": {
       "layout": "IPY_MODEL_f10947c6825943ae903a49c8226d3c78",
       "max": 8,
       "readout": false,
       "style": "IPY_MODEL_3fade7ae172a4d078803dc18b70614f0"
      }
     },
     "3e77a18b7f0647f29b2822c79a0b3513": {
      "model_module": "@jupyter-widgets/controls",
      "model_module_version": "1.4.0",
      "model_name": "ButtonModel",
      "state": {
       "description": "Next",
       "layout": "IPY_MODEL_9a654ed5cb9345cc9644769a0be98b0e",
       "style": "IPY_MODEL_09759234d72f4c5f8a73524742824715"
      }
     },
     "3e7ec25ee4f249f9836e36ae4a368323": {
      "model_module": "@jupyter-widgets/controls",
      "model_module_version": "1.4.0",
      "model_name": "ButtonModel",
      "state": {
       "description": "Random",
       "layout": "IPY_MODEL_19a3972fc3d84fa991eae8cde9f9914f",
       "style": "IPY_MODEL_4245a33c9e0d4ea7b973a0e9d89f8e85"
      }
     },
     "3f315888d41a478cbe6df2c5aa9230b4": {
      "model_module": "@jupyter-widgets/base",
      "model_module_version": "1.1.0",
      "model_name": "LayoutModel",
      "state": {}
     },
     "3f8f6a85ca624e28ae754331951a1281": {
      "model_module": "@jupyter-widgets/controls",
      "model_module_version": "1.4.0",
      "model_name": "IntSliderModel",
      "state": {
       "layout": "IPY_MODEL_bf5e910ce1a4437b973f841c00399962",
       "max": 8,
       "readout": false,
       "style": "IPY_MODEL_047f3dd2a7484bd78a46042561a0f4a2"
      }
     },
     "3fa5fec1cce54701921f92c39ae4edd9": {
      "model_module": "@jupyter-widgets/controls",
      "model_module_version": "1.4.0",
      "model_name": "DescriptionStyleModel",
      "state": {
       "description_width": ""
      }
     },
     "3fade7ae172a4d078803dc18b70614f0": {
      "model_module": "@jupyter-widgets/controls",
      "model_module_version": "1.4.0",
      "model_name": "SliderStyleModel",
      "state": {
       "description_width": ""
      }
     },
     "3fb6abba1f7b4880891701ad6032e27d": {
      "model_module": "@jupyter-widgets/base",
      "model_module_version": "1.1.0",
      "model_name": "LayoutModel",
      "state": {}
     },
     "402633b686274a0287be19cae51314c9": {
      "model_module": "@jupyter-widgets/base",
      "model_module_version": "1.1.0",
      "model_name": "LayoutModel",
      "state": {}
     },
     "403e432cfbac41a2a12cdbb21f0dfba4": {
      "model_module": "@jupyter-widgets/controls",
      "model_module_version": "1.4.0",
      "model_name": "ButtonStyleModel",
      "state": {}
     },
     "40403a9e7e8d41e2aa7e914891cbc2bc": {
      "model_module": "@jupyter-widgets/controls",
      "model_module_version": "1.4.0",
      "model_name": "VBoxModel",
      "state": {
       "children": [
        "IPY_MODEL_b76c948686094520be97f82b55b3f760",
        "IPY_MODEL_3d877a6377f6401e96d302ee9ec33745"
       ],
       "layout": "IPY_MODEL_6ac2d9a8eb164765a9858aba2fad5d67"
      }
     },
     "408d17d1a8a143168f69543d1eeeb0d5": {
      "model_module": "@jupyter-widgets/base",
      "model_module_version": "1.1.0",
      "model_name": "LayoutModel",
      "state": {}
     },
     "40ccc9d7f58c4a80b94933615407fa3c": {
      "model_module": "@jupyter-widgets/controls",
      "model_module_version": "1.4.0",
      "model_name": "ButtonStyleModel",
      "state": {}
     },
     "40f34abce3a04dd5a9c2950e9b9675e5": {
      "model_module": "@jupyter-widgets/base",
      "model_module_version": "1.1.0",
      "model_name": "LayoutModel",
      "state": {}
     },
     "412192a2fdff4f17969018214a78358a": {
      "model_module": "@jupyter-widgets/controls",
      "model_module_version": "1.4.0",
      "model_name": "ButtonModel",
      "state": {
       "description": "Last",
       "layout": "IPY_MODEL_af7a32378f3346798b1dcda1195ebdb1",
       "style": "IPY_MODEL_f87880e0dae04044bdec730d546634b7"
      }
     },
     "4234676849e342be82f90d813ca286fb": {
      "model_module": "@jupyter-widgets/controls",
      "model_module_version": "1.4.0",
      "model_name": "ButtonStyleModel",
      "state": {}
     },
     "4245a33c9e0d4ea7b973a0e9d89f8e85": {
      "model_module": "@jupyter-widgets/controls",
      "model_module_version": "1.4.0",
      "model_name": "ButtonStyleModel",
      "state": {}
     },
     "427c9b8524124eda9a6b7cdf6eac3878": {
      "model_module": "@jupyter-widgets/controls",
      "model_module_version": "1.4.0",
      "model_name": "ButtonStyleModel",
      "state": {}
     },
     "42cfb38a55ce469fb3469ea7d9cce075": {
      "model_module": "@jupyter-widgets/controls",
      "model_module_version": "1.4.0",
      "model_name": "DescriptionStyleModel",
      "state": {
       "description_width": ""
      }
     },
     "431b7f348e664c10b447149252202ecb": {
      "model_module": "@jupyter-widgets/controls",
      "model_module_version": "1.4.0",
      "model_name": "BoundedIntTextModel",
      "state": {
       "layout": "IPY_MODEL_932f42a044f54c27b806c8edc65d37ab",
       "max": 60,
       "style": "IPY_MODEL_32e705d32b37447e94727edf797d92f4",
       "value": 1
      }
     },
     "43731fdb3a1f446cb32824f2f438c7dd": {
      "model_module": "@jupyter-widgets/base",
      "model_module_version": "1.1.0",
      "model_name": "LayoutModel",
      "state": {}
     },
     "439862aa32fe41488ef282816a3e382d": {
      "model_module": "@jupyter-widgets/controls",
      "model_module_version": "1.4.0",
      "model_name": "SliderStyleModel",
      "state": {
       "description_width": ""
      }
     },
     "441c09bf1a0e441fa704c6f14333361b": {
      "model_module": "@jupyter-widgets/base",
      "model_module_version": "1.1.0",
      "model_name": "LayoutModel",
      "state": {}
     },
     "443e2de24e30447a946449b413ee8028": {
      "model_module": "@jupyter-widgets/base",
      "model_module_version": "1.1.0",
      "model_name": "LayoutModel",
      "state": {}
     },
     "444502302caa45adb9adaebc1e45a601": {
      "model_module": "@jupyter-widgets/controls",
      "model_module_version": "1.4.0",
      "model_name": "BoundedIntTextModel",
      "state": {
       "layout": "IPY_MODEL_f720a0485ae74b039ebcf356e15915b3",
       "max": 60,
       "style": "IPY_MODEL_b57d5bedeeab44bface10b0ce10c07ae"
      }
     },
     "4503e8489b1c461e862f6a2b87a967ab": {
      "model_module": "@jupyter-widgets/controls",
      "model_module_version": "1.4.0",
      "model_name": "ButtonModel",
      "state": {
       "description": "Next",
       "layout": "IPY_MODEL_2af7299c4e3d42fc86c4a738be9cf7a8",
       "style": "IPY_MODEL_bc55f6cd1f9e4a548558284ca7fa2d9f"
      }
     },
     "467479736ae948f4bb0e486f6c6b1d13": {
      "model_module": "@jupyter-widgets/controls",
      "model_module_version": "1.4.0",
      "model_name": "ButtonModel",
      "state": {
       "description": "Last",
       "layout": "IPY_MODEL_1f7eca4cb5d243a1aee3aa40f6030fcd",
       "style": "IPY_MODEL_26dc4feaa7d9415e9b006604ce601078"
      }
     },
     "4683f59dcc574c2cbf04028596730385": {
      "model_module": "@jupyter-widgets/base",
      "model_module_version": "1.1.0",
      "model_name": "LayoutModel",
      "state": {}
     },
     "4728379167374e25b3ebcdb1f32999a9": {
      "model_module": "@jupyter-widgets/controls",
      "model_module_version": "1.4.0",
      "model_name": "ButtonModel",
      "state": {
       "description": "Next",
       "layout": "IPY_MODEL_7b3d0688496d4d3bbd031a5debecfb59",
       "style": "IPY_MODEL_3481f2a234ef4223b8b2a7a3ea61b8b2"
      }
     },
     "47d109abec4b4d70a5078039b52ff239": {
      "model_module": "@jupyter-widgets/controls",
      "model_module_version": "1.4.0",
      "model_name": "ButtonStyleModel",
      "state": {}
     },
     "482b2726e055415a8fdd441eb9cd91dd": {
      "model_module": "@jupyter-widgets/controls",
      "model_module_version": "1.4.0",
      "model_name": "VBoxModel",
      "state": {
       "children": [
        "IPY_MODEL_5f5d62de4f254249b5716c7645ab4844",
        "IPY_MODEL_bca6a238cdaa4ece8765e233884216a7"
       ],
       "layout": "IPY_MODEL_512cab3f9ae64cd39ff7235dc7b30a24"
      }
     },
     "487ab632b4dc4c40bd740cf2be791d6b": {
      "model_module": "@jupyter-widgets/base",
      "model_module_version": "1.1.0",
      "model_name": "LayoutModel",
      "state": {}
     },
     "49c35362d7cf4c45abdca42bf67f99c0": {
      "model_module": "@jupyter-widgets/controls",
      "model_module_version": "1.4.0",
      "model_name": "ButtonStyleModel",
      "state": {}
     },
     "4a30f84868a54ecc8bd55e6084c965b7": {
      "model_module": "@jupyter-widgets/base",
      "model_module_version": "1.1.0",
      "model_name": "LayoutModel",
      "state": {}
     },
     "4ac052cf3f7640ad943d58677303ff5d": {
      "model_module": "@jupyter-widgets/controls",
      "model_module_version": "1.4.0",
      "model_name": "ButtonModel",
      "state": {
       "description": "Last",
       "layout": "IPY_MODEL_985047a25a2d47a187958b57b01741d5",
       "style": "IPY_MODEL_bc330826f30b4f9a9c5e0eef28eac03e"
      }
     },
     "4ba785ce138a4383a1f8488b7bd95694": {
      "model_module": "@jupyter-widgets/controls",
      "model_module_version": "1.4.0",
      "model_name": "ButtonStyleModel",
      "state": {}
     },
     "4bf82527a0e1453fbd8cc41f6a8847f8": {
      "model_module": "@jupyter-widgets/controls",
      "model_module_version": "1.4.0",
      "model_name": "ButtonStyleModel",
      "state": {}
     },
     "4c20df655e724d7facf6712794ac2e41": {
      "model_module": "@jupyter-widgets/controls",
      "model_module_version": "1.4.0",
      "model_name": "BoundedIntTextModel",
      "state": {
       "layout": "IPY_MODEL_53a42e1cdce143e481965926465cbdbc",
       "max": 60,
       "style": "IPY_MODEL_345d20527404464c83f7fb7cf113a6c8"
      }
     },
     "4ca377bf736e4136b8c51758c9668722": {
      "model_module": "@jupyter-widgets/controls",
      "model_module_version": "1.4.0",
      "model_name": "ButtonStyleModel",
      "state": {}
     },
     "4ccb0cadd585488f99bf771881dbd5d1": {
      "model_module": "@jupyter-widgets/controls",
      "model_module_version": "1.4.0",
      "model_name": "DescriptionStyleModel",
      "state": {
       "description_width": ""
      }
     },
     "4e8acb28a0994a1d93e38aecd8dd1d97": {
      "model_module": "@jupyter-widgets/controls",
      "model_module_version": "1.4.0",
      "model_name": "ButtonStyleModel",
      "state": {}
     },
     "4e8c62b74f8d4078bb1d203ca36d9829": {
      "model_module": "@jupyter-widgets/base",
      "model_module_version": "1.1.0",
      "model_name": "LayoutModel",
      "state": {}
     },
     "4ed2430f4e66469ba07584a80d9627fc": {
      "model_module": "@jupyter-widgets/base",
      "model_module_version": "1.1.0",
      "model_name": "LayoutModel",
      "state": {
       "width": "99%"
      }
     },
     "4ef611590a034809b303658f3b14d179": {
      "model_module": "@jupyter-widgets/controls",
      "model_module_version": "1.4.0",
      "model_name": "ButtonModel",
      "state": {
       "description": "Last",
       "layout": "IPY_MODEL_540a97da57294f048196fc83b8c8fee3",
       "style": "IPY_MODEL_55a293ddfcb04075aabe62f0ea97f147"
      }
     },
     "4f3908bd8ba04ad98010b13383cc11c4": {
      "model_module": "@jupyter-widgets/controls",
      "model_module_version": "1.4.0",
      "model_name": "LinkModel",
      "state": {
       "source": [
        "IPY_MODEL_04198f7e1d634405b147e5803f8960a0",
        "value"
       ],
       "target": [
        "IPY_MODEL_7fdbb2e0255f4c2cb0465f39be32b230",
        "value"
       ]
      }
     },
     "509e77ddaacd46e285fb441364d4bb35": {
      "model_module": "@jupyter-widgets/controls",
      "model_module_version": "1.4.0",
      "model_name": "ButtonStyleModel",
      "state": {}
     },
     "512cab3f9ae64cd39ff7235dc7b30a24": {
      "model_module": "@jupyter-widgets/base",
      "model_module_version": "1.1.0",
      "model_name": "LayoutModel",
      "state": {}
     },
     "513069d732a34894a3c2bac9be23f2c3": {
      "model_module": "@jupyter-widgets/controls",
      "model_module_version": "1.4.0",
      "model_name": "HBoxModel",
      "state": {
       "children": [
        "IPY_MODEL_5db669b9b55644ffaee89a0a3ff0c84d",
        "IPY_MODEL_2e49168dae334bb58ce0c0dff1848960",
        "IPY_MODEL_e0c88c65f16349c9a3149593a9a8438c",
        "IPY_MODEL_2d8550908c624698accfb00e9f25948a",
        "IPY_MODEL_2c8acc5c4f704875ad1e82b43b22fbfb",
        "IPY_MODEL_839d1413f50f49908c53ce01a12e6aef"
       ],
       "layout": "IPY_MODEL_a990a46c95c444ef93e2bc99eb07b7f6"
      }
     },
     "51d874e18a8f4be5b01476f6f1ab8d07": {
      "model_module": "@jupyter-widgets/base",
      "model_module_version": "1.1.0",
      "model_name": "LayoutModel",
      "state": {}
     },
     "52d0dffa0da84218a646a7834f546a4c": {
      "model_module": "@jupyter-widgets/controls",
      "model_module_version": "1.4.0",
      "model_name": "ButtonModel",
      "state": {
       "description": "Random",
       "layout": "IPY_MODEL_646bd36051934de2b10d0e44412f0868",
       "style": "IPY_MODEL_4234676849e342be82f90d813ca286fb"
      }
     },
     "52f6c92e5e1948e6afaf450aabc6b148": {
      "model_module": "@jupyter-widgets/controls",
      "model_module_version": "1.4.0",
      "model_name": "ButtonModel",
      "state": {
       "description": "Prev",
       "layout": "IPY_MODEL_c1fd55a57e6c4e398527944ab0254706",
       "style": "IPY_MODEL_80a2e38c498d4648aa070e629951c486"
      }
     },
     "5338e00c9cc54f0e868bb490b6607e38": {
      "model_module": "@jupyter-widgets/controls",
      "model_module_version": "1.4.0",
      "model_name": "ButtonModel",
      "state": {
       "description": "Prev",
       "layout": "IPY_MODEL_fa1ea19237a642cbab5714fea7f8d384",
       "style": "IPY_MODEL_043a07eba70540cca27037a680dd5894"
      }
     },
     "5395b0c6c22a4ce7bcf90a751c30782a": {
      "model_module": "@jupyter-widgets/base",
      "model_module_version": "1.1.0",
      "model_name": "LayoutModel",
      "state": {}
     },
     "53a42e1cdce143e481965926465cbdbc": {
      "model_module": "@jupyter-widgets/base",
      "model_module_version": "1.1.0",
      "model_name": "LayoutModel",
      "state": {}
     },
     "53b2217686a44272a4039bbff9611e0c": {
      "model_module": "@jupyter-widgets/controls",
      "model_module_version": "1.4.0",
      "model_name": "ButtonModel",
      "state": {
       "description": "Prev",
       "layout": "IPY_MODEL_0089d92aadc6488b9fe78755816d623d",
       "style": "IPY_MODEL_2cc9816613264050939b47ad82bcf8b7"
      }
     },
     "53b2e20bc06a4ce09c87e8b1ae870204": {
      "model_module": "@jupyter-widgets/controls",
      "model_module_version": "1.4.0",
      "model_name": "VBoxModel",
      "state": {
       "children": [
        "IPY_MODEL_661705ad682f48b89d0ce401e5d5620a",
        "IPY_MODEL_d23ba908c8914284ae7ba28397590080"
       ],
       "layout": "IPY_MODEL_9ae9848644b44c2bbf06912c63b09120"
      }
     },
     "53fc64c5ccc54e019c42158517b3f214": {
      "model_module": "@jupyter-widgets/controls",
      "model_module_version": "1.4.0",
      "model_name": "ButtonStyleModel",
      "state": {}
     },
     "54073dd3b8094d9cb3d05848213af9dc": {
      "model_module": "@jupyter-widgets/controls",
      "model_module_version": "1.4.0",
      "model_name": "ButtonModel",
      "state": {
       "description": "Prev",
       "layout": "IPY_MODEL_620bbcf8d01548e289c523158086e433",
       "style": "IPY_MODEL_fa239211bb62432ab01be6fdfefcc2e1"
      }
     },
     "540a97da57294f048196fc83b8c8fee3": {
      "model_module": "@jupyter-widgets/base",
      "model_module_version": "1.1.0",
      "model_name": "LayoutModel",
      "state": {}
     },
     "5443acbe279648b5a447dcd56e6db40c": {
      "model_module": "@jupyter-widgets/base",
      "model_module_version": "1.1.0",
      "model_name": "LayoutModel",
      "state": {}
     },
     "54cf5d1d6cc74ff58c8fb3587efad98c": {
      "model_module": "@jupyter-widgets/controls",
      "model_module_version": "1.4.0",
      "model_name": "LinkModel",
      "state": {
       "source": [
        "IPY_MODEL_b467dcab92e94e03af3ba40a7600800c",
        "value"
       ],
       "target": [
        "IPY_MODEL_175e3815ba4d47ffb3821d7a3c1b3957",
        "value"
       ]
      }
     },
     "5533739c49f84a40bdb6a6730c0b935d": {
      "model_module": "@jupyter-widgets/controls",
      "model_module_version": "1.4.0",
      "model_name": "ButtonStyleModel",
      "state": {}
     },
     "5588b38b77724a8991d7566f460ab68f": {
      "model_module": "@jupyter-widgets/controls",
      "model_module_version": "1.4.0",
      "model_name": "VBoxModel",
      "state": {
       "children": [
        "IPY_MODEL_016e0fe52177407285597df8708bed49",
        "IPY_MODEL_95eb3e109e8e4239b0c849810068f950"
       ],
       "layout": "IPY_MODEL_a6f2638f803c4d7e8fbdeb198a3e2b65"
      }
     },
     "55a293ddfcb04075aabe62f0ea97f147": {
      "model_module": "@jupyter-widgets/controls",
      "model_module_version": "1.4.0",
      "model_name": "ButtonStyleModel",
      "state": {}
     },
     "55be95a2702145f983ccdaa5da73f814": {
      "model_module": "@jupyter-widgets/controls",
      "model_module_version": "1.4.0",
      "model_name": "HBoxModel",
      "state": {
       "children": [
        "IPY_MODEL_28690603169147c2a338bc815ec61bb5",
        "IPY_MODEL_b59c467b7de94ff4b6bedd34cab0f484",
        "IPY_MODEL_431b7f348e664c10b447149252202ecb",
        "IPY_MODEL_e8c79302063543af9f6a970b86f64098",
        "IPY_MODEL_c1fc01bdfddc403a93e469e8cebe66c4",
        "IPY_MODEL_52d0dffa0da84218a646a7834f546a4c"
       ],
       "layout": "IPY_MODEL_9cb62fc090404138882b220dc695ad2d"
      }
     },
     "55e9a31561f74220abfd3b39c034d739": {
      "model_module": "@jupyter-widgets/base",
      "model_module_version": "1.1.0",
      "model_name": "LayoutModel",
      "state": {
       "width": "99%"
      }
     },
     "56450492d81441f7b26ed00198a93ad3": {
      "model_module": "@jupyter-widgets/controls",
      "model_module_version": "1.4.0",
      "model_name": "DescriptionStyleModel",
      "state": {
       "description_width": ""
      }
     },
     "56922129227949fe83553229c65ec257": {
      "model_module": "@jupyter-widgets/base",
      "model_module_version": "1.1.0",
      "model_name": "LayoutModel",
      "state": {}
     },
     "56df2e997dcd4ff3bc79513273ee9921": {
      "model_module": "@jupyter-widgets/base",
      "model_module_version": "1.1.0",
      "model_name": "LayoutModel",
      "state": {}
     },
     "582468fe77a94b7d9061abe12863babf": {
      "model_module": "@jupyter-widgets/base",
      "model_module_version": "1.1.0",
      "model_name": "LayoutModel",
      "state": {}
     },
     "582ed25b59a8499c8aa020727e2640fb": {
      "model_module": "@jupyter-widgets/controls",
      "model_module_version": "1.4.0",
      "model_name": "SliderStyleModel",
      "state": {
       "description_width": ""
      }
     },
     "5866ac7f63574b088e7c62d290d40407": {
      "model_module": "@jupyter-widgets/base",
      "model_module_version": "1.1.0",
      "model_name": "LayoutModel",
      "state": {}
     },
     "58d993acf2e34a3483d8cc7badad6e0d": {
      "model_module": "@jupyter-widgets/controls",
      "model_module_version": "1.4.0",
      "model_name": "ButtonModel",
      "state": {
       "description": "First",
       "layout": "IPY_MODEL_2fff7959dcc8489b8f8a043f7dc59a49",
       "style": "IPY_MODEL_b241d7e456c54ff282eb439f5ed66fa1"
      }
     },
     "5952c7d95ffc482d964bead502a7be4e": {
      "model_module": "@jupyter-widgets/controls",
      "model_module_version": "1.4.0",
      "model_name": "ButtonModel",
      "state": {
       "description": "First",
       "layout": "IPY_MODEL_124f5ac903e940de9e964c1f6d36c0ef",
       "style": "IPY_MODEL_7beed4c46ec64d7c98955bfb7ae37abb"
      }
     },
     "5a873a41a35e44bbb435a534bed8702e": {
      "model_module": "@jupyter-widgets/controls",
      "model_module_version": "1.4.0",
      "model_name": "LinkModel",
      "state": {
       "source": [
        "IPY_MODEL_5d7d410ca9de4120b0aa11c5286a8019",
        "value"
       ],
       "target": [
        "IPY_MODEL_a5f6e48dd718488d88e2f2cf9e54141e",
        "value"
       ]
      }
     },
     "5ac0b6037306462d9090f61bf794f971": {
      "model_module": "@jupyter-widgets/base",
      "model_module_version": "1.1.0",
      "model_name": "LayoutModel",
      "state": {}
     },
     "5b25f22ac28943d881cfb65bf064a6aa": {
      "model_module": "@jupyter-widgets/controls",
      "model_module_version": "1.4.0",
      "model_name": "ButtonStyleModel",
      "state": {}
     },
     "5b79d0cded5f410e914b2fee24044450": {
      "model_module": "@jupyter-widgets/controls",
      "model_module_version": "1.4.0",
      "model_name": "ButtonModel",
      "state": {
       "description": "Random",
       "layout": "IPY_MODEL_5866ac7f63574b088e7c62d290d40407",
       "style": "IPY_MODEL_88aed5e1ac0647ef93adefef26454a2a"
      }
     },
     "5bb20dec02d24e7f8f5ddf52c7a3f159": {
      "model_module": "@jupyter-widgets/controls",
      "model_module_version": "1.4.0",
      "model_name": "VBoxModel",
      "state": {
       "children": [
        "IPY_MODEL_f9d166760da84461b1e713907e1bd7c2",
        "IPY_MODEL_7fdbb2e0255f4c2cb0465f39be32b230"
       ],
       "layout": "IPY_MODEL_c5097cde71d142edb747134cc171b73f"
      }
     },
     "5bd297fb83b0408786a6c3ab81ab55de": {
      "model_module": "@jupyter-widgets/base",
      "model_module_version": "1.1.0",
      "model_name": "LayoutModel",
      "state": {}
     },
     "5c13f648387741e3be75e25be7e0ff11": {
      "model_module": "@jupyter-widgets/base",
      "model_module_version": "1.1.0",
      "model_name": "LayoutModel",
      "state": {}
     },
     "5ce404ce54e94298a4a6ec52a729429c": {
      "model_module": "@jupyter-widgets/controls",
      "model_module_version": "1.4.0",
      "model_name": "ButtonStyleModel",
      "state": {}
     },
     "5d0d43b0bd2c4cf6bf2dcc903d57bcaa": {
      "model_module": "@jupyter-widgets/controls",
      "model_module_version": "1.4.0",
      "model_name": "IntSliderModel",
      "state": {
       "layout": "IPY_MODEL_692570f274ee4a4d8ee775177049a116",
       "max": 60,
       "readout": false,
       "style": "IPY_MODEL_5e1473b5207b41f3be2503ccbfad65fd"
      }
     },
     "5d1294ad8c544db89a3ba90d15156b49": {
      "model_module": "@jupyter-widgets/controls",
      "model_module_version": "1.4.0",
      "model_name": "ButtonModel",
      "state": {
       "description": "First",
       "layout": "IPY_MODEL_1ebb391469f24773805b73938c08fef1",
       "style": "IPY_MODEL_8e635b282d814b05ac483f4eee6c1f87"
      }
     },
     "5d7d410ca9de4120b0aa11c5286a8019": {
      "model_module": "@jupyter-widgets/controls",
      "model_module_version": "1.4.0",
      "model_name": "BoundedIntTextModel",
      "state": {
       "layout": "IPY_MODEL_300c07f2f86f4c99b0503a98db840895",
       "max": 8,
       "style": "IPY_MODEL_abd05629b38d44f1bad356a041fb996a"
      }
     },
     "5db669b9b55644ffaee89a0a3ff0c84d": {
      "model_module": "@jupyter-widgets/controls",
      "model_module_version": "1.4.0",
      "model_name": "ButtonModel",
      "state": {
       "description": "First",
       "layout": "IPY_MODEL_0e16e78a8611499bb78714e3e11320bc",
       "style": "IPY_MODEL_6424242b14a24d98bd703db698d87b70"
      }
     },
     "5db88b4d1c354312b9a1bedc6439775e": {
      "model_module": "@jupyter-widgets/base",
      "model_module_version": "1.1.0",
      "model_name": "LayoutModel",
      "state": {
       "width": "99%"
      }
     },
     "5e1473b5207b41f3be2503ccbfad65fd": {
      "model_module": "@jupyter-widgets/controls",
      "model_module_version": "1.4.0",
      "model_name": "SliderStyleModel",
      "state": {
       "description_width": ""
      }
     },
     "5e77b1b2d5584ec9b8cde212162d63c6": {
      "model_module": "@jupyter-widgets/controls",
      "model_module_version": "1.4.0",
      "model_name": "ButtonModel",
      "state": {
       "description": "Random",
       "layout": "IPY_MODEL_b37a8e6cfeb6435bad312b6bef466a52",
       "style": "IPY_MODEL_66c892a7b5094316a2fafdfb2b2067b0"
      }
     },
     "5eb14d46ebb14971addffb698d62394b": {
      "model_module": "@jupyter-widgets/controls",
      "model_module_version": "1.4.0",
      "model_name": "ButtonModel",
      "state": {
       "description": "Random",
       "layout": "IPY_MODEL_62dabe7fb523422990a5a5661b8e6e21",
       "style": "IPY_MODEL_2734c839e764418084b5ce3fbf43d9cf"
      }
     },
     "5ed20f341cdf4baaa9696c2e6107e125": {
      "model_module": "@jupyter-widgets/controls",
      "model_module_version": "1.4.0",
      "model_name": "ButtonModel",
      "state": {
       "description": "First",
       "layout": "IPY_MODEL_6141815db9eb49018eb1203f84bdc671",
       "style": "IPY_MODEL_81f86a685aa441238f2391aa7ac9f945"
      }
     },
     "5ee409c82b004b62b954cf49dfe39d08": {
      "model_module": "@jupyter-widgets/base",
      "model_module_version": "1.1.0",
      "model_name": "LayoutModel",
      "state": {}
     },
     "5f493f9043ea400db938aeec62d4604a": {
      "model_module": "@jupyter-widgets/controls",
      "model_module_version": "1.4.0",
      "model_name": "ButtonStyleModel",
      "state": {}
     },
     "5f5d62de4f254249b5716c7645ab4844": {
      "model_module": "@jupyter-widgets/controls",
      "model_module_version": "1.4.0",
      "model_name": "HBoxModel",
      "state": {
       "children": [
        "IPY_MODEL_62b55c41646a48f998ec355f3edaad11",
        "IPY_MODEL_e0732c0027394d16b0cf969dfacef391",
        "IPY_MODEL_ea9bae60c7bd437fa18be1498f6d769e",
        "IPY_MODEL_4503e8489b1c461e862f6a2b87a967ab",
        "IPY_MODEL_467479736ae948f4bb0e486f6c6b1d13",
        "IPY_MODEL_6149437cda6a4ba69b813e7d7681e73c"
       ],
       "layout": "IPY_MODEL_a59feeece6fc4ee8bdc4003dea30ceef"
      }
     },
     "60be7f81bf7848f6b033b6d1b2ecbf0a": {
      "model_module": "@jupyter-widgets/controls",
      "model_module_version": "1.4.0",
      "model_name": "ButtonStyleModel",
      "state": {}
     },
     "610e44d92e4a4e949b2d7fb5b6e1b196": {
      "model_module": "@jupyter-widgets/controls",
      "model_module_version": "1.4.0",
      "model_name": "ButtonStyleModel",
      "state": {}
     },
     "6112f58aa0a24001a8e12d5b0376937f": {
      "model_module": "@jupyter-widgets/base",
      "model_module_version": "1.1.0",
      "model_name": "LayoutModel",
      "state": {}
     },
     "6141815db9eb49018eb1203f84bdc671": {
      "model_module": "@jupyter-widgets/base",
      "model_module_version": "1.1.0",
      "model_name": "LayoutModel",
      "state": {}
     },
     "6149437cda6a4ba69b813e7d7681e73c": {
      "model_module": "@jupyter-widgets/controls",
      "model_module_version": "1.4.0",
      "model_name": "ButtonModel",
      "state": {
       "description": "Random",
       "layout": "IPY_MODEL_dfc791760dda42c381e447e0c3572174",
       "style": "IPY_MODEL_2672d2a966564428a122f35e7a4f96cf"
      }
     },
     "6157ec00fca149178ab61d542895ddf5": {
      "model_module": "@jupyter-widgets/controls",
      "model_module_version": "1.4.0",
      "model_name": "ProgressStyleModel",
      "state": {
       "description_width": ""
      }
     },
     "61ee4aff76384f65b1724fba13e0130d": {
      "model_module": "@jupyter-widgets/controls",
      "model_module_version": "1.4.0",
      "model_name": "ButtonStyleModel",
      "state": {}
     },
     "620bbcf8d01548e289c523158086e433": {
      "model_module": "@jupyter-widgets/base",
      "model_module_version": "1.1.0",
      "model_name": "LayoutModel",
      "state": {}
     },
     "621b18f573d149f789f1c048c5e70b2b": {
      "model_module": "@jupyter-widgets/controls",
      "model_module_version": "1.4.0",
      "model_name": "ButtonModel",
      "state": {
       "description": "First",
       "layout": "IPY_MODEL_f06d8edcbe324d9fa9026e10faf5bbdb",
       "style": "IPY_MODEL_d30768f1701541f98e51d321aee276f8"
      }
     },
     "62b55c41646a48f998ec355f3edaad11": {
      "model_module": "@jupyter-widgets/controls",
      "model_module_version": "1.4.0",
      "model_name": "ButtonModel",
      "state": {
       "description": "First",
       "layout": "IPY_MODEL_2749b44d55194f1f97932698a02b3ce3",
       "style": "IPY_MODEL_88d180f48aae494ba04ff1f8e18f13ac"
      }
     },
     "62b7a5314e2b4388b35699dbea457c08": {
      "model_module": "@jupyter-widgets/base",
      "model_module_version": "1.1.0",
      "model_name": "LayoutModel",
      "state": {}
     },
     "62dabe7fb523422990a5a5661b8e6e21": {
      "model_module": "@jupyter-widgets/base",
      "model_module_version": "1.1.0",
      "model_name": "LayoutModel",
      "state": {}
     },
     "6385c1659a98458f944e8254ca1545ec": {
      "model_module": "@jupyter-widgets/controls",
      "model_module_version": "1.4.0",
      "model_name": "LinkModel",
      "state": {
       "source": [
        "IPY_MODEL_6585b6d2e23f476cafea1c2e558a25b2",
        "value"
       ],
       "target": [
        "IPY_MODEL_3b1fc1fa27bd47da997dba65ad02e4bb",
        "value"
       ]
      }
     },
     "639c00a4fdb34f5693acfa2971fbf125": {
      "model_module": "@jupyter-widgets/controls",
      "model_module_version": "1.4.0",
      "model_name": "VBoxModel",
      "state": {
       "children": [
        "IPY_MODEL_8540fbc4b30f4c1bacf8d85c27225d3d",
        "IPY_MODEL_d87188d9aa634eba8bcea9536063a035"
       ],
       "layout": "IPY_MODEL_73afba06d1ac498390c955a9c094c27d"
      }
     },
     "639fa855a69d42a38688cf3d4a4a6470": {
      "model_module": "@jupyter-widgets/controls",
      "model_module_version": "1.4.0",
      "model_name": "DescriptionStyleModel",
      "state": {
       "description_width": ""
      }
     },
     "63f39942e1a249b2905d8ba78fd03488": {
      "model_module": "@jupyter-widgets/controls",
      "model_module_version": "1.4.0",
      "model_name": "ButtonStyleModel",
      "state": {}
     },
     "6424242b14a24d98bd703db698d87b70": {
      "model_module": "@jupyter-widgets/controls",
      "model_module_version": "1.4.0",
      "model_name": "ButtonStyleModel",
      "state": {}
     },
     "646bd36051934de2b10d0e44412f0868": {
      "model_module": "@jupyter-widgets/base",
      "model_module_version": "1.1.0",
      "model_name": "LayoutModel",
      "state": {}
     },
     "647df37d456f482fa2e40728439ffe4e": {
      "model_module": "@jupyter-widgets/base",
      "model_module_version": "1.1.0",
      "model_name": "LayoutModel",
      "state": {
       "width": "99%"
      }
     },
     "6492edf35e8945e28308799c729cd3af": {
      "model_module": "@jupyter-widgets/controls",
      "model_module_version": "1.4.0",
      "model_name": "ButtonModel",
      "state": {
       "description": "Random",
       "layout": "IPY_MODEL_923352ece9d74e48bfeeca2a2205daf9",
       "style": "IPY_MODEL_ce67f95217274d03846246865cc8c8ef"
      }
     },
     "649d8c1bab0b4d31aaef6328b3d2d694": {
      "model_module": "@jupyter-widgets/base",
      "model_module_version": "1.1.0",
      "model_name": "LayoutModel",
      "state": {}
     },
     "64faebf468d54cef84c0885a3dd217b0": {
      "model_module": "@jupyter-widgets/controls",
      "model_module_version": "1.4.0",
      "model_name": "ButtonStyleModel",
      "state": {}
     },
     "65080459ab7c44f2a3e5d9d7f7a1d610": {
      "model_module": "@jupyter-widgets/base",
      "model_module_version": "1.1.0",
      "model_name": "LayoutModel",
      "state": {}
     },
     "6560b4b8af7d495fba8111b44aabee23": {
      "model_module": "@jupyter-widgets/controls",
      "model_module_version": "1.4.0",
      "model_name": "HBoxModel",
      "state": {
       "children": [
        "IPY_MODEL_cc75a43c6a8545d780e37a2a86091b28",
        "IPY_MODEL_6e26b90cd1764e46bc32271182bbbfaa"
       ],
       "layout": "IPY_MODEL_25258415bfad47f78a4ee3796b530d06"
      }
     },
     "6578fd4a6ac04216b3b090f5a6ff812e": {
      "model_module": "@jupyter-widgets/base",
      "model_module_version": "1.1.0",
      "model_name": "LayoutModel",
      "state": {}
     },
     "6585b6d2e23f476cafea1c2e558a25b2": {
      "model_module": "@jupyter-widgets/controls",
      "model_module_version": "1.4.0",
      "model_name": "BoundedIntTextModel",
      "state": {
       "layout": "IPY_MODEL_0db9c6f6acca4c039b88472e8f00f1db",
       "max": 60,
       "style": "IPY_MODEL_e7ba9a42088340a9bf132587359a1d08",
       "value": 42
      }
     },
     "65cb87ba441e4423a21a1f0c988b5e5a": {
      "model_module": "@jupyter-widgets/controls",
      "model_module_version": "1.4.0",
      "model_name": "ButtonModel",
      "state": {
       "description": "Last",
       "layout": "IPY_MODEL_fba97dc4f751448499f921bf38ad6de4",
       "style": "IPY_MODEL_fa21a1cc3f9d4e48b8d3015ca9a5af70"
      }
     },
     "661554cebb08427c8f7f4cc633ade833": {
      "model_module": "@jupyter-widgets/controls",
      "model_module_version": "1.4.0",
      "model_name": "ButtonStyleModel",
      "state": {}
     },
     "661705ad682f48b89d0ce401e5d5620a": {
      "model_module": "@jupyter-widgets/controls",
      "model_module_version": "1.4.0",
      "model_name": "HBoxModel",
      "state": {
       "children": [
        "IPY_MODEL_06bbc191e9f04ac3b2ec982abe7c4757",
        "IPY_MODEL_a01d59404a5e47bbbff4842551a6cabe",
        "IPY_MODEL_8f1149ee4f9e417ea23ae4f68e70f826",
        "IPY_MODEL_3411fe15be354de08bf16cf09574538a",
        "IPY_MODEL_9e9c38c7edc8445a83865f07aa97a5d9",
        "IPY_MODEL_1887da41cd2a43ebb9457f237e79e2e6"
       ],
       "layout": "IPY_MODEL_0a0b0b8d24ef433b8c7e673325b67a78"
      }
     },
     "663bb9f15c6847aa9d602d5105b80e4e": {
      "model_module": "@jupyter-widgets/controls",
      "model_module_version": "1.4.0",
      "model_name": "ButtonStyleModel",
      "state": {}
     },
     "668e0cc85575457e83386f65457b592a": {
      "model_module": "@jupyter-widgets/base",
      "model_module_version": "1.1.0",
      "model_name": "LayoutModel",
      "state": {}
     },
     "66c892a7b5094316a2fafdfb2b2067b0": {
      "model_module": "@jupyter-widgets/controls",
      "model_module_version": "1.4.0",
      "model_name": "ButtonStyleModel",
      "state": {}
     },
     "66f218f32b404c008d3dfef5d4a7d130": {
      "model_module": "@jupyter-widgets/controls",
      "model_module_version": "1.4.0",
      "model_name": "VBoxModel",
      "state": {
       "children": [
        "IPY_MODEL_8f9ae2aea32741d39621f94043b22fa6",
        "IPY_MODEL_175e3815ba4d47ffb3821d7a3c1b3957"
       ],
       "layout": "IPY_MODEL_f415d58c40974cf68c2c48ef92341b83"
      }
     },
     "672aacbd0b5c479081bc53f52ea47b98": {
      "model_module": "@jupyter-widgets/controls",
      "model_module_version": "1.4.0",
      "model_name": "ButtonModel",
      "state": {
       "description": "Last",
       "layout": "IPY_MODEL_38bcabee8c5e460589d3d770aad4e8b9",
       "style": "IPY_MODEL_ce78d744e49642d68698dbb92e5249b0"
      }
     },
     "67449972c67d45589fb3b625b859bd7b": {
      "model_module": "@jupyter-widgets/controls",
      "model_module_version": "1.4.0",
      "model_name": "DescriptionStyleModel",
      "state": {
       "description_width": ""
      }
     },
     "680770d018e0423c850e96982acc8047": {
      "model_module": "@jupyter-widgets/base",
      "model_module_version": "1.1.0",
      "model_name": "LayoutModel",
      "state": {}
     },
     "681f38d7900c469ebd4f37cfc5c1b273": {
      "model_module": "@jupyter-widgets/controls",
      "model_module_version": "1.4.0",
      "model_name": "ButtonModel",
      "state": {
       "description": "Prev",
       "layout": "IPY_MODEL_bb4bc4490e304c219a2a40d2044eb39f",
       "style": "IPY_MODEL_49c35362d7cf4c45abdca42bf67f99c0"
      }
     },
     "6826c92b87d543b7b892cc117414a988": {
      "model_module": "@jupyter-widgets/base",
      "model_module_version": "1.1.0",
      "model_name": "LayoutModel",
      "state": {}
     },
     "692570f274ee4a4d8ee775177049a116": {
      "model_module": "@jupyter-widgets/base",
      "model_module_version": "1.1.0",
      "model_name": "LayoutModel",
      "state": {
       "width": "99%"
      }
     },
     "694d04d215b448588b4555831984c4e9": {
      "model_module": "@jupyter-widgets/controls",
      "model_module_version": "1.4.0",
      "model_name": "ButtonModel",
      "state": {
       "description": "First",
       "layout": "IPY_MODEL_43731fdb3a1f446cb32824f2f438c7dd",
       "style": "IPY_MODEL_84fad0405cd7444dadb8486fad022013"
      }
     },
     "69eb6951817b4e24a295d3cbcbc004c6": {
      "model_module": "@jupyter-widgets/controls",
      "model_module_version": "1.4.0",
      "model_name": "HBoxModel",
      "state": {
       "children": [
        "IPY_MODEL_694d04d215b448588b4555831984c4e9",
        "IPY_MODEL_681f38d7900c469ebd4f37cfc5c1b273",
        "IPY_MODEL_3a5b7d0a836d42b099c0dac4554ac6ef",
        "IPY_MODEL_940cf3eae8e549849264a2e52e4f94f6",
        "IPY_MODEL_412192a2fdff4f17969018214a78358a",
        "IPY_MODEL_f759af20ec084dcf81ea2cd4d0fb50a4"
       ],
       "layout": "IPY_MODEL_1ac13c7af9954d62aa09edbd15b3e287"
      }
     },
     "69f9c6c529a749ee97cd24625b599945": {
      "model_module": "@jupyter-widgets/base",
      "model_module_version": "1.1.0",
      "model_name": "LayoutModel",
      "state": {}
     },
     "6ac2d9a8eb164765a9858aba2fad5d67": {
      "model_module": "@jupyter-widgets/base",
      "model_module_version": "1.1.0",
      "model_name": "LayoutModel",
      "state": {}
     },
     "6acebdcd9fff41f1b1875194388c9787": {
      "model_module": "@jupyter-widgets/base",
      "model_module_version": "1.1.0",
      "model_name": "LayoutModel",
      "state": {}
     },
     "6b032eb0d87a46b0b2357561903afa24": {
      "model_module": "@jupyter-widgets/controls",
      "model_module_version": "1.4.0",
      "model_name": "ButtonModel",
      "state": {
       "description": "Random",
       "layout": "IPY_MODEL_115b526e2632477788dbcfe0db370481",
       "style": "IPY_MODEL_709a2eb52ffc4378a1698c05c79a7d3a"
      }
     },
     "6b5f1d6b930445b286411b9c1ca9f443": {
      "model_module": "@jupyter-widgets/controls",
      "model_module_version": "1.4.0",
      "model_name": "SliderStyleModel",
      "state": {
       "description_width": ""
      }
     },
     "6b8a5eb0a7504a388a076073209a1247": {
      "model_module": "@jupyter-widgets/base",
      "model_module_version": "1.1.0",
      "model_name": "LayoutModel",
      "state": {}
     },
     "6c0aa38ac78c4df1ad1ff4295d714ac1": {
      "model_module": "@jupyter-widgets/controls",
      "model_module_version": "1.4.0",
      "model_name": "ButtonModel",
      "state": {
       "description": "Random",
       "layout": "IPY_MODEL_287638c76d384ff3a6d8b1327215d0b0",
       "style": "IPY_MODEL_2b44e9de27ef48c3a9f0016cd8634791"
      }
     },
     "6c3baa4a109643d2be1d7ffa30a9217e": {
      "model_module": "@jupyter-widgets/controls",
      "model_module_version": "1.4.0",
      "model_name": "LinkModel",
      "state": {
       "source": [
        "IPY_MODEL_ea9bae60c7bd437fa18be1498f6d769e",
        "value"
       ],
       "target": [
        "IPY_MODEL_bca6a238cdaa4ece8765e233884216a7",
        "value"
       ]
      }
     },
     "6d0f256d77c94a58a8b5178319fcf198": {
      "model_module": "@jupyter-widgets/base",
      "model_module_version": "1.1.0",
      "model_name": "LayoutModel",
      "state": {}
     },
     "6d591c1acb10417daa4b37b068b02bed": {
      "model_module": "@jupyter-widgets/base",
      "model_module_version": "1.1.0",
      "model_name": "LayoutModel",
      "state": {
       "width": "99%"
      }
     },
     "6dad3db0536b44089bf6723a52e12170": {
      "model_module": "@jupyter-widgets/controls",
      "model_module_version": "1.4.0",
      "model_name": "ButtonStyleModel",
      "state": {}
     },
     "6e26b90cd1764e46bc32271182bbbfaa": {
      "model_module": "@jupyter-widgets/controls",
      "model_module_version": "1.4.0",
      "model_name": "HTMLModel",
      "state": {
       "layout": "IPY_MODEL_adef9003e3714d6782b8cd0aed9e9d03",
       "style": "IPY_MODEL_15ce7d86ea914a06ae574b4a1b864473",
       "value": " 11% 319/2920 [00:40&lt;03:36, 12.01it/s]"
      }
     },
     "6e7a4103979d4877beebcee285d2eb02": {
      "model_module": "@jupyter-widgets/controls",
      "model_module_version": "1.4.0",
      "model_name": "IntSliderModel",
      "state": {
       "layout": "IPY_MODEL_6d591c1acb10417daa4b37b068b02bed",
       "max": 61,
       "readout": false,
       "style": "IPY_MODEL_c27739c093c34f2193f743dddf1a2e60",
       "value": 6
      }
     },
     "6f497712d4c64be08e7ecd55e975281d": {
      "model_module": "@jupyter-widgets/controls",
      "model_module_version": "1.4.0",
      "model_name": "ButtonStyleModel",
      "state": {}
     },
     "6f98978337be4eed876ca0291d741c0a": {
      "model_module": "@jupyter-widgets/base",
      "model_module_version": "1.1.0",
      "model_name": "LayoutModel",
      "state": {}
     },
     "709a2eb52ffc4378a1698c05c79a7d3a": {
      "model_module": "@jupyter-widgets/controls",
      "model_module_version": "1.4.0",
      "model_name": "ButtonStyleModel",
      "state": {}
     },
     "70aca00a082041989e521ebba296e456": {
      "model_module": "@jupyter-widgets/base",
      "model_module_version": "1.1.0",
      "model_name": "LayoutModel",
      "state": {}
     },
     "71bdbea4008345779ed320bff5a86d59": {
      "model_module": "@jupyter-widgets/base",
      "model_module_version": "1.1.0",
      "model_name": "LayoutModel",
      "state": {}
     },
     "726ea8ffc6c246a08497b29c7bc61292": {
      "model_module": "@jupyter-widgets/controls",
      "model_module_version": "1.4.0",
      "model_name": "IntProgressModel",
      "state": {
       "bar_style": "success",
       "layout": "IPY_MODEL_bc991ecea6d745f2ab0cfda0be45e74f",
       "max": 2920,
       "style": "IPY_MODEL_6157ec00fca149178ab61d542895ddf5",
       "value": 2920
      }
     },
     "73afba06d1ac498390c955a9c094c27d": {
      "model_module": "@jupyter-widgets/base",
      "model_module_version": "1.1.0",
      "model_name": "LayoutModel",
      "state": {}
     },
     "73c4edcbf969432cb7b7e1a18db293b4": {
      "model_module": "@jupyter-widgets/controls",
      "model_module_version": "1.4.0",
      "model_name": "VBoxModel",
      "state": {
       "children": [
        "IPY_MODEL_889dd66a0e104902a90d81cdf231c8c4",
        "IPY_MODEL_369d8b2146b044ffa8ae8d127294d549"
       ],
       "layout": "IPY_MODEL_8abcf92598d44ad88b2a01246ff9fd81"
      }
     },
     "74318df01587496c93f68871a3fe481c": {
      "model_module": "@jupyter-widgets/controls",
      "model_module_version": "1.4.0",
      "model_name": "DescriptionStyleModel",
      "state": {
       "description_width": ""
      }
     },
     "74c4591f4f3d48719b94c70771410cb9": {
      "model_module": "@jupyter-widgets/base",
      "model_module_version": "1.1.0",
      "model_name": "LayoutModel",
      "state": {}
     },
     "75191e4737324685b143b67c736a69c5": {
      "model_module": "@jupyter-widgets/controls",
      "model_module_version": "1.4.0",
      "model_name": "HTMLModel",
      "state": {
       "layout": "IPY_MODEL_bcad4bab57f347a39fcdc1041bc2a9d7",
       "style": "IPY_MODEL_f707b43f15b14c61a0b203d28c1e6eca",
       "value": "100% 2920/2920 [01:45&lt;00:00, 27.57it/s]"
      }
     },
     "757fb583713f46d58fbe54e2fe42ef72": {
      "model_module": "@jupyter-widgets/base",
      "model_module_version": "1.1.0",
      "model_name": "LayoutModel",
      "state": {}
     },
     "75854a5b983446ffb4a721d5afc72e6a": {
      "model_module": "@jupyter-widgets/base",
      "model_module_version": "1.1.0",
      "model_name": "LayoutModel",
      "state": {}
     },
     "75ce15a1cba341a599fee975853c9648": {
      "model_module": "@jupyter-widgets/controls",
      "model_module_version": "1.4.0",
      "model_name": "VBoxModel",
      "state": {
       "children": [
        "IPY_MODEL_d47d87ddb03a40ea8b634a25ff859bcf",
        "IPY_MODEL_d82b80be916d4a9b8cfdf02b6375589b"
       ],
       "layout": "IPY_MODEL_33755128f6dd4cfb984c0cb79df7ac6b"
      }
     },
     "75ffda4b2cd1449aa8b8cd17e9e5f46e": {
      "model_module": "@jupyter-widgets/controls",
      "model_module_version": "1.4.0",
      "model_name": "ButtonModel",
      "state": {
       "description": "Next",
       "layout": "IPY_MODEL_a6be05ccaf024c948954710634df3c16",
       "style": "IPY_MODEL_11a30716dfed4e3181187f7f477d55ec"
      }
     },
     "763ea42b0d9048db9f2935b655c457f2": {
      "model_module": "@jupyter-widgets/controls",
      "model_module_version": "1.4.0",
      "model_name": "ButtonModel",
      "state": {
       "description": "First",
       "layout": "IPY_MODEL_35beadf80ed44e66b2b6d0724ec6e40c",
       "style": "IPY_MODEL_0aee852c11024054a42434457196beef"
      }
     },
     "7708a9cf2fb4493786d3b53583a9b6d3": {
      "model_module": "@jupyter-widgets/controls",
      "model_module_version": "1.4.0",
      "model_name": "ButtonModel",
      "state": {
       "description": "Last",
       "layout": "IPY_MODEL_324b6631516143ba83324a6379babdf5",
       "style": "IPY_MODEL_a962069d09014773b7a388c3e2564c40"
      }
     },
     "775b7a91cce94c978a32c587a2f5ba9f": {
      "model_module": "@jupyter-widgets/controls",
      "model_module_version": "1.4.0",
      "model_name": "IntProgressModel",
      "state": {
       "bar_style": "success",
       "layout": "IPY_MODEL_e08e18c2891e440490e02de67479e83b",
       "max": 2920,
       "style": "IPY_MODEL_33cf4ff908c3460ab2b2c4271c1e1fc0",
       "value": 2920
      }
     },
     "77a90a3ea9484bb78fc28a1e3688ba42": {
      "model_module": "@jupyter-widgets/base",
      "model_module_version": "1.1.0",
      "model_name": "LayoutModel",
      "state": {
       "width": "99%"
      }
     },
     "77aba2ea20244aa381459f8a5b6472ec": {
      "model_module": "@jupyter-widgets/base",
      "model_module_version": "1.1.0",
      "model_name": "LayoutModel",
      "state": {}
     },
     "785eded72ecd47cfa37d2c774fe7809c": {
      "model_module": "@jupyter-widgets/controls",
      "model_module_version": "1.4.0",
      "model_name": "ButtonStyleModel",
      "state": {}
     },
     "78af389305f94d1b8bdd21acfe0aa135": {
      "model_module": "@jupyter-widgets/controls",
      "model_module_version": "1.4.0",
      "model_name": "ButtonModel",
      "state": {
       "description": "Last",
       "layout": "IPY_MODEL_c44b44d6becb4784b02cb7cf90054bf7",
       "style": "IPY_MODEL_01dd56afbfc446189a474f8dcccd0157"
      }
     },
     "79985da5257849adbdf3a8584ef07715": {
      "model_module": "@jupyter-widgets/base",
      "model_module_version": "1.1.0",
      "model_name": "LayoutModel",
      "state": {}
     },
     "7ab24f6345534681a21c13f3f0e6b700": {
      "model_module": "@jupyter-widgets/base",
      "model_module_version": "1.1.0",
      "model_name": "LayoutModel",
      "state": {}
     },
     "7ae69e19b2ee46528152535931f18804": {
      "model_module": "@jupyter-widgets/controls",
      "model_module_version": "1.4.0",
      "model_name": "LinkModel",
      "state": {
       "source": [
        "IPY_MODEL_444502302caa45adb9adaebc1e45a601",
        "value"
       ],
       "target": [
        "IPY_MODEL_ae47bcef303e4c25a5ec7e5d2aa2cd5b",
        "value"
       ]
      }
     },
     "7b12f5ea33d040f59374506bce02007c": {
      "model_module": "@jupyter-widgets/controls",
      "model_module_version": "1.4.0",
      "model_name": "ButtonModel",
      "state": {
       "description": "Prev",
       "layout": "IPY_MODEL_af6c8a05d9f444298a312b039f0d4301",
       "style": "IPY_MODEL_8b5916fa72434cbaae0beb682491f4f0"
      }
     },
     "7b2605d2fe6f4266927dd47da0152b77": {
      "model_module": "@jupyter-widgets/controls",
      "model_module_version": "1.4.0",
      "model_name": "DescriptionStyleModel",
      "state": {
       "description_width": ""
      }
     },
     "7b3d0688496d4d3bbd031a5debecfb59": {
      "model_module": "@jupyter-widgets/base",
      "model_module_version": "1.1.0",
      "model_name": "LayoutModel",
      "state": {}
     },
     "7b72cc49ed15496d85e019938ad244b9": {
      "model_module": "@jupyter-widgets/base",
      "model_module_version": "1.1.0",
      "model_name": "LayoutModel",
      "state": {}
     },
     "7bb618f1c49842668e6702378da6ed03": {
      "model_module": "@jupyter-widgets/controls",
      "model_module_version": "1.4.0",
      "model_name": "ButtonModel",
      "state": {
       "description": "Random",
       "layout": "IPY_MODEL_75854a5b983446ffb4a721d5afc72e6a",
       "style": "IPY_MODEL_99446328088843e5899d557702031e81"
      }
     },
     "7bcfe66e27b74cf8be331f62c580499b": {
      "model_module": "@jupyter-widgets/base",
      "model_module_version": "1.1.0",
      "model_name": "LayoutModel",
      "state": {}
     },
     "7beed4c46ec64d7c98955bfb7ae37abb": {
      "model_module": "@jupyter-widgets/controls",
      "model_module_version": "1.4.0",
      "model_name": "ButtonStyleModel",
      "state": {}
     },
     "7c06c93ace484f4fb03da8ea6594f166": {
      "model_module": "@jupyter-widgets/controls",
      "model_module_version": "1.4.0",
      "model_name": "LinkModel",
      "state": {
       "source": [
        "IPY_MODEL_965dc5d4ac414876b6c9b3afada79f15",
        "value"
       ],
       "target": [
        "IPY_MODEL_0fce0b97c4e74ddd9b792bd2ace0f9c6",
        "value"
       ]
      }
     },
     "7cc23ca1c0344200ad5ffb71772b4bf8": {
      "model_module": "@jupyter-widgets/controls",
      "model_module_version": "1.4.0",
      "model_name": "ButtonStyleModel",
      "state": {}
     },
     "7cdc6987217e42bc9ae90b1e32334161": {
      "model_module": "@jupyter-widgets/controls",
      "model_module_version": "1.4.0",
      "model_name": "BoundedIntTextModel",
      "state": {
       "layout": "IPY_MODEL_214b9ab71514436c81de037f10dc4ba4",
       "max": 60,
       "style": "IPY_MODEL_b9f4fd94f52246f09a95226d50759865"
      }
     },
     "7d2942ad24b640c8ad377b383c09254b": {
      "model_module": "@jupyter-widgets/controls",
      "model_module_version": "1.4.0",
      "model_name": "ButtonModel",
      "state": {
       "description": "Prev",
       "layout": "IPY_MODEL_4e8c62b74f8d4078bb1d203ca36d9829",
       "style": "IPY_MODEL_dc61bc3c686e49f7adee3cc49633d0d1"
      }
     },
     "7deaa5ef5b1f4d5299bc87398c554dc8": {
      "model_module": "@jupyter-widgets/base",
      "model_module_version": "1.1.0",
      "model_name": "LayoutModel",
      "state": {}
     },
     "7e1e9795ec6a4e9390c880555c76f7d7": {
      "model_module": "@jupyter-widgets/controls",
      "model_module_version": "1.4.0",
      "model_name": "IntSliderModel",
      "state": {
       "layout": "IPY_MODEL_27c5e90517e2436dbc78b50fc808d232",
       "max": 61,
       "readout": false,
       "style": "IPY_MODEL_16913ba1b83f43b38cab94cfe41d0e2a",
       "value": 19
      }
     },
     "7e596fc6757f44238c00c2c0bd81156c": {
      "model_module": "@jupyter-widgets/controls",
      "model_module_version": "1.4.0",
      "model_name": "ButtonStyleModel",
      "state": {}
     },
     "7e943f76918f49ef8d04aca54b3bd1ac": {
      "model_module": "@jupyter-widgets/base",
      "model_module_version": "1.1.0",
      "model_name": "LayoutModel",
      "state": {}
     },
     "7f3e19bc835847f8a9c962e4c8bc21b1": {
      "model_module": "@jupyter-widgets/controls",
      "model_module_version": "1.4.0",
      "model_name": "HBoxModel",
      "state": {
       "children": [
        "IPY_MODEL_621b18f573d149f789f1c048c5e70b2b",
        "IPY_MODEL_9536a5fcdb7d449e8675bb1f01dfb87f",
        "IPY_MODEL_f324dd0425ad44b9ac5c852fe98f3a02",
        "IPY_MODEL_0fadabb6f03543058a1ef8be417b82a7",
        "IPY_MODEL_65cb87ba441e4423a21a1f0c988b5e5a",
        "IPY_MODEL_7bb618f1c49842668e6702378da6ed03"
       ],
       "layout": "IPY_MODEL_a502039f27e34ed5b1c8b7f59fa98aad"
      }
     },
     "7f42f28ae20d4d2b89ec80f09273a68d": {
      "model_module": "@jupyter-widgets/controls",
      "model_module_version": "1.4.0",
      "model_name": "DescriptionStyleModel",
      "state": {
       "description_width": ""
      }
     },
     "7f67595f4eba432bbb0df4e98b770541": {
      "model_module": "@jupyter-widgets/controls",
      "model_module_version": "1.4.0",
      "model_name": "ButtonModel",
      "state": {
       "description": "First",
       "layout": "IPY_MODEL_373f77dd571f4092a2caacfab258910b",
       "style": "IPY_MODEL_7e596fc6757f44238c00c2c0bd81156c"
      }
     },
     "7f82efa359134686846fa7baf5594808": {
      "model_module": "@jupyter-widgets/controls",
      "model_module_version": "1.4.0",
      "model_name": "ButtonModel",
      "state": {
       "description": "Prev",
       "layout": "IPY_MODEL_d88fdeee3aae4403beb20a0744220b7e",
       "style": "IPY_MODEL_4e8acb28a0994a1d93e38aecd8dd1d97"
      }
     },
     "7fdbb2e0255f4c2cb0465f39be32b230": {
      "model_module": "@jupyter-widgets/controls",
      "model_module_version": "1.4.0",
      "model_name": "IntSliderModel",
      "state": {
       "layout": "IPY_MODEL_c6b32d525ae043428672be5fc2fb2e73",
       "max": 60,
       "readout": false,
       "style": "IPY_MODEL_b57af971e40041feaa13b102fa81a471"
      }
     },
     "80a2e38c498d4648aa070e629951c486": {
      "model_module": "@jupyter-widgets/controls",
      "model_module_version": "1.4.0",
      "model_name": "ButtonStyleModel",
      "state": {}
     },
     "80bb08b3027440afbdaec3d1aa7c9949": {
      "model_module": "@jupyter-widgets/base",
      "model_module_version": "1.1.0",
      "model_name": "LayoutModel",
      "state": {}
     },
     "8177884d45934bc3b28b8fdcf46a45c2": {
      "model_module": "@jupyter-widgets/controls",
      "model_module_version": "1.4.0",
      "model_name": "ButtonStyleModel",
      "state": {}
     },
     "81f86a685aa441238f2391aa7ac9f945": {
      "model_module": "@jupyter-widgets/controls",
      "model_module_version": "1.4.0",
      "model_name": "ButtonStyleModel",
      "state": {}
     },
     "8298aabe4bbd469b95a2a4347d65bd0b": {
      "model_module": "@jupyter-widgets/controls",
      "model_module_version": "1.4.0",
      "model_name": "ButtonModel",
      "state": {
       "description": "First",
       "layout": "IPY_MODEL_8fd34ac79e4842dcb7587058a2179570",
       "style": "IPY_MODEL_4bf82527a0e1453fbd8cc41f6a8847f8"
      }
     },
     "82d81f1fe6de442aa6c3771a82e07126": {
      "model_module": "@jupyter-widgets/base",
      "model_module_version": "1.1.0",
      "model_name": "LayoutModel",
      "state": {}
     },
     "839d1413f50f49908c53ce01a12e6aef": {
      "model_module": "@jupyter-widgets/controls",
      "model_module_version": "1.4.0",
      "model_name": "ButtonModel",
      "state": {
       "description": "Random",
       "layout": "IPY_MODEL_4683f59dcc574c2cbf04028596730385",
       "style": "IPY_MODEL_8d63e39271974fbc89e3f38f54376554"
      }
     },
     "8451e913f675418da5a8baaaad01d51e": {
      "model_module": "@jupyter-widgets/base",
      "model_module_version": "1.1.0",
      "model_name": "LayoutModel",
      "state": {}
     },
     "84a37a703aef4092ba9d0f2f3b67f84f": {
      "model_module": "@jupyter-widgets/controls",
      "model_module_version": "1.4.0",
      "model_name": "LinkModel",
      "state": {
       "source": [
        "IPY_MODEL_431b7f348e664c10b447149252202ecb",
        "value"
       ],
       "target": [
        "IPY_MODEL_d41adcb83d9c4014ace0bdf617891953",
        "value"
       ]
      }
     },
     "84fad0405cd7444dadb8486fad022013": {
      "model_module": "@jupyter-widgets/controls",
      "model_module_version": "1.4.0",
      "model_name": "ButtonStyleModel",
      "state": {}
     },
     "84fb89e7db33448799bffff65657ac49": {
      "model_module": "@jupyter-widgets/controls",
      "model_module_version": "1.4.0",
      "model_name": "SliderStyleModel",
      "state": {
       "description_width": ""
      }
     },
     "850385986ace4524a22d20aff9d08a13": {
      "model_module": "@jupyter-widgets/controls",
      "model_module_version": "1.4.0",
      "model_name": "HBoxModel",
      "state": {
       "children": [
        "IPY_MODEL_2d0d1dc5afd34287839e94109765c00c",
        "IPY_MODEL_88834d7e9b794badb88eff3addc8a8ef",
        "IPY_MODEL_1f94b5b08a864c1a95448dd9d2df40e3",
        "IPY_MODEL_75ffda4b2cd1449aa8b8cd17e9e5f46e",
        "IPY_MODEL_672aacbd0b5c479081bc53f52ea47b98",
        "IPY_MODEL_da11767554564f05b3f906ed07415a34"
       ],
       "layout": "IPY_MODEL_6578fd4a6ac04216b3b090f5a6ff812e"
      }
     },
     "853f28ff667b4d6081e9d19b5928c2d8": {
      "model_module": "@jupyter-widgets/base",
      "model_module_version": "1.1.0",
      "model_name": "LayoutModel",
      "state": {}
     },
     "8540fbc4b30f4c1bacf8d85c27225d3d": {
      "model_module": "@jupyter-widgets/controls",
      "model_module_version": "1.4.0",
      "model_name": "HBoxModel",
      "state": {
       "children": [
        "IPY_MODEL_ab090dc4a84d450fb38e6ad3e7f3cc2d",
        "IPY_MODEL_cfa35a03d7594328995e6ebf4fa29da2",
        "IPY_MODEL_8db0821c1a1a41d68f6be2a8daa15bc0",
        "IPY_MODEL_3506e759567d424bb254eccd9bab8c1e",
        "IPY_MODEL_3723da5f3c5a4f75a83309f1d91f2beb",
        "IPY_MODEL_3e7ec25ee4f249f9836e36ae4a368323"
       ],
       "layout": "IPY_MODEL_fcddd338af5942a181962c560f9f912c"
      }
     },
     "85bd3e424e0545e09a515ac90f35fcfd": {
      "model_module": "@jupyter-widgets/controls",
      "model_module_version": "1.4.0",
      "model_name": "ButtonStyleModel",
      "state": {}
     },
     "85be7b8b81d44203b0976416c0a3d3b4": {
      "model_module": "@jupyter-widgets/controls",
      "model_module_version": "1.4.0",
      "model_name": "HBoxModel",
      "state": {
       "children": [
        "IPY_MODEL_9229b2ed7e2340abad6f22337dcb7f36",
        "IPY_MODEL_31f5b907b3da4f359e4d65b4dc27a353"
       ],
       "layout": "IPY_MODEL_eec372571fbf4fcfa345f8cedc0440df"
      }
     },
     "8702c76298d34b0ca589e00768b1333b": {
      "model_module": "@jupyter-widgets/base",
      "model_module_version": "1.1.0",
      "model_name": "LayoutModel",
      "state": {}
     },
     "87d77f64c6e3428eb5244d69608a4062": {
      "model_module": "@jupyter-widgets/controls",
      "model_module_version": "1.4.0",
      "model_name": "SliderStyleModel",
      "state": {
       "description_width": ""
      }
     },
     "88834d7e9b794badb88eff3addc8a8ef": {
      "model_module": "@jupyter-widgets/controls",
      "model_module_version": "1.4.0",
      "model_name": "ButtonModel",
      "state": {
       "description": "Prev",
       "layout": "IPY_MODEL_7b72cc49ed15496d85e019938ad244b9",
       "style": "IPY_MODEL_0d284061ca674fa18cf5d033a21944c6"
      }
     },
     "88975caf254749a0a65c6d6b11acfb16": {
      "model_module": "@jupyter-widgets/base",
      "model_module_version": "1.1.0",
      "model_name": "LayoutModel",
      "state": {}
     },
     "889dd66a0e104902a90d81cdf231c8c4": {
      "model_module": "@jupyter-widgets/controls",
      "model_module_version": "1.4.0",
      "model_name": "HBoxModel",
      "state": {
       "children": [
        "IPY_MODEL_763ea42b0d9048db9f2935b655c457f2",
        "IPY_MODEL_52f6c92e5e1948e6afaf450aabc6b148",
        "IPY_MODEL_0adb8befe79044ff93d3852f55c74314",
        "IPY_MODEL_39ec8c825ae74cb4abca32d79a28315f",
        "IPY_MODEL_aa8a53dd540e46a48e2fccf8e12e28c3",
        "IPY_MODEL_98510b7e06b34303a981ded5a7e63de1"
       ],
       "layout": "IPY_MODEL_77aba2ea20244aa381459f8a5b6472ec"
      }
     },
     "88aed5e1ac0647ef93adefef26454a2a": {
      "model_module": "@jupyter-widgets/controls",
      "model_module_version": "1.4.0",
      "model_name": "ButtonStyleModel",
      "state": {}
     },
     "88d180f48aae494ba04ff1f8e18f13ac": {
      "model_module": "@jupyter-widgets/controls",
      "model_module_version": "1.4.0",
      "model_name": "ButtonStyleModel",
      "state": {}
     },
     "8aa6a90c4c4a464eaa30f7631b7c46ae": {
      "model_module": "@jupyter-widgets/controls",
      "model_module_version": "1.4.0",
      "model_name": "ButtonModel",
      "state": {
       "description": "Last",
       "layout": "IPY_MODEL_62b7a5314e2b4388b35699dbea457c08",
       "style": "IPY_MODEL_4ba785ce138a4383a1f8488b7bd95694"
      }
     },
     "8aa93a4f27084234a84d9873c4b767b9": {
      "model_module": "@jupyter-widgets/base",
      "model_module_version": "1.1.0",
      "model_name": "LayoutModel",
      "state": {}
     },
     "8abcf92598d44ad88b2a01246ff9fd81": {
      "model_module": "@jupyter-widgets/base",
      "model_module_version": "1.1.0",
      "model_name": "LayoutModel",
      "state": {}
     },
     "8b5916fa72434cbaae0beb682491f4f0": {
      "model_module": "@jupyter-widgets/controls",
      "model_module_version": "1.4.0",
      "model_name": "ButtonStyleModel",
      "state": {}
     },
     "8d63e39271974fbc89e3f38f54376554": {
      "model_module": "@jupyter-widgets/controls",
      "model_module_version": "1.4.0",
      "model_name": "ButtonStyleModel",
      "state": {}
     },
     "8db0821c1a1a41d68f6be2a8daa15bc0": {
      "model_module": "@jupyter-widgets/controls",
      "model_module_version": "1.4.0",
      "model_name": "BoundedIntTextModel",
      "state": {
       "layout": "IPY_MODEL_56922129227949fe83553229c65ec257",
       "max": 61,
       "style": "IPY_MODEL_0ac2311acc1442d8b578fb4bc0c18167",
       "value": 18
      }
     },
     "8e07c56e34f04a8996d21f3d250a8e20": {
      "model_module": "@jupyter-widgets/controls",
      "model_module_version": "1.4.0",
      "model_name": "ButtonModel",
      "state": {
       "description": "Last",
       "layout": "IPY_MODEL_f441c599e7bf411caac8d449a0c096b1",
       "style": "IPY_MODEL_6dad3db0536b44089bf6723a52e12170"
      }
     },
     "8e635b282d814b05ac483f4eee6c1f87": {
      "model_module": "@jupyter-widgets/controls",
      "model_module_version": "1.4.0",
      "model_name": "ButtonStyleModel",
      "state": {}
     },
     "8ef5a29384f14139979a8249ab6cca20": {
      "model_module": "@jupyter-widgets/controls",
      "model_module_version": "1.4.0",
      "model_name": "IntSliderModel",
      "state": {
       "layout": "IPY_MODEL_2c04e17c795745389d5024568ec3faae",
       "max": 8,
       "readout": false,
       "style": "IPY_MODEL_0623fbaa344d4476a653f6e3a4cdddd4"
      }
     },
     "8f1149ee4f9e417ea23ae4f68e70f826": {
      "model_module": "@jupyter-widgets/controls",
      "model_module_version": "1.4.0",
      "model_name": "BoundedIntTextModel",
      "state": {
       "layout": "IPY_MODEL_74c4591f4f3d48719b94c70771410cb9",
       "max": 8,
       "style": "IPY_MODEL_a93cf9a5181a4afc8eadbab7be578ef4"
      }
     },
     "8f9ae2aea32741d39621f94043b22fa6": {
      "model_module": "@jupyter-widgets/controls",
      "model_module_version": "1.4.0",
      "model_name": "HBoxModel",
      "state": {
       "children": [
        "IPY_MODEL_03a8424bf754488f821821779d4f8484",
        "IPY_MODEL_54073dd3b8094d9cb3d05848213af9dc",
        "IPY_MODEL_b467dcab92e94e03af3ba40a7600800c",
        "IPY_MODEL_0ced38be1daf499aaab9a4f50e43df51",
        "IPY_MODEL_e8d8ecb63478437fa25c9cfcea1a4a40",
        "IPY_MODEL_6c0aa38ac78c4df1ad1ff4295d714ac1"
       ],
       "layout": "IPY_MODEL_9cd76bc92efe407198673798debba83b"
      }
     },
     "8fa08768e4154a48af78cd3c7d4ccac5": {
      "model_module": "@jupyter-widgets/base",
      "model_module_version": "1.1.0",
      "model_name": "LayoutModel",
      "state": {}
     },
     "8fd34ac79e4842dcb7587058a2179570": {
      "model_module": "@jupyter-widgets/base",
      "model_module_version": "1.1.0",
      "model_name": "LayoutModel",
      "state": {}
     },
     "90ba96cd0e344b1da7491f1d40060711": {
      "model_module": "@jupyter-widgets/base",
      "model_module_version": "1.1.0",
      "model_name": "LayoutModel",
      "state": {}
     },
     "90d26e8f7b274dfbb8f63067690e4f71": {
      "model_module": "@jupyter-widgets/controls",
      "model_module_version": "1.4.0",
      "model_name": "ButtonStyleModel",
      "state": {}
     },
     "9180a26d6a0944b8b88c1dd6ef73c8c3": {
      "model_module": "@jupyter-widgets/controls",
      "model_module_version": "1.4.0",
      "model_name": "ButtonModel",
      "state": {
       "description": "Prev",
       "layout": "IPY_MODEL_1b6b9a3024a0431b91043408de71540b",
       "style": "IPY_MODEL_ddfbc30455364ad48c5a1bebc69f4684"
      }
     },
     "91ae95aa5ac546e6a0d8842d7242cc24": {
      "model_module": "@jupyter-widgets/base",
      "model_module_version": "1.1.0",
      "model_name": "LayoutModel",
      "state": {}
     },
     "91f40435bc63426b9bd131ed7b9f6079": {
      "model_module": "@jupyter-widgets/controls",
      "model_module_version": "1.4.0",
      "model_name": "ButtonModel",
      "state": {
       "description": "Random",
       "layout": "IPY_MODEL_1d7ec7a1639f4d57939010ccbea3e71a",
       "style": "IPY_MODEL_cf569190bdad4151b3f1afeedf4fc697"
      }
     },
     "9229b2ed7e2340abad6f22337dcb7f36": {
      "model_module": "@jupyter-widgets/controls",
      "model_module_version": "1.4.0",
      "model_name": "IntProgressModel",
      "state": {
       "bar_style": "success",
       "layout": "IPY_MODEL_4a30f84868a54ecc8bd55e6084c965b7",
       "max": 2920,
       "style": "IPY_MODEL_c46d5c53699942e793817d8e16a27e90",
       "value": 2920
      }
     },
     "923352ece9d74e48bfeeca2a2205daf9": {
      "model_module": "@jupyter-widgets/base",
      "model_module_version": "1.1.0",
      "model_name": "LayoutModel",
      "state": {}
     },
     "925a5876ba9a4cb9b60c10cdc0e3a7eb": {
      "model_module": "@jupyter-widgets/controls",
      "model_module_version": "1.4.0",
      "model_name": "ButtonModel",
      "state": {
       "description": "Next",
       "layout": "IPY_MODEL_6f98978337be4eed876ca0291d741c0a",
       "style": "IPY_MODEL_7cc23ca1c0344200ad5ffb71772b4bf8"
      }
     },
     "9285bbccf81c49ea91131d1829dc4bf0": {
      "model_module": "@jupyter-widgets/controls",
      "model_module_version": "1.4.0",
      "model_name": "SliderStyleModel",
      "state": {
       "description_width": ""
      }
     },
     "932f42a044f54c27b806c8edc65d37ab": {
      "model_module": "@jupyter-widgets/base",
      "model_module_version": "1.1.0",
      "model_name": "LayoutModel",
      "state": {}
     },
     "940cf3eae8e549849264a2e52e4f94f6": {
      "model_module": "@jupyter-widgets/controls",
      "model_module_version": "1.4.0",
      "model_name": "ButtonModel",
      "state": {
       "description": "Next",
       "layout": "IPY_MODEL_e3bd5fa921a44b94b8d08f6a2925b08b",
       "style": "IPY_MODEL_8177884d45934bc3b28b8fdcf46a45c2"
      }
     },
     "94ce7f860cdd451aa49d6333ce6cae05": {
      "model_module": "@jupyter-widgets/base",
      "model_module_version": "1.1.0",
      "model_name": "LayoutModel",
      "state": {}
     },
     "9536a5fcdb7d449e8675bb1f01dfb87f": {
      "model_module": "@jupyter-widgets/controls",
      "model_module_version": "1.4.0",
      "model_name": "ButtonModel",
      "state": {
       "description": "Prev",
       "layout": "IPY_MODEL_6112f58aa0a24001a8e12d5b0376937f",
       "style": "IPY_MODEL_bf439c7f3ed141ad9ddb86b8cb5acd64"
      }
     },
     "95eb3e109e8e4239b0c849810068f950": {
      "model_module": "@jupyter-widgets/controls",
      "model_module_version": "1.4.0",
      "model_name": "IntSliderModel",
      "state": {
       "layout": "IPY_MODEL_07983b99bb9144089cc13e3fc59827d4",
       "max": 8,
       "readout": false,
       "style": "IPY_MODEL_87d77f64c6e3428eb5244d69608a4062"
      }
     },
     "96493cc48b784792b664e6f2663c7d34": {
      "model_module": "@jupyter-widgets/controls",
      "model_module_version": "1.4.0",
      "model_name": "ButtonModel",
      "state": {
       "description": "First",
       "layout": "IPY_MODEL_092ea27d225e4b02b581b34e9614b3d0",
       "style": "IPY_MODEL_d7904e65b1af45aba6f12138c0c7b192"
      }
     },
     "965dc5d4ac414876b6c9b3afada79f15": {
      "model_module": "@jupyter-widgets/controls",
      "model_module_version": "1.4.0",
      "model_name": "BoundedIntTextModel",
      "state": {
       "layout": "IPY_MODEL_1ea0d1cbf84e44448b4e6589bf63dc00",
       "max": 61,
       "style": "IPY_MODEL_639fa855a69d42a38688cf3d4a4a6470"
      }
     },
     "967f50772d784da9b535785438250afe": {
      "model_module": "@jupyter-widgets/controls",
      "model_module_version": "1.4.0",
      "model_name": "VBoxModel",
      "state": {
       "children": [
        "IPY_MODEL_ebf1a3a8802143968b6ca63deb51f86c",
        "IPY_MODEL_a5f6e48dd718488d88e2f2cf9e54141e"
       ],
       "layout": "IPY_MODEL_8aa93a4f27084234a84d9873c4b767b9"
      }
     },
     "96bd1e795dba4ab1bda610d661f81bbb": {
      "model_module": "@jupyter-widgets/controls",
      "model_module_version": "1.4.0",
      "model_name": "LinkModel",
      "state": {
       "source": [
        "IPY_MODEL_7cdc6987217e42bc9ae90b1e32334161",
        "value"
       ],
       "target": [
        "IPY_MODEL_d82b80be916d4a9b8cfdf02b6375589b",
        "value"
       ]
      }
     },
     "98203215f72d46e78280f7df7796aeca": {
      "model_module": "@jupyter-widgets/base",
      "model_module_version": "1.1.0",
      "model_name": "LayoutModel",
      "state": {}
     },
     "985047a25a2d47a187958b57b01741d5": {
      "model_module": "@jupyter-widgets/base",
      "model_module_version": "1.1.0",
      "model_name": "LayoutModel",
      "state": {}
     },
     "98510b7e06b34303a981ded5a7e63de1": {
      "model_module": "@jupyter-widgets/controls",
      "model_module_version": "1.4.0",
      "model_name": "ButtonModel",
      "state": {
       "description": "Random",
       "layout": "IPY_MODEL_9b140cf412ca46e88254bd65df58db79",
       "style": "IPY_MODEL_2c85b84f58dc4c9ab6b694894125a198"
      }
     },
     "99446328088843e5899d557702031e81": {
      "model_module": "@jupyter-widgets/controls",
      "model_module_version": "1.4.0",
      "model_name": "ButtonStyleModel",
      "state": {}
     },
     "9a457381d95b44f6927c5e59db84c849": {
      "model_module": "@jupyter-widgets/controls",
      "model_module_version": "1.4.0",
      "model_name": "DescriptionStyleModel",
      "state": {
       "description_width": ""
      }
     },
     "9a654ed5cb9345cc9644769a0be98b0e": {
      "model_module": "@jupyter-widgets/base",
      "model_module_version": "1.1.0",
      "model_name": "LayoutModel",
      "state": {}
     },
     "9ae9848644b44c2bbf06912c63b09120": {
      "model_module": "@jupyter-widgets/base",
      "model_module_version": "1.1.0",
      "model_name": "LayoutModel",
      "state": {}
     },
     "9b140cf412ca46e88254bd65df58db79": {
      "model_module": "@jupyter-widgets/base",
      "model_module_version": "1.1.0",
      "model_name": "LayoutModel",
      "state": {}
     },
     "9b5161a05ebb48ee9490e10b5eb9dcd4": {
      "model_module": "@jupyter-widgets/controls",
      "model_module_version": "1.4.0",
      "model_name": "ButtonModel",
      "state": {
       "description": "Last",
       "layout": "IPY_MODEL_6d0f256d77c94a58a8b5178319fcf198",
       "style": "IPY_MODEL_fd2add57a5374a27a8a546977ee6e820"
      }
     },
     "9c62f94889b14636a202ba4ff188357a": {
      "model_module": "@jupyter-widgets/base",
      "model_module_version": "1.1.0",
      "model_name": "LayoutModel",
      "state": {}
     },
     "9cb62fc090404138882b220dc695ad2d": {
      "model_module": "@jupyter-widgets/base",
      "model_module_version": "1.1.0",
      "model_name": "LayoutModel",
      "state": {}
     },
     "9cd00d8d995f4565a3efb3ce296530cc": {
      "model_module": "@jupyter-widgets/controls",
      "model_module_version": "1.4.0",
      "model_name": "BoundedIntTextModel",
      "state": {
       "layout": "IPY_MODEL_f77fcb17c142492987fb2cfd23e28fa0",
       "max": 8,
       "style": "IPY_MODEL_7b2605d2fe6f4266927dd47da0152b77"
      }
     },
     "9cd76bc92efe407198673798debba83b": {
      "model_module": "@jupyter-widgets/base",
      "model_module_version": "1.1.0",
      "model_name": "LayoutModel",
      "state": {}
     },
     "9da0f6fbf6314f46a7d832da46633d66": {
      "model_module": "@jupyter-widgets/controls",
      "model_module_version": "1.4.0",
      "model_name": "DescriptionStyleModel",
      "state": {
       "description_width": ""
      }
     },
     "9e9577d51d054bfdab9afbfd9b5bad1f": {
      "model_module": "@jupyter-widgets/base",
      "model_module_version": "1.1.0",
      "model_name": "LayoutModel",
      "state": {}
     },
     "9e9c38c7edc8445a83865f07aa97a5d9": {
      "model_module": "@jupyter-widgets/controls",
      "model_module_version": "1.4.0",
      "model_name": "ButtonModel",
      "state": {
       "description": "Last",
       "layout": "IPY_MODEL_9e9577d51d054bfdab9afbfd9b5bad1f",
       "style": "IPY_MODEL_ae6a11c1bbd849ac80d7b320991be856"
      }
     },
     "9f0364346a2349a3bb9e6938da3d23a3": {
      "model_module": "@jupyter-widgets/controls",
      "model_module_version": "1.4.0",
      "model_name": "ButtonModel",
      "state": {
       "description": "Next",
       "layout": "IPY_MODEL_9f0e0fbce78a42e4ab805888684b4605",
       "style": "IPY_MODEL_5b25f22ac28943d881cfb65bf064a6aa"
      }
     },
     "9f0e0fbce78a42e4ab805888684b4605": {
      "model_module": "@jupyter-widgets/base",
      "model_module_version": "1.1.0",
      "model_name": "LayoutModel",
      "state": {}
     },
     "a01d59404a5e47bbbff4842551a6cabe": {
      "model_module": "@jupyter-widgets/controls",
      "model_module_version": "1.4.0",
      "model_name": "ButtonModel",
      "state": {
       "description": "Prev",
       "layout": "IPY_MODEL_db6520e69fb44b1484cc95e7939035bd",
       "style": "IPY_MODEL_26a55f933b66449db33326cc126e4277"
      }
     },
     "a03c29435dda415fabe3558e837a7f4c": {
      "model_module": "@jupyter-widgets/controls",
      "model_module_version": "1.4.0",
      "model_name": "DescriptionStyleModel",
      "state": {
       "description_width": ""
      }
     },
     "a0631c82362046f3bf47e0c7d7de4d56": {
      "model_module": "@jupyter-widgets/controls",
      "model_module_version": "1.4.0",
      "model_name": "SliderStyleModel",
      "state": {
       "description_width": ""
      }
     },
     "a0be4ad6ab2044e7807b09c967dc7ebd": {
      "model_module": "@jupyter-widgets/controls",
      "model_module_version": "1.4.0",
      "model_name": "HBoxModel",
      "state": {
       "children": [
        "IPY_MODEL_58d993acf2e34a3483d8cc7badad6e0d",
        "IPY_MODEL_9180a26d6a0944b8b88c1dd6ef73c8c3",
        "IPY_MODEL_d4a1c2565f604532971639b8572eda61",
        "IPY_MODEL_c3a58357c90446e69ac37aa07e8db783",
        "IPY_MODEL_9b5161a05ebb48ee9490e10b5eb9dcd4",
        "IPY_MODEL_fd7119b4e329464782e2a523462a60da"
       ],
       "layout": "IPY_MODEL_91ae95aa5ac546e6a0d8842d7242cc24"
      }
     },
     "a1c47c7af0004a58b08cc71e44897646": {
      "model_module": "@jupyter-widgets/controls",
      "model_module_version": "1.4.0",
      "model_name": "ButtonStyleModel",
      "state": {}
     },
     "a2014d95ead44cf29a5ba3702ac8dd92": {
      "model_module": "@jupyter-widgets/controls",
      "model_module_version": "1.4.0",
      "model_name": "DescriptionStyleModel",
      "state": {
       "description_width": ""
      }
     },
     "a449a63c552849a0a71f14a913a212f6": {
      "model_module": "@jupyter-widgets/controls",
      "model_module_version": "1.4.0",
      "model_name": "ButtonModel",
      "state": {
       "description": "Prev",
       "layout": "IPY_MODEL_582468fe77a94b7d9061abe12863babf",
       "style": "IPY_MODEL_5f493f9043ea400db938aeec62d4604a"
      }
     },
     "a502039f27e34ed5b1c8b7f59fa98aad": {
      "model_module": "@jupyter-widgets/base",
      "model_module_version": "1.1.0",
      "model_name": "LayoutModel",
      "state": {}
     },
     "a59feeece6fc4ee8bdc4003dea30ceef": {
      "model_module": "@jupyter-widgets/base",
      "model_module_version": "1.1.0",
      "model_name": "LayoutModel",
      "state": {}
     },
     "a5ea41a60ab84b97ac667a7addc38cf9": {
      "model_module": "@jupyter-widgets/base",
      "model_module_version": "1.1.0",
      "model_name": "LayoutModel",
      "state": {}
     },
     "a5f6e48dd718488d88e2f2cf9e54141e": {
      "model_module": "@jupyter-widgets/controls",
      "model_module_version": "1.4.0",
      "model_name": "IntSliderModel",
      "state": {
       "layout": "IPY_MODEL_d3a37b086f234d7f807b5e8b9dc93c6e",
       "max": 8,
       "readout": false,
       "style": "IPY_MODEL_d3bf1be5ff924779af29f5b32c224d51"
      }
     },
     "a662c65bf7ac4a939678a707c85da032": {
      "model_module": "@jupyter-widgets/controls",
      "model_module_version": "1.4.0",
      "model_name": "ButtonStyleModel",
      "state": {}
     },
     "a693f043c259458fb81cc58b7a35f714": {
      "model_module": "@jupyter-widgets/base",
      "model_module_version": "1.1.0",
      "model_name": "LayoutModel",
      "state": {}
     },
     "a6b55f0a1420478e80ef51a6c46d7abc": {
      "model_module": "@jupyter-widgets/base",
      "model_module_version": "1.1.0",
      "model_name": "LayoutModel",
      "state": {}
     },
     "a6be05ccaf024c948954710634df3c16": {
      "model_module": "@jupyter-widgets/base",
      "model_module_version": "1.1.0",
      "model_name": "LayoutModel",
      "state": {}
     },
     "a6f2638f803c4d7e8fbdeb198a3e2b65": {
      "model_module": "@jupyter-widgets/base",
      "model_module_version": "1.1.0",
      "model_name": "LayoutModel",
      "state": {}
     },
     "a7288680802d47e7a0994ad193c524f6": {
      "model_module": "@jupyter-widgets/controls",
      "model_module_version": "1.4.0",
      "model_name": "LinkModel",
      "state": {
       "source": [
        "IPY_MODEL_e0c88c65f16349c9a3149593a9a8438c",
        "value"
       ],
       "target": [
        "IPY_MODEL_31e9bbbb5f994dafb3359a2196a0b239",
        "value"
       ]
      }
     },
     "a72cd0106ef94835bd7d865e5330b7b8": {
      "model_module": "@jupyter-widgets/base",
      "model_module_version": "1.1.0",
      "model_name": "LayoutModel",
      "state": {}
     },
     "a7e217d32054432798812073aa1a33f0": {
      "model_module": "@jupyter-widgets/base",
      "model_module_version": "1.1.0",
      "model_name": "LayoutModel",
      "state": {}
     },
     "a90b157dd09f4a23b91683d560422519": {
      "model_module": "@jupyter-widgets/base",
      "model_module_version": "1.1.0",
      "model_name": "LayoutModel",
      "state": {}
     },
     "a93cf9a5181a4afc8eadbab7be578ef4": {
      "model_module": "@jupyter-widgets/controls",
      "model_module_version": "1.4.0",
      "model_name": "DescriptionStyleModel",
      "state": {
       "description_width": ""
      }
     },
     "a962069d09014773b7a388c3e2564c40": {
      "model_module": "@jupyter-widgets/controls",
      "model_module_version": "1.4.0",
      "model_name": "ButtonStyleModel",
      "state": {}
     },
     "a98a74b02d5a436ea7afa35724464322": {
      "model_module": "@jupyter-widgets/controls",
      "model_module_version": "1.4.0",
      "model_name": "HTMLModel",
      "state": {
       "layout": "IPY_MODEL_a5ea41a60ab84b97ac667a7addc38cf9",
       "style": "IPY_MODEL_c307db64f0af4c0c854224dbc613aa3a",
       "value": "100% 2920/2920 [00:00&lt;00:00, 4727.62it/s]"
      }
     },
     "a990a46c95c444ef93e2bc99eb07b7f6": {
      "model_module": "@jupyter-widgets/base",
      "model_module_version": "1.1.0",
      "model_name": "LayoutModel",
      "state": {}
     },
     "a99898f19cbb4e18aed0036cd5004001": {
      "model_module": "@jupyter-widgets/controls",
      "model_module_version": "1.4.0",
      "model_name": "IntSliderModel",
      "state": {
       "layout": "IPY_MODEL_55e9a31561f74220abfd3b39c034d739",
       "max": 60,
       "readout": false,
       "style": "IPY_MODEL_fb9c2450bcbd4ac89415ab8c5ab9eecf"
      }
     },
     "aa25e7291a254e8d8f6537143b709f5f": {
      "model_module": "@jupyter-widgets/controls",
      "model_module_version": "1.4.0",
      "model_name": "VBoxModel",
      "state": {
       "children": [
        "IPY_MODEL_bdb1342ecfa64bc6af7af0f697119376",
        "IPY_MODEL_3b1fc1fa27bd47da997dba65ad02e4bb"
       ],
       "layout": "IPY_MODEL_b200f66a0eff49ef9458550f57636d8f"
      }
     },
     "aa8a53dd540e46a48e2fccf8e12e28c3": {
      "model_module": "@jupyter-widgets/controls",
      "model_module_version": "1.4.0",
      "model_name": "ButtonModel",
      "state": {
       "description": "Last",
       "layout": "IPY_MODEL_1b26ac34f089433b863b54d01de3a257",
       "style": "IPY_MODEL_c102df8825e940b9b7f70f11917ebf07"
      }
     },
     "ab090dc4a84d450fb38e6ad3e7f3cc2d": {
      "model_module": "@jupyter-widgets/controls",
      "model_module_version": "1.4.0",
      "model_name": "ButtonModel",
      "state": {
       "description": "First",
       "layout": "IPY_MODEL_23aeba74cd4f4409a2f4be00d65be8f9",
       "style": "IPY_MODEL_bcd8d029bde245c39480c199ade02cea"
      }
     },
     "abd05629b38d44f1bad356a041fb996a": {
      "model_module": "@jupyter-widgets/controls",
      "model_module_version": "1.4.0",
      "model_name": "DescriptionStyleModel",
      "state": {
       "description_width": ""
      }
     },
     "abd52d65831142c3b85e9ce0ee744f08": {
      "model_module": "@jupyter-widgets/controls",
      "model_module_version": "1.4.0",
      "model_name": "ButtonModel",
      "state": {
       "description": "Random",
       "layout": "IPY_MODEL_cfb8b32888e74bda80000a82160bc22b",
       "style": "IPY_MODEL_bdaf66770cf24584950db202f7b92190"
      }
     },
     "abeceddf3eb84c20a4fc95a83c111d6e": {
      "model_module": "@jupyter-widgets/controls",
      "model_module_version": "1.4.0",
      "model_name": "ButtonStyleModel",
      "state": {}
     },
     "abf74ecc92c845ec9552a7051f8439d6": {
      "model_module": "@jupyter-widgets/controls",
      "model_module_version": "1.4.0",
      "model_name": "DescriptionStyleModel",
      "state": {
       "description_width": ""
      }
     },
     "acccbe794b984762b0ad9e170a4257fc": {
      "model_module": "@jupyter-widgets/controls",
      "model_module_version": "1.4.0",
      "model_name": "ButtonModel",
      "state": {
       "description": "First",
       "layout": "IPY_MODEL_d6590bc32c8641daaa74b21ed3bc2438",
       "style": "IPY_MODEL_2bdd2a5bc8d64a2bbef5e12addbb7e0e"
      }
     },
     "ad22e600aa4d4ac4bb1462577a77ce27": {
      "model_module": "@jupyter-widgets/base",
      "model_module_version": "1.1.0",
      "model_name": "LayoutModel",
      "state": {}
     },
     "adef9003e3714d6782b8cd0aed9e9d03": {
      "model_module": "@jupyter-widgets/base",
      "model_module_version": "1.1.0",
      "model_name": "LayoutModel",
      "state": {}
     },
     "ae47bcef303e4c25a5ec7e5d2aa2cd5b": {
      "model_module": "@jupyter-widgets/controls",
      "model_module_version": "1.4.0",
      "model_name": "IntSliderModel",
      "state": {
       "layout": "IPY_MODEL_2a625b9010504b56a43e0bcc6818bcba",
       "max": 60,
       "readout": false,
       "style": "IPY_MODEL_273dfb4bb4744e17b8466033c238d73d"
      }
     },
     "ae550641df2d4ec99f42fe2ddc176250": {
      "model_module": "@jupyter-widgets/base",
      "model_module_version": "1.1.0",
      "model_name": "LayoutModel",
      "state": {}
     },
     "ae6a11c1bbd849ac80d7b320991be856": {
      "model_module": "@jupyter-widgets/controls",
      "model_module_version": "1.4.0",
      "model_name": "ButtonStyleModel",
      "state": {}
     },
     "ae7a0632c78940dfba906d7614116d6c": {
      "model_module": "@jupyter-widgets/controls",
      "model_module_version": "1.4.0",
      "model_name": "ButtonStyleModel",
      "state": {}
     },
     "af6c8a05d9f444298a312b039f0d4301": {
      "model_module": "@jupyter-widgets/base",
      "model_module_version": "1.1.0",
      "model_name": "LayoutModel",
      "state": {}
     },
     "af7a32378f3346798b1dcda1195ebdb1": {
      "model_module": "@jupyter-widgets/base",
      "model_module_version": "1.1.0",
      "model_name": "LayoutModel",
      "state": {}
     },
     "b0382450bb714f1c83f9c4614ddd9f57": {
      "model_module": "@jupyter-widgets/controls",
      "model_module_version": "1.4.0",
      "model_name": "ButtonStyleModel",
      "state": {}
     },
     "b086d48478d74c76bcda14a9a59676af": {
      "model_module": "@jupyter-widgets/base",
      "model_module_version": "1.1.0",
      "model_name": "LayoutModel",
      "state": {}
     },
     "b200f66a0eff49ef9458550f57636d8f": {
      "model_module": "@jupyter-widgets/base",
      "model_module_version": "1.1.0",
      "model_name": "LayoutModel",
      "state": {}
     },
     "b21cf879041d446599bb828996f5efa9": {
      "model_module": "@jupyter-widgets/controls",
      "model_module_version": "1.4.0",
      "model_name": "ButtonStyleModel",
      "state": {}
     },
     "b2303e2b27c942a09140534e40e87160": {
      "model_module": "@jupyter-widgets/base",
      "model_module_version": "1.1.0",
      "model_name": "LayoutModel",
      "state": {}
     },
     "b241d7e456c54ff282eb439f5ed66fa1": {
      "model_module": "@jupyter-widgets/controls",
      "model_module_version": "1.4.0",
      "model_name": "ButtonStyleModel",
      "state": {}
     },
     "b31b6a6c4cdc40a7b5fe6ca17bc50d6d": {
      "model_module": "@jupyter-widgets/controls",
      "model_module_version": "1.4.0",
      "model_name": "ProgressStyleModel",
      "state": {
       "description_width": ""
      }
     },
     "b37a8e6cfeb6435bad312b6bef466a52": {
      "model_module": "@jupyter-widgets/base",
      "model_module_version": "1.1.0",
      "model_name": "LayoutModel",
      "state": {}
     },
     "b3f9c63deeb241a3ad11811a8b35ad56": {
      "model_module": "@jupyter-widgets/controls",
      "model_module_version": "1.4.0",
      "model_name": "ButtonStyleModel",
      "state": {}
     },
     "b425a38234c5481187da8d01cb6df7c2": {
      "model_module": "@jupyter-widgets/controls",
      "model_module_version": "1.4.0",
      "model_name": "ButtonStyleModel",
      "state": {}
     },
     "b467dcab92e94e03af3ba40a7600800c": {
      "model_module": "@jupyter-widgets/controls",
      "model_module_version": "1.4.0",
      "model_name": "BoundedIntTextModel",
      "state": {
       "layout": "IPY_MODEL_07eb5a3e31df4056b173a8363a8fa544",
       "max": 60,
       "style": "IPY_MODEL_abf74ecc92c845ec9552a7051f8439d6",
       "value": 27
      }
     },
     "b57af971e40041feaa13b102fa81a471": {
      "model_module": "@jupyter-widgets/controls",
      "model_module_version": "1.4.0",
      "model_name": "SliderStyleModel",
      "state": {
       "description_width": ""
      }
     },
     "b57d5bedeeab44bface10b0ce10c07ae": {
      "model_module": "@jupyter-widgets/controls",
      "model_module_version": "1.4.0",
      "model_name": "DescriptionStyleModel",
      "state": {
       "description_width": ""
      }
     },
     "b588cd7d32214a789047c631115ac596": {
      "model_module": "@jupyter-widgets/controls",
      "model_module_version": "1.4.0",
      "model_name": "HBoxModel",
      "state": {
       "children": [
        "IPY_MODEL_ef36bf45f5f14f0d93bea8933cbc667e",
        "IPY_MODEL_75191e4737324685b143b67c736a69c5"
       ],
       "layout": "IPY_MODEL_6b8a5eb0a7504a388a076073209a1247"
      }
     },
     "b59c467b7de94ff4b6bedd34cab0f484": {
      "model_module": "@jupyter-widgets/controls",
      "model_module_version": "1.4.0",
      "model_name": "ButtonModel",
      "state": {
       "description": "Prev",
       "layout": "IPY_MODEL_40f34abce3a04dd5a9c2950e9b9675e5",
       "style": "IPY_MODEL_b21cf879041d446599bb828996f5efa9"
      }
     },
     "b5ebcf3d63aa458aa22700313f95c1ad": {
      "model_module": "@jupyter-widgets/controls",
      "model_module_version": "1.4.0",
      "model_name": "HBoxModel",
      "state": {
       "children": [
        "IPY_MODEL_726ea8ffc6c246a08497b29c7bc61292",
        "IPY_MODEL_212e5cbd8a56401f9505d661cb7f87cb"
       ],
       "layout": "IPY_MODEL_2130174fe1b84e35913446f8ab11b4d0"
      }
     },
     "b61ee5dfcf6341a584bff72c7d44f033": {
      "model_module": "@jupyter-widgets/base",
      "model_module_version": "1.1.0",
      "model_name": "LayoutModel",
      "state": {}
     },
     "b67ad5bb34aa41158312c98fced8b553": {
      "model_module": "@jupyter-widgets/controls",
      "model_module_version": "1.4.0",
      "model_name": "IntSliderModel",
      "state": {
       "layout": "IPY_MODEL_bff3ee2aed3c482291d49d6ed2aa73e1",
       "max": 60,
       "readout": false,
       "style": "IPY_MODEL_a0631c82362046f3bf47e0c7d7de4d56"
      }
     },
     "b76c948686094520be97f82b55b3f760": {
      "model_module": "@jupyter-widgets/controls",
      "model_module_version": "1.4.0",
      "model_name": "HBoxModel",
      "state": {
       "children": [
        "IPY_MODEL_7f67595f4eba432bbb0df4e98b770541",
        "IPY_MODEL_7d2942ad24b640c8ad377b383c09254b",
        "IPY_MODEL_9cd00d8d995f4565a3efb3ce296530cc",
        "IPY_MODEL_fb117882c5084d7698dd0166879b2718",
        "IPY_MODEL_06122e4e6ebd4f4f9f1b3a95d7c13611",
        "IPY_MODEL_6b032eb0d87a46b0b2357561903afa24"
       ],
       "layout": "IPY_MODEL_9c62f94889b14636a202ba4ff188357a"
      }
     },
     "b78c009a972947c294324669db11b0a5": {
      "model_module": "@jupyter-widgets/controls",
      "model_module_version": "1.4.0",
      "model_name": "HBoxModel",
      "state": {
       "children": [
        "IPY_MODEL_5ed20f341cdf4baaa9696c2e6107e125",
        "IPY_MODEL_ec5865e0712341d3bdf16e22cb81ab94",
        "IPY_MODEL_4c20df655e724d7facf6712794ac2e41",
        "IPY_MODEL_ce436b4e76614610b826ffc4f4a2dbd0",
        "IPY_MODEL_8e07c56e34f04a8996d21f3d250a8e20",
        "IPY_MODEL_abd52d65831142c3b85e9ce0ee744f08"
       ],
       "layout": "IPY_MODEL_b086d48478d74c76bcda14a9a59676af"
      }
     },
     "b8572d2dd29543968fd13199fd07c63f": {
      "model_module": "@jupyter-widgets/controls",
      "model_module_version": "1.4.0",
      "model_name": "ButtonModel",
      "state": {
       "description": "Prev",
       "layout": "IPY_MODEL_5ac0b6037306462d9090f61bf794f971",
       "style": "IPY_MODEL_61ee4aff76384f65b1724fba13e0130d"
      }
     },
     "b90a807b5538465ea335c28b44f8926d": {
      "model_module": "@jupyter-widgets/controls",
      "model_module_version": "1.4.0",
      "model_name": "HBoxModel",
      "state": {
       "children": [
        "IPY_MODEL_775b7a91cce94c978a32c587a2f5ba9f",
        "IPY_MODEL_f0dc578958274792892926e39f110cbe"
       ],
       "layout": "IPY_MODEL_ce4ba2f9b1a0446bba38682d79cf2e8a"
      }
     },
     "b9f4fd94f52246f09a95226d50759865": {
      "model_module": "@jupyter-widgets/controls",
      "model_module_version": "1.4.0",
      "model_name": "DescriptionStyleModel",
      "state": {
       "description_width": ""
      }
     },
     "b9fa86b1a8a3444cb38067d6a02ec637": {
      "model_module": "@jupyter-widgets/controls",
      "model_module_version": "1.4.0",
      "model_name": "DescriptionStyleModel",
      "state": {
       "description_width": ""
      }
     },
     "b9fb65dd7ebd4b4e9d87d49cdc69d360": {
      "model_module": "@jupyter-widgets/controls",
      "model_module_version": "1.4.0",
      "model_name": "ButtonStyleModel",
      "state": {}
     },
     "ba2959cc430f4a4991e1b32dbac17684": {
      "model_module": "@jupyter-widgets/base",
      "model_module_version": "1.1.0",
      "model_name": "LayoutModel",
      "state": {}
     },
     "ba495af004a243089c2151ed6f6c7503": {
      "model_module": "@jupyter-widgets/base",
      "model_module_version": "1.1.0",
      "model_name": "LayoutModel",
      "state": {}
     },
     "bb4bc4490e304c219a2a40d2044eb39f": {
      "model_module": "@jupyter-widgets/base",
      "model_module_version": "1.1.0",
      "model_name": "LayoutModel",
      "state": {}
     },
     "bc0f8cca328a469b96fbcf631b5cef1c": {
      "model_module": "@jupyter-widgets/base",
      "model_module_version": "1.1.0",
      "model_name": "LayoutModel",
      "state": {}
     },
     "bc330826f30b4f9a9c5e0eef28eac03e": {
      "model_module": "@jupyter-widgets/controls",
      "model_module_version": "1.4.0",
      "model_name": "ButtonStyleModel",
      "state": {}
     },
     "bc55f6cd1f9e4a548558284ca7fa2d9f": {
      "model_module": "@jupyter-widgets/controls",
      "model_module_version": "1.4.0",
      "model_name": "ButtonStyleModel",
      "state": {}
     },
     "bc991ecea6d745f2ab0cfda0be45e74f": {
      "model_module": "@jupyter-widgets/base",
      "model_module_version": "1.1.0",
      "model_name": "LayoutModel",
      "state": {}
     },
     "bca6a238cdaa4ece8765e233884216a7": {
      "model_module": "@jupyter-widgets/controls",
      "model_module_version": "1.4.0",
      "model_name": "IntSliderModel",
      "state": {
       "layout": "IPY_MODEL_3c15ed93d12f4ff587e685a5f17350d7",
       "max": 61,
       "readout": false,
       "style": "IPY_MODEL_9285bbccf81c49ea91131d1829dc4bf0"
      }
     },
     "bcad4bab57f347a39fcdc1041bc2a9d7": {
      "model_module": "@jupyter-widgets/base",
      "model_module_version": "1.1.0",
      "model_name": "LayoutModel",
      "state": {}
     },
     "bcd8d029bde245c39480c199ade02cea": {
      "model_module": "@jupyter-widgets/controls",
      "model_module_version": "1.4.0",
      "model_name": "ButtonStyleModel",
      "state": {}
     },
     "bcdc5b51e35b4d068eb48b4eee496c42": {
      "model_module": "@jupyter-widgets/controls",
      "model_module_version": "1.4.0",
      "model_name": "VBoxModel",
      "state": {
       "children": [
        "IPY_MODEL_c74a6fb1608b4c2ea91e8ae4a972f252",
        "IPY_MODEL_ae47bcef303e4c25a5ec7e5d2aa2cd5b"
       ],
       "layout": "IPY_MODEL_ca0a225291904eebb2f5cf97d4cb74d7"
      }
     },
     "bdaf66770cf24584950db202f7b92190": {
      "model_module": "@jupyter-widgets/controls",
      "model_module_version": "1.4.0",
      "model_name": "ButtonStyleModel",
      "state": {}
     },
     "bdb1342ecfa64bc6af7af0f697119376": {
      "model_module": "@jupyter-widgets/controls",
      "model_module_version": "1.4.0",
      "model_name": "HBoxModel",
      "state": {
       "children": [
        "IPY_MODEL_8298aabe4bbd469b95a2a4347d65bd0b",
        "IPY_MODEL_cf0d1d62c2294e7db0a7448714dba1ed",
        "IPY_MODEL_6585b6d2e23f476cafea1c2e558a25b2",
        "IPY_MODEL_fdfca1f5cb114bcb8f9a58be882348d4",
        "IPY_MODEL_4ac052cf3f7640ad943d58677303ff5d",
        "IPY_MODEL_329e4787893e4cdd94586c3c83b4ec4e"
       ],
       "layout": "IPY_MODEL_04f6e3b54a244070b13c54bb7855bab0"
      }
     },
     "bf1122ceb1ad4a77bda54a0afba23b26": {
      "model_module": "@jupyter-widgets/base",
      "model_module_version": "1.1.0",
      "model_name": "LayoutModel",
      "state": {}
     },
     "bf439c7f3ed141ad9ddb86b8cb5acd64": {
      "model_module": "@jupyter-widgets/controls",
      "model_module_version": "1.4.0",
      "model_name": "ButtonStyleModel",
      "state": {}
     },
     "bf5e910ce1a4437b973f841c00399962": {
      "model_module": "@jupyter-widgets/base",
      "model_module_version": "1.1.0",
      "model_name": "LayoutModel",
      "state": {
       "width": "99%"
      }
     },
     "bff3ee2aed3c482291d49d6ed2aa73e1": {
      "model_module": "@jupyter-widgets/base",
      "model_module_version": "1.1.0",
      "model_name": "LayoutModel",
      "state": {
       "width": "99%"
      }
     },
     "c0f9122f1b5241ee8ddd85225d719fc2": {
      "model_module": "@jupyter-widgets/controls",
      "model_module_version": "1.4.0",
      "model_name": "BoundedIntTextModel",
      "state": {
       "layout": "IPY_MODEL_71bdbea4008345779ed320bff5a86d59",
       "max": 8,
       "style": "IPY_MODEL_3c44296038ee44808d587c86e76b67bb"
      }
     },
     "c102df8825e940b9b7f70f11917ebf07": {
      "model_module": "@jupyter-widgets/controls",
      "model_module_version": "1.4.0",
      "model_name": "ButtonStyleModel",
      "state": {}
     },
     "c1149ae56be645488cadbe72bd6d1fc8": {
      "model_module": "@jupyter-widgets/base",
      "model_module_version": "1.1.0",
      "model_name": "LayoutModel",
      "state": {}
     },
     "c1fc01bdfddc403a93e469e8cebe66c4": {
      "model_module": "@jupyter-widgets/controls",
      "model_module_version": "1.4.0",
      "model_name": "ButtonModel",
      "state": {
       "description": "Last",
       "layout": "IPY_MODEL_ef7142cd7fa54dea85350d1cdd07c4a6",
       "style": "IPY_MODEL_661554cebb08427c8f7f4cc633ade833"
      }
     },
     "c1fd55a57e6c4e398527944ab0254706": {
      "model_module": "@jupyter-widgets/base",
      "model_module_version": "1.1.0",
      "model_name": "LayoutModel",
      "state": {}
     },
     "c231e901e1cc4cfbab0c1f893264996d": {
      "model_module": "@jupyter-widgets/controls",
      "model_module_version": "1.4.0",
      "model_name": "DescriptionStyleModel",
      "state": {
       "description_width": ""
      }
     },
     "c27739c093c34f2193f743dddf1a2e60": {
      "model_module": "@jupyter-widgets/controls",
      "model_module_version": "1.4.0",
      "model_name": "SliderStyleModel",
      "state": {
       "description_width": ""
      }
     },
     "c292e10adeff489d9f9d955e587c1cb4": {
      "model_module": "@jupyter-widgets/controls",
      "model_module_version": "1.4.0",
      "model_name": "SliderStyleModel",
      "state": {
       "description_width": ""
      }
     },
     "c2b45d539e1e458ab7e6713328fedd55": {
      "model_module": "@jupyter-widgets/controls",
      "model_module_version": "1.4.0",
      "model_name": "LinkModel",
      "state": {
       "source": [
        "IPY_MODEL_c0f9122f1b5241ee8ddd85225d719fc2",
        "value"
       ],
       "target": [
        "IPY_MODEL_0bcd6360271e467683e93778bc2a94ee",
        "value"
       ]
      }
     },
     "c2d156b26894447380bf7be32ddb1c19": {
      "model_module": "@jupyter-widgets/controls",
      "model_module_version": "1.4.0",
      "model_name": "VBoxModel",
      "state": {
       "children": [
        "IPY_MODEL_26d61819b0ab43c7acf8eae8b5985db3",
        "IPY_MODEL_0fce0b97c4e74ddd9b792bd2ace0f9c6"
       ],
       "layout": "IPY_MODEL_134c263a3dbc494ebad317532263bf6d"
      }
     },
     "c2e6323e6dba47b59fe6ae9854a27a95": {
      "model_module": "@jupyter-widgets/controls",
      "model_module_version": "1.4.0",
      "model_name": "ButtonModel",
      "state": {
       "description": "Next",
       "layout": "IPY_MODEL_c9bbf44d447c4677af87a4cd44b4df04",
       "style": "IPY_MODEL_b0382450bb714f1c83f9c4614ddd9f57"
      }
     },
     "c307db64f0af4c0c854224dbc613aa3a": {
      "model_module": "@jupyter-widgets/controls",
      "model_module_version": "1.4.0",
      "model_name": "DescriptionStyleModel",
      "state": {
       "description_width": ""
      }
     },
     "c3a58357c90446e69ac37aa07e8db783": {
      "model_module": "@jupyter-widgets/controls",
      "model_module_version": "1.4.0",
      "model_name": "ButtonModel",
      "state": {
       "description": "Next",
       "layout": "IPY_MODEL_3331cb9d3a084194826f81f3c73e0b49",
       "style": "IPY_MODEL_03bff4c3d47f40b9881c51aafc10f890"
      }
     },
     "c3eeead2f12b40b295ac48c68f35b463": {
      "model_module": "@jupyter-widgets/controls",
      "model_module_version": "1.4.0",
      "model_name": "ButtonStyleModel",
      "state": {}
     },
     "c3f323cb274d4bb79903e8fffac75705": {
      "model_module": "@jupyter-widgets/controls",
      "model_module_version": "1.4.0",
      "model_name": "ButtonModel",
      "state": {
       "description": "Next",
       "layout": "IPY_MODEL_853f28ff667b4d6081e9d19b5928c2d8",
       "style": "IPY_MODEL_c6edc3660a0c4650b0b4a95be321968a"
      }
     },
     "c44b44d6becb4784b02cb7cf90054bf7": {
      "model_module": "@jupyter-widgets/base",
      "model_module_version": "1.1.0",
      "model_name": "LayoutModel",
      "state": {}
     },
     "c46d5c53699942e793817d8e16a27e90": {
      "model_module": "@jupyter-widgets/controls",
      "model_module_version": "1.4.0",
      "model_name": "ProgressStyleModel",
      "state": {
       "description_width": ""
      }
     },
     "c491d6cabc004b619cc5d837df8e645b": {
      "model_module": "@jupyter-widgets/controls",
      "model_module_version": "1.4.0",
      "model_name": "BoundedIntTextModel",
      "state": {
       "layout": "IPY_MODEL_6acebdcd9fff41f1b1875194388c9787",
       "max": 8,
       "style": "IPY_MODEL_db3cc5540e8b4a518282b08ccd41e9e1"
      }
     },
     "c5097cde71d142edb747134cc171b73f": {
      "model_module": "@jupyter-widgets/base",
      "model_module_version": "1.1.0",
      "model_name": "LayoutModel",
      "state": {}
     },
     "c53fd26fa86840029d0e42926b536c2f": {
      "model_module": "@jupyter-widgets/controls",
      "model_module_version": "1.4.0",
      "model_name": "VBoxModel",
      "state": {
       "children": [
        "IPY_MODEL_32065df198df4c6a93ee76d78c7154ef",
        "IPY_MODEL_3f8f6a85ca624e28ae754331951a1281"
       ],
       "layout": "IPY_MODEL_ed05f5596a724f8daaedbe610d05db02"
      }
     },
     "c5b615e103f54c07a867003721bbe3c2": {
      "model_module": "@jupyter-widgets/controls",
      "model_module_version": "1.4.0",
      "model_name": "LinkModel",
      "state": {
       "source": [
        "IPY_MODEL_8f1149ee4f9e417ea23ae4f68e70f826",
        "value"
       ],
       "target": [
        "IPY_MODEL_d23ba908c8914284ae7ba28397590080",
        "value"
       ]
      }
     },
     "c5b620ed4bd54a5184aabffcf4e875a0": {
      "model_module": "@jupyter-widgets/controls",
      "model_module_version": "1.4.0",
      "model_name": "ButtonModel",
      "state": {
       "description": "First",
       "layout": "IPY_MODEL_3f315888d41a478cbe6df2c5aa9230b4",
       "style": "IPY_MODEL_278b6fba9e9944149eb1c0200239ca20"
      }
     },
     "c6b32d525ae043428672be5fc2fb2e73": {
      "model_module": "@jupyter-widgets/base",
      "model_module_version": "1.1.0",
      "model_name": "LayoutModel",
      "state": {
       "width": "99%"
      }
     },
     "c6edc3660a0c4650b0b4a95be321968a": {
      "model_module": "@jupyter-widgets/controls",
      "model_module_version": "1.4.0",
      "model_name": "ButtonStyleModel",
      "state": {}
     },
     "c74a6fb1608b4c2ea91e8ae4a972f252": {
      "model_module": "@jupyter-widgets/controls",
      "model_module_version": "1.4.0",
      "model_name": "HBoxModel",
      "state": {
       "children": [
        "IPY_MODEL_cc33579e84e44bbea34116aafea50645",
        "IPY_MODEL_182316c91db44344b796d1cbbaf62997",
        "IPY_MODEL_444502302caa45adb9adaebc1e45a601",
        "IPY_MODEL_f0f43bde1d4f4e03ae96370f50c7f153",
        "IPY_MODEL_4ef611590a034809b303658f3b14d179",
        "IPY_MODEL_91f40435bc63426b9bd131ed7b9f6079"
       ],
       "layout": "IPY_MODEL_5395b0c6c22a4ce7bcf90a751c30782a"
      }
     },
     "c78a27cc866c416b8dd3c13cc0e78631": {
      "model_module": "@jupyter-widgets/base",
      "model_module_version": "1.1.0",
      "model_name": "LayoutModel",
      "state": {}
     },
     "c9385577afd94633ba83fbfcff1a1b2d": {
      "model_module": "@jupyter-widgets/base",
      "model_module_version": "1.1.0",
      "model_name": "LayoutModel",
      "state": {}
     },
     "c93d50835a414aeb89ce66031fe46811": {
      "model_module": "@jupyter-widgets/base",
      "model_module_version": "1.1.0",
      "model_name": "LayoutModel",
      "state": {}
     },
     "c9bbf44d447c4677af87a4cd44b4df04": {
      "model_module": "@jupyter-widgets/base",
      "model_module_version": "1.1.0",
      "model_name": "LayoutModel",
      "state": {}
     },
     "c9c7ccd2ddc34314a3f44c825e7c9703": {
      "model_module": "@jupyter-widgets/base",
      "model_module_version": "1.1.0",
      "model_name": "LayoutModel",
      "state": {}
     },
     "c9e781d3e2c242259cc070f456286d96": {
      "model_module": "@jupyter-widgets/base",
      "model_module_version": "1.1.0",
      "model_name": "LayoutModel",
      "state": {}
     },
     "ca0a225291904eebb2f5cf97d4cb74d7": {
      "model_module": "@jupyter-widgets/base",
      "model_module_version": "1.1.0",
      "model_name": "LayoutModel",
      "state": {}
     },
     "cc292ac2a384493c8aa445dcb985d6e9": {
      "model_module": "@jupyter-widgets/controls",
      "model_module_version": "1.4.0",
      "model_name": "HBoxModel",
      "state": {
       "children": [
        "IPY_MODEL_2c5a07be399f4cc5b850790df1d9e707",
        "IPY_MODEL_2cb7343e274542c88fd0b37069930029"
       ],
       "layout": "IPY_MODEL_c1149ae56be645488cadbe72bd6d1fc8"
      }
     },
     "cc33579e84e44bbea34116aafea50645": {
      "model_module": "@jupyter-widgets/controls",
      "model_module_version": "1.4.0",
      "model_name": "ButtonModel",
      "state": {
       "description": "First",
       "layout": "IPY_MODEL_65080459ab7c44f2a3e5d9d7f7a1d610",
       "style": "IPY_MODEL_663bb9f15c6847aa9d602d5105b80e4e"
      }
     },
     "cc75a43c6a8545d780e37a2a86091b28": {
      "model_module": "@jupyter-widgets/controls",
      "model_module_version": "1.4.0",
      "model_name": "IntProgressModel",
      "state": {
       "bar_style": "danger",
       "layout": "IPY_MODEL_c93d50835a414aeb89ce66031fe46811",
       "max": 2920,
       "style": "IPY_MODEL_fe590e7ce873464288214d0c696a4699",
       "value": 319
      }
     },
     "ccda32d3f54c405882bb694d963792a8": {
      "model_module": "@jupyter-widgets/base",
      "model_module_version": "1.1.0",
      "model_name": "LayoutModel",
      "state": {}
     },
     "ce436b4e76614610b826ffc4f4a2dbd0": {
      "model_module": "@jupyter-widgets/controls",
      "model_module_version": "1.4.0",
      "model_name": "ButtonModel",
      "state": {
       "description": "Next",
       "layout": "IPY_MODEL_07fe915201dd4a82a8beb8dbfbe6f051",
       "style": "IPY_MODEL_03943ac5be5f4aef9c0d7bc6505ee048"
      }
     },
     "ce4ba2f9b1a0446bba38682d79cf2e8a": {
      "model_module": "@jupyter-widgets/base",
      "model_module_version": "1.1.0",
      "model_name": "LayoutModel",
      "state": {}
     },
     "ce67f95217274d03846246865cc8c8ef": {
      "model_module": "@jupyter-widgets/controls",
      "model_module_version": "1.4.0",
      "model_name": "ButtonStyleModel",
      "state": {}
     },
     "ce78d744e49642d68698dbb92e5249b0": {
      "model_module": "@jupyter-widgets/controls",
      "model_module_version": "1.4.0",
      "model_name": "ButtonStyleModel",
      "state": {}
     },
     "cef003f84d7b4814b316b55021c6733a": {
      "model_module": "@jupyter-widgets/base",
      "model_module_version": "1.1.0",
      "model_name": "LayoutModel",
      "state": {}
     },
     "cf0d1d62c2294e7db0a7448714dba1ed": {
      "model_module": "@jupyter-widgets/controls",
      "model_module_version": "1.4.0",
      "model_name": "ButtonModel",
      "state": {
       "description": "Prev",
       "layout": "IPY_MODEL_0867544c9b2e42f7bce0230deb08ebad",
       "style": "IPY_MODEL_509e77ddaacd46e285fb441364d4bb35"
      }
     },
     "cf569190bdad4151b3f1afeedf4fc697": {
      "model_module": "@jupyter-widgets/controls",
      "model_module_version": "1.4.0",
      "model_name": "ButtonStyleModel",
      "state": {}
     },
     "cf6586fb0f2d4d37af2cb2c71f4939ac": {
      "model_module": "@jupyter-widgets/controls",
      "model_module_version": "1.4.0",
      "model_name": "ButtonStyleModel",
      "state": {}
     },
     "cfa35a03d7594328995e6ebf4fa29da2": {
      "model_module": "@jupyter-widgets/controls",
      "model_module_version": "1.4.0",
      "model_name": "ButtonModel",
      "state": {
       "description": "Prev",
       "layout": "IPY_MODEL_e38412e069074b579edf03eaf73a2851",
       "style": "IPY_MODEL_4ca377bf736e4136b8c51758c9668722"
      }
     },
     "cfb8b32888e74bda80000a82160bc22b": {
      "model_module": "@jupyter-widgets/base",
      "model_module_version": "1.1.0",
      "model_name": "LayoutModel",
      "state": {}
     },
     "d1366a22843947bdb07da8709436787e": {
      "model_module": "@jupyter-widgets/controls",
      "model_module_version": "1.4.0",
      "model_name": "IntProgressModel",
      "state": {
       "bar_style": "success",
       "layout": "IPY_MODEL_8451e913f675418da5a8baaaad01d51e",
       "max": 2920,
       "style": "IPY_MODEL_3b08fbee1bc64915800827434c6285b6",
       "value": 2920
      }
     },
     "d23ba908c8914284ae7ba28397590080": {
      "model_module": "@jupyter-widgets/controls",
      "model_module_version": "1.4.0",
      "model_name": "IntSliderModel",
      "state": {
       "layout": "IPY_MODEL_5db88b4d1c354312b9a1bedc6439775e",
       "max": 8,
       "readout": false,
       "style": "IPY_MODEL_f6aee865661e4ca388e0b86372bbab8a"
      }
     },
     "d2fa0ac54d244a218a41dffff9d3cca4": {
      "model_module": "@jupyter-widgets/controls",
      "model_module_version": "1.4.0",
      "model_name": "ButtonStyleModel",
      "state": {}
     },
     "d30768f1701541f98e51d321aee276f8": {
      "model_module": "@jupyter-widgets/controls",
      "model_module_version": "1.4.0",
      "model_name": "ButtonStyleModel",
      "state": {}
     },
     "d3a37b086f234d7f807b5e8b9dc93c6e": {
      "model_module": "@jupyter-widgets/base",
      "model_module_version": "1.1.0",
      "model_name": "LayoutModel",
      "state": {
       "width": "99%"
      }
     },
     "d3bf1be5ff924779af29f5b32c224d51": {
      "model_module": "@jupyter-widgets/controls",
      "model_module_version": "1.4.0",
      "model_name": "SliderStyleModel",
      "state": {
       "description_width": ""
      }
     },
     "d3e985f9692e41a3836fd2be3a666b81": {
      "model_module": "@jupyter-widgets/controls",
      "model_module_version": "1.4.0",
      "model_name": "BoundedIntTextModel",
      "state": {
       "layout": "IPY_MODEL_1c95e5ef968d4c2687110833bb3cc4a9",
       "max": 61,
       "style": "IPY_MODEL_a2014d95ead44cf29a5ba3702ac8dd92",
       "value": 6
      }
     },
     "d40c9e18924042b89bdd7a2aa5d4f211": {
      "model_module": "@jupyter-widgets/base",
      "model_module_version": "1.1.0",
      "model_name": "LayoutModel",
      "state": {}
     },
     "d41adcb83d9c4014ace0bdf617891953": {
      "model_module": "@jupyter-widgets/controls",
      "model_module_version": "1.4.0",
      "model_name": "IntSliderModel",
      "state": {
       "layout": "IPY_MODEL_1a7140cebf744c9a96744bc036869c48",
       "max": 60,
       "readout": false,
       "style": "IPY_MODEL_84fb89e7db33448799bffff65657ac49",
       "value": 1
      }
     },
     "d449d4a45461466a95fa3ff4fa0f0e0f": {
      "model_module": "@jupyter-widgets/controls",
      "model_module_version": "1.4.0",
      "model_name": "LinkModel",
      "state": {
       "source": [
        "IPY_MODEL_d4a1c2565f604532971639b8572eda61",
        "value"
       ],
       "target": [
        "IPY_MODEL_a99898f19cbb4e18aed0036cd5004001",
        "value"
       ]
      }
     },
     "d47d87ddb03a40ea8b634a25ff859bcf": {
      "model_module": "@jupyter-widgets/controls",
      "model_module_version": "1.4.0",
      "model_name": "HBoxModel",
      "state": {
       "children": [
        "IPY_MODEL_5d1294ad8c544db89a3ba90d15156b49",
        "IPY_MODEL_2152779a41d24b42939ea298e5129024",
        "IPY_MODEL_7cdc6987217e42bc9ae90b1e32334161",
        "IPY_MODEL_3b03ab5d84ea4fd9879c16e44359caa3",
        "IPY_MODEL_ec306d148c664463bb9e81e8a1b40cef",
        "IPY_MODEL_6492edf35e8945e28308799c729cd3af"
       ],
       "layout": "IPY_MODEL_f65e572be60d45eebffdff195fa46ca4"
      }
     },
     "d4a1c2565f604532971639b8572eda61": {
      "model_module": "@jupyter-widgets/controls",
      "model_module_version": "1.4.0",
      "model_name": "BoundedIntTextModel",
      "state": {
       "layout": "IPY_MODEL_408d17d1a8a143168f69543d1eeeb0d5",
       "max": 60,
       "style": "IPY_MODEL_42cfb38a55ce469fb3469ea7d9cce075"
      }
     },
     "d63613f059a74b50b8edb89a3465a8b6": {
      "model_module": "@jupyter-widgets/base",
      "model_module_version": "1.1.0",
      "model_name": "LayoutModel",
      "state": {}
     },
     "d6590bc32c8641daaa74b21ed3bc2438": {
      "model_module": "@jupyter-widgets/base",
      "model_module_version": "1.1.0",
      "model_name": "LayoutModel",
      "state": {}
     },
     "d7904e65b1af45aba6f12138c0c7b192": {
      "model_module": "@jupyter-widgets/controls",
      "model_module_version": "1.4.0",
      "model_name": "ButtonStyleModel",
      "state": {}
     },
     "d7bb4094dd90419480279b5adec2f7f4": {
      "model_module": "@jupyter-widgets/controls",
      "model_module_version": "1.4.0",
      "model_name": "ButtonModel",
      "state": {
       "description": "Last",
       "layout": "IPY_MODEL_443e2de24e30447a946449b413ee8028",
       "style": "IPY_MODEL_403e432cfbac41a2a12cdbb21f0dfba4"
      }
     },
     "d82b80be916d4a9b8cfdf02b6375589b": {
      "model_module": "@jupyter-widgets/controls",
      "model_module_version": "1.4.0",
      "model_name": "IntSliderModel",
      "state": {
       "layout": "IPY_MODEL_07d794e87cb04b419fe37eadc2caeb0c",
       "max": 60,
       "readout": false,
       "style": "IPY_MODEL_3a5da907bf3a4c9eaccbcaff2c2c81c7"
      }
     },
     "d87188d9aa634eba8bcea9536063a035": {
      "model_module": "@jupyter-widgets/controls",
      "model_module_version": "1.4.0",
      "model_name": "IntSliderModel",
      "state": {
       "layout": "IPY_MODEL_2e5fb1e30b0242a19ec2dc7bc40a7830",
       "max": 61,
       "readout": false,
       "style": "IPY_MODEL_582ed25b59a8499c8aa020727e2640fb",
       "value": 18
      }
     },
     "d88fdeee3aae4403beb20a0744220b7e": {
      "model_module": "@jupyter-widgets/base",
      "model_module_version": "1.1.0",
      "model_name": "LayoutModel",
      "state": {}
     },
     "d9ce5e1bbdf9467e9c60ca2e94a8a1df": {
      "model_module": "@jupyter-widgets/base",
      "model_module_version": "1.1.0",
      "model_name": "LayoutModel",
      "state": {}
     },
     "da11767554564f05b3f906ed07415a34": {
      "model_module": "@jupyter-widgets/controls",
      "model_module_version": "1.4.0",
      "model_name": "ButtonModel",
      "state": {
       "description": "Random",
       "layout": "IPY_MODEL_2b6a24f299324610ad9d9c5abe22e7e9",
       "style": "IPY_MODEL_b3f9c63deeb241a3ad11811a8b35ad56"
      }
     },
     "db3cc5540e8b4a518282b08ccd41e9e1": {
      "model_module": "@jupyter-widgets/controls",
      "model_module_version": "1.4.0",
      "model_name": "DescriptionStyleModel",
      "state": {
       "description_width": ""
      }
     },
     "db496c9952b44c978ae479f90e1b226a": {
      "model_module": "@jupyter-widgets/controls",
      "model_module_version": "1.4.0",
      "model_name": "HBoxModel",
      "state": {
       "children": [
        "IPY_MODEL_d1366a22843947bdb07da8709436787e",
        "IPY_MODEL_a98a74b02d5a436ea7afa35724464322"
       ],
       "layout": "IPY_MODEL_80bb08b3027440afbdaec3d1aa7c9949"
      }
     },
     "db6520e69fb44b1484cc95e7939035bd": {
      "model_module": "@jupyter-widgets/base",
      "model_module_version": "1.1.0",
      "model_name": "LayoutModel",
      "state": {}
     },
     "dbdf48fbdb2744e288e6a193b8c83adc": {
      "model_module": "@jupyter-widgets/controls",
      "model_module_version": "1.4.0",
      "model_name": "HBoxModel",
      "state": {
       "children": [
        "IPY_MODEL_11a2708adc9b4163ad657dd86a11935b",
        "IPY_MODEL_a449a63c552849a0a71f14a913a212f6",
        "IPY_MODEL_d3e985f9692e41a3836fd2be3a666b81",
        "IPY_MODEL_3c70dd61a7804db0a5b1ea1834f5ac93",
        "IPY_MODEL_14d6f6bb742e4483be29a96740f08735",
        "IPY_MODEL_5b79d0cded5f410e914b2fee24044450"
       ],
       "layout": "IPY_MODEL_ba495af004a243089c2151ed6f6c7503"
      }
     },
     "dc61bc3c686e49f7adee3cc49633d0d1": {
      "model_module": "@jupyter-widgets/controls",
      "model_module_version": "1.4.0",
      "model_name": "ButtonStyleModel",
      "state": {}
     },
     "dd6008a5fdaf4b74bcee1ad560a8881b": {
      "model_module": "@jupyter-widgets/controls",
      "model_module_version": "1.4.0",
      "model_name": "ButtonStyleModel",
      "state": {}
     },
     "ddfbc30455364ad48c5a1bebc69f4684": {
      "model_module": "@jupyter-widgets/controls",
      "model_module_version": "1.4.0",
      "model_name": "ButtonStyleModel",
      "state": {}
     },
     "de62027898fe4dc99216f657a5c48089": {
      "model_module": "@jupyter-widgets/base",
      "model_module_version": "1.1.0",
      "model_name": "LayoutModel",
      "state": {}
     },
     "ded3b4ccc72f4a288f038f50d755ba06": {
      "model_module": "@jupyter-widgets/controls",
      "model_module_version": "1.4.0",
      "model_name": "SliderStyleModel",
      "state": {
       "description_width": ""
      }
     },
     "df04b9ad79e6438bbc946547a26fda5b": {
      "model_module": "@jupyter-widgets/controls",
      "model_module_version": "1.4.0",
      "model_name": "LinkModel",
      "state": {
       "source": [
        "IPY_MODEL_f0fef5f023f046dfb0270ff55d65e9d3",
        "value"
       ],
       "target": [
        "IPY_MODEL_8ef5a29384f14139979a8249ab6cca20",
        "value"
       ]
      }
     },
     "df28a908ec074629876489a3c627ec86": {
      "model_module": "@jupyter-widgets/controls",
      "model_module_version": "1.4.0",
      "model_name": "ButtonStyleModel",
      "state": {}
     },
     "dfc791760dda42c381e447e0c3572174": {
      "model_module": "@jupyter-widgets/base",
      "model_module_version": "1.1.0",
      "model_name": "LayoutModel",
      "state": {}
     },
     "dfc99335a19b4d70b0570765b8aea4de": {
      "model_module": "@jupyter-widgets/controls",
      "model_module_version": "1.4.0",
      "model_name": "ButtonStyleModel",
      "state": {}
     },
     "e064156d235e4f2a9f12d9c66a2d17e0": {
      "model_module": "@jupyter-widgets/controls",
      "model_module_version": "1.4.0",
      "model_name": "ButtonStyleModel",
      "state": {}
     },
     "e0732c0027394d16b0cf969dfacef391": {
      "model_module": "@jupyter-widgets/controls",
      "model_module_version": "1.4.0",
      "model_name": "ButtonModel",
      "state": {
       "description": "Prev",
       "layout": "IPY_MODEL_3a7d1c8fb8704c41a550d15b6cef65c6",
       "style": "IPY_MODEL_c3eeead2f12b40b295ac48c68f35b463"
      }
     },
     "e08e18c2891e440490e02de67479e83b": {
      "model_module": "@jupyter-widgets/base",
      "model_module_version": "1.1.0",
      "model_name": "LayoutModel",
      "state": {}
     },
     "e0c88c65f16349c9a3149593a9a8438c": {
      "model_module": "@jupyter-widgets/controls",
      "model_module_version": "1.4.0",
      "model_name": "BoundedIntTextModel",
      "state": {
       "layout": "IPY_MODEL_d63613f059a74b50b8edb89a3465a8b6",
       "max": 8,
       "style": "IPY_MODEL_4ccb0cadd585488f99bf771881dbd5d1"
      }
     },
     "e0d861194bba4b538cceb448fbbf8175": {
      "model_module": "@jupyter-widgets/controls",
      "model_module_version": "1.4.0",
      "model_name": "HBoxModel",
      "state": {
       "children": [
        "IPY_MODEL_c5b620ed4bd54a5184aabffcf4e875a0",
        "IPY_MODEL_53b2217686a44272a4039bbff9611e0c",
        "IPY_MODEL_c0f9122f1b5241ee8ddd85225d719fc2",
        "IPY_MODEL_925a5876ba9a4cb9b60c10cdc0e3a7eb",
        "IPY_MODEL_7708a9cf2fb4493786d3b53583a9b6d3",
        "IPY_MODEL_5eb14d46ebb14971addffb698d62394b"
       ],
       "layout": "IPY_MODEL_de62027898fe4dc99216f657a5c48089"
      }
     },
     "e11a802445f04d5881b5600e77c24f8b": {
      "model_module": "@jupyter-widgets/base",
      "model_module_version": "1.1.0",
      "model_name": "LayoutModel",
      "state": {}
     },
     "e158601df74f4798ac3f4d4087c85a2d": {
      "model_module": "@jupyter-widgets/controls",
      "model_module_version": "1.4.0",
      "model_name": "ButtonModel",
      "state": {
       "description": "Last",
       "layout": "IPY_MODEL_680770d018e0423c850e96982acc8047",
       "style": "IPY_MODEL_e064156d235e4f2a9f12d9c66a2d17e0"
      }
     },
     "e2d6f617f4b2409880936df01d931853": {
      "model_module": "@jupyter-widgets/controls",
      "model_module_version": "1.4.0",
      "model_name": "ButtonStyleModel",
      "state": {}
     },
     "e38412e069074b579edf03eaf73a2851": {
      "model_module": "@jupyter-widgets/base",
      "model_module_version": "1.1.0",
      "model_name": "LayoutModel",
      "state": {}
     },
     "e3bd5fa921a44b94b8d08f6a2925b08b": {
      "model_module": "@jupyter-widgets/base",
      "model_module_version": "1.1.0",
      "model_name": "LayoutModel",
      "state": {}
     },
     "e43de62a9db8458fb5f588be2f31afb0": {
      "model_module": "@jupyter-widgets/base",
      "model_module_version": "1.1.0",
      "model_name": "LayoutModel",
      "state": {}
     },
     "e45435ba72ab4d0db448d630f6e26258": {
      "model_module": "@jupyter-widgets/controls",
      "model_module_version": "1.4.0",
      "model_name": "ButtonStyleModel",
      "state": {}
     },
     "e593bdb2b72d41649f1922e3d8e3110b": {
      "model_module": "@jupyter-widgets/base",
      "model_module_version": "1.1.0",
      "model_name": "LayoutModel",
      "state": {}
     },
     "e5fe23438b974260a7c5699064c55f20": {
      "model_module": "@jupyter-widgets/controls",
      "model_module_version": "1.4.0",
      "model_name": "VBoxModel",
      "state": {
       "children": [
        "IPY_MODEL_513069d732a34894a3c2bac9be23f2c3",
        "IPY_MODEL_31e9bbbb5f994dafb3359a2196a0b239"
       ],
       "layout": "IPY_MODEL_bc0f8cca328a469b96fbcf631b5cef1c"
      }
     },
     "e697b0eea59640b2b3e70d2af7db50aa": {
      "model_module": "@jupyter-widgets/controls",
      "model_module_version": "1.4.0",
      "model_name": "LinkModel",
      "state": {
       "source": [
        "IPY_MODEL_8db0821c1a1a41d68f6be2a8daa15bc0",
        "value"
       ],
       "target": [
        "IPY_MODEL_d87188d9aa634eba8bcea9536063a035",
        "value"
       ]
      }
     },
     "e6c71f566fd346aea1e39b56ca123a06": {
      "model_module": "@jupyter-widgets/controls",
      "model_module_version": "1.4.0",
      "model_name": "ButtonModel",
      "state": {
       "description": "First",
       "layout": "IPY_MODEL_b61ee5dfcf6341a584bff72c7d44f033",
       "style": "IPY_MODEL_47d109abec4b4d70a5078039b52ff239"
      }
     },
     "e7ba9a42088340a9bf132587359a1d08": {
      "model_module": "@jupyter-widgets/controls",
      "model_module_version": "1.4.0",
      "model_name": "DescriptionStyleModel",
      "state": {
       "description_width": ""
      }
     },
     "e8628e4cc8a4476eb3d101744237e4dd": {
      "model_module": "@jupyter-widgets/base",
      "model_module_version": "1.1.0",
      "model_name": "LayoutModel",
      "state": {}
     },
     "e87c4ff7588f4aabaff50c920cf6600a": {
      "model_module": "@jupyter-widgets/base",
      "model_module_version": "1.1.0",
      "model_name": "LayoutModel",
      "state": {}
     },
     "e8c79302063543af9f6a970b86f64098": {
      "model_module": "@jupyter-widgets/controls",
      "model_module_version": "1.4.0",
      "model_name": "ButtonModel",
      "state": {
       "description": "Next",
       "layout": "IPY_MODEL_d9ce5e1bbdf9467e9c60ca2e94a8a1df",
       "style": "IPY_MODEL_cf6586fb0f2d4d37af2cb2c71f4939ac"
      }
     },
     "e8d8ecb63478437fa25c9cfcea1a4a40": {
      "model_module": "@jupyter-widgets/controls",
      "model_module_version": "1.4.0",
      "model_name": "ButtonModel",
      "state": {
       "description": "Last",
       "layout": "IPY_MODEL_51d874e18a8f4be5b01476f6f1ab8d07",
       "style": "IPY_MODEL_3cb9f2d14b1545a0bfffe9f20046f873"
      }
     },
     "e9758d0ac6e345dea935cbffe6364216": {
      "model_module": "@jupyter-widgets/controls",
      "model_module_version": "1.4.0",
      "model_name": "ButtonStyleModel",
      "state": {}
     },
     "e9c9bdd9684b4e0698b8b4c3f8136159": {
      "model_module": "@jupyter-widgets/base",
      "model_module_version": "1.1.0",
      "model_name": "LayoutModel",
      "state": {}
     },
     "ea9bae60c7bd437fa18be1498f6d769e": {
      "model_module": "@jupyter-widgets/controls",
      "model_module_version": "1.4.0",
      "model_name": "BoundedIntTextModel",
      "state": {
       "layout": "IPY_MODEL_649d8c1bab0b4d31aaef6328b3d2d694",
       "max": 61,
       "style": "IPY_MODEL_b9fa86b1a8a3444cb38067d6a02ec637"
      }
     },
     "eaf46382df7f424bae8f1daed267c244": {
      "model_module": "@jupyter-widgets/controls",
      "model_module_version": "1.4.0",
      "model_name": "BoundedIntTextModel",
      "state": {
       "layout": "IPY_MODEL_a7e217d32054432798812073aa1a33f0",
       "max": 8,
       "style": "IPY_MODEL_17a5322b641b4d7ba66ef81272df40ba"
      }
     },
     "eb30fd4350704ebbbb66460474c167b5": {
      "model_module": "@jupyter-widgets/base",
      "model_module_version": "1.1.0",
      "model_name": "LayoutModel",
      "state": {}
     },
     "ebf1a3a8802143968b6ca63deb51f86c": {
      "model_module": "@jupyter-widgets/controls",
      "model_module_version": "1.4.0",
      "model_name": "HBoxModel",
      "state": {
       "children": [
        "IPY_MODEL_5952c7d95ffc482d964bead502a7be4e",
        "IPY_MODEL_5338e00c9cc54f0e868bb490b6607e38",
        "IPY_MODEL_5d7d410ca9de4120b0aa11c5286a8019",
        "IPY_MODEL_9f0364346a2349a3bb9e6938da3d23a3",
        "IPY_MODEL_0b5d2f1e5d0941ab80779eeef9aae1f9",
        "IPY_MODEL_5e77b1b2d5584ec9b8cde212162d63c6"
       ],
       "layout": "IPY_MODEL_757fb583713f46d58fbe54e2fe42ef72"
      }
     },
     "ec306d148c664463bb9e81e8a1b40cef": {
      "model_module": "@jupyter-widgets/controls",
      "model_module_version": "1.4.0",
      "model_name": "ButtonModel",
      "state": {
       "description": "Last",
       "layout": "IPY_MODEL_82d81f1fe6de442aa6c3771a82e07126",
       "style": "IPY_MODEL_17b8d698da444edcbebb88f624d0ab59"
      }
     },
     "ec5865e0712341d3bdf16e22cb81ab94": {
      "model_module": "@jupyter-widgets/controls",
      "model_module_version": "1.4.0",
      "model_name": "ButtonModel",
      "state": {
       "description": "Prev",
       "layout": "IPY_MODEL_d40c9e18924042b89bdd7a2aa5d4f211",
       "style": "IPY_MODEL_1c1f0902c59940bfa27f3669db6a10d9"
      }
     },
     "ecfe02ad3b8742629e51d6ffaddc0397": {
      "model_module": "@jupyter-widgets/base",
      "model_module_version": "1.1.0",
      "model_name": "LayoutModel",
      "state": {}
     },
     "ed05f5596a724f8daaedbe610d05db02": {
      "model_module": "@jupyter-widgets/base",
      "model_module_version": "1.1.0",
      "model_name": "LayoutModel",
      "state": {}
     },
     "ee536f45815846cd9c2de494db302a03": {
      "model_module": "@jupyter-widgets/controls",
      "model_module_version": "1.4.0",
      "model_name": "ButtonStyleModel",
      "state": {}
     },
     "ee82cc2040604df496d0dcdfcecb7ddd": {
      "model_module": "@jupyter-widgets/controls",
      "model_module_version": "1.4.0",
      "model_name": "ButtonStyleModel",
      "state": {}
     },
     "ee87a076ce584537be3842f0b62444d4": {
      "model_module": "@jupyter-widgets/controls",
      "model_module_version": "1.4.0",
      "model_name": "ButtonStyleModel",
      "state": {}
     },
     "eec372571fbf4fcfa345f8cedc0440df": {
      "model_module": "@jupyter-widgets/base",
      "model_module_version": "1.1.0",
      "model_name": "LayoutModel",
      "state": {}
     },
     "eec8b224014244d395cd2d1c391f36e3": {
      "model_module": "@jupyter-widgets/controls",
      "model_module_version": "1.4.0",
      "model_name": "VBoxModel",
      "state": {
       "children": [
        "IPY_MODEL_850385986ace4524a22d20aff9d08a13",
        "IPY_MODEL_b67ad5bb34aa41158312c98fced8b553"
       ],
       "layout": "IPY_MODEL_c9385577afd94633ba83fbfcff1a1b2d"
      }
     },
     "eedfee126eaa41d0a7fb31ba5d31eb63": {
      "model_module": "@jupyter-widgets/controls",
      "model_module_version": "1.4.0",
      "model_name": "ButtonStyleModel",
      "state": {}
     },
     "ef36bf45f5f14f0d93bea8933cbc667e": {
      "model_module": "@jupyter-widgets/controls",
      "model_module_version": "1.4.0",
      "model_name": "IntProgressModel",
      "state": {
       "bar_style": "success",
       "layout": "IPY_MODEL_ba2959cc430f4a4991e1b32dbac17684",
       "max": 2920,
       "style": "IPY_MODEL_2ba04555e0af4f51b5d0f9729bdf8c4b",
       "value": 2920
      }
     },
     "ef7142cd7fa54dea85350d1cdd07c4a6": {
      "model_module": "@jupyter-widgets/base",
      "model_module_version": "1.1.0",
      "model_name": "LayoutModel",
      "state": {}
     },
     "f06d8edcbe324d9fa9026e10faf5bbdb": {
      "model_module": "@jupyter-widgets/base",
      "model_module_version": "1.1.0",
      "model_name": "LayoutModel",
      "state": {}
     },
     "f07031c7caa84e6bb99b34d4a87d3da5": {
      "model_module": "@jupyter-widgets/base",
      "model_module_version": "1.1.0",
      "model_name": "LayoutModel",
      "state": {}
     },
     "f0dc578958274792892926e39f110cbe": {
      "model_module": "@jupyter-widgets/controls",
      "model_module_version": "1.4.0",
      "model_name": "HTMLModel",
      "state": {
       "layout": "IPY_MODEL_37b8227b446344e684748e996ef33553",
       "style": "IPY_MODEL_3fa5fec1cce54701921f92c39ae4edd9",
       "value": "100% 2920/2920 [00:00&lt;00:00, 3863.87it/s]"
      }
     },
     "f0f43bde1d4f4e03ae96370f50c7f153": {
      "model_module": "@jupyter-widgets/controls",
      "model_module_version": "1.4.0",
      "model_name": "ButtonModel",
      "state": {
       "description": "Next",
       "layout": "IPY_MODEL_ecfe02ad3b8742629e51d6ffaddc0397",
       "style": "IPY_MODEL_40ccc9d7f58c4a80b94933615407fa3c"
      }
     },
     "f0fef5f023f046dfb0270ff55d65e9d3": {
      "model_module": "@jupyter-widgets/controls",
      "model_module_version": "1.4.0",
      "model_name": "BoundedIntTextModel",
      "state": {
       "layout": "IPY_MODEL_69f9c6c529a749ee97cd24625b599945",
       "max": 8,
       "style": "IPY_MODEL_9da0f6fbf6314f46a7d832da46633d66"
      }
     },
     "f10947c6825943ae903a49c8226d3c78": {
      "model_module": "@jupyter-widgets/base",
      "model_module_version": "1.1.0",
      "model_name": "LayoutModel",
      "state": {
       "width": "99%"
      }
     },
     "f324dd0425ad44b9ac5c852fe98f3a02": {
      "model_module": "@jupyter-widgets/controls",
      "model_module_version": "1.4.0",
      "model_name": "BoundedIntTextModel",
      "state": {
       "layout": "IPY_MODEL_165b8fb9f2c841938a5702e4b07cce22",
       "max": 8,
       "style": "IPY_MODEL_74318df01587496c93f68871a3fe481c",
       "value": 4
      }
     },
     "f35fc16d53de49ea8fe73e20225eb078": {
      "model_module": "@jupyter-widgets/base",
      "model_module_version": "1.1.0",
      "model_name": "LayoutModel",
      "state": {}
     },
     "f3f3df3dc64f46e1a20ceb74ac06d244": {
      "model_module": "@jupyter-widgets/controls",
      "model_module_version": "1.4.0",
      "model_name": "LinkModel",
      "state": {
       "source": [
        "IPY_MODEL_9cd00d8d995f4565a3efb3ce296530cc",
        "value"
       ],
       "target": [
        "IPY_MODEL_3d877a6377f6401e96d302ee9ec33745",
        "value"
       ]
      }
     },
     "f415d58c40974cf68c2c48ef92341b83": {
      "model_module": "@jupyter-widgets/base",
      "model_module_version": "1.1.0",
      "model_name": "LayoutModel",
      "state": {}
     },
     "f441c599e7bf411caac8d449a0c096b1": {
      "model_module": "@jupyter-widgets/base",
      "model_module_version": "1.1.0",
      "model_name": "LayoutModel",
      "state": {}
     },
     "f474e89ae341469dba2da5168a22c26e": {
      "model_module": "@jupyter-widgets/controls",
      "model_module_version": "1.4.0",
      "model_name": "LinkModel",
      "state": {
       "source": [
        "IPY_MODEL_3a5b7d0a836d42b099c0dac4554ac6ef",
        "value"
       ],
       "target": [
        "IPY_MODEL_7e1e9795ec6a4e9390c880555c76f7d7",
        "value"
       ]
      }
     },
     "f4cc07a12d0c4b1caaafcf9efcc1eaaa": {
      "model_module": "@jupyter-widgets/controls",
      "model_module_version": "1.4.0",
      "model_name": "VBoxModel",
      "state": {
       "children": [
        "IPY_MODEL_55be95a2702145f983ccdaa5da73f814",
        "IPY_MODEL_d41adcb83d9c4014ace0bdf617891953"
       ],
       "layout": "IPY_MODEL_98203215f72d46e78280f7df7796aeca"
      }
     },
     "f65e572be60d45eebffdff195fa46ca4": {
      "model_module": "@jupyter-widgets/base",
      "model_module_version": "1.1.0",
      "model_name": "LayoutModel",
      "state": {}
     },
     "f6aee865661e4ca388e0b86372bbab8a": {
      "model_module": "@jupyter-widgets/controls",
      "model_module_version": "1.4.0",
      "model_name": "SliderStyleModel",
      "state": {
       "description_width": ""
      }
     },
     "f707b43f15b14c61a0b203d28c1e6eca": {
      "model_module": "@jupyter-widgets/controls",
      "model_module_version": "1.4.0",
      "model_name": "DescriptionStyleModel",
      "state": {
       "description_width": ""
      }
     },
     "f720a0485ae74b039ebcf356e15915b3": {
      "model_module": "@jupyter-widgets/base",
      "model_module_version": "1.1.0",
      "model_name": "LayoutModel",
      "state": {}
     },
     "f759af20ec084dcf81ea2cd4d0fb50a4": {
      "model_module": "@jupyter-widgets/controls",
      "model_module_version": "1.4.0",
      "model_name": "ButtonModel",
      "state": {
       "description": "Random",
       "layout": "IPY_MODEL_f07031c7caa84e6bb99b34d4a87d3da5",
       "style": "IPY_MODEL_e9758d0ac6e345dea935cbffe6364216"
      }
     },
     "f76f2cdef92d4410a3fc3084d4ff1360": {
      "model_module": "@jupyter-widgets/controls",
      "model_module_version": "1.4.0",
      "model_name": "ButtonModel",
      "state": {
       "description": "Random",
       "layout": "IPY_MODEL_402633b686274a0287be19cae51314c9",
       "style": "IPY_MODEL_dfc99335a19b4d70b0570765b8aea4de"
      }
     },
     "f77fcb17c142492987fb2cfd23e28fa0": {
      "model_module": "@jupyter-widgets/base",
      "model_module_version": "1.1.0",
      "model_name": "LayoutModel",
      "state": {}
     },
     "f7d6f39cf8ae4e1181489883aebb2388": {
      "model_module": "@jupyter-widgets/controls",
      "model_module_version": "1.4.0",
      "model_name": "VBoxModel",
      "state": {
       "children": [
        "IPY_MODEL_e0d861194bba4b538cceb448fbbf8175",
        "IPY_MODEL_0bcd6360271e467683e93778bc2a94ee"
       ],
       "layout": "IPY_MODEL_a72cd0106ef94835bd7d865e5330b7b8"
      }
     },
     "f87880e0dae04044bdec730d546634b7": {
      "model_module": "@jupyter-widgets/controls",
      "model_module_version": "1.4.0",
      "model_name": "ButtonStyleModel",
      "state": {}
     },
     "f9d166760da84461b1e713907e1bd7c2": {
      "model_module": "@jupyter-widgets/controls",
      "model_module_version": "1.4.0",
      "model_name": "HBoxModel",
      "state": {
       "children": [
        "IPY_MODEL_fbd5e0914d284fafaad8bc8759195aec",
        "IPY_MODEL_b8572d2dd29543968fd13199fd07c63f",
        "IPY_MODEL_04198f7e1d634405b147e5803f8960a0",
        "IPY_MODEL_3e77a18b7f0647f29b2822c79a0b3513",
        "IPY_MODEL_8aa6a90c4c4a464eaa30f7631b7c46ae",
        "IPY_MODEL_3d704d511d224ad2a50b4ec1cef8b607"
       ],
       "layout": "IPY_MODEL_30344ac53e0f44a3bfa13e9631f94274"
      }
     },
     "fa1ea19237a642cbab5714fea7f8d384": {
      "model_module": "@jupyter-widgets/base",
      "model_module_version": "1.1.0",
      "model_name": "LayoutModel",
      "state": {}
     },
     "fa21a1cc3f9d4e48b8d3015ca9a5af70": {
      "model_module": "@jupyter-widgets/controls",
      "model_module_version": "1.4.0",
      "model_name": "ButtonStyleModel",
      "state": {}
     },
     "fa239211bb62432ab01be6fdfefcc2e1": {
      "model_module": "@jupyter-widgets/controls",
      "model_module_version": "1.4.0",
      "model_name": "ButtonStyleModel",
      "state": {}
     },
     "fb117882c5084d7698dd0166879b2718": {
      "model_module": "@jupyter-widgets/controls",
      "model_module_version": "1.4.0",
      "model_name": "ButtonModel",
      "state": {
       "description": "Next",
       "layout": "IPY_MODEL_c9e781d3e2c242259cc070f456286d96",
       "style": "IPY_MODEL_85bd3e424e0545e09a515ac90f35fcfd"
      }
     },
     "fb9c2450bcbd4ac89415ab8c5ab9eecf": {
      "model_module": "@jupyter-widgets/controls",
      "model_module_version": "1.4.0",
      "model_name": "SliderStyleModel",
      "state": {
       "description_width": ""
      }
     },
     "fba97dc4f751448499f921bf38ad6de4": {
      "model_module": "@jupyter-widgets/base",
      "model_module_version": "1.1.0",
      "model_name": "LayoutModel",
      "state": {}
     },
     "fbd5e0914d284fafaad8bc8759195aec": {
      "model_module": "@jupyter-widgets/controls",
      "model_module_version": "1.4.0",
      "model_name": "ButtonModel",
      "state": {
       "description": "First",
       "layout": "IPY_MODEL_e8628e4cc8a4476eb3d101744237e4dd",
       "style": "IPY_MODEL_df28a908ec074629876489a3c627ec86"
      }
     },
     "fbdaa24fb5a64818ac1f7c0c5052759e": {
      "model_module": "@jupyter-widgets/base",
      "model_module_version": "1.1.0",
      "model_name": "LayoutModel",
      "state": {}
     },
     "fc18aa9d95f74f9aa7fea6081416c103": {
      "model_module": "@jupyter-widgets/controls",
      "model_module_version": "1.4.0",
      "model_name": "SliderStyleModel",
      "state": {
       "description_width": ""
      }
     },
     "fcddd338af5942a181962c560f9f912c": {
      "model_module": "@jupyter-widgets/base",
      "model_module_version": "1.1.0",
      "model_name": "LayoutModel",
      "state": {}
     },
     "fd2add57a5374a27a8a546977ee6e820": {
      "model_module": "@jupyter-widgets/controls",
      "model_module_version": "1.4.0",
      "model_name": "ButtonStyleModel",
      "state": {}
     },
     "fd7119b4e329464782e2a523462a60da": {
      "model_module": "@jupyter-widgets/controls",
      "model_module_version": "1.4.0",
      "model_name": "ButtonModel",
      "state": {
       "description": "Random",
       "layout": "IPY_MODEL_1dc6ef70d4f24b579b6c11a4614c4ccc",
       "style": "IPY_MODEL_2fe163a9fdce494fbe55a00c443fd358"
      }
     },
     "fdfca1f5cb114bcb8f9a58be882348d4": {
      "model_module": "@jupyter-widgets/controls",
      "model_module_version": "1.4.0",
      "model_name": "ButtonModel",
      "state": {
       "description": "Next",
       "layout": "IPY_MODEL_e9c9bdd9684b4e0698b8b4c3f8136159",
       "style": "IPY_MODEL_abeceddf3eb84c20a4fc95a83c111d6e"
      }
     },
     "fe152f5dc6cd4b15975de02d5e394090": {
      "model_module": "@jupyter-widgets/base",
      "model_module_version": "1.1.0",
      "model_name": "LayoutModel",
      "state": {}
     },
     "fe590e7ce873464288214d0c696a4699": {
      "model_module": "@jupyter-widgets/controls",
      "model_module_version": "1.4.0",
      "model_name": "ProgressStyleModel",
      "state": {
       "description_width": ""
      }
     },
     "ffb548f86e6946168b7f1246fd601643": {
      "model_module": "@jupyter-widgets/controls",
      "model_module_version": "1.4.0",
      "model_name": "ButtonModel",
      "state": {
       "description": "First",
       "layout": "IPY_MODEL_7ab24f6345534681a21c13f3f0e6b700",
       "style": "IPY_MODEL_5ce404ce54e94298a4a6ec52a729429c"
      }
     }
    },
    "version_major": 2,
    "version_minor": 0
   }
  }
 },
 "nbformat": 4,
 "nbformat_minor": 2
}
